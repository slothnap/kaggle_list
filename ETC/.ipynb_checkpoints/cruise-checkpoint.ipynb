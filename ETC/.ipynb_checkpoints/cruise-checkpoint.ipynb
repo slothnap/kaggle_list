{
 "cells": [
  {
   "cell_type": "markdown",
   "id": "d585a3ba-847b-406b-938a-08e025d9ba4a",
   "metadata": {},
   "source": [
    "* 지중해 지도\n",
    "    - https://www.google.com/maps/place/%EC%A7%80%EC%A4%91%ED%95%B4/\n",
    "    - http://www.msccruises.co.kr/WebForm/Cruise-Destinations/Mediterranean.aspx\n",
    "\n",
    "\n",
    "----------------------------------------\n",
    "- 북해(북유럽) 크루즈 \n",
    "    - 일정: 7박 10일 \n",
    "    - 배: MSC 유리비아호 (18만톤)\n",
    "    - 출발: 코펜하겐\n",
    "    - 나라: 덴마크, 노르웨이, 독일\n",
    "        - 헬레쉴트 -> 몰데 -> 플롬 -> 킬 \n",
    "        - https://www.onlytour.co.kr/home/goods_view/index.asp?ts=goods_day&strApart=E&strBpart=K&goodsNum=391\n",
    "\n",
    "\n",
    "----------------------------------------\n",
    "* 서부지중해 크루즈\n",
    "    - 일정: 9박 11일\n",
    "    - 배: 코스타 토스카나호 (18만톤)\n",
    "    - 출발: 이태리 \n",
    "    - 나라: 이태리, 남프랑스, 스페인\n",
    "       - 밀라노 -> 사보나 -> 마르세유 -> 바르셀로나 -> 팔라 데 마요르카 -> 팔레르모 \n",
    "         -> 치비타베키아(로마) -> 니스 -> 모나코 -> 제노바 \n",
    "        - https://www.onlytour.co.kr/home/goods_view/index.asp?ts=goods_day&strApart=E&strBpart=K&goodsNum=363\n",
    "\n",
    "\n",
    "----------------------------------------\n",
    "- 동부지중해 크루즈 (# 아빠가 원하는거)\n",
    "    - 일정: 8박 10일\n",
    "    - 배: 로얄캐리비안 오디세이호 (17만톤)\n",
    "    - 출발: 이탈리아 \n",
    "    - 나라: 이탈리아, 그리스, 튀르키예 \n",
    "        - 티볼리 -> 산토리니 -> 쿠사다시 -> 미코노스 -> 나폴리 -> 로마\n",
    "        - https://www.onlytour.co.kr/home/goods_view/index.asp?ts=goods_day&strApart=E&strBpart=K&goodsNum=330\n"
   ]
  }
 ],
 "metadata": {
  "kernelspec": {
   "display_name": "Python 3 (ipykernel)",
   "language": "python",
   "name": "python3"
  },
  "language_info": {
   "codemirror_mode": {
    "name": "ipython",
    "version": 3
   },
   "file_extension": ".py",
   "mimetype": "text/x-python",
   "name": "python",
   "nbconvert_exporter": "python",
   "pygments_lexer": "ipython3",
   "version": "3.10.12"
  }
 },
 "nbformat": 4,
 "nbformat_minor": 5
}
