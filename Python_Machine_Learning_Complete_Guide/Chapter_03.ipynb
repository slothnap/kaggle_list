{
 "cells": [
  {
   "cell_type": "markdown",
   "id": "5d36f6a2",
   "metadata": {},
   "source": [
    "# 01 정확도 (Accuracy)"
   ]
  },
  {
   "cell_type": "markdown",
   "id": "f86907a0",
   "metadata": {},
   "source": [
    "정확도(Accuracy) = 예측 결과가 동일한 데이터 건수 / 전체 예측 데이터 건수 "
   ]
  },
  {
   "cell_type": "code",
   "execution_count": null,
   "id": "7273d988",
   "metadata": {},
   "outputs": [],
   "source": []
  }
 ],
 "metadata": {
  "kernelspec": {
   "display_name": "Python 3",
   "language": "python",
   "name": "python3"
  },
  "language_info": {
   "codemirror_mode": {
    "name": "ipython",
    "version": 3
   },
   "file_extension": ".py",
   "mimetype": "text/x-python",
   "name": "python",
   "nbconvert_exporter": "python",
   "pygments_lexer": "ipython3",
   "version": "3.8.10"
  }
 },
 "nbformat": 4,
 "nbformat_minor": 5
}
