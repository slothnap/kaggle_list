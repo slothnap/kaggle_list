{
 "cells": [
  {
   "cell_type": "markdown",
   "id": "5bd7fe7a",
   "metadata": {},
   "source": [
    "# 1.1 SQL 파싱과 최적화"
   ]
  },
  {
   "cell_type": "markdown",
   "id": "0521dbd5",
   "metadata": {},
   "source": [
    "## 1.1.1 구조적, 집합적, 선언적 질의 언어"
   ]
  },
  {
   "cell_type": "markdown",
   "id": "24fb924a",
   "metadata": {},
   "source": [
    "## 1.1.2 SQL 최적화"
   ]
  },
  {
   "cell_type": "markdown",
   "id": "2267687a",
   "metadata": {},
   "source": [
    "### 1. SQL 파싱 ###  \n",
    "- 파싱 트리 생성: SQL 문을 이루는 개별 구성요소를 분석해서 파싱 트리 생성\n",
    "- Syntax 체크: 문법적 오류가 없는지 확인 (문장 체크)\n",
    "- Semantic 체크: 의미상 오류가 없는지 확인 (테이블, 컬럼, 오브젝트 권한 확인)"
   ]
  },
  {
   "cell_type": "markdown",
   "id": "a979e747",
   "metadata": {},
   "source": [
    "### 2. SQL 최적화 ###\n",
    "- SQL 옵티마이저는 미리 수집한 시스템 및 오브젝트 통계정보를 바탕으로 다양한 실행경로를 생성해서 비교한 후 가장 효율적인 하나를 선택\n",
    "- 데이터베이스 성능을 결정하는 가장 핵심적인 엔진"
   ]
  },
  {
   "cell_type": "markdown",
   "id": "d3c3688a",
   "metadata": {},
   "source": [
    "### 3. 로우 소스 생성 ### "
   ]
  },
  {
   "cell_type": "markdown",
   "id": "71b93329",
   "metadata": {},
   "source": [
    "- SQL 옵티마이저가 선택한 실행경로를 실제 가능한 코드 또는 프로시저 형태로 포맷팅 하는 단계\n",
    "- 로우 소스 생성기"
   ]
  },
  {
   "cell_type": "markdown",
   "id": "84cf98e1",
   "metadata": {},
   "source": [
    "## 1.1.3 SQL 옵티마이저"
   ]
  },
  {
   "cell_type": "markdown",
   "id": "869773a7",
   "metadata": {},
   "source": [
    "1. 사용자로부터 전달받은 쿼리를 수행하는 데 후보군이 될만한 실행계획들을 찾아낸다  \n",
    "2. 데이터 딕셔너리(Data Dictionary)에 미리 수집해 둔 오브젝트 통계 및 시스템 통계정보를 이용해  \n",
    "각 실행계획의 예상비용을 산정한다.  \n",
    "3. 최저 비용을 나타내는 실행계획을 선택한다."
   ]
  },
  {
   "cell_type": "markdown",
   "id": "9c04d86d",
   "metadata": {},
   "source": [
    "## 1.1.4 실행계획과 비용"
   ]
  },
  {
   "cell_type": "markdown",
   "id": "ec7a14c8",
   "metadata": {},
   "source": [
    "## 1.1.5 옵티마이저 힌트"
   ]
  },
  {
   "cell_type": "markdown",
   "id": "511d11c4",
   "metadata": {},
   "source": [
    "/*+ INDEX(A 고객_PK) */"
   ]
  },
  {
   "cell_type": "markdown",
   "id": "34e50148",
   "metadata": {},
   "source": [
    "**p.27 인덱스 종류모음**"
   ]
  },
  {
   "cell_type": "markdown",
   "id": "3b751e0c",
   "metadata": {},
   "source": [
    "# 1.2 SQL 공유 및 재사용"
   ]
  },
  {
   "cell_type": "markdown",
   "id": "2f880bc5",
   "metadata": {},
   "source": [
    "## 1.2.1 소프트 파싱 vs. 하드 파싱"
   ]
  },
  {
   "cell_type": "markdown",
   "id": "48fe89ee",
   "metadata": {},
   "source": [
    "- 소프트 파싱(Soft Parsing):  \n",
    "    SQL이 라이브러리 캐시에 존재 -> 곧바로 실행단계로 넘어감\n",
    "- 하드 파싱(Hard Parsing):  \n",
    "    SQL이 라이브러리 캐시에 미존재 -> 최적화 및 로우 소스 생성 단계까지 모두 거치는 것    "
   ]
  },
  {
   "cell_type": "markdown",
   "id": "b8f1c1f3",
   "metadata": {},
   "source": [
    "## 1.2.2 바인드 변수의 중요성"
   ]
  },
  {
   "cell_type": "markdown",
   "id": "904f26ab",
   "metadata": {},
   "source": [
    "# 1.3 데이터 저장 구조 및 I/O 메커니즘"
   ]
  },
  {
   "cell_type": "markdown",
   "id": "4e6578c0",
   "metadata": {},
   "source": [
    "## 1.3.1 SQL이 느린 이유"
   ]
  },
  {
   "cell_type": "markdown",
   "id": "3cdaa1a5",
   "metadata": {},
   "source": [
    "디스크 I/O"
   ]
  },
  {
   "cell_type": "markdown",
   "id": "eed79bb5",
   "metadata": {},
   "source": [
    "## 1.3.2 데이터베이스 저장 구조"
   ]
  },
  {
   "cell_type": "markdown",
   "id": "c511f011",
   "metadata": {},
   "source": [
    "- 블록 : 데이터를 읽고 쓰는 단위\n",
    "- 익스텐트 : 공간을 확장하는 단위. 연속된 블록 집합\n",
    "- 세그먼트 : 데이터 저장공간이 필요한 오브젝트(테이블, 인덱스, 파티션, LOG 등)\n",
    "- 테이블스페이스 : 세그먼트를 담는 콘테이너\n",
    "- 데이터파일 : 디스크 상의 물리적인 OS파일"
   ]
  },
  {
   "cell_type": "markdown",
   "id": "47a786b6",
   "metadata": {},
   "source": [
    "**DBA(Data Block Address)**\n",
    "- 모든 데이터 블록은 디스크 상에서 몇 번 데이터파일의 몇 번째 블록인지를 나타내는 자신만의 고유 주소값을 갖는다. "
   ]
  },
  {
   "cell_type": "markdown",
   "id": "0a36cfdf",
   "metadata": {},
   "source": [
    "## 1.3.3 블록 단위 I/O"
   ]
  },
  {
   "cell_type": "markdown",
   "id": "f44e5533",
   "metadata": {},
   "source": [
    "## 1.3.4 시퀀셜 액세스 vs. 랜덤 엑세스"
   ]
  },
  {
   "cell_type": "markdown",
   "id": "7c2faf4a",
   "metadata": {},
   "source": [
    "1. 시퀀셜(Sequential) 액세스\n",
    "- 논리적 또는 물리적으로 연결된 순서에 따라 차례대로 블록을 읽는 방식\n",
    "- 오라클은 세그먼트에 할당된 익스텐트 목록을 **세그먼트 헤더에 맵(map)** 으로 관리\n",
    "- 익스텐트 맵은 각 익스텐트의 첫 번째 블록 주소 값을 갖는다.\n",
    "\n",
    "2. 랜덤(Random) 액세스\n",
    "- 물리적인 순서를 따르지 않고, 레코드 하나를 읽기 위해 한 블록씩 접근(=touch)하는 방식"
   ]
  },
  {
   "cell_type": "markdown",
   "id": "4768c36e",
   "metadata": {},
   "source": [
    "## 1.3.5 논리적 I/O vs. 물리적 I/O"
   ]
  },
  {
   "cell_type": "markdown",
   "id": "1e74c364",
   "metadata": {},
   "source": [
    "### DB 버퍼캐시"
   ]
  },
  {
   "cell_type": "markdown",
   "id": "8d206355",
   "metadata": {},
   "source": [
    "- 디스크에서 어렵게 읽은 데이터 블록을 캐싱해 둠으로써 같은 블록에 대한 반복적인 I/O Call을 줄이는 데 목적"
   ]
  },
  {
   "cell_type": "markdown",
   "id": "de07fb4d",
   "metadata": {},
   "source": [
    "### 논리적 I/O vs. 물리적 I/O"
   ]
  },
  {
   "cell_type": "markdown",
   "id": "4481a351",
   "metadata": {},
   "source": [
    "**논리적 블록 I/O**\n",
    "- SQL문을 처리하는 과정에 메모리 버퍼캐시에서 발송한 총 블록 I/O\n",
    "\n",
    "**물리적 블록 I/O**\n",
    "- 디스크에서 발생한 총 블록 I/O\n",
    "- 액세스 암(Arm)을 통해 물리적 작용이 일어나므로 메모리 I/O에 비해 상당히 느리다."
   ]
  },
  {
   "cell_type": "markdown",
   "id": "9e7507e9",
   "metadata": {},
   "source": [
    "### 버퍼캐시 히트율"
   ]
  },
  {
   "cell_type": "code",
   "execution_count": null,
   "id": "e3a79863",
   "metadata": {},
   "outputs": [],
   "source": []
  },
  {
   "cell_type": "code",
   "execution_count": null,
   "id": "dcfbfee5",
   "metadata": {},
   "outputs": [],
   "source": []
  },
  {
   "cell_type": "code",
   "execution_count": null,
   "id": "d36a7fd1",
   "metadata": {},
   "outputs": [],
   "source": []
  },
  {
   "cell_type": "code",
   "execution_count": null,
   "id": "fdb6a2f7",
   "metadata": {},
   "outputs": [],
   "source": []
  },
  {
   "cell_type": "code",
   "execution_count": null,
   "id": "7fcda5da",
   "metadata": {},
   "outputs": [],
   "source": []
  },
  {
   "cell_type": "code",
   "execution_count": null,
   "id": "d4d26158",
   "metadata": {},
   "outputs": [],
   "source": []
  },
  {
   "cell_type": "code",
   "execution_count": null,
   "id": "eff8c8a0",
   "metadata": {},
   "outputs": [],
   "source": []
  },
  {
   "cell_type": "code",
   "execution_count": null,
   "id": "0373bed6",
   "metadata": {},
   "outputs": [],
   "source": []
  },
  {
   "cell_type": "code",
   "execution_count": null,
   "id": "15beb3eb",
   "metadata": {},
   "outputs": [],
   "source": []
  }
 ],
 "metadata": {
  "kernelspec": {
   "display_name": "Python 3",
   "language": "python",
   "name": "python3"
  },
  "language_info": {
   "codemirror_mode": {
    "name": "ipython",
    "version": 3
   },
   "file_extension": ".py",
   "mimetype": "text/x-python",
   "name": "python",
   "nbconvert_exporter": "python",
   "pygments_lexer": "ipython3",
   "version": "3.8.10"
  }
 },
 "nbformat": 4,
 "nbformat_minor": 5
}
