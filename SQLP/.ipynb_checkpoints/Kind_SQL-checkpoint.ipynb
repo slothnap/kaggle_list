{
 "cells": [
  {
   "cell_type": "markdown",
   "id": "6785b5dd",
   "metadata": {},
   "source": [
    "# 1.1 SQL 파싱과 최적화"
   ]
  },
  {
   "cell_type": "markdown",
   "id": "3b25a4a5",
   "metadata": {},
   "source": [
    "## 1.1.1 구조적, 집합적, 선언적 질의 언어"
   ]
  },
  {
   "cell_type": "markdown",
   "id": "510f231f",
   "metadata": {},
   "source": [
    "## 1.1.2 SQL 최적화"
   ]
  },
  {
   "cell_type": "markdown",
   "id": "7d8fe02e",
   "metadata": {},
   "source": [
    "### 1. SQL 파싱 ###  \n",
    "- 파싱 트리 생성: SQL 문을 이루는 개별 구성요소를 분석해서 파싱 트리 생성\n",
    "- Syntax 체크: 문법적 오류가 없는지 확인 (문장 체크)\n",
    "- Semantic 체크: 의미상 오류가 없는지 확인 (테이블, 컬럼, 오브젝트 권한 확인)"
   ]
  },
  {
   "cell_type": "markdown",
   "id": "ea0bc689",
   "metadata": {},
   "source": [
    "### 2. SQL 최적화 ###\n",
    "- SQL 옵티마이저는 미리 수집한 시스템 및 오브젝트 통계정보를 바탕으로 다양한 실행경로를 생성해서 비교한 후 가장 효율적인 하나를 선택\n",
    "- 데이터베이스 성능을 결정하는 가장 핵심적인 엔진"
   ]
  },
  {
   "cell_type": "markdown",
   "id": "0eb15b74",
   "metadata": {},
   "source": [
    "### 3. 로우 소스 생성 ### "
   ]
  },
  {
   "cell_type": "markdown",
   "id": "0b2779f5",
   "metadata": {},
   "source": [
    "- SQL 옵티마이저가 선택한 실행경로를 실제 가능한 코드 또는 프로시저 형태로 포맷팅 하는 단계\n",
    "- 로우 소스 생성기"
   ]
  },
  {
   "cell_type": "markdown",
   "id": "b38f25ff",
   "metadata": {},
   "source": [
    "## 1.1.3 SQL 옵티마이저"
   ]
  },
  {
   "cell_type": "markdown",
   "id": "930bcb35",
   "metadata": {},
   "source": [
    "1. 사용자로부터 전달받은 쿼리를 수행하는 데 후보군이 될만한 실행계획들을 찾아낸다  \n",
    "2. 데이터 딕셔너리(Data Dictionary)에 미리 수집해 둔 오브젝트 통계 및 시스템 통계정보를 이용해  \n",
    "각 실행계획의 예상비용을 산정한다.  \n",
    "3. 최저 비용을 나타내는 실행계획을 선택한다."
   ]
  },
  {
   "cell_type": "markdown",
   "id": "5b1a4fbd",
   "metadata": {},
   "source": [
    "## 1.1.4 실행계획과 비용"
   ]
  },
  {
   "cell_type": "markdown",
   "id": "c05c1d1b",
   "metadata": {},
   "source": [
    "## 1.1.5 옵티마이저 힌트"
   ]
  },
  {
   "cell_type": "markdown",
   "id": "af2edf7c",
   "metadata": {},
   "source": [
    "/*+ INDEX(A 고객_PK) */"
   ]
  },
  {
   "cell_type": "markdown",
   "id": "c914c617",
   "metadata": {},
   "source": [
    "**p.27 인덱스 종류모음**"
   ]
  },
  {
   "cell_type": "markdown",
   "id": "aaf2f9c4",
   "metadata": {},
   "source": [
    "# 1.2 SQL 공유 및 재사용"
   ]
  },
  {
   "cell_type": "markdown",
   "id": "995067d1",
   "metadata": {},
   "source": [
    "## 1.2.1 소프트 파싱 vs. 하드 파싱"
   ]
  },
  {
   "cell_type": "markdown",
   "id": "6da48a0a",
   "metadata": {},
   "source": [
    "- 소프트 파싱(Soft Parsing):  \n",
    "    SQL이 라이브러리 캐시에 존재 -> 곧바로 실행단계로 넘어감\n",
    "- 하드 파싱(Hard Parsing):  \n",
    "    SQL이 라이브러리 캐시에 미존재 -> 최적화 및 로우 소스 생성 단계까지 모두 거치는 것    "
   ]
  },
  {
   "cell_type": "markdown",
   "id": "13ffa2df",
   "metadata": {},
   "source": [
    "## 1.2.2 바인드 변수의 중요성"
   ]
  },
  {
   "cell_type": "markdown",
   "id": "94944246",
   "metadata": {},
   "source": [
    "# 1.3 데이터 저장 구조 및 I/O 메커니즘"
   ]
  },
  {
   "cell_type": "markdown",
   "id": "a7f17fbe",
   "metadata": {},
   "source": [
    "## 1.3.1 SQL이 느린 이유"
   ]
  },
  {
   "cell_type": "markdown",
   "id": "d66e595d",
   "metadata": {},
   "source": [
    "디스크 I/O"
   ]
  },
  {
   "cell_type": "code",
   "execution_count": null,
   "id": "fd8d9a4a",
   "metadata": {},
   "outputs": [],
   "source": []
  },
  {
   "cell_type": "code",
   "execution_count": null,
   "id": "c13ceb80",
   "metadata": {},
   "outputs": [],
   "source": []
  },
  {
   "cell_type": "code",
   "execution_count": null,
   "id": "07c1ee5d",
   "metadata": {},
   "outputs": [],
   "source": []
  },
  {
   "cell_type": "code",
   "execution_count": null,
   "id": "23596354",
   "metadata": {},
   "outputs": [],
   "source": []
  },
  {
   "cell_type": "code",
   "execution_count": null,
   "id": "7b577058",
   "metadata": {},
   "outputs": [],
   "source": []
  },
  {
   "cell_type": "code",
   "execution_count": null,
   "id": "cd6d9702",
   "metadata": {},
   "outputs": [],
   "source": []
  },
  {
   "cell_type": "code",
   "execution_count": null,
   "id": "f30351d3",
   "metadata": {},
   "outputs": [],
   "source": []
  },
  {
   "cell_type": "code",
   "execution_count": null,
   "id": "d86bcf2b",
   "metadata": {},
   "outputs": [],
   "source": []
  },
  {
   "cell_type": "code",
   "execution_count": null,
   "id": "0d652a52",
   "metadata": {},
   "outputs": [],
   "source": []
  },
  {
   "cell_type": "code",
   "execution_count": null,
   "id": "3af6f81a",
   "metadata": {},
   "outputs": [],
   "source": []
  },
  {
   "cell_type": "code",
   "execution_count": null,
   "id": "ef99842e",
   "metadata": {},
   "outputs": [],
   "source": []
  },
  {
   "cell_type": "code",
   "execution_count": null,
   "id": "250774d1",
   "metadata": {},
   "outputs": [],
   "source": []
  },
  {
   "cell_type": "code",
   "execution_count": null,
   "id": "28a152a1",
   "metadata": {},
   "outputs": [],
   "source": []
  },
  {
   "cell_type": "code",
   "execution_count": null,
   "id": "c4699544",
   "metadata": {},
   "outputs": [],
   "source": []
  },
  {
   "cell_type": "code",
   "execution_count": null,
   "id": "fa9caaaf",
   "metadata": {},
   "outputs": [],
   "source": []
  },
  {
   "cell_type": "code",
   "execution_count": null,
   "id": "f21c7b60",
   "metadata": {},
   "outputs": [],
   "source": []
  },
  {
   "cell_type": "code",
   "execution_count": null,
   "id": "ebef348f",
   "metadata": {},
   "outputs": [],
   "source": []
  },
  {
   "cell_type": "code",
   "execution_count": null,
   "id": "31d6fbca",
   "metadata": {},
   "outputs": [],
   "source": []
  },
  {
   "cell_type": "code",
   "execution_count": null,
   "id": "6d340c99",
   "metadata": {},
   "outputs": [],
   "source": []
  },
  {
   "cell_type": "code",
   "execution_count": null,
   "id": "632a1007",
   "metadata": {},
   "outputs": [],
   "source": []
  },
  {
   "cell_type": "code",
   "execution_count": null,
   "id": "e9155752",
   "metadata": {},
   "outputs": [],
   "source": []
  },
  {
   "cell_type": "code",
   "execution_count": null,
   "id": "45ee67e7",
   "metadata": {},
   "outputs": [],
   "source": []
  }
 ],
 "metadata": {
  "kernelspec": {
   "display_name": "Python 3",
   "language": "python",
   "name": "python3"
  },
  "language_info": {
   "codemirror_mode": {
    "name": "ipython",
    "version": 3
   },
   "file_extension": ".py",
   "mimetype": "text/x-python",
   "name": "python",
   "nbconvert_exporter": "python",
   "pygments_lexer": "ipython3",
   "version": "3.8.10"
  }
 },
 "nbformat": 4,
 "nbformat_minor": 5
}
