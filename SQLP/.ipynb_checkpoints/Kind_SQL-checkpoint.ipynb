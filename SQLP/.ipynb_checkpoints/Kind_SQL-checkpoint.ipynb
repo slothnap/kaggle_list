{
 "cells": [
  {
   "cell_type": "markdown",
   "id": "5bd7fe7a",
   "metadata": {},
   "source": [
    "# 1.1 SQL 파싱과 최적화"
   ]
  },
  {
   "cell_type": "markdown",
   "id": "0521dbd5",
   "metadata": {},
   "source": [
    "## 1.1.1 구조적, 집합적, 선언적 질의 언어"
   ]
  },
  {
   "cell_type": "markdown",
   "id": "24fb924a",
   "metadata": {},
   "source": [
    "## 1.1.2 SQL 최적화"
   ]
  },
  {
   "cell_type": "markdown",
   "id": "2267687a",
   "metadata": {},
   "source": [
    "### 1. SQL 파싱 ###  \n",
    "- 파싱 트리 생성: SQL 문을 이루는 개별 구성요소를 분석해서 파싱 트리 생성\n",
    "- Syntax 체크: 문법적 오류가 없는지 확인 (문장 체크)\n",
    "- Semantic 체크: 의미상 오류가 없는지 확인 (테이블, 컬럼, 오브젝트 권한 확인)"
   ]
  },
  {
   "cell_type": "markdown",
   "id": "a979e747",
   "metadata": {},
   "source": [
    "### 2. SQL 최적화 ###\n",
    "- SQL 옵티마이저는 미리 수집한 시스템 및 오브젝트 통계정보를 바탕으로 다양한 실행경로를 생성해서 비교한 후 가장 효율적인 하나를 선택\n",
    "- 데이터베이스 성능을 결정하는 가장 핵심적인 엔진"
   ]
  },
  {
   "cell_type": "markdown",
   "id": "d3c3688a",
   "metadata": {},
   "source": [
    "### 3. 로우 소스 생성 ### "
   ]
  },
  {
   "cell_type": "markdown",
   "id": "71b93329",
   "metadata": {},
   "source": [
    "- SQL 옵티마이저가 선택한 실행경로를 실제 가능한 코드 또는 프로시저 형태로 포맷팅 하는 단계\n",
    "- 로우 소스 생성기"
   ]
  },
  {
   "cell_type": "markdown",
   "id": "84cf98e1",
   "metadata": {},
   "source": [
    "## 1.1.3 SQL 옵티마이저"
   ]
  },
  {
   "cell_type": "markdown",
   "id": "869773a7",
   "metadata": {},
   "source": [
    "1. 사용자로부터 전달받은 쿼리를 수행하는 데 후보군이 될만한 실행계획들을 찾아낸다  \n",
    "2. 데이터 딕셔너리(Data Dictionary)에 미리 수집해 둔 오브젝트 통계 및 시스템 통계정보를 이용해  \n",
    "각 실행계획의 예상비용을 산정한다.  \n",
    "3. 최저 비용을 나타내는 실행계획을 선택한다."
   ]
  },
  {
   "cell_type": "markdown",
   "id": "9c04d86d",
   "metadata": {},
   "source": [
    "## 1.1.4 실행계획과 비용"
   ]
  },
  {
   "cell_type": "markdown",
   "id": "ec7a14c8",
   "metadata": {},
   "source": [
    "## 1.1.5 옵티마이저 힌트"
   ]
  },
  {
   "cell_type": "markdown",
   "id": "511d11c4",
   "metadata": {},
   "source": [
    "/*+ INDEX(A 고객_PK) */"
   ]
  },
  {
   "cell_type": "markdown",
   "id": "34e50148",
   "metadata": {},
   "source": [
    "**p.27 인덱스 종류모음**"
   ]
  },
  {
   "cell_type": "markdown",
   "id": "3b751e0c",
   "metadata": {},
   "source": [
    "# 1.2 SQL 공유 및 재사용"
   ]
  },
  {
   "cell_type": "markdown",
   "id": "2f880bc5",
   "metadata": {},
   "source": [
    "## 1.2.1 소프트 파싱 vs. 하드 파싱"
   ]
  },
  {
   "cell_type": "markdown",
   "id": "48fe89ee",
   "metadata": {},
   "source": [
    "- 소프트 파싱(Soft Parsing):  \n",
    "    SQL이 라이브러리 캐시에 존재 -> 곧바로 실행단계로 넘어감\n",
    "- 하드 파싱(Hard Parsing):  \n",
    "    SQL이 라이브러리 캐시에 미존재 -> 최적화 및 로우 소스 생성 단계까지 모두 거치는 것    "
   ]
  },
  {
   "cell_type": "markdown",
   "id": "b8f1c1f3",
   "metadata": {},
   "source": [
    "## 1.2.2 바인드 변수의 중요성"
   ]
  },
  {
   "cell_type": "markdown",
   "id": "904f26ab",
   "metadata": {},
   "source": [
    "# 1.3 데이터 저장 구조 및 I/O 메커니즘"
   ]
  },
  {
   "cell_type": "markdown",
   "id": "4e6578c0",
   "metadata": {},
   "source": [
    "## 1.3.1 SQL이 느린 이유"
   ]
  },
  {
   "cell_type": "markdown",
   "id": "3cdaa1a5",
   "metadata": {},
   "source": [
    "디스크 I/O"
   ]
  },
  {
   "cell_type": "markdown",
   "id": "26f13353",
   "metadata": {},
   "source": [
    "## 1.3.2 데이터베이스 저장 구조"
   ]
  },
  {
   "cell_type": "markdown",
   "id": "74b8d639",
   "metadata": {},
   "source": [
    "- 블록 : 데이터를 읽고 쓰는 단위\n",
    "- 익스텐트 : 공간을 확장하는 단위. 연속된 블록 집합\n",
    "- 세그먼트 : 데이터 저장공간이 필요한 오브젝트(테이블, 인덱스, 파티션, LOG 등)\n",
    "- 테이블스페이스 : 세그먼트를 담는 콘테이너\n",
    "- 데이터파일 : 디스크 상의 물리적인 OS파일"
   ]
  },
  {
   "cell_type": "markdown",
   "id": "7668c639",
   "metadata": {},
   "source": [
    "**DBA(Data Block Address)**\n",
    "- 모든 데이터 블록은 디스크 상에서 몇 번 데이터파일의 몇 번째 블록인지를 나타내는 자신만의 고유 주소값을 갖는다. "
   ]
  },
  {
   "cell_type": "markdown",
   "id": "807e09b7",
   "metadata": {},
   "source": [
    "## 1.3.3 블록 단위 I/O"
   ]
  },
  {
   "cell_type": "markdown",
   "id": "94125e9e",
   "metadata": {},
   "source": [
    "## 1.3.4 시퀀셜 액세스 vs. 랜덤 엑세스"
   ]
  },
  {
   "cell_type": "markdown",
   "id": "dea9db01",
   "metadata": {},
   "source": [
    "1. 시퀀셜(Sequential) 액세스\n",
    "- 논리적 또는 물리적으로 연결된 순서에 따라 차례대로 블록을 읽는 방식\n",
    "- 오라클은 세그먼트에 할당된 익스텐트 목록을 **세그먼트 헤더에 맵(map)** 으로 관리\n",
    "- 익스텐트 맵은 각 익스텐트의 첫 번째 블록 주소 값을 갖는다.\n",
    "\n",
    "2. 랜덤(Random) 액세스\n",
    "- 물리적인 순서를 따르지 않고, 레코드 하나를 읽기 위해 한 블록씩 접근(=touch)하는 방식"
   ]
  },
  {
   "cell_type": "markdown",
   "id": "298f089a",
   "metadata": {},
   "source": [
    "## 1.3.5 논리적 I/O vs. 물리적 I/O"
   ]
  },
  {
   "cell_type": "markdown",
   "id": "c46a9d3b",
   "metadata": {},
   "source": [
    "### DB 버퍼캐시"
   ]
  },
  {
   "cell_type": "markdown",
   "id": "129a043e",
   "metadata": {},
   "source": [
    "- 디스크에서 어렵게 읽은 데이터 블록을 캐싱해 둠으로써 같은 블록에 대한 반복적인 I/O Call을 줄이는 데 목적"
   ]
  },
  {
   "cell_type": "markdown",
   "id": "0ba73852",
   "metadata": {},
   "source": [
    "### 논리적 I/O vs. 물리적 I/O"
   ]
  },
  {
   "cell_type": "markdown",
   "id": "2c9c6220",
   "metadata": {},
   "source": [
    "**논리적 블록 I/O**\n",
    "- SQL문을 처리하는 과정에 메모리 버퍼캐시에서 발송한 총 블록 I/O\n",
    "\n",
    "**물리적 블록 I/O**\n",
    "- 디스크에서 발생한 총 블록 I/O\n",
    "- 액세스 암(Arm)을 통해 물리적 작용이 일어나므로 메모리 I/O에 비해 상당히 느리다."
   ]
  },
  {
   "cell_type": "markdown",
   "id": "f7bedcac",
   "metadata": {},
   "source": [
    "### 버퍼캐시 히트율"
   ]
  },
  {
   "cell_type": "markdown",
   "id": "1e4b5276",
   "metadata": {},
   "source": [
    "### 1.3.6 Single Block I/O vs. Multiblock I/O"
   ]
  },
  {
   "cell_type": "markdown",
   "id": "2947f7ea",
   "metadata": {},
   "source": [
    "### 1.3.7 Table Full Scan vs. Index Range Scan"
   ]
  },
  {
   "cell_type": "markdown",
   "id": "28308993",
   "metadata": {},
   "source": [
    "### 1.3.8 캐시 탐색 메커니즘"
   ]
  },
  {
   "cell_type": "markdown",
   "id": "1d32b32c",
   "metadata": {},
   "source": [
    "**버퍼캐시 탐색 과정**  \n",
    "- 인덱스 루트 블록을 읽을 때\n",
    "- 인덱스 루트 블록에서 얻은 주소 정보로 브랜치 블록을 읽을 때\n",
    "- 인덱스 브랜치 블록에서 얻은 주소 정보로 리프 블록을 읽을 때\n",
    "- 인덱스 리프 블록에서 얻은 주소 정보로 테이블 블록을 읽을 때\n",
    "- 테이블 블록을 Full Scan 할 때"
   ]
  },
  {
   "cell_type": "markdown",
   "id": "c1a15a2e",
   "metadata": {},
   "source": [
    "**해시 구조 특징**\n",
    "- 같은 입력 값은 항상 동일한 해시 체인(=버킷)에 연결됨\n",
    "- 다른 입력 값(예를 들어, 4와 9)이 동일한 해시 체인(=버킷)에 연결될 수 있음\n",
    "- 해시 체인 내에서는 정렬이 보장되지 않음"
   ]
  },
  {
   "cell_type": "markdown",
   "id": "4c4a3077",
   "metadata": {},
   "source": [
    "### 메모리 공유자원에 대한 액세스 직렬화"
   ]
  },
  {
   "cell_type": "markdown",
   "id": "a669d5ba",
   "metadata": {},
   "source": [
    "**직렬화(serialization) 메커니즘**\n",
    "- 자원을 공유하는 것처럼 보여도 내부에선 한 프로세스씩 순차적으로 접근하도록 구현"
   ]
  },
  {
   "cell_type": "markdown",
   "id": "6d4c2d9d",
   "metadata": {},
   "source": [
    "**캐시버퍼 체인 래치**\n",
    "- 대량의 데이터를 읽을 때 모든 블록에 대해 해시 체인을 탐색\n",
    "- DBA(Data Block Address)를 해시 함수에 입력하고 거기서 반환된 값으로 스캔해야 할 해시 체인을 찾는다.\n",
    "- 해시 체인을 스캔하는 동안 다른 프로세스가 체인 구조를 변경하는 일이 생기면 곤란하니 이를 막기 위해 해시 체인 래치가 존재\n",
    "- 체인 앞쪽에 키(Key)를 획득한 프로세스만이 체인으로 진입 가능"
   ]
  },
  {
   "cell_type": "markdown",
   "id": "609583da",
   "metadata": {},
   "source": [
    "**버퍼 Lock**\n",
    "- 캐시버퍼 체인 래치를 획득하고 목적한 버퍼블록에 도달했는데, 해당 버퍼블록에 먼저 접근한 선행 프로세스가 아직 사용 중이라면?\n",
    "- 캐시버퍼 체인 래치를 해제하기 전에 먼저 버퍼 헤더에 버퍼 Lock을 설정함으로써 버퍼블록 자체에 대한 직렬화 문제를 해결"
   ]
  },
  {
   "cell_type": "markdown",
   "id": "3d675296",
   "metadata": {},
   "source": [
    " "
   ]
  },
  {
   "cell_type": "markdown",
   "id": "796b1689",
   "metadata": {},
   "source": [
    " "
   ]
  },
  {
   "cell_type": "markdown",
   "id": "48a4eab9",
   "metadata": {},
   "source": [
    " "
   ]
  },
  {
   "cell_type": "markdown",
   "id": "63312b76",
   "metadata": {},
   "source": [
    " "
   ]
  },
  {
   "cell_type": "markdown",
   "id": "b4d4637f",
   "metadata": {},
   "source": [
    "# 2.1 인덱스 구조 및 탐색"
   ]
  },
  {
   "cell_type": "markdown",
   "id": "bbd3de51",
   "metadata": {},
   "source": [
    "## 2.1.1 미리 보는 인덱스 튜닝"
   ]
  },
  {
   "cell_type": "markdown",
   "id": "226d10b5",
   "metadata": {},
   "source": [
    "#### 인덱스 튜닝의 두 가지 핵심요소\n",
    "- 인덱스 스캔 효율화 튜닝\n",
    "- 테이블 액세스 횟수 줄이기"
   ]
  },
  {
   "cell_type": "markdown",
   "id": "4a887e71",
   "metadata": {},
   "source": [
    "#### SQL 튜닝은 랜덤 I/O와의 전쟁\n",
    "- 데이터베이스 성능이 느린 이유는 디스크 I/O 떄문이다."
   ]
  },
  {
   "cell_type": "markdown",
   "id": "4537997e",
   "metadata": {},
   "source": [
    "## 2.1.2 인덱스 구조"
   ]
  },
  {
   "cell_type": "markdown",
   "id": "fd8b9ff4",
   "metadata": {},
   "source": [
    "#### LMC (Leftmost Child)\n",
    "- 자식 노드 중 가장 왼쪽 끝에 위치한 블록을 가리킨다.\n",
    "\n",
    "#### ROWID\n",
    "- ROWID = 데이터 블록 주소 + 로우 번호\n",
    "- 데이터 블록 주소 = 데이터 파일 번호 + 블록 번호\n",
    "- 블록 번호 : 데이터파일 내에서 부여한 상대적 순번\n",
    "- 로우 번호 : 블록 내 순번"
   ]
  },
  {
   "cell_type": "markdown",
   "id": "93e5618f",
   "metadata": {},
   "source": [
    "#### 인덱스 탐색\n",
    "- 수직적 탐색 : 인덱스 스캔 시작지점을 찾는 과정\n",
    "- 수평적 탐색 : 데이터를 찾는 과정"
   ]
  },
  {
   "cell_type": "markdown",
   "id": "859ea4b9",
   "metadata": {},
   "source": [
    "## 2.1.3 인덱스 수직적 탐색"
   ]
  },
  {
   "cell_type": "markdown",
   "id": "388bb580",
   "metadata": {},
   "source": [
    "- 정렬된 인덱스 레코드 중 조건을 만족하는 첫 번째 레코드를 찾는 과정\n",
    "- 인덱스 스캔 시작지점을 찾는 과정\n",
    "- 인덱스 수직적 탐색은 루트(Root) 블록에서부터 시작한다. "
   ]
  },
  {
   "cell_type": "markdown",
   "id": "924465df",
   "metadata": {},
   "source": [
    "## 2.1.4 인덱스 수평적 탐색"
   ]
  },
  {
   "cell_type": "markdown",
   "id": "f8d384d6",
   "metadata": {},
   "source": [
    "- 찾고자 하는 데이터가 더 안 나타날 때까지 인덱스 리프 블록을 수평적으로 스캔한다.\n",
    "- 인덱스에서 본격적으로 데이터를 찾는 과정\n",
    "- 조건절을 만족하는 데이터를 모두 찾기 위해서 \n",
    "- ROWID를 얻기 위해 -> 테이블 엑세스시 사용"
   ]
  },
  {
   "cell_type": "markdown",
   "id": "6716f275",
   "metadata": {},
   "source": [
    "## 2.1.5 결합 인덱스 구조와 탐색"
   ]
  },
  {
   "cell_type": "markdown",
   "id": "3f5d95fe",
   "metadata": {},
   "source": [
    "### Balanced 의 의미\n",
    "- 어떤 값으로 탐색하더라도 인덱스 루트에서 리프 블록에 도달하기까지 읽는 블록 수가 같음을 의미"
   ]
  },
  {
   "cell_type": "markdown",
   "id": "f70c3d09",
   "metadata": {},
   "source": [
    "# 2.2 인덱스 기본 사용법"
   ]
  },
  {
   "cell_type": "markdown",
   "id": "09d83dca",
   "metadata": {},
   "source": [
    "## 2.2.1 인덱스를 사용한다는 것"
   ]
  },
  {
   "cell_type": "markdown",
   "id": "766d7d5c",
   "metadata": {},
   "source": [
    "## 2.2.2 인덱스를 Range Scan 할 수 없는 이유"
   ]
  },
  {
   "cell_type": "markdown",
   "id": "12e3fff7",
   "metadata": {},
   "source": [
    "## 2.2.3 더 중요한 인덱스 사용 조건"
   ]
  },
  {
   "cell_type": "markdown",
   "id": "fb524a9c",
   "metadata": {},
   "source": [
    "- 인덱스를 Range Scan 하기 위한 가장 첫 번째 조건은 인덱스 선두 컬럼이 조건절에 있어야 한다\n",
    "- 인덱스 선두 컬럼이 가공되지 않은 상태로 조건절에 있으면 인덱스 Range Scan은 무조건 가능"
   ]
  },
  {
   "cell_type": "markdown",
   "id": "06eeb5c4",
   "metadata": {},
   "source": [
    "## 2.2.4 인덱스를 이용한 소트 연산 생략"
   ]
  },
  {
   "cell_type": "markdown",
   "id": "1952d1c7",
   "metadata": {},
   "source": [
    "## 2.2.5 ORDER BY 절에서 컬럼 가공"
   ]
  },
  {
   "cell_type": "markdown",
   "id": "76cd3c28",
   "metadata": {},
   "source": [
    "## 2.2.6 SELECT-LIST에서 컬럼 가공"
   ]
  },
  {
   "cell_type": "markdown",
   "id": "3cd78b95",
   "metadata": {},
   "source": [
    "## 2.2.7 자동 형변환"
   ]
  },
  {
   "cell_type": "markdown",
   "id": "b90cc2ac",
   "metadata": {},
   "source": [
    "- 컬럼이 숫자형일 때 LIKE 조건으로 검색하면 자동 형변환이 발생해 인덱스 액세스 조건이 사용되지 못한다."
   ]
  },
  {
   "cell_type": "markdown",
   "id": "d6b727cb",
   "metadata": {},
   "source": [
    "# 2.3 인덱스 확장기능 사용법"
   ]
  },
  {
   "cell_type": "markdown",
   "id": "52c2e3d5",
   "metadata": {},
   "source": [
    "## 2.3.1 Index Range Scan"
   ]
  },
  {
   "cell_type": "markdown",
   "id": "5025b875",
   "metadata": {},
   "source": [
    "- 인덱스 루트에서 리프 블록까지 수직적으로 탐색한 후에 '필요한 범위(Range)만' 스캔\n",
    "- INDEX (RANGE SCAN) OF 'EMP_DEPTNO_IDX' (INDEX)"
   ]
  },
  {
   "cell_type": "markdown",
   "id": "10af0de6",
   "metadata": {},
   "source": [
    "## 2.3.2 Index Full Scan"
   ]
  },
  {
   "cell_type": "markdown",
   "id": "8591edec",
   "metadata": {},
   "source": [
    "- 수직적 탐색없이 인덱스 리프 블록을 처음부터 끝까지 수평적으로 탐색하는 방식\n",
    "- INDEX (FULL SCAN) OF 'EMP_ENAME_SAL_IDX' (INDEX)"
   ]
  },
  {
   "cell_type": "code",
   "execution_count": null,
   "id": "fb72b9c2",
   "metadata": {},
   "outputs": [],
   "source": []
  },
  {
   "cell_type": "code",
   "execution_count": null,
   "id": "7994e84c",
   "metadata": {},
   "outputs": [],
   "source": []
  },
  {
   "cell_type": "code",
   "execution_count": null,
   "id": "1804b943",
   "metadata": {},
   "outputs": [],
   "source": []
  },
  {
   "cell_type": "code",
   "execution_count": null,
   "id": "9e662775",
   "metadata": {},
   "outputs": [],
   "source": []
  },
  {
   "cell_type": "code",
   "execution_count": null,
   "id": "8ba32bd8",
   "metadata": {},
   "outputs": [],
   "source": []
  },
  {
   "cell_type": "code",
   "execution_count": null,
   "id": "b0d17cda",
   "metadata": {},
   "outputs": [],
   "source": []
  },
  {
   "cell_type": "code",
   "execution_count": null,
   "id": "ba698800",
   "metadata": {},
   "outputs": [],
   "source": []
  },
  {
   "cell_type": "code",
   "execution_count": null,
   "id": "f65497b4",
   "metadata": {},
   "outputs": [],
   "source": []
  },
  {
   "cell_type": "code",
   "execution_count": null,
   "id": "b1944dab",
   "metadata": {},
   "outputs": [],
   "source": []
  }
 ],
 "metadata": {
  "kernelspec": {
   "display_name": "Python 3",
   "language": "python",
   "name": "python3"
  },
  "language_info": {
   "codemirror_mode": {
    "name": "ipython",
    "version": 3
   },
   "file_extension": ".py",
   "mimetype": "text/x-python",
   "name": "python",
   "nbconvert_exporter": "python",
   "pygments_lexer": "ipython3",
   "version": "3.8.10"
  }
 },
 "nbformat": 4,
 "nbformat_minor": 5
}
