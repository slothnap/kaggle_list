{
 "cells": [
  {
   "cell_type": "markdown",
   "id": "c8f2a19e",
   "metadata": {},
   "source": [
    "# SQL 고급 활용 및 튜닝"
   ]
  },
  {
   "cell_type": "markdown",
   "id": "4668f308",
   "metadata": {},
   "source": [
    "# 제 1장 아키텍처 기반 튜닝 원리"
   ]
  },
  {
   "cell_type": "markdown",
   "id": "1acb493c",
   "metadata": {},
   "source": [
    "## 제1절 데이터베이스 아키텍처"
   ]
  },
  {
   "cell_type": "markdown",
   "id": "46c9c264",
   "metadata": {},
   "source": [
    "### 1. 아키텍처 개관"
   ]
  },
  {
   "cell_type": "markdown",
   "id": "cbc5109d",
   "metadata": {},
   "source": [
    "### 가. ORACLE 아키텍처"
   ]
  },
  {
   "cell_type": "markdown",
   "id": "1d61a3ed",
   "metadata": {},
   "source": [
    "- 데이터베이스 : 물리적인 디스크에 저장된 데이터집합 (데이터파일, 리두로그파일, 컨트롤파일)\n",
    "- 인스턴스 : 공유메모리(SGA)와 이를 엑세스하는 프로세스 집합\n",
    "\n",
    "#### 하나의 인스턴스는 하나의 데이터베이스를 액세스(Single)\n",
    "#### 여러개의 인스턴스는 하나의 데이터베이스를 엑세스(RAC)"
   ]
  },
  {
   "cell_type": "markdown",
   "id": "85b8434f",
   "metadata": {},
   "source": [
    "### 나. SQL Server 아키텍처"
   ]
  },
  {
   "cell_type": "code",
   "execution_count": null,
   "id": "422020f7",
   "metadata": {},
   "outputs": [],
   "source": [
    "- 하나의 인스턴스당 최고 32,767개의 데이터베이스를 정의해서 사용\n",
    "- "
   ]
  },
  {
   "cell_type": "code",
   "execution_count": null,
   "id": "381e36fc",
   "metadata": {},
   "outputs": [],
   "source": []
  },
  {
   "cell_type": "code",
   "execution_count": null,
   "id": "30b09cae",
   "metadata": {},
   "outputs": [],
   "source": []
  },
  {
   "cell_type": "code",
   "execution_count": null,
   "id": "f346c59e",
   "metadata": {},
   "outputs": [],
   "source": []
  },
  {
   "cell_type": "code",
   "execution_count": null,
   "id": "b3588d48",
   "metadata": {},
   "outputs": [],
   "source": []
  },
  {
   "cell_type": "code",
   "execution_count": null,
   "id": "a7fecca4",
   "metadata": {},
   "outputs": [],
   "source": []
  },
  {
   "cell_type": "code",
   "execution_count": null,
   "id": "891c161c",
   "metadata": {},
   "outputs": [],
   "source": []
  },
  {
   "cell_type": "code",
   "execution_count": null,
   "id": "7d06ebe1",
   "metadata": {},
   "outputs": [],
   "source": []
  },
  {
   "cell_type": "code",
   "execution_count": null,
   "id": "1faeedf7",
   "metadata": {},
   "outputs": [],
   "source": []
  },
  {
   "cell_type": "code",
   "execution_count": null,
   "id": "cca159c1",
   "metadata": {},
   "outputs": [],
   "source": []
  },
  {
   "cell_type": "code",
   "execution_count": null,
   "id": "b5cf5985",
   "metadata": {},
   "outputs": [],
   "source": []
  },
  {
   "cell_type": "code",
   "execution_count": null,
   "id": "1a753100",
   "metadata": {},
   "outputs": [],
   "source": []
  },
  {
   "cell_type": "code",
   "execution_count": null,
   "id": "ac13aff7",
   "metadata": {},
   "outputs": [],
   "source": []
  },
  {
   "cell_type": "code",
   "execution_count": null,
   "id": "1da72e06",
   "metadata": {},
   "outputs": [],
   "source": []
  },
  {
   "cell_type": "code",
   "execution_count": null,
   "id": "914ed341",
   "metadata": {},
   "outputs": [],
   "source": []
  },
  {
   "cell_type": "code",
   "execution_count": null,
   "id": "58af6754",
   "metadata": {},
   "outputs": [],
   "source": []
  },
  {
   "cell_type": "code",
   "execution_count": null,
   "id": "fce56629",
   "metadata": {},
   "outputs": [],
   "source": []
  },
  {
   "cell_type": "code",
   "execution_count": null,
   "id": "7a962cbb",
   "metadata": {},
   "outputs": [],
   "source": []
  },
  {
   "cell_type": "code",
   "execution_count": null,
   "id": "cfa29c29",
   "metadata": {},
   "outputs": [],
   "source": []
  },
  {
   "cell_type": "code",
   "execution_count": null,
   "id": "b48eed32",
   "metadata": {},
   "outputs": [],
   "source": []
  },
  {
   "cell_type": "markdown",
   "id": "5374b13b",
   "metadata": {},
   "source": [
    "## 제2절 SQL 파싱 부하"
   ]
  },
  {
   "cell_type": "markdown",
   "id": "887ec9ff",
   "metadata": {},
   "source": [
    "## 제3절 데이터베이스 Call과 네트워크 부하"
   ]
  },
  {
   "cell_type": "markdown",
   "id": "266df344",
   "metadata": {},
   "source": [
    "## 제4절 데이터베이스 I/O 원리"
   ]
  },
  {
   "cell_type": "code",
   "execution_count": null,
   "id": "b212a9b7",
   "metadata": {},
   "outputs": [],
   "source": []
  }
 ],
 "metadata": {
  "kernelspec": {
   "display_name": "Python 3",
   "language": "python",
   "name": "python3"
  },
  "language_info": {
   "codemirror_mode": {
    "name": "ipython",
    "version": 3
   },
   "file_extension": ".py",
   "mimetype": "text/x-python",
   "name": "python",
   "nbconvert_exporter": "python",
   "pygments_lexer": "ipython3",
   "version": "3.8.10"
  }
 },
 "nbformat": 4,
 "nbformat_minor": 5
}
