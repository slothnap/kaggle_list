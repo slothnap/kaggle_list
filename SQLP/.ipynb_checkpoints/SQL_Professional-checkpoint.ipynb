{
 "cells": [
  {
   "cell_type": "markdown",
   "id": "27cbf588",
   "metadata": {},
   "source": [
    "# SQL 고급 활용 및 튜닝"
   ]
  },
  {
   "cell_type": "markdown",
   "id": "367cef90",
   "metadata": {},
   "source": [
    "# 제 1장 아키텍처 기반 튜닝 원리"
   ]
  },
  {
   "cell_type": "markdown",
   "id": "0ee8842e",
   "metadata": {},
   "source": [
    "# 제1절 데이터베이스 아키텍처"
   ]
  },
  {
   "cell_type": "markdown",
   "id": "f08a9a55",
   "metadata": {},
   "source": [
    "## 1. 아키텍처 개관"
   ]
  },
  {
   "cell_type": "markdown",
   "id": "561ea934",
   "metadata": {},
   "source": [
    "### 가. ORACLE 아키텍처"
   ]
  },
  {
   "cell_type": "markdown",
   "id": "df2b2b82",
   "metadata": {},
   "source": [
    "- 데이터베이스 : 물리적인 디스크에 저장된 데이터집합 (데이터파일, 리두로그파일, 컨트롤파일)\n",
    "- 인스턴스 : 공유메모리(SGA)와 이를 엑세스하는 프로세스 집합\n",
    "\n",
    "#### 하나의 인스턴스는 하나의 데이터베이스를 액세스(Single)\n",
    "#### 여러개의 인스턴스는 하나의 데이터베이스를 엑세스(RAC)"
   ]
  },
  {
   "cell_type": "markdown",
   "id": "c15d2f5e",
   "metadata": {},
   "source": [
    "### 나. SQL Server 아키텍처"
   ]
  },
  {
   "cell_type": "markdown",
   "id": "5baf45f1",
   "metadata": {},
   "source": [
    "- 하나의 인스턴스당 최고 32,767개의 데이터베이스를 정의해서 사용\n",
    "- 기본적으로 시스템데이터베이스가 만들어지면, 사용자데이터베이스를 추가하여 생성하는 구조"
   ]
  },
  {
   "cell_type": "markdown",
   "id": "6997b8a4",
   "metadata": {},
   "source": [
    "- 시스템데이터베이스 : mster, model, msdb, tempdb 등\n",
    "- 사용자데이터베이스 : 데이터파일(mdf), 트랜잭션로그파일(ldf), 보조데이터파일(ndf)"
   ]
  },
  {
   "cell_type": "markdown",
   "id": "8240afb7",
   "metadata": {},
   "source": [
    "## 2. 프로세스"
   ]
  },
  {
   "cell_type": "markdown",
   "id": "a7cdd279",
   "metadata": {},
   "source": [
    "- 서버프로세스 : 전면에 나서 사용자가 던지는 각종 명령을 처리\n",
    "- 백그라운드프로세스 : 뒤에서 묵묵히 주어진 역할을 수행"
   ]
  },
  {
   "cell_type": "markdown",
   "id": "ffbd5d1e",
   "metadata": {},
   "source": [
    "### 가. 서버프로세스(Server Process)"
   ]
  },
  {
   "cell_type": "markdown",
   "id": "000c9d4c",
   "metadata": {},
   "source": [
    "- 사용자 프로세스와 통신하면서 사용자의 각종 명령어 처리\n",
    "- ORACLE : 서버프로세스\n",
    "- SQL Server : Worker thread\n",
    "\n",
    "#### 처리절차\n",
    "- 사용자의 요청\n",
    "- SQL 파싱\n",
    "- 커서를 열어서 SQL을 실행하면서 블록 READ\n",
    "- 읽은 데이터를 정렬하여 요청한 결과집합을 만들어 네트워크를 통해 전송"
   ]
  },
  {
   "cell_type": "markdown",
   "id": "e90ec961",
   "metadata": {},
   "source": [
    "#### 클라이언트가 서버프로세스와 연결하는 방식(예 오라클)"
   ]
  },
  {
   "cell_type": "markdown",
   "id": "68278031",
   "metadata": {},
   "source": [
    "#### 전용서버 방식(Dedicated Server)\n",
    "- 클라이언트 세션과 서버프로세스가 1:1 로 매핑\n",
    "- 오라클의 가장 일반적인 방식\n",
    "- 클라이언트 요청에 의해 리스너 프로세스는 dedicated server 생성\n",
    "- 새로운 dedicated server 프로세스는 리스너에 의해 커넥션 권한을 상속받음\n",
    "- 데이터베이스와 물리적인 커넥션을 맺음\n",
    "\n",
    "\n",
    "1. (User)     연결요청                       ==> (Listener)\n",
    "2. (Listnenr) 프로세스 생성 및 연결요청 상속 ==> (Server)\n",
    "3. (Server)   RESEND 패킷 전송               ==> (User)\n",
    "4. (User)     연결 후 작업 요청              ==> (Server)\n",
    "5. (Server)   처리 후 결과 전송              ==> (User)\n",
    " "
   ]
  },
  {
   "cell_type": "markdown",
   "id": "7fcf5fea",
   "metadata": {},
   "source": [
    "#### 공유서버 방식(Shared Server)\n",
    "- 클라이언트 세션과 서버프로세스가 1:N로 매핑\n",
    "- 클라이언트 요청에 의해 리스너 프로세스는 현재 사용가능한 dispatcher pool 탐색확인\n",
    "- 리스너는 사용가능한 dispatcher 커넥션 정보를 클라이언트에 되돌려줌\n",
    "- 클라이언트는 리스너 접속을 끝내고 바로 dispatcher로 접속\n",
    "\n",
    "1. (User) 연결요청 ==> (Listener)\n",
    "2. (Listener) 가용한 Dispatcher 포트번호 전송 ==> (User)\n",
    "3. (User) 연결 후 작업 요청 ==> (Dispatcher)\n",
    "4. (Dispatcher) 요청등록 ==> (SGA Request Queue)\n",
    "5. (SGA Request Queue) 요청접수 ==> (Server)\n",
    "6. (Server) 결과 등록 ==> (SGA Reponcse Queue)\n",
    "7. (SGA Reponcse Queue) 결과수렴 ==> (Dispatcher)\n",
    "8. (Dispatcher) 결과 전송 ==> (User)"
   ]
  },
  {
   "cell_type": "markdown",
   "id": "2f18350e",
   "metadata": {},
   "source": [
    "### 나. 백그라운드프로세스"
   ]
  },
  {
   "cell_type": "markdown",
   "id": "34d228ce",
   "metadata": {},
   "source": [
    "####              오라클                 ==                       SQL SERVER\n",
    "**SMON(System Monitor) == Databese cleanup / Shrinking Thread**\n",
    "- 장애가 발생한 시스템을 재기동할 때 인스턴스 복구를 수행하고, 임시 세그먼트와 익스텐트를 모니터링한다.\n",
    "\n",
    "**PMON(Process Monitor) == Open data Services(OPS)**\n",
    "- 이상이 생긴 프로세스가 사용하던 리소스를 복구한다.\n",
    "\n",
    "**DBWn(Database Writers) == Lazywriter Thread**\n",
    "- 버퍼 캐시에 있는 더티 버퍼를 데이터 파일에 기록\n",
    "\n",
    "**LGWR(Log Writer) == Log writer Thread**\n",
    "- 로그 버퍼 엔트리를 redo 로그 파일에 기록한다.\n",
    "\n",
    "**ARCn(Archiver) == N/A**\n",
    "- 꽉찬 리두로그가 덮어 쓰여지기 전에 archive로그 디렉토리로 백업한다.\n",
    "\n",
    "**CKPT(Checkpoint) == Database Checkpoint Thread**\n",
    "- checkpoint 프로세스는 이전의 checkpoint가 일어났던 마지막 시점 이후의 데이터베이스 변경 사항을 데이터파일에 기록하도록  \n",
    "트리거링하고, 기록이 완료되면 현재 어디까지 기록했는지를 컨트롤 파일과 데이터 파일 헤더에 기록한다.\n",
    "- 좀더 자세히 설명하면 write Ahead Logging 방식을 사용하는 DBMS는 리두로그에 기록해 둔 버퍼 브록에 대한 변경사항 중\n",
    "현재 어디까지를 데이터 파일에 기록했는지 체크 포인트정보를 관리해야 한다.\n",
    "- 이는 버퍼캐시와 데이터 파일이 동기화된 시점을 가리키며, 장애가 발생하면 마지막 체크포인트 이후 로그 데이터만 디스크에 \n",
    "기록함으로써 인스턴스를 복구할 수 있도록 하는 용도로 사용된다.\n",
    "- 이 정보를 갱신하는 주기가 길수록 장애 발생시 인스턴스 복구 시간도 길어진다.\n",
    "\n",
    "**RECO(Recoverer) == Distributed Transaction Coordinator(DTC)**\n",
    "- 분산 트랜잭션 과정에 발생한 문제를 해결한다."
   ]
  },
  {
   "cell_type": "markdown",
   "id": "0698c6cd",
   "metadata": {},
   "source": [
    "## 3. 파일구조"
   ]
  },
  {
   "cell_type": "markdown",
   "id": "f6f43312",
   "metadata": {},
   "source": [
    "### 가. 데이터파일"
   ]
  },
  {
   "cell_type": "markdown",
   "id": "47e24499",
   "metadata": {},
   "source": [
    "1) **블록(=페이지)**\n",
    "- 대부분의 DBMS에서는 I/O 블록단위로 이루어짐\n",
    "- 데이터를 읽고 쓸때의 논리적인 단위\n",
    "- SQL 성능을 좌우하는 가장 중요한 성능지표\n",
    "- 옵티마이저의 파단에 가장 큰 영향을 미치는 요소"
   ]
  },
  {
   "cell_type": "markdown",
   "id": "b2765302",
   "metadata": {},
   "source": [
    "2) **익스텐트(Extent)**\n",
    "- 테이블스페이스로부터 공간을 할당하는 단위"
   ]
  },
  {
   "cell_type": "markdown",
   "id": "c1596735",
   "metadata": {},
   "source": [
    "3) **세그먼트(Segment)**\n",
    "- 테이블, 인덱스, Undo 처럼 저장공간을 필요로하는 데이터베이스 오브젝트 (한개 이상의 익스텐트 사용)\n",
    "- 파티션은 오브젝트와 세그먼트가 1:M (파티션을 만들면 내부적으로 여러개의 세그먼트가 만들어짐)\n",
    "- 한 세그먼트에 할당된 엑스텐트가 여러 데이터파일에 흩어져 저장됨 (디스크 경합감소. I/O 분산효과)"
   ]
  },
  {
   "cell_type": "markdown",
   "id": "9a597f64",
   "metadata": {},
   "source": [
    "4) **테이블스페이스(Tablespace)**\n",
    "- 세그먼트를 담는 콘테이너로서 여러개의 데이터파일로 구성됨\n",
    "- 사용자는 데이터파일을 직접 선택할 수 없으므로 실제 파일을 선택하고 익스텐트를 할당하는것은 DBMS의 몫"
   ]
  },
  {
   "cell_type": "markdown",
   "id": "1f229911",
   "metadata": {},
   "source": [
    "### 나. 임시파일"
   ]
  },
  {
   "cell_type": "markdown",
   "id": "fda789ea",
   "metadata": {},
   "source": [
    "- 대량의 정렬이나 해시 작업을 수행하다가 메모리 공간이 부족해지면 중간 결과집합을 저장하는 용도\n",
    "- 오라클에서는 임시 테이블스페이스를 여러개 생성해두고, 사용자마다 별도의 임시 테이블스페이스를 지정해 줄 수 있음"
   ]
  },
  {
   "cell_type": "markdown",
   "id": "76abd996",
   "metadata": {},
   "source": [
    "### 다. 로그파일"
   ]
  },
  {
   "cell_type": "markdown",
   "id": "92400cc5",
   "metadata": {},
   "source": [
    "- DB 버퍼 캐시에 가해지는 모든 변경사항을 기록하는 파일\n",
    "- 로그 기록은 Append 방식으로 이루어지기 때문에 상대적으로 매우 빠름\n",
    "- 빠른 커밋 지원"
   ]
  },
  {
   "cell_type": "markdown",
   "id": "994a96e4",
   "metadata": {},
   "source": [
    "### 로그파일\n",
    "#### 리두로그(오라클)\n",
    "- 트랜잭션의 데이터 유실 방지\n",
    "- 마지막 체크포인트이후 사고 발생 직전까지 수행되었던 트랜잭션을 Redo 로그를 이용해서 재현함 (캐시복구)\n",
    "- 최소 두개 이상의 파일로 구성하며 round-robin 방식 이용하여 사용\n",
    "\n",
    "#### 트랜잭션로그(SQL Server)\n",
    "- 데이터파일(데이터베이스)마다 트랜잭션 로그 파일이 하나씩 생성됨(ldf)\n",
    "- 가상로그파일이라고 불리는 더 작은 세그먼트 단위로 나뉨\n",
    "- 가상로그파일 개수가 너무 많아지지 않도록 옵션을 지정(로그파일을 넉넉한 크기로 만들어 자동 증가가 발생하지   \n",
    "않도록 하거나, 증가단위를 크게 지정)\n",
    "\n",
    "\n",
    "### Archved(=Offline) Redo 로그\n",
    "#### Archived Redo 로그\n",
    "- 오라클에서 온라인 리두로그가 재사용 되기 전에 다른 위치로 백업해둔 파일\n",
    "- 디스크가 꺠지는 등의 물리적인 저장매체 장애에 대해서 복구하기 위해 사용\n",
    "- SQL Server는 Archived Redo 로그에 대응되는 개념 없음"
   ]
  },
  {
   "cell_type": "markdown",
   "id": "28b4e59b",
   "metadata": {},
   "source": [
    "## 4. 메모리구조"
   ]
  },
  {
   "cell_type": "markdown",
   "id": "3b400fd1",
   "metadata": {},
   "source": [
    "### 시스템 공유 메모리영역\n",
    "### System Global Area(SGA) == Memory Pool\n",
    "- 여러 프로세스가 동시에 액세스할 수 있는 메모리 영역\n",
    "- 모든 DBMS는 공통적으로 사용하는 캐시 영역이 있음(DB 버퍼캐시, 공유풀, 로그 버퍼)\n",
    "- 그 외에 Large Poolm, Java Pool, 시스템 구조와 제어 구조를 캐싱하는 영역을 포함하고 있음\n",
    "- 여러 프로세스가 공유되기 때문에 내부적으로 Latch, 버퍼Lock, 라이브러리 캐시 Lock/Pin같은 액세스 직렬화 매커니즘 사용"
   ]
  },
  {
   "cell_type": "markdown",
   "id": "2cfe6dec",
   "metadata": {},
   "source": [
    "### 프로세스 전용 메모리영역\n",
    "- 오라클은 프로세스 기반의 아키텍처로 서버 프로세스가 자신만의 전용 메모리 영역을 가짐 (Process Global Area(PGA))\n",
    "- 데이터를 정렬하고 세션과 커서 정보를 저장\n",
    "- 쓰레드기반의 아키텍처를 사용하는 SQL Server는 프로세스 전용 메모리 영역을 갖지 않는다. "
   ]
  },
  {
   "cell_type": "markdown",
   "id": "691d76f7",
   "metadata": {},
   "source": [
    "### 가. DB 버퍼캐시\n",
    "- 데이터파일로부터 읽어들인 데이터 블록을 담는 캐시영역\n",
    "- 사용자 프로세스는 서버 프로세스를 통해 DB 버퍼 캐시의 버퍼 블록을 동시에 액세스 (내부적으로 Buffer Lock을 통한 직렬화)\n",
    "- Direct Path Read 매커니즘이 작동하는 경우를 제외하면, 모든 블록 읽기는 버퍼 캐시를 통해 이루어짐\n",
    "- 디스크에서 읽을때도 버퍼캐시에 적재한 후 읽음\n",
    "- 변경된 블록(더티버퍼)은 주기적으로 DBWR 프로세스에 의해 데이터파일에 기록\n",
    "- 디스크 I/O는 물리적으로 액세스암이 움직이면서 헤드를 통해 이루어지는 반면, 메모리 I/O는 전기적신호에 불과하기 때문에   \n",
    "  디스크 I/O와 비교할수 없을 정도로 빠름."
   ]
  },
  {
   "cell_type": "markdown",
   "id": "ac9d8655",
   "metadata": {},
   "source": [
    "#### 1) 버퍼블록상태\n",
    "**Free Buffer**\n",
    "- 인스턴스 기둥호 아직 데이터가 읽혀지지 않아 비어 있는 상태이거나, 데이터파일과 서로 동기화 되어 언제든지 덮어써도 되는 상태\n",
    "\n",
    "**Dirty Buffer**\n",
    "- 버퍼가 캐시된 이후 변경이 발생하지만, 아직 디스크에 기록되지 않아 데이터파일 블록과 동기화가 필요한 버퍼 블록.\n",
    "- 이 버퍼 블록이 재사용 되려면 디스크에 먼저 기록되어야 하고 디스크에 기록된 순간 Free 버퍼로 변경\n",
    "\n",
    "**Pinned Buffer**\n",
    "- 읽기 또는 쓰기 작업이 현재 진행중인 버퍼 블록"
   ]
  },
  {
   "cell_type": "markdown",
   "id": "e4843bf1",
   "metadata": {},
   "source": [
    "#### 2) LRU 알고리즘\n",
    "- 버퍼 캐시는 유한한 자원이므로 모든 데이터를 캐싱해 둘 수 없기 때문에 사용 빈도가 높은 데이터 블록 위주로  \n",
    "  버퍼 캐시가 구성 되도록 LRU 알고리즘을 사용\n",
    "- 모든 버퍼 블록헤더를 LRU 체인에 연결해 사용 빈도 순으로 위치를 옮기다가(Touch count가 높을수록 MRU)  \n",
    "  Free 버퍼가 필요해지면, 엑세스 빈도가 낮은(LRU) 쪽 데이터 블록부터 밀어내는 방식"
   ]
  },
  {
   "cell_type": "markdown",
   "id": "322b3fa8",
   "metadata": {},
   "source": [
    "### 나. 공유풀(shared pool)\n",
    "- 딕셔너리캐시와 라이브러리 캐시로 구성되며 버퍼 캐시처럼 LRU 알고리즘을 사용\n",
    "\n",
    "#### 1) 딕셔너리 캐시\n",
    "- 테이블, 인덱스같은 오브젝트는 물론 테이블스페이스, 데이터파일, 세그먼트, 익스텐트, 사용자, 제약사항과 같은 메타정보 저장\n",
    "\n",
    "#### 2) 라이브러리캐시\n",
    "- SQL 실행에 관련된 모든 객체에 대한 정보 관리\n",
    "- 서버 프로세스가 SQL을 작업할때 사용되는 작업공간\n",
    "- SQL에 대한 분석정보 및 실행계획 저장\n",
    "- 공유 SQL을 저장하기 위해 사용\n",
    "\n",
    "- 라이브러리 캐시는 캐싱된 SQL과 그 실행계획의 재사용성을 높이는 것이 수행 성능을 높이고 DBMS 부하를 최소화 하는 핵심원리임\n",
    "- 바인드변수 사용 및 기준에 맞는 SQL 작성으로 재사용성을 높여 줘야 함."
   ]
  },
  {
   "cell_type": "markdown",
   "id": "41f89ca0",
   "metadata": {},
   "source": [
    "### 다. 로그버퍼\n",
    "- Only Recovery를 위해 사용됨.\n",
    "- DB버퍼에 가해지는 모든 변경사항을 로그버퍼에 먼저 기록\n",
    "- **Physiolosical logging**\n",
    "    - physical logging과 logical logging의 장점을 결합한것으로 변경된 데이터에 대한 before/after 이미지를 저장하고  \n",
    "      opcode(명세서)를 기록하여 완벽한 복구를 보장\n",
    "- **page fix rule**\n",
    "    - 변경이 시작되는 시점부터 완료되는 시점까지 해당 블록을 보호해주는 아키텍처로 os에서 세마포어를 할당받아서  \n",
    "      세마포어가 해당 블록을 보호\n",
    "- **log a head**\n",
    "    - 데이터 변경작업시에 DBWR에 의한 블록 변경보다 로그를 먼저 기록하는 기법\n",
    "- **log force at commit**\n",
    "    - 커밋시 리두로그를 먼저 기록하는 기법, 기록하는 속도가 빠른 리두를 먼저 기록하게 하여 중간에 발생하는   \n",
    "      장애로부터 완벽한 복구를 보장하는 기법\n",
    "- **logical odering of redo**\n",
    "    - 로그를 기록할때 정해진 위치가 아닌 순서와 무관하게 기록하되, scn과 RBA를 이용하여 복구에 대한 순서를 결정하여 빠른 복구 보장"
   ]
  },
  {
   "cell_type": "markdown",
   "id": "b4cb67f1",
   "metadata": {},
   "source": [
    "### 라. PGA(Process Global Area)\n",
    "- 오라클의 서버 프로세스는 자신만의 PGA 메모리 영역을 할당받아 이를 프로세스에 종속적인 고유 데이터를 저장하는 용도로 사용\n",
    "- PGA는 다른 프로세스와 공유되지 않은 독립적인 메모리 공간으로 똑같은 개수의 블록을 읽더라도 SGA 버퍼 캐시에서 읽는것보다 훨씬 빠름\n",
    "\n",
    "#### 1) UGA(User Global Area)\n",
    "- 각 세션을 위한 독립적인 공간\n",
    "- Dedicated Server : PGA에 UGA영역 할당\n",
    "- Shared Server: SGA의 Large Pool 또는 Shared Pool에 UGA 영역 할당\n",
    "\n",
    "#### 2) CGA(Call Global Area)\n",
    "- 오라클은 하나의 데이터베이스 Call을 넘어서 다음 Call까지 계속 참조되는 정보를 UGA에 담고, call이   \n",
    "  진행되는 동안 필요한 데이터는 CGA에 담는다\n",
    "- Parse Call, Execute Call, Fetch Call 마다 매번 할당 받음\n",
    "- Call이 진행되는동안 Recursive call이 발생하면 그 안에서도 Parse, Execute, Fetch 단계별로 CGA 할당\n",
    "- 할당된 공간은 Call이 끝나자마자 해제되어 PGA에 반환\n",
    "\n",
    "#### 3) Sort Area\n",
    "- 데이터 정렬을 위해 사용되며, 부족할때 마다 chunk 단위로 조금씩 할당됨\n",
    "- 세션마다 sort_area_size 파라미터로 설정가능\n",
    "- 9i 이상부터는 workarea_size_policy 파라미터를 auto로 설정하면 내부적으로 알아서 sort area를 할당해줌\n",
    "\n",
    "**DML : CGA 영역에 할당**  \n",
    "**SELECT : 수행중간단계에 필요한 sort area는 CGA에 할당, 최종 결과집합을 출력하기 직전 단계에서 필요한 sort area는 UGA에 할당**"
   ]
  },
  {
   "cell_type": "markdown",
   "id": "ca0bfc31",
   "metadata": {},
   "source": [
    "## 5. 대기 이벤트\n",
    "- DBMS 내부에서 활동하는 수많은 프로세스간에서는 상호작용이 필요하며, 그 과정에서 다른 프로세스가 일을 마칠때까지 기다려야하는 상황이 발생\n",
    "- 그때마다 해당 프로세스는 자신이 일을 계속 진행할 수 있는 조건이 충족될때까지 수면(Sleep)상태로 대기"
   ]
  },
  {
   "cell_type": "markdown",
   "id": "19e86a27",
   "metadata": {},
   "source": [
    "- **Reponse Time** = \n",
    "    - Service Time + Wait Time     \n",
    "    - CPU Time + Queue Time \n",
    "    \n",
    "- 서비스시간(Service Time = CPU Time): 프로세스가 정상적으로 동작하며 일을 수행한 시간\n",
    "- 대기시간(Wait Time = Queue Time): 프로세스가 잠시 수행을 멈추고 대기한 시간\n",
    "- Response Time Analysis 방법론은 Cpu Time과 Wait Time을 각각 Break down 하면서 서버의 일량과 대기시간을 분석\n",
    "- Wait TIme은 각각 발생한 대기 이벤트를 분석해서 가장 시간을 많이 소비한 이벤트 중심으로 해결방안 모색"
   ]
  },
  {
   "cell_type": "markdown",
   "id": "7ad7ddb0",
   "metadata": {},
   "source": [
    "### 가. 라이브러리캐시 부하\n",
    "- 라이브러리 캐시에서 SQL 커서를 찾고 최적화 하는 과정에서 경합이 발생하여 나타난 대기이벤트\n",
    "    - latch : shared pool\n",
    "    - latch : library cache\n",
    "- 라이브러리 캐시와 관련해서 자주발생하는 대기 이벤트로, 수행중인 SQL이 참조하는 오브젝트에 다른 사용자가 DDL문장을 수행할 때 \n",
    "    - library cache lock\n",
    "    - library cache pin"
   ]
  },
  {
   "cell_type": "markdown",
   "id": "04f4d33b",
   "metadata": {},
   "source": [
    "### 나. 데이터베이스 call과 네트워크 부하\n",
    "- 애플리케이션과 네트워크 구간에서 소모된 시간에 의해 나타난 이벤트\n",
    "    - SQL*Net message from client : client로부터 다음 명령이 올떄까지 idle 상태로 기다릴때 발생   \n",
    "      (데이터베이스 경합과 관계없음)\n",
    "    - SQL*Net message to client : 메시지를 보냈는데 메시지를 받았다는 신호가 늦게 도착하는경우 이거나,\n",
    "      클라이언트가 너무 바쁠경우\n",
    "    - SQL*Net more data to client: 메시지를 보냈는데 메시지를 받았다는 신호가 늦게 도착하는 경우 이거나,\n",
    "      클라이언트가 너무 바쁠경우\n",
    "    - SQL*Net more data from client : 클라이언트로부터 더 받을 데이터가 있는데 지연이 발생한 경우"
   ]
  },
  {
   "cell_type": "markdown",
   "id": "a7b2c48c",
   "metadata": {},
   "source": [
    "### 다. 디스크 부하\n",
    "- 디스크 I/O 발생할 때 나타나는 대기 이벤트\n",
    "    - db file sequential read : Single Block I/O call에 하나의 데이터 블록만 읽음.    \n",
    "      인덱스 블록을 읽을때 발생\n",
    "    - db file scattered read : Multi Block I/O. Table Full Scan 또는 Index Fast Full Scan시 나타남\n",
    "    - direct path read\n",
    "    - direct path write\n",
    "    - direct path write temp\n",
    "    - direct path read temp\n",
    "    - db file parallel read"
   ]
  },
  {
   "cell_type": "markdown",
   "id": "623350b6",
   "metadata": {},
   "source": [
    "### 라. 버퍼캐시 경합\n",
    "- 버퍼캐시에서 블록을 읽는 과정에서 경합이 발생하여 나타나는 대기 이벤트\n",
    "    - latch : cache buffers chains\n",
    "    - latch : cache buffers lru chain\n",
    "    - buffers busy waits\n",
    "    - free buffer waits\n",
    "- 해소 방법은 I/O 부하 해소 방법과 비슷함"
   ]
  },
  {
   "cell_type": "markdown",
   "id": "965e1d65",
   "metadata": {},
   "source": [
    "### 마. LOCK관련 대기이벤트 \n",
    "- Lock과 관련된 대기이벤트\n",
    "    - enq : TM - contention\n",
    "    - enq : TX - row lock contention\n",
    "    - enq : TX - index contention\n",
    "    - enq : TX - allocate ITL entry\n",
    "    - enq : TX contention\n",
    "    - latch free : 특정 자원에 대한 래치를 여러차례(2000번 가량) 요구했지만 해당 자원이 계속 사용중이어서  \n",
    "      잠시 대기 상태로 빠질때마다 발생\n",
    "- Lock은 사용자 데이터를 보호하는 반면, Latch는 SGA에 공유되어 있는 갖가지 자료구조를 보호할 목적으로 사용하는 가변운 LOCK\n",
    "- Latch도 일종의 Lock이지만 큐잉(Queueing) 매커니즘을 사용하지 않음\n",
    "- 특정자원에 액세스하려는 프로세스는 래치 획득에 성공할때까지 반복해서 시도하나, 우선권은 부여받지 못함  \n",
    "  (처음시도한 래치가 맨 나중에 래치획득에 성공할수도 있음)\n",
    "- 그외 대기이벤트\n",
    "    - log file sync\n",
    "    - checkpoint completed\n",
    "    - log file switch completion\n",
    "    - log buffer space"
   ]
  },
  {
   "cell_type": "markdown",
   "id": "6c7c33d8",
   "metadata": {},
   "source": [
    "# 제2절 SQL 파싱 부하"
   ]
  },
  {
   "cell_type": "code",
   "execution_count": null,
   "id": "9242dadb",
   "metadata": {},
   "outputs": [],
   "source": []
  }
 ],
 "metadata": {
  "kernelspec": {
   "display_name": "Python 3",
   "language": "python",
   "name": "python3"
  },
  "language_info": {
   "codemirror_mode": {
    "name": "ipython",
    "version": 3
   },
   "file_extension": ".py",
   "mimetype": "text/x-python",
   "name": "python",
   "nbconvert_exporter": "python",
   "pygments_lexer": "ipython3",
   "version": "3.8.10"
  }
 },
 "nbformat": 4,
 "nbformat_minor": 5
}
