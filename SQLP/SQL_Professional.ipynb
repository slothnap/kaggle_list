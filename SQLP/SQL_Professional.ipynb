{
 "cells": [
  {
   "cell_type": "markdown",
   "id": "a0813a05",
   "metadata": {},
   "source": [
    "# SQL 고급 활용 및 튜닝"
   ]
  },
  {
   "cell_type": "markdown",
   "id": "d8383aef",
   "metadata": {},
   "source": [
    "# 제 1장 아키텍처 기반 튜닝 원리"
   ]
  },
  {
   "cell_type": "markdown",
   "id": "3b094006",
   "metadata": {},
   "source": [
    "## 제1절 데이터베이스 아키텍처"
   ]
  },
  {
   "cell_type": "markdown",
   "id": "cda1d66d",
   "metadata": {},
   "source": [
    "## 1. 아키텍처 개관"
   ]
  },
  {
   "cell_type": "markdown",
   "id": "83833c0b",
   "metadata": {},
   "source": [
    "### 가. ORACLE 아키텍처"
   ]
  },
  {
   "cell_type": "markdown",
   "id": "8434b38a",
   "metadata": {},
   "source": [
    "- 데이터베이스 : 물리적인 디스크에 저장된 데이터집합 (데이터파일, 리두로그파일, 컨트롤파일)\n",
    "- 인스턴스 : 공유메모리(SGA)와 이를 엑세스하는 프로세스 집합\n",
    "\n",
    "#### 하나의 인스턴스는 하나의 데이터베이스를 액세스(Single)\n",
    "#### 여러개의 인스턴스는 하나의 데이터베이스를 엑세스(RAC)"
   ]
  },
  {
   "cell_type": "markdown",
   "id": "c700a198",
   "metadata": {},
   "source": [
    "### 나. SQL Server 아키텍처"
   ]
  },
  {
   "cell_type": "markdown",
   "id": "564a45f5",
   "metadata": {},
   "source": [
    "- 하나의 인스턴스당 최고 32,767개의 데이터베이스를 정의해서 사용\n",
    "- 기본적으로 시스템데이터베이스가 만들어지면, 사용자데이터베이스를 추가하여 생성하는 구조"
   ]
  },
  {
   "cell_type": "markdown",
   "id": "bc693339",
   "metadata": {},
   "source": [
    "- 시스템데이터베이스 : mster, model, msdb, tempdb 등\n",
    "- 사용자데이터베이스 : 데이터파일(mdf), 트랜잭션로그파일(ldf), 보조데이터파일(ndf)"
   ]
  },
  {
   "cell_type": "markdown",
   "id": "7ad82ac4",
   "metadata": {},
   "source": [
    "## 2. 프로세스"
   ]
  },
  {
   "cell_type": "markdown",
   "id": "b0b7df9e",
   "metadata": {},
   "source": [
    "- 서버프로세스 : 전면에 나서 사용자가 던지는 각종 명령을 처리\n",
    "- 백그라운드프로세스 : 뒤에서 묵묵히 주어진 역할을 수행"
   ]
  },
  {
   "cell_type": "markdown",
   "id": "38e7d31e",
   "metadata": {},
   "source": [
    "### 가. 서버프로세스(Server Process)"
   ]
  },
  {
   "cell_type": "markdown",
   "id": "e9d982e3",
   "metadata": {},
   "source": [
    "- 사용자 프로세스와 통신하면서 사용자의 각종 명령어 처리\n",
    "- ORACLE : 서버프로세스\n",
    "- SQL Server : Worker thread\n",
    "\n",
    "#### 처리절차\n",
    "- 사용자의 요청\n",
    "- SQL 파싱\n",
    "- 커서를 열어서 SQL을 실행하면서 블록 READ\n",
    "- 읽은 데이터를 정렬하여 요청한 결과집합을 만들어 네트워크를 통해 전송"
   ]
  },
  {
   "cell_type": "markdown",
   "id": "88abe4f3",
   "metadata": {},
   "source": [
    "#### 클라이언트가 서버프로세스와 연결하는 방식(예 오라클)"
   ]
  },
  {
   "cell_type": "markdown",
   "id": "2d1b4b1e",
   "metadata": {},
   "source": [
    "#### 전용서버 방식(Dedicated Server)\n",
    "- 클라이언트 세션과 서버프로세스가 1:1 로 매핑\n",
    "- 오라클의 가장 일반적인 방식\n",
    "- 클라이언트 요청에 의해 리스너 프로세스는 dedicated server 생성\n",
    "- 새로운 dedicated server 프로세스는 리스너에 의해 커넥션 권한을 상속받음\n",
    "- 데이터베이스와 물리적인 커넥션을 맺음\n",
    "\n",
    "\n",
    "1. (User)     연결요청                       ==> (Listener)\n",
    "2. (Listnenr) 프로세스 생성 및 연결요청 상속 ==> (Server)\n",
    "3. (Server)   RESEND 패킷 전송               ==> (User)\n",
    "4. (User)     연결 후 작업 요청              ==> (Server)\n",
    "5. (Server)   처리 후 결과 전송              ==> (User)\n",
    " "
   ]
  },
  {
   "cell_type": "markdown",
   "id": "373d6a4b",
   "metadata": {},
   "source": [
    "#### 공유서버 방식(Shared Server)\n",
    "- 클라이언트 세션과 서버프로세스가 1:N로 매핑\n",
    "- 클라이언트 요청에 의해 리스너 프로세스는 현재 사용가능한 dispatcher pool 탐색확인\n",
    "- 리스너는 사용가능한 dispatcher 커넥션 정보를 클라이언트에 되돌려줌\n",
    "- 클라이언트는 리스너 접속을 끝내고 바로 dispatcher로 접속\n",
    "\n",
    "1. (User) 연결요청 ==> (Listener)\n",
    "2. (Listener) 가용한 Dispatcher 포트번호 전송 ==> (User)\n",
    "3. (User) 연결 후 작업 요청 ==> (Dispatcher)\n",
    "4. (Dispatcher) 요청등록 ==> (SGA Request Queue)\n",
    "5. (SGA Request Queue) 요청접수 ==> (Server)\n",
    "6. (Server) 결과 등록 ==> (SGA Reponcse Queue)\n",
    "7. (SGA Reponcse Queue) 결과수렴 ==> (Dispatcher)\n",
    "8. (Dispatcher) 결과 전송 ==> (User)"
   ]
  },
  {
   "cell_type": "markdown",
   "id": "985885f0",
   "metadata": {},
   "source": [
    "### 나. 백그라운드프로세스"
   ]
  },
  {
   "cell_type": "markdown",
   "id": "b09fe3f9",
   "metadata": {},
   "source": [
    "####              오라클                 ==                       SQL SERVER\n",
    "**SMON(System Monitor) == Databese cleanup / Shrinking Thread**\n",
    "- 장애가 발생한 시스템을 재기동할 때 인스턴스 복구를 수행하고, 임시 세그먼트와 익스텐트를 모니터링한다.\n",
    "\n",
    "**PMON(Process Monitor) == Open data Services(OPS)**\n",
    "- 이상이 생긴 프로세스가 사용하던 리소스를 복구한다.\n",
    "\n",
    "**DBWn(Database Writers) == Lazywriter Thread**\n",
    "- 버퍼 캐시에 있는 더티 버퍼를 데이터 파일에 기록\n",
    "\n",
    "**LGWR(Log Writer) == Log writer Thread**\n",
    "- 로그 버퍼 엔트리를 redo 로그 파일에 기록한다.\n",
    "\n",
    "**ARCn(Archiver) == N/A**\n",
    "- 꽉찬 리두로그가 덮어 쓰여지기 전에 archive로그 디렉토리로 백업한다.\n",
    "\n",
    "**CKPT(Checkpoint) == Database Checkpoint Thread**\n",
    "- checkpoint 프로세스는 이전의 checkpoint가 일어났던 마지막 시점 이후의 데이터베이스 변경 사항을 데이터파일에 기록하도록  \n",
    "트리거링하고, 기록이 완료되면 현재 어디까지 기록했는지를 컨트롤 파일과 데이터 파일 헤더에 기록한다.\n",
    "- 좀더 자세히 설명하면 write Ahead Logging 방식을 사용하는 DBMS는 리두로그에 기록해 둔 버퍼 브록에 대한 변경사항 중\n",
    "현재 어디까지를 데이터 파일에 기록했는지 체크 포인트정보를 관리해야 한다.\n",
    "- 이는 버퍼캐시와 데이터 파일이 동기화된 시점을 가리키며, 장애가 발생하면 마지막 체크포인트 이후 로그 데이터만 디스크에 \n",
    "기록함으로써 인스턴스를 복구할 수 있도록 하는 용도로 사용된다.\n",
    "- 이 정보를 갱신하는 주기가 길수록 장애 발생시 인스턴스 복구 시간도 길어진다.\n",
    "\n",
    "**RECO(Recoverer) == Distributed Transaction Coordinator(DTC)**\n",
    "- 분산 트랜잭션 과정에 발생한 문제를 해결한다."
   ]
  },
  {
   "cell_type": "code",
   "execution_count": null,
   "id": "f1abc6f0",
   "metadata": {},
   "outputs": [],
   "source": []
  },
  {
   "cell_type": "code",
   "execution_count": null,
   "id": "7f009bf4",
   "metadata": {},
   "outputs": [],
   "source": []
  },
  {
   "cell_type": "code",
   "execution_count": null,
   "id": "ffcd623d",
   "metadata": {},
   "outputs": [],
   "source": []
  },
  {
   "cell_type": "code",
   "execution_count": null,
   "id": "b36c773e",
   "metadata": {},
   "outputs": [],
   "source": []
  },
  {
   "cell_type": "code",
   "execution_count": null,
   "id": "ed909425",
   "metadata": {},
   "outputs": [],
   "source": []
  },
  {
   "cell_type": "code",
   "execution_count": null,
   "id": "4a778dbc",
   "metadata": {},
   "outputs": [],
   "source": []
  },
  {
   "cell_type": "code",
   "execution_count": null,
   "id": "e4d4afc5",
   "metadata": {},
   "outputs": [],
   "source": []
  },
  {
   "cell_type": "code",
   "execution_count": null,
   "id": "73aa2bf4",
   "metadata": {},
   "outputs": [],
   "source": []
  },
  {
   "cell_type": "code",
   "execution_count": null,
   "id": "8802426e",
   "metadata": {},
   "outputs": [],
   "source": []
  },
  {
   "cell_type": "markdown",
   "id": "6e7a0001",
   "metadata": {},
   "source": [
    "## 제2절 SQL 파싱 부하"
   ]
  },
  {
   "cell_type": "markdown",
   "id": "6c7d7397",
   "metadata": {},
   "source": [
    "## 제3절 데이터베이스 Call과 네트워크 부하"
   ]
  },
  {
   "cell_type": "markdown",
   "id": "842cd878",
   "metadata": {},
   "source": [
    "## 제4절 데이터베이스 I/O 원리"
   ]
  },
  {
   "cell_type": "code",
   "execution_count": null,
   "id": "d240038f",
   "metadata": {},
   "outputs": [],
   "source": []
  }
 ],
 "metadata": {
  "kernelspec": {
   "display_name": "Python 3",
   "language": "python",
   "name": "python3"
  },
  "language_info": {
   "codemirror_mode": {
    "name": "ipython",
    "version": 3
   },
   "file_extension": ".py",
   "mimetype": "text/x-python",
   "name": "python",
   "nbconvert_exporter": "python",
   "pygments_lexer": "ipython3",
   "version": "3.8.10"
  }
 },
 "nbformat": 4,
 "nbformat_minor": 5
}
