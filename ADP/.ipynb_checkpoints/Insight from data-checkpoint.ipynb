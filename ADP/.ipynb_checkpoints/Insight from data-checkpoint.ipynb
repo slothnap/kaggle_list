{
 "cells": [
  {
   "cell_type": "markdown",
   "id": "55fbf2cf",
   "metadata": {},
   "source": [
    "# Value come from\n",
    "\n",
    "1. Define issues \n",
    "2. Design Research & Impl \n",
    "3. Data Handling & Analysis \n",
    "4. Extract Insights \n",
    "5. Ideation  \n",
    "6. Deliver thru Comm"
   ]
  },
  {
   "cell_type": "markdown",
   "id": "492aa654",
   "metadata": {},
   "source": [
    "# Value from Data - Cases"
   ]
  },
  {
   "cell_type": "markdown",
   "id": "c5cb63e0",
   "metadata": {},
   "source": [
    "## Typical Data set in Retail Industry\n",
    "- 구매일자: 2016-02-27\n",
    "- 구매시간: 14:07 pm\n",
    "- 구매품목: 하기스(12pcs)\n",
    "- 갯수: 5\n",
    "- 단가: 12,800"
   ]
  },
  {
   "cell_type": "markdown",
   "id": "791fad00",
   "metadata": {},
   "source": [
    "## Typical Customer Mgmt. Framework\n",
    "- 정규적 체계 (Process to Moniotring)\n",
    "    - 가치(Value) 관점 Frame\n",
    "        - 어떤 고객이 우리에게 중요한 고객인가? (단. 장기적 실적, 공헌이익, 활동성, 확산능력 등)\n",
    "    - 니즈(Needs) 관점 Frame \n",
    "        - 구매 패턴, 상품-매장-혜택 간 관계 등)\n",
    "    - Life-cycle 관점 Frame\n",
    "        - 자사와의 관계가 어느 정도로 진행되고 있는가? (A-A-R-R-R 등)\n",
    "    - Event 관점 Frame\n",
    "        - 고객이 특정 징후(Sighn)를 보일 때 우리는 어떤 대응으로 목표를 달성할 것인가? \n",
    "- 비정규적 체계 (Issue to Insight)\n",
    "    - 특정 필요에 대응 위한 Insight\n",
    "        - 특정 환경 변화/필요에 대응하는 의사결정을 위해 필요한 Insight는?\n",
    "    - 기회 발굴을 위한 고객 Insight \n",
    "        - (지속적 관리목적 외에) 혁신이나 차별화의 계기가 될 수 있는 고객 Insight는 무엇인가? "
   ]
  }
 ],
 "metadata": {
  "kernelspec": {
   "display_name": "Python 3",
   "language": "python",
   "name": "python3"
  },
  "language_info": {
   "codemirror_mode": {
    "name": "ipython",
    "version": 3
   },
   "file_extension": ".py",
   "mimetype": "text/x-python",
   "name": "python",
   "nbconvert_exporter": "python",
   "pygments_lexer": "ipython3",
   "version": "3.6.9"
  }
 },
 "nbformat": 4,
 "nbformat_minor": 5
}
