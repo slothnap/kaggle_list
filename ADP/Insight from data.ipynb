{
 "cells": [
  {
   "cell_type": "markdown",
   "id": "55fbf2cf",
   "metadata": {},
   "source": [
    "# Value come from\n",
    "\n",
    "1. Define issues \n",
    "2. Design Research & Impl \n",
    "3. Data Handling & Analysis \n",
    "4. Extract Insights \n",
    "5. Ideation  \n",
    "6. Deliver thru Comm"
   ]
  },
  {
   "cell_type": "markdown",
   "id": "492aa654",
   "metadata": {},
   "source": [
    "# Value from Data - Cases"
   ]
  },
  {
   "cell_type": "markdown",
   "id": "c5cb63e0",
   "metadata": {},
   "source": [
    "## Typical Data set in Retail Industry\n",
    "- 구매일자: 2016-02-27\n",
    "- 구매시간: 14:07 pm\n",
    "- 구매품목: 하기스(12pcs)\n",
    "- 갯수: 5\n",
    "- 단가: 12,800"
   ]
  },
  {
   "cell_type": "markdown",
   "id": "791fad00",
   "metadata": {},
   "source": [
    "## Typical Customer Mgmt. Framework\n",
    "- 정규적 체계 (Process to Moniotring)\n",
    "    - 가치(Value) 관점 Frame\n",
    "        - 어떤 고객이 우리에게 중요한 고객인가? (단. 장기적 실적, 공헌이익, 활동성, 확산능력 등)\n",
    "    - 니즈(Needs) 관점 Frame \n",
    "        - 구매 패턴, 상품-매장-혜택 간 관계 등)\n",
    "    - Life-cycle 관점 Frame\n",
    "        - 자사와의 관계가 어느 정도로 진행되고 있는가? (A-A-R-R-R 등)\n",
    "    - Event 관점 Frame\n",
    "        - 고객이 특정 징후(Sighn)를 보일 때 우리는 어떤 대응으로 목표를 달성할 것인가? \n",
    "- 비정규적 체계 (Issue to Insight)\n",
    "    - 특정 필요에 대응 위한 Insight\n",
    "        - 특정 환경 변화/필요에 대응하는 의사결정을 위해 필요한 Insight는?\n",
    "    - 기회 발굴을 위한 고객 Insight \n",
    "        - (지속적 관리목적 외에) 혁신이나 차별화의 계기가 될 수 있는 고객 Insight는 무엇인가? "
   ]
  },
  {
   "cell_type": "markdown",
   "id": "82ce179b",
   "metadata": {},
   "source": [
    "## Typical Customer Mgmt. Framework \n",
    "\n",
    "- Needs -> Value\n",
    "    - 니즈를 안다해도, 충족시킬 가치가 있는가? \n",
    "- Needs <- Value\n",
    "    - 동일하게 '가치'가 높다해도, 서로 '니즈'가 다르면? \n",
    "- Life-cycle\n",
    "    - 단계별 니즈/가치에 따라 어떤 이행 전략이 효과적? "
   ]
  },
  {
   "cell_type": "markdown",
   "id": "aa84c9a3",
   "metadata": {},
   "source": [
    "## Typical Usage \n",
    "-> 고객(군)별 니즈 파악  \n",
    "-> 니즈 변화에 대한 대응       Needs        -> MID 상품 Sourcing시 Value 높은 고객의 Needs 활용  \n",
    "-> 제휴 마케팅에 활용   \n",
    "\n",
    "-> 우수 고객 차등 관리   \n",
    "-> 고객 우량화 방향(안)        Value        -> 신규안착, 우량화 등에 대상고객 Needs 활용으로 효과 제고  \n",
    "\n",
    "-> 신규안착, 우량화  \n",
    "-> 이탈징후 방지, 휴면 활성화  Life-cycle   ->  신규안착, 이탈방지/휴면활성화 등 캠페인시 '가치'를 고려, 예산/범위 효율화 가능   "
   ]
  },
  {
   "cell_type": "markdown",
   "id": "f0e1b5b8",
   "metadata": {},
   "source": [
    "## Data Utilization - Behavioral-based\n",
    "- '대답'으로 거짓을 말할 수도 있지만, \n",
    "- '행동'으로 (지속적) 거짓을 행하기는 어렵다   \n",
    "... 다만, 상충되(어보이)는 행동이 존재할 뿐이다. \n",
    "\n",
    "- 현행 고객 정보\n",
    "    - 연령, 성별, 직업 등 \n",
    "    - 보유 정보만으로 고객 특성 판단이 어려움 \n",
    "- 거래 정보 \n",
    "    - 주유량 (평균, 1회 최대 등), 주유 금액, 주유 유종\n",
    "    - Behavaior 데이터를 기반으로 고객의 특성을 추정 "
   ]
  },
  {
   "cell_type": "markdown",
   "id": "523f95cb",
   "metadata": {},
   "source": [
    "# Interpretation"
   ]
  },
  {
   "cell_type": "markdown",
   "id": "7666750e",
   "metadata": {},
   "source": [
    "## Base Analysis - 분포 파악\n",
    "- 분석 방법\n",
    "    - Frequency 분석\n",
    "    - Distribution 분석"
   ]
  },
  {
   "cell_type": "markdown",
   "id": "edff0415",
   "metadata": {},
   "source": [
    "## Base Analysis - Frequency 분석\n",
    "    - Frequency Analysis _ Uni-variate (One-dimensional)\n",
    "    - 가설 1: SO WOOL 구매 고객은 프리미엄 의류상품이므로, 경제력 있는 4~50대의 비중이 높을 것임\n",
    "    - Categorical Variable (범주형 변수)\n",
    "        - ex) 육면체 주사위 굴리기: 가능한 결과는 1,2,3,4,5 또는 6입니다."
   ]
  },
  {
   "cell_type": "markdown",
   "id": "4a32e390",
   "metadata": {},
   "source": [
    "## Base Analysis - Distribution 분석\n",
    "    - Distribution Analysis _ Uni-variate (One-dimensional)\n",
    "    - 가설: A 상품 구매고객 중, 고매출 고객 비중이 높음 \n",
    "             (7만원 이상의 주문 고객이 20% 이상임)\n",
    "        - 구개 고객의 평균 매출은 47,000원 정도임\n",
    "        - Max값이 772,649로 95,975, 99% Quantile에 비해 극단적으로 큼 \n",
    "        - 평균값의 대표성에 문제 발생 가능\n",
    "    - Continuous Variable (연속형 변수)\n",
    "        - 대상들에 대해 측정하면 대상들이 서로 연속된 값을 갖게 하는 경우에 대한 변수  \n",
    "        - 대상이 갖는 값은 정해진 범위 안의 모든 실수일 수 있다. "
   ]
  }
 ],
 "metadata": {
  "kernelspec": {
   "display_name": "Python 3",
   "language": "python",
   "name": "python3"
  },
  "language_info": {
   "codemirror_mode": {
    "name": "ipython",
    "version": 3
   },
   "file_extension": ".py",
   "mimetype": "text/x-python",
   "name": "python",
   "nbconvert_exporter": "python",
   "pygments_lexer": "ipython3",
   "version": "3.6.9"
  }
 },
 "nbformat": 4,
 "nbformat_minor": 5
}
