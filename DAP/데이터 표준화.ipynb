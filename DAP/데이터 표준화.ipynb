{
 "cells": [
  {
   "cell_type": "markdown",
   "id": "9d6883d6",
   "metadata": {},
   "source": [
    "# 데이터 표준화"
   ]
  },
  {
   "cell_type": "markdown",
   "id": "c988af98",
   "metadata": {},
   "source": [
    "## 데이터 표준화 개요"
   ]
  },
  {
   "cell_type": "markdown",
   "id": "b8700324",
   "metadata": {},
   "source": [
    "## 데이터 표준화 필요성"
   ]
  },
  {
   "cell_type": "markdown",
   "id": "c84237b6",
   "metadata": {},
   "source": [
    "## 데이터 표준 개념"
   ]
  },
  {
   "cell_type": "markdown",
   "id": "39c3bee9",
   "metadata": {},
   "source": [
    "## 데이터 표준 관리 도구"
   ]
  },
  {
   "cell_type": "markdown",
   "id": "21f1eb17",
   "metadata": {},
   "source": [
    "# 데이터 표준 수립"
   ]
  },
  {
   "cell_type": "markdown",
   "id": "b11fd904",
   "metadata": {},
   "source": [
    "## 데이터 표준화 원칙 정의"
   ]
  },
  {
   "cell_type": "markdown",
   "id": "d1fae928",
   "metadata": {},
   "source": [
    "## 데이터 표준 정의"
   ]
  },
  {
   "cell_type": "markdown",
   "id": "1faf7b77",
   "metadata": {},
   "source": [
    "## 데이터 표준 확정"
   ]
  },
  {
   "cell_type": "markdown",
   "id": "34ca5ffa",
   "metadata": {},
   "source": [
    "# 데이터 표준 관리"
   ]
  },
  {
   "cell_type": "markdown",
   "id": "e198db7a",
   "metadata": {},
   "source": [
    "## 데이터 표준 관리"
   ]
  },
  {
   "cell_type": "markdown",
   "id": "5b6aa885",
   "metadata": {},
   "source": [
    "## 데이터 표준 관리 프로세스"
   ]
  },
  {
   "cell_type": "markdown",
   "id": "26a30fb2",
   "metadata": {},
   "source": [
    "과목 3 데이터 표준화    \n",
    "\t제 1장 데이터 표준화 개요   \n",
    "\t\t제 1절 데이터 표준화 필요성   \n",
    "\t\t\t- 데이터 관리 현황 및 개선 방안    \n",
    "\t\t\t\t- 데이터 활용상의 문제점    \n",
    "\t\t\t\t- 데이터 문제점의 원인    \n",
    "\t\t\t\t- 데이터 관리 개선 방안    \n",
    "\t\t\t- 데이터 표준화 기대효과    \n",
    "\t\t\t\t- 기대효과    \n",
    "\t\t\t\t\t- 명칭의 통일로 인한 명확한 의사소통의 증대    \n",
    "\t\t\t\t\t- 필요한 데이터의 소재 파악에 소요되는 시간 및 노력 감소   \n",
    "\t\t\t\t\t- 일관된 데이터 형식 및 규칙의 적용으로 인한 데이터 품질 향상    \n",
    "\t\t\t\t\t- 정보시스템 간 데이터 인터페이스 시 데이터 변환, 정제 비용 감소    \n",
    "\t\t제 2절 데이터 표준화 개념    \n",
    "\t\t\t- 데이터 표준화 정의    \n",
    "\t\t\t\t- 데이터 명칭    \n",
    "\t\t\t\t- 데이터 정의    \n",
    "\t\t\t\t- 데이터 형식    \n",
    "\t\t\t\t\t- 도메인을 정의하여 데이터 표준에 적용함으로써 성격이 유사한 데이터 간의 데이터 형식을 통일화 한다.   \n",
    "\t\t\t\t\t- 데이터의 최대값 또는 최대 길이가 고정되어 있지 않을 경우 충분히 여유있게 정의한다.   \n",
    "\t\t\t\t\t- 특수 데이터 타입(CLOB, Long Raw 등)은 데이터 조회, 백업, 이행 등에 있어서 제약 사항이 존재하는 경우가 많기 때문에 가급적 사용하지 않는다.   \n",
    "\t\t\t\t- 데이터 규칙    \n",
    "\t\t\t- 데이터 표준화 구성요소    \n",
    "\t\t\t\t- 데이터 표준    \n",
    "\t\t\t\t- 데이터 표준 관리 조직   \n",
    "\t\t\t\t- 데이터 표준화 절차   \n",
    "\t\t제 3절 데이터 표준 관리 도구   \n",
    "\t\t\t- 확장된 데이터 표준 관리 도구의 기능   \n",
    "\t\t\t- 데이터 표준 관리 시스템 기능    \n",
    "\t\t\t\t- 데이터 표준 관리 기능   \n",
    "\t\t\t\t\t- '데이터 사전'   \n",
    "\t\t\t\t- 데이터 구조 관리 기능   \n",
    "\t\t\t\t\t- 'DA# ERD'   \n",
    "\t\t\t\t- 프로세스 관리 기능    \n",
    "\t\t\t\t\t- 'META'   \n",
    "\t\t\t- 데이터 표준 관리 시스템 도입시 고려사항   \n",
    "\n",
    "   \t제 2장 데이터 표준화 원칙 정의   \n",
    "\t\t제 1절 데이터 표준화 원칙 정의    \n",
    "\t\t\t- 데이터 표준화 요구 사항 수립   \n",
    "\t\t\t- 현행 데이터 표준 원칙 분석   \n",
    "\t\t\t\t- 현행 데이터 표준 원칙 수집   \n",
    "\t\t\t\t- 데이터 표준 원칙 사용 현황 분석   \n",
    "\t\t\t- 데이터 표준 개선 방안 정의    \n",
    "\t\t\t- 데이터 표준 원칙 수립    \n",
    "\t\t\t\t- 데이터 표준 기본 원칙 정의    \n",
    "\t\t\t\t- 데이터 표준 지침 작성    \n",
    "\t\t제 2절 데이터 표준 정의    \n",
    "\t\t\t- 표준 단어(Word) 사전 정의    \n",
    "\t\t\t\t- 표준 단어 사전   \n",
    "\t\t\t\t- 표준 단어 정의    \n",
    "\t\t\t\t- 표준 단어 정의시 고려사항    \n",
    "\t\t\t- 표준 도메인(Domain) 사전 정의    \n",
    "\t\t\t\t- 표준 도메인 사전   \n",
    "\t\t\t\t- 표준 도메인 정의   \n",
    "\t\t\t\t- 표준 도메인 정의시 고려사항   \n",
    "\t\t\t- 표준 코드(Code) 사전 정의    \n",
    "\t\t\t\t- 표준 코드 사전   \n",
    "\t\t\t\t- 표준 코드 정의    \n",
    "\t\t\t\t- 표준 코드 활용    \n",
    "\t\t\t\t- 표준 코드 정의시 고려사항   \n",
    "\t\t\t- 표준 용어 사전 정의    \n",
    "\t\t\t\t- 표준 용어 사전    \n",
    "\t\t\t\t- 표준 용어 정의    \n",
    "\t\t\t\t- 표준 용어 정의시 고려사항   \n",
    "\t\t제 3절 데이터 표준 확정    \n",
    "\t\t\t- 데이터 표준 검토    \n",
    "\t\t\t\t- 데이터 표준 검토 계획 수립   \n",
    "\t\t\t\t- 데이터 표준 검토   \n",
    "\t\t\t\t- 데이터 표준 보완 및 승인    \n",
    "\t\t\t- 데이터 표준 공표    \n",
    "\t\t\t\t- 데이터 표준 배포    \n",
    "\t\t\t\t- 데이터 표준 교육   \n",
    "\n",
    "   \t제 3장 데이터 표준 관리   \n",
    "\t\t제 1절 데이터 표준 관리   \n",
    "\t\t\t- 데이터 표준 관리 개요   \n",
    "\t\t\t- 데이터 표준 관리 프로세스 유형   \n",
    "\t\t제 2절 데이터 표준 관리 프로세스    \n",
    "\t\t\t- 데이터 표준 관리 프로세스 구성요소    \n",
    "\t\t\t- 구성요소별 설명    \n",
    "\t\t\t\t- 프로세스    \n",
    "\t\t\t\t- 태스크    \n",
    "\t\t\t\t- 역할과 담당 업무   \n",
    "\n",
    "    \n",
    "   "
   ]
  },
  {
   "cell_type": "markdown",
   "id": "c01cf278",
   "metadata": {},
   "source": [
    "데이터 1 정규화에 따르면 속성은 원자성을 가지면서 중복값을 가지면 안된다. "
   ]
  },
  {
   "cell_type": "code",
   "execution_count": null,
   "id": "2ec1ebff",
   "metadata": {},
   "outputs": [],
   "source": []
  }
 ],
 "metadata": {
  "kernelspec": {
   "display_name": "Python 3",
   "language": "python",
   "name": "python3"
  },
  "language_info": {
   "codemirror_mode": {
    "name": "ipython",
    "version": 3
   },
   "file_extension": ".py",
   "mimetype": "text/x-python",
   "name": "python",
   "nbconvert_exporter": "python",
   "pygments_lexer": "ipython3",
   "version": "3.6.9"
  }
 },
 "nbformat": 4,
 "nbformat_minor": 5
}
