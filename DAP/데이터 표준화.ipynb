{
 "cells": [
  {
   "cell_type": "markdown",
   "id": "9d6883d6",
   "metadata": {},
   "source": [
    "# 데이터 표준화"
   ]
  },
  {
   "cell_type": "markdown",
   "id": "c988af98",
   "metadata": {},
   "source": [
    "## 데이터 표준화 개요"
   ]
  },
  {
   "cell_type": "markdown",
   "id": "b8700324",
   "metadata": {},
   "source": [
    "## 데이터 표준화 필요성"
   ]
  },
  {
   "cell_type": "markdown",
   "id": "c84237b6",
   "metadata": {},
   "source": [
    "## 데이터 표준 개념"
   ]
  },
  {
   "cell_type": "markdown",
   "id": "39c3bee9",
   "metadata": {},
   "source": [
    "## 데이터 표준 관리 도구"
   ]
  },
  {
   "cell_type": "markdown",
   "id": "21f1eb17",
   "metadata": {},
   "source": [
    "# 데이터 표준 수립"
   ]
  },
  {
   "cell_type": "markdown",
   "id": "b11fd904",
   "metadata": {},
   "source": [
    "## 데이터 표준화 원칙 정의"
   ]
  },
  {
   "cell_type": "markdown",
   "id": "d1fae928",
   "metadata": {},
   "source": [
    "## 데이터 표준 정의"
   ]
  },
  {
   "cell_type": "markdown",
   "id": "1faf7b77",
   "metadata": {},
   "source": [
    "## 데이터 표준 확정"
   ]
  },
  {
   "cell_type": "markdown",
   "id": "34ca5ffa",
   "metadata": {},
   "source": [
    "# 데이터 표준 관리"
   ]
  },
  {
   "cell_type": "markdown",
   "id": "e198db7a",
   "metadata": {},
   "source": [
    "## 데이터 표준 관리"
   ]
  },
  {
   "cell_type": "markdown",
   "id": "5b6aa885",
   "metadata": {},
   "source": [
    "## 데이터 표준 관리 프로세스"
   ]
  }
 ],
 "metadata": {
  "kernelspec": {
   "display_name": "Python 3",
   "language": "python",
   "name": "python3"
  },
  "language_info": {
   "codemirror_mode": {
    "name": "ipython",
    "version": 3
   },
   "file_extension": ".py",
   "mimetype": "text/x-python",
   "name": "python",
   "nbconvert_exporter": "python",
   "pygments_lexer": "ipython3",
   "version": "3.6.9"
  }
 },
 "nbformat": 4,
 "nbformat_minor": 5
}
