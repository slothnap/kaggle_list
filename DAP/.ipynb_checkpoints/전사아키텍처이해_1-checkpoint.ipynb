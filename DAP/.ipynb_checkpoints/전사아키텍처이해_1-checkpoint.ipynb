{
 "cells": [
  {
   "cell_type": "markdown",
   "metadata": {},
   "source": [
    "# 전사아키텍처개요"
   ]
  },
  {
   "cell_type": "markdown",
   "metadata": {},
   "source": [
    "## 전사아키텍처 정의"
   ]
  },
  {
   "cell_type": "markdown",
   "metadata": {},
   "source": [
    "## 전사이케턱처 프레임워크"
   ]
  },
  {
   "cell_type": "markdown",
   "metadata": {},
   "source": [
    "## 전사아키텍처 참조 모델"
   ]
  },
  {
   "cell_type": "markdown",
   "metadata": {},
   "source": [
    "## 전사아키텍처 프로세스"
   ]
  },
  {
   "cell_type": "markdown",
   "metadata": {},
   "source": [
    "# 전사아키텍처 구축"
   ]
  },
  {
   "cell_type": "markdown",
   "metadata": {},
   "source": [
    "## 전사아키텍처 방향 수립"
   ]
  },
  {
   "cell_type": "markdown",
   "metadata": {},
   "source": [
    "## 전사아키텍처 정보 구성 정의"
   ]
  },
  {
   "cell_type": "markdown",
   "metadata": {},
   "source": [
    "## 전사아키텍처 정보 구축"
   ]
  },
  {
   "cell_type": "markdown",
   "metadata": {},
   "source": [
    "# 전사아키텍처 관리 및 활용 "
   ]
  },
  {
   "cell_type": "markdown",
   "metadata": {},
   "source": [
    "## 전사아키텍처 관리 체계"
   ]
  },
  {
   "cell_type": "markdown",
   "metadata": {},
   "source": [
    "## 전사아키텍처 관리 시스템"
   ]
  },
  {
   "cell_type": "markdown",
   "metadata": {},
   "source": [
    "## 전사아키텍처 활용"
   ]
  },
  {
   "cell_type": "markdown",
   "metadata": {},
   "source": [
    "과목 1 전사아키텍처 이해    \n",
    "\t제 1장 전사아키텍처와 데이터아키텍처   \n",
    "\t\t 제 1절 전사아키텍처 정의    \n",
    "\t\t \t- 전사아키텍처 개념    \n",
    "\t\t \t\t- 전사아키텍처 도입 배경   \n",
    "\t\t \t\t- 전사아키텍처 정의    \n",
    "\t\t \t\t- 전사개념    \n",
    "\t\t \t\t- 아키텍처 개념   \n",
    "\t \t\t- 전사아키텍처 추진 현황    \n",
    "\t \t\t- 전사아키텍처 관련 데이터아키텍처 전문가 역할   \n",
    "\t\t 제 2절 전사아키텍처 프레임워크   \n",
    "\t\t \t- 전사아키텍처 프레임워크 개념   \n",
    "\t\t \t- 전사아키텍처 프레임워크 구성   \n",
    "\t\t \t\t- 전사아키텍처 정책   \n",
    "\t\t \t\t- 전사아키텍처 정보   \n",
    "\t\t \t\t\t- '비즈니스 아키텍처'   \n",
    "\t\t \t\t\t\t- 조직의 목적 및 임무 지원을 위해 업무를 관리   \n",
    "\t\t \t\t\t- '데이터 아키텍처'   \n",
    "\t\t \t\t\t\t- 효과 적인 업무 처리 및 의사결정을 위한 정보 관리    \n",
    "\t\t \t\t\t- '애플리케이션 아키텍처'   \n",
    "\t\t \t\t\t\t- 조직의 임무를 수행하는데 필요한 애플리케이션 관리   \n",
    "\t\t \t\t\t- '기술 아키텍처'   \n",
    "\t\t \t\t\t\t- 비즈니스, 데이터, 애플리케이션 아키텍처 구성을 위한 기술 인프라 관리   \n",
    " \t\t\t\t- 전사아키텍처 관리    \n",
    "\t\t\t- 아키텍처 도메인 구성   \n",
    "\t\t\t\t- 비즈니스 아키텍처    \n",
    "\t\t\t\t\t- 기업 업무 구조를 체계화   \n",
    "\t\t\t\t- 애플리케이션 아키텍처    \n",
    "\t\t\t\t\t- 기업 업무 애플리케이션 구조를 체계화   \n",
    "\t\t\t\t- 데이터 아키텍처    \n",
    "\t\t\t\t\t- 기업 업무 데이터의 구조를 체계화   \n",
    "\t\t\t\t- 기술 아키텍처    \n",
    "\t\t\t\t\t- 기업 업무 기술 인프라 체계화    \n",
    "\t\t\t\t\t- 하드웨어, 시스템 소프트웨어, 통신 네트워크, 시스템 개발도구   \n",
    "\t\t\t- 전사아키텍처 프레임워크 사례    \n",
    "\t\t 제 3절 전사아키텍처 참조모델   \n",
    "\t\t \t- 참조 모델 정의    \n",
    "\t\t \t\t- 참조 모델 개념   \n",
    "\t\t \t\t- 참조 모델 현황   \n",
    "\t\t \t\t- 참조 모델 구축 방법    \n",
    "\t \t\t- 참조 모델 사례     \n",
    "\t \t\t\t- '업무 참조 모델'    \n",
    "\t \t\t\t\t- 특정 기관의 독립적인 업무 기능을 중심으로 정의한 참조 모델   \n",
    " \t\t\t\t- '서비스 참조 모델'    \n",
    " \t\t\t\t\t- 업무 수행과 목표 달성을 지원하는 서비스 요소를 분류 참조 모델    \n",
    "\t\t\t\t- '기술 참조 모델'   \n",
    "\t\t\t\t\t- 업무와 서비스 구성 요소의 전달, 구축을 지원해 주는 표준, 명세, 기술 요소를 기술   \n",
    "\t\t\t\t- '데이터 참조 모델'    \n",
    "\t\t\t\t\t- 기관 간의 공통 정보 파악과 활용을 지원하기 위한 모델   \n",
    "\t\t\t\t- '성과 참조 모델'   \n",
    "\t\t\t\t\t- 정보화 성과 관리를 위한 구성 요소와 관계를 정의   \n",
    "\t\t\t- 참조 모델 활용   \n",
    "\t\t 제 4절 전사아키텍처 프로세스   \n",
    "\t\t \t- 전사아키텍처 프로세스 개요    \n",
    "\t\t \t- 전사아키텍처 프로세스 구성   \n",
    "\t\t   \n",
    "\t제 2장 전사아키텍처 구축    \n",
    "\t\t제 1절 전사아키텍처 방향 수립    \n",
    "\t\t\t- 전사아키텍처 정보 구성 정의    \n",
    "\t\t \t- 전사아키텍처 환경 분석   \n",
    "\t\t \t- 전사아키텍처 구축 방향 정의    \n",
    "\t\t \t\t- 목적 및 범위 정의    \n",
    "\t\t \t\t- 전사아키텍처 비전 수립    \n",
    "\t\t \t\t- 전사아키텍처 프레임워크 정의   \n",
    "\t\t제 2절 전사아키텍처 정보 구성 정의   \n",
    "\t\t제 3절 전사아키텍처 정보 구축    \n",
    "\n",
    "   \t제 3장 전사아키텍처 관리 및 활용    \n",
    "\t\t제 1절 전사아키텍처 관리 체계   \n",
    "\t\t제 2절 전사아키텍처 관리 시스템   \n",
    "\t\t제 3절 전사아키텍처 활용    \n",
    "    \n",
    "    \n",
    "   "
   ]
  },
  {
   "cell_type": "markdown",
   "metadata": {},
   "source": [
    "전사 아키텍처의 정의"
   ]
  },
  {
   "cell_type": "code",
   "execution_count": null,
   "metadata": {},
   "outputs": [],
   "source": []
  }
 ],
 "metadata": {
  "kernelspec": {
   "display_name": "Python 3",
   "language": "python",
   "name": "python3"
  },
  "language_info": {
   "codemirror_mode": {
    "name": "ipython",
    "version": 3
   },
   "file_extension": ".py",
   "mimetype": "text/x-python",
   "name": "python",
   "nbconvert_exporter": "python",
   "pygments_lexer": "ipython3",
   "version": "3.6.9"
  }
 },
 "nbformat": 4,
 "nbformat_minor": 2
}
