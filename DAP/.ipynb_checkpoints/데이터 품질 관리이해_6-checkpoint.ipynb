{
 "cells": [
  {
   "cell_type": "markdown",
   "id": "d3716e95",
   "metadata": {},
   "source": [
    " # 데이터 이해"
   ]
  },
  {
   "cell_type": "markdown",
   "id": "86a77996",
   "metadata": {},
   "source": [
    "## 데이터 품질 관리 프레임워크"
   ]
  },
  {
   "cell_type": "markdown",
   "id": "a0df48c2",
   "metadata": {},
   "source": [
    "## 표준 데이터 "
   ]
  },
  {
   "cell_type": "markdown",
   "id": "f666f674",
   "metadata": {},
   "source": [
    "## 모델 데이터 "
   ]
  },
  {
   "cell_type": "markdown",
   "id": "bbf925eb",
   "metadata": {},
   "source": [
    "## 관리 데이터 "
   ]
  },
  {
   "cell_type": "markdown",
   "id": "cc93de43",
   "metadata": {},
   "source": [
    "## 업무 데이터 "
   ]
  },
  {
   "cell_type": "markdown",
   "id": "3f171408",
   "metadata": {},
   "source": [
    "# 데이터 구조 이해 "
   ]
  },
  {
   "cell_type": "markdown",
   "id": "78176a4d",
   "metadata": {},
   "source": [
    "## 개념 데이터 모델"
   ]
  },
  {
   "cell_type": "markdown",
   "id": "7ede7174",
   "metadata": {},
   "source": [
    "## 데이터 참조 모델 "
   ]
  },
  {
   "cell_type": "markdown",
   "id": "d1f78783",
   "metadata": {},
   "source": [
    "## 논리 데이터 모델 "
   ]
  },
  {
   "cell_type": "markdown",
   "id": "e3ff49bf",
   "metadata": {},
   "source": [
    "## 물리 데이터 모델 "
   ]
  },
  {
   "cell_type": "markdown",
   "id": "06876a7e",
   "metadata": {},
   "source": [
    "## 데이터베이스 "
   ]
  },
  {
   "cell_type": "markdown",
   "id": "8f9e1bab",
   "metadata": {},
   "source": [
    "## 사용자 뷰 "
   ]
  },
  {
   "cell_type": "markdown",
   "id": "50c2739f",
   "metadata": {},
   "source": [
    "# 데이터 관리 프로세스 이해 "
   ]
  },
  {
   "cell_type": "markdown",
   "id": "0f37f84d",
   "metadata": {},
   "source": [
    "## 데이터 관리 정책 "
   ]
  },
  {
   "cell_type": "markdown",
   "id": "c572c54d",
   "metadata": {},
   "source": [
    "## 데이터 표준 관리 "
   ]
  },
  {
   "cell_type": "markdown",
   "id": "9041426c",
   "metadata": {},
   "source": [
    "## 요구 사항 관리 "
   ]
  },
  {
   "cell_type": "markdown",
   "id": "e2f45076",
   "metadata": {},
   "source": [
    "## 데이터 모델 관리 "
   ]
  },
  {
   "cell_type": "markdown",
   "id": "79b8f72a",
   "metadata": {},
   "source": [
    "## 데이터 흐름 관리 "
   ]
  },
  {
   "cell_type": "markdown",
   "id": "f637d425",
   "metadata": {},
   "source": [
    "## 데이터베이스 관리 "
   ]
  },
  {
   "cell_type": "markdown",
   "id": "53a14c8c",
   "metadata": {},
   "source": [
    "## 데이터 활용 관리 "
   ]
  }
 ],
 "metadata": {
  "kernelspec": {
   "display_name": "Python 3",
   "language": "python",
   "name": "python3"
  },
  "language_info": {
   "codemirror_mode": {
    "name": "ipython",
    "version": 3
   },
   "file_extension": ".py",
   "mimetype": "text/x-python",
   "name": "python",
   "nbconvert_exporter": "python",
   "pygments_lexer": "ipython3",
   "version": "3.6.9"
  }
 },
 "nbformat": 4,
 "nbformat_minor": 5
}
