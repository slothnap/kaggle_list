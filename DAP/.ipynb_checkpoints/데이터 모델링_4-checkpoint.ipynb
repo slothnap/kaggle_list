{
 "cells": [
  {
   "cell_type": "markdown",
   "id": "95fa8b84",
   "metadata": {},
   "source": [
    "# 데이터 모델링 이해"
   ]
  },
  {
   "cell_type": "markdown",
   "id": "607fb05c",
   "metadata": {},
   "source": [
    "## 데이터 모델링 개요\n",
    "- 데이터 모델링 정의 \n",
    "    - 데이터 모델링 탄생 배경\n",
    "    - 모델 정의\n",
    "    - 모델링 정의 \n",
    "    - 데이터 모델이 제공하는 것\n",
    "- 데이터 모델링 필요성\n",
    "    - 애플리케이션과 데이터의 통합\n",
    "    - 개발자들의 시스템 이해\n",
    "    - 데이터 모델링시 주의점 \n",
    "- 데이터 모델링 단계 \n",
    "    - 개념 데이터 모델링 (Conceptual Data Modeling)\n",
    "    - 논리 데이터 모델링 (Logical Data Modeling)\n",
    "    - 물리 데이터 모델링 (Physical Data Modeling)\n",
    "- 모델링 기본원칙 \n",
    "    - 커뮤니케이션 원칙(Communication Principle)\n",
    "    - 모델링 상세화 원칙(Granularity Principle)\n",
    "    - 논리적 표현 원칙 \n",
    "- 좋은 데이터 모델의 요소\n",
    "    - 완전성\n",
    "    - 중복 배제\n",
    "    - 비즈니스 룰\n",
    "    - 데이터 재사용\n",
    "    - 안정성 및 확장성\n",
    "    - 간결성\n",
    "    - 의사소통\n",
    "    - 통합성"
   ]
  },
  {
   "cell_type": "markdown",
   "id": "4dd267a0",
   "metadata": {},
   "source": [
    "## 데이터 모델링 기법 이해 \n",
    "- 데이터 모델 목적\n",
    "- 개체-관계 모델 기법(Entity-Relationship Modeling)\n",
    "- 개체-관계 모델 구성 요소\n",
    "    - 엔터티(Entity)\n",
    "    - 속성(Attribute)\n",
    "    - 식별자\n",
    "    - 관계(Relationship)\n",
    "    - 카디날리티(Cardinality)\n",
    "    - 존재 종속 \n",
    "    - 서브타입 \n",
    "    - 객체지향 모델링(Object-Oriented Modeling)\n",
    "    - 객체지향 개념\n",
    "    - 객체 모형\n",
    "    - 객체 모형 데이터\n",
    "    - 객체 모형의 메소드\n",
    "    - 불명료한 객체 접근 방식\n",
    "    - 객체지향 모델링과 논리 데이터 모델링간의 관계\n",
    "    - 객체지향 모델링 장점"
   ]
  },
  {
   "cell_type": "markdown",
   "id": "a0318d1b",
   "metadata": {},
   "source": [
    "## 데이터 모델링 표기법 이해 \n",
    "- 바커 표기법(Baker Notation)\n",
    "    - 엔터티(Entity)\n",
    "    - 속성(Attribute)\n",
    "    - 관계(Relationship)\n",
    "    - 식별자(Unique Identifier)\n",
    "    - 서브타입(Sub-type)\n",
    "    - 관계의 표현 비교\n",
    "- I/E 표기법(Information Engineering Notation)\n",
    "    - 엔터티(Entity)\n",
    "    - 속성(Attribute)\n",
    "    - 관계(Relationship)\n",
    "    - 식별자(Unique Identifier)\n",
    "    - 서브타입(Sub-type)"
   ]
  },
  {
   "cell_type": "markdown",
   "id": "6d75217d",
   "metadata": {},
   "source": [
    "# 개념 데이터 모델링 "
   ]
  },
  {
   "cell_type": "markdown",
   "id": "2b01ae60",
   "metadata": {},
   "source": [
    "## 개념 데이터 모델링 이해\n",
    "- 개념 데이터 모델 정의\n",
    "- 개념 데이터 모델 의의\n",
    "- 데이터아키텍처 프레임워크 상에서 개념 데이터 모델"
   ]
  },
  {
   "cell_type": "markdown",
   "id": "ccd48b1b",
   "metadata": {},
   "source": [
    "## 주제 영역 정의 \n",
    "- 주제 영역 개념\n",
    "- 주제 영역 분류 원칙 및 기준\n",
    "    - 주제 영역 분류 원칙\n",
    "    - 주제 영역 분류 기준\n",
    "    - 주제 영역 명명\n",
    "    - 주제 영역 분류 방법\n",
    "- 주제 영역 활용\n",
    "    - 목적\n",
    "    - 장점  \n",
    "- 주제 영역 도출\n",
    "    - 업무에서 사용하는 데이터의 명사형 도출\n",
    "    - 업무 기능의 이름으로부터 도출 \n",
    "    - 하향식(Top-down) 접근 방법\n",
    "    - 상향식(Bottom-up) 접근 방법\n",
    "    - 분석 단계에서의 도출\n",
    "- 주제 영역 정의 내용 \n",
    "    - 주제 영역 목록\n",
    "    - 주제 영역 정의서 샘플 양식"
   ]
  },
  {
   "cell_type": "markdown",
   "id": "a254adea",
   "metadata": {},
   "source": [
    "## 후보 엔티티 선정 \n",
    "- 개념 \n",
    "- 엔터티 후보 수집\n",
    "- 엔터티 후보 식별\n",
    "    - 엔터티 후보의 개념 정립\n",
    "    - 관리 대상 판정\n",
    "    - 집합 여부 확인\n",
    "- 엔터티 후보 선정시 유의사항\n",
    "- 수집된 엔터티 분류 \n",
    "    - 우선적용 대상 분류\n",
    "    - 우선적용 대상 분류 사례\n",
    "    - 데이터 영역별 분류"
   ]
  },
  {
   "cell_type": "markdown",
   "id": "771e5a70",
   "metadata": {},
   "source": [
    "## 핵심 엔티티 정의 \n",
    "- 개념\n",
    "    - 엔터티란\n",
    "    - 엔터티 정의의 요건\n",
    "- 의미상 주어 정의\n",
    "    - 본질 식별자 정의의 의의\n",
    "    - 본질 식별자 정의 예\n",
    "- 코드성 키 엔터티 모델링\n",
    "    - 자식 엔터티 유무 확인 \t\n",
    "    - 속성 존재 여부 확인\n",
    "    - 관계 존재 여부 확인\n",
    "- 집합 순수성 예\n",
    "    - 집합 순수성 의미 \n",
    "    - 집합 순수성 예\n",
    "    - 집합 순수성 적용 예외 사항\n",
    "- 집합 동질성 \n",
    "    - 집합 동질성 의미\n",
    "    - 집합 동질성 부여의 예\n",
    "- 엔터티 명칭\n",
    "    - 적절하 엔터티 명칭\n",
    "    - 엔터티 명칭 부여하기 예제\n",
    "- 서브타입\n",
    "    - 서브타입 지정 의의\n",
    "    - 서브타입 지정시 고려사항\n",
    "    - 서브타입 도출\n",
    "    - 서브타입의 활용\n",
    "- 엔터티 통합과 분할\n",
    "    - 엔터티 독립성\n",
    "    - 엔터티 분할/통합\n",
    "    - 집합 동질성 확대를 통한 집합 통합 사례\n",
    "    - 유연성 향상을 위한 통합\n",
    "- 엔터티 정의 기술과 엔터티 정의서 작성"
   ]
  },
  {
   "cell_type": "markdown",
   "id": "1e33b6c2",
   "metadata": {},
   "source": [
    "## 관계 정의 \n",
    "- 관계(Relationship)란?\n",
    "- 관계 이해\n",
    "    - 관계도 집합이다. \n",
    "    - 직접 관계를 관계라고 한다. \n",
    "    - 두 엔터티 간에는 하나 이상의 관계가 존재할 수 있다. \n",
    "    - 외래키로 정의 \n",
    "    - 관계의 관점\n",
    "- 관계표현\n",
    "    - 관계 형태(Degree/Cardinality)\n",
    "    - 선택 사양(Optionality)\n",
    "    - 관계명\n",
    "- 관계 정의 방법\n",
    "    - 관계 구문 이해\n",
    "    - 관계 정의 절차\n",
    "- 관계 형태 \n",
    "    - 1:1 관계\n",
    "    - M:1 관계\n",
    "    - M:M 관계\n",
    "    - 다중 관계 처리\n",
    "    - 특수한 형태 관계\n",
    "        - 순환 관계\n",
    "        - BOM (BILL OF MATERIALS) 관계 \n",
    "        - ARC (MUTUALLY EXCLUSIVE) 관계"
   ]
  },
  {
   "cell_type": "markdown",
   "id": "85864fd6",
   "metadata": {},
   "source": [
    "## 개념 데이터 모델 작성 \n",
    "- 개념 데이터 모델의 구성 요소\n",
    "    - 개념 데이터 모델 미작성시 영향\n",
    "    - 개념 데이터 모델의 작성이 불필요한 경우\n",
    "- 개념 데이터 모델의 작성 방법\n",
    "    - 개괄 데이터 모델로부터 상세화하는 경우\n",
    "    - 수집된 엔터티 후보로부터 작성하는 경우\n",
    "    - 현행 데이터 리버스를 통해 작성하는 경우"
   ]
  },
  {
   "cell_type": "markdown",
   "id": "b850b07e",
   "metadata": {},
   "source": [
    "# 논리 데이터 모델링 "
   ]
  },
  {
   "cell_type": "markdown",
   "id": "2a37cad6",
   "metadata": {},
   "source": [
    "## 논리 데이터 모델링 이해 \n",
    "- 논리 데이터 모델링 정의 \n",
    "- 논리 데이터 모델링 목적 및 효과\n",
    "- 논리 데이터 모델링 필수 성공요소 "
   ]
  },
  {
   "cell_type": "markdown",
   "id": "64ecc7e0",
   "metadata": {},
   "source": [
    "## 속성 정의 \n",
    "- 속성 개념\n",
    "    - 속성 정의\n",
    "    - 속성 특징\n",
    "- 속성 후보 도출\n",
    "    - 속성 후보 수집처\n",
    "    - 속성 후보 선정 원칙\n",
    "    - 속성의 기본 구성요소\n",
    "- 속성 검증 및 확정\n",
    "    - 최소 단위(Atomic Value)까지 분할하라\n",
    "    - 하나의 값(Single Value)만을 가지는지 검증한다. \n",
    "    - 추출 속성(Derived Attribute)인지 검증한다. \n",
    "    - 보다 상세하게 관리할 것이냐?\n",
    "- 추출 속성 규칙\n",
    "- 속성 정의시 유의사항\n",
    "    - 의미가 명확한 속성 명칭을 부여한다. \n",
    "    - 유일한 복합명사 사용\n",
    "    - 단수형으로 속성명을 사용한다. \n",
    "    - 표준 단어 제정\n",
    "    - 작의적인 전용 금지"
   ]
  },
  {
   "cell_type": "markdown",
   "id": "35308e27",
   "metadata": {},
   "source": [
    "## 엔티티 상세화 \n",
    "- 식별자(UID, Unique Identifier) 확정\n",
    "    - 본질 식별자\n",
    "    - 후보 식별자 도출\n",
    "    - 대체(보조) 식별자\n",
    "    - 인조 식별자 지정\n",
    "        - 최대한 범용적인 값을 사용한다. \n",
    "        - 유일한 값을 만들기 위한 인조 식별자를 사용한다. \n",
    "        - 하나의 인조 식별자 속성으로 대체할 수 없는 형태를 주의한다. \n",
    "        - 편의성, 단순성 확보를 위한 인조 식별자를 사용할 수 있다.\n",
    "        - 의미의 체계화를 위한 인조 식별자를 사용할 수 있다. \n",
    "        - 내부적으로만 사용하는 인조 식별자\n",
    "    - 식별자 확정\n",
    "- 정규화(Normalization)\n",
    "    - 정규화의 의미\n",
    "        - 입력 이상\n",
    "        - 삭제 이상\n",
    "        - 갱신 이상\n",
    "    - 정규화의 장점\n",
    "        - 중복값이 줄어든다\n",
    "        - NULL 값이 줄어든다\n",
    "        - 복잡한 코드로 데이터 모델을 보완할 필요가 없다.\n",
    "        - 새로운 요구 사항의 발견 과정을 돕는다\n",
    "        - 업무 규칙의 정밀한 포착을 보증한다. \n",
    "        - 데이터 구조의 안정성을 최대화한다. \n",
    "    - 정규화 단계\n",
    "- M:M 관계 해소 \n",
    "    - m:m 관계의 의미 \n",
    "    - m:m 관계 해소의 의의 \n",
    "- 참조무결성 규칙 정의 \n",
    "    - 입력 규칙\n",
    "        - DEPENDENT\n",
    "        - AUTOMATIC\n",
    "        - NULLIFY\n",
    "        - DEFAULT\n",
    "        - CUSTOMIZED\n",
    "        - NO EFFECT\n",
    "    - 삭제 규칙\n",
    "        - RESTRICT\n",
    "        - CASCADE\n",
    "        - NULLIFY\n",
    "        - DEFAULT\n",
    "        - CUSTOMIZED\n",
    "        - NO EFFECT"
   ]
  },
  {
   "cell_type": "markdown",
   "id": "25656523",
   "metadata": {},
   "source": [
    "## 이력관리 정의 \n",
    "- 이력 관리란\n",
    "- 이력 관리 대상 선정 \n",
    "    - 사용자 조사\n",
    "    - 이력 데이터의 종류\n",
    "    - 이력 관리 형태\n",
    "    - 선분 이력 관리 유형\n",
    "- 선분 이력 관리용 식별자 확정\n",
    "    - 선분 이력에서 식별자 결정 시 고려사항\n",
    "    - 선분 이력에서 종료점 처리 시 주의사항"
   ]
  },
  {
   "cell_type": "markdown",
   "id": "f4c42611",
   "metadata": {},
   "source": [
    "## 논리 데이터 모델 품질 검토 \n",
    "- 논리 데이터 모델 품질 검토 개요 \n",
    "- 논리 데이터 모델 품질 검토 체크리스트의 활용"
   ]
  },
  {
   "cell_type": "markdown",
   "id": "2bfc3419",
   "metadata": {},
   "source": [
    "# 물리 데이터 모델링 "
   ]
  },
  {
   "cell_type": "markdown",
   "id": "b90524ce",
   "metadata": {},
   "source": [
    "## 물리 데이터 모델링 이해 \n",
    "- 물리 데이터 모델 정의\n",
    "- 물리 데이터 모델 의의\n",
    "- 논리 데이터 모델-물리 데이터 모델\n",
    "    - 분산 데이터베이스 구축 시\n",
    "    - 물리 데이터 모델 비교\n",
    "    - 물리적 환경의 변화 \n",
    "    - 물리적 모델의 형상관리"
   ]
  },
  {
   "cell_type": "markdown",
   "id": "65afd9f8",
   "metadata": {},
   "source": [
    "## 물리 요소 조사 및 분석 \n",
    "- 시스템 구축 관련 명명 규칙\n",
    "- 하드웨어 자원 파악 \n",
    "    - CPU \n",
    "    - MEMORY\n",
    "    - DISK\n",
    "    - I/O Controller\n",
    "    - Network\n",
    "- 운영체제 및 DBMS 버전 파악\n",
    "- DBMS 파라미터 정보 파악\n",
    "- 데이터베이스 운영과 관련된 관리 요소 파악"
   ]
  },
  {
   "cell_type": "markdown",
   "id": "f70b51e8",
   "metadata": {},
   "source": [
    "## 논리-물리 모델 변환 \n",
    "- 논리 데이터 모델-물리 데이터 모델 변환(Transformation) 용어\n",
    "- 엔터티-테이블 변환 \n",
    "    - 테이블 설명\n",
    "    - 서브타입 변환(Transformation)\n",
    "    - 서브타입 변환 예\n",
    "    - 테이블 목록 정의서\n",
    "- 속성-칼럼 변환\n",
    "    - 일반 속성 변환\n",
    "    - Primary UID 기본키(Primary Key) 변환\n",
    "    - Primary UID(관계의 UID Bar) 기본키(Primary Key) 변환\n",
    "    - Secondary (Alternate) UID Unique Key 변환\n",
    "    - 테이블 정의서 \n",
    "- 관계 변환 \n",
    "    - 1:m 관계 변환\n",
    "    - 1:1 관계 변환\n",
    "    - 1:m 순환 관계 변환\n",
    "    - 배타적 관계 변환\n",
    "- 관리상 필요한 칼럼 추가\n",
    "    - 개념\n",
    "    - 시스템 칼럼 추가 예\n",
    "- 데이터 타입 선택 \n",
    "    - 개념\n",
    "    - 문자 타입 (Character Data Types)\n",
    "    - 숫자 타입 (Numeric Types)\n",
    "    - 날짜 타입 (Datetime Types)\n",
    "- 데이터 표준 적용\n",
    "    - 개념 \n",
    "    - 데이터 표준 적용 대상\n",
    "    - 데이터 표준 적용 방법\n",
    "        - 업무영역 + 주제어 수식어 + 주제어 + 분류어 수식어 + 분류어 + 접미사   \n",
    "           (필수)-----------(선택)-----------(필수)---------(선택)----------(필수)----(선택)   \n",
    "       ex)  계약        서비스       계약                    원부"
   ]
  },
  {
   "cell_type": "markdown",
   "id": "0fb5395e",
   "metadata": {},
   "source": [
    "## 반정규화 \n",
    "- 테이블 분할\n",
    "    - 개념 \n",
    "    - 수평 분할 (Horizontal Partitioning)\n",
    "    - 수직 분할 (Vertical Partitioning)\n",
    "        - 갱신 위주의 칼럼 수직 분할\n",
    "        - 자주 조회되는 칼럼 분할\n",
    "        - 특정 칼럼의 크기가 아주 큰 경우 분할\n",
    "        - 특정 칼럼에 보안을 적용해야 하는 경우의 분할\n",
    "- 중복 테이블 생성\n",
    "    - 개념 \n",
    "    - 중복 테이블 생성 판단 근거\n",
    "    - 중복 테이블 유형\n",
    "        - 집계(통계) 테이블 추가\n",
    "- 중복 칼럼 생성\n",
    "    - 개념 \n",
    "    - 중복 칼럼 생성 상황\n",
    "    - 중복 칼럼 생성시 유의사항"
   ]
  },
  {
   "cell_type": "markdown",
   "id": "633a29a1",
   "metadata": {},
   "source": [
    "## 물리 데이터 모델 품질 검토 \n",
    "- 물리 데이터 모델 품질 검토 개요 \n",
    "- 물리 데이터 모델 품질 검토 체크리스트의 활용"
   ]
  }
 ],
 "metadata": {
  "kernelspec": {
   "display_name": "Python 3",
   "language": "python",
   "name": "python3"
  },
  "language_info": {
   "codemirror_mode": {
    "name": "ipython",
    "version": 3
   },
   "file_extension": ".py",
   "mimetype": "text/x-python",
   "name": "python",
   "nbconvert_exporter": "python",
   "pygments_lexer": "ipython3",
   "version": "3.6.9"
  }
 },
 "nbformat": 4,
 "nbformat_minor": 5
}
