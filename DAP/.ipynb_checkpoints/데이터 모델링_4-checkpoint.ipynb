{
 "cells": [
  {
   "cell_type": "markdown",
   "id": "95fa8b84",
   "metadata": {},
   "source": [
    "# 데이터 모델링 이해"
   ]
  },
  {
   "cell_type": "markdown",
   "id": "607fb05c",
   "metadata": {},
   "source": [
    "## 데이터 모델링 개요\n",
    "- 데이터 모델링 정의 \n",
    "    - 데이터 모델링 탄생 배경\n",
    "    - 모델 정의\n",
    "    - 모델링 정의 \n",
    "    - 데이터 모델이 제공하는 것\n",
    "- 데이터 모델링 필요성\n",
    "    - 애플리케이션과 데이터의 통합\n",
    "    - 개발자들의 시스템 이해\n",
    "    - 데이터 모델링시 주의점 \n",
    "- 데이터 모델링 단계 \n",
    "    - 개념 데이터 모델링 (Conceptual Data Modeling)\n",
    "    - 논리 데이터 모델링 (Logical Data Modeling)\n",
    "    - 물리 데이터 모델링 (Physical Data Modeling)\n",
    "- 모델링 기본원칙 \n",
    "    - 커뮤니케이션 원칙(Communication Principle)\n",
    "    - 모델링 상세화 원칙(Granularity Principle)\n",
    "    - 논리적 표현 원칙 \n",
    "- 좋은 데이터 모델의 요소\n",
    "    - 완전성\n",
    "    - 중복 배제\n",
    "    - 비즈니스 룰\n",
    "    - 데이터 재사용\n",
    "    - 안정성 및 확장성\n",
    "    - 간결성\n",
    "    - 의사소통\n",
    "    - 통합성"
   ]
  },
  {
   "cell_type": "markdown",
   "id": "4dd267a0",
   "metadata": {},
   "source": [
    "## 데이터 모델링 기법 이해 "
   ]
  },
  {
   "cell_type": "markdown",
   "id": "a0318d1b",
   "metadata": {},
   "source": [
    "## 데이터 모델링 표기법 이해 "
   ]
  },
  {
   "cell_type": "markdown",
   "id": "6d75217d",
   "metadata": {},
   "source": [
    "# 개념 데이터 모델링 "
   ]
  },
  {
   "cell_type": "markdown",
   "id": "2b01ae60",
   "metadata": {},
   "source": [
    " ## 개념 데이터 모델링 이해"
   ]
  },
  {
   "cell_type": "markdown",
   "id": "ccd48b1b",
   "metadata": {},
   "source": [
    "## 주제 영역 정의 "
   ]
  },
  {
   "cell_type": "markdown",
   "id": "a254adea",
   "metadata": {},
   "source": [
    "## 후보 엔티티 선정 "
   ]
  },
  {
   "cell_type": "markdown",
   "id": "771e5a70",
   "metadata": {},
   "source": [
    "## 핵심 엔티티 정의 "
   ]
  },
  {
   "cell_type": "markdown",
   "id": "1e33b6c2",
   "metadata": {},
   "source": [
    "## 관계 정의 "
   ]
  },
  {
   "cell_type": "markdown",
   "id": "85864fd6",
   "metadata": {},
   "source": [
    "## 개념 데이터 모델 작성 "
   ]
  },
  {
   "cell_type": "markdown",
   "id": "b850b07e",
   "metadata": {},
   "source": [
    "# 논리 데이터 모델링 "
   ]
  },
  {
   "cell_type": "markdown",
   "id": "2a37cad6",
   "metadata": {},
   "source": [
    "## 논리 데이터 모델링 이해 "
   ]
  },
  {
   "cell_type": "markdown",
   "id": "64ecc7e0",
   "metadata": {},
   "source": [
    "## 속성 정의 "
   ]
  },
  {
   "cell_type": "markdown",
   "id": "35308e27",
   "metadata": {},
   "source": [
    "## 엔티티 상세화 "
   ]
  },
  {
   "cell_type": "markdown",
   "id": "25656523",
   "metadata": {},
   "source": [
    "## 이력관리 정의 "
   ]
  },
  {
   "cell_type": "markdown",
   "id": "f4c42611",
   "metadata": {},
   "source": [
    "## 논리 데이터 모델 품질 검토 "
   ]
  },
  {
   "cell_type": "markdown",
   "id": "2bfc3419",
   "metadata": {},
   "source": [
    "# 물리 데이터 모델링 "
   ]
  },
  {
   "cell_type": "markdown",
   "id": "b90524ce",
   "metadata": {},
   "source": [
    "## 물리 데이터 모델링 이해 "
   ]
  },
  {
   "cell_type": "markdown",
   "id": "65afd9f8",
   "metadata": {},
   "source": [
    "## 물리 요소 조사 및 분석 "
   ]
  },
  {
   "cell_type": "markdown",
   "id": "f70b51e8",
   "metadata": {},
   "source": [
    "## 논리-물리 모델 변환 "
   ]
  },
  {
   "cell_type": "markdown",
   "id": "0fb5395e",
   "metadata": {},
   "source": [
    "## 반정규화 "
   ]
  },
  {
   "cell_type": "markdown",
   "id": "633a29a1",
   "metadata": {},
   "source": [
    "## 물리 데이터 모델 품질 검토 "
   ]
  }
 ],
 "metadata": {
  "kernelspec": {
   "display_name": "Python 3",
   "language": "python",
   "name": "python3"
  },
  "language_info": {
   "codemirror_mode": {
    "name": "ipython",
    "version": 3
   },
   "file_extension": ".py",
   "mimetype": "text/x-python",
   "name": "python",
   "nbconvert_exporter": "python",
   "pygments_lexer": "ipython3",
   "version": "3.6.9"
  }
 },
 "nbformat": 4,
 "nbformat_minor": 5
}
