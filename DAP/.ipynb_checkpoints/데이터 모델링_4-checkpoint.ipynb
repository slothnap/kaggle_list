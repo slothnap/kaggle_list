{
 "cells": [
  {
   "cell_type": "markdown",
   "id": "95fa8b84",
   "metadata": {},
   "source": [
    "# 데이터 모델링 이해"
   ]
  },
  {
   "cell_type": "markdown",
   "id": "607fb05c",
   "metadata": {},
   "source": [
    "## 데이터 모델링 개요\n",
    "- 데이터 모델링 정의 \n",
    "    - 데이터 모델링 탄생 배경\n",
    "    - 모델 정의\n",
    "    - 모델링 정의 \n",
    "    - 데이터 모델이 제공하는 것\n",
    "- 데이터 모델링 필요성\n",
    "    - 애플리케이션과 데이터의 통합\n",
    "    - 개발자들의 시스템 이해\n",
    "    - 데이터 모델링시 주의점 \n",
    "- 데이터 모델링 단계 \n",
    "    - 개념 데이터 모델링 (Conceptual Data Modeling)\n",
    "    - 논리 데이터 모델링 (Logical Data Modeling)\n",
    "    - 물리 데이터 모델링 (Physical Data Modeling)\n",
    "- 모델링 기본원칙 \n",
    "    - 커뮤니케이션 원칙(Communication Principle)\n",
    "    - 모델링 상세화 원칙(Granularity Principle)\n",
    "    - 논리적 표현 원칙 \n",
    "- 좋은 데이터 모델의 요소\n",
    "    - 완전성\n",
    "    - 중복 배제\n",
    "    - 비즈니스 룰\n",
    "    - 데이터 재사용\n",
    "    - 안정성 및 확장성\n",
    "    - 간결성\n",
    "    - 의사소통\n",
    "    - 통합성"
   ]
  },
  {
   "cell_type": "markdown",
   "id": "4dd267a0",
   "metadata": {},
   "source": [
    "## 데이터 모델링 기법 이해 \n",
    "- 데이터 모델 목적\n",
    "- 개체-관계 모델 기법(Entity-Relationship Modeling)\n",
    "- 개체-관계 모델 구성 요소\n",
    "    - 엔터티(Entity)\n",
    "    - 속성(Attribute)\n",
    "    - 식별자\n",
    "    - 관계(Relationship)\n",
    "    - 카디날리티(Cardinality)\n",
    "    - 존재 종속 \n",
    "    - 서브타입 \n",
    "    - 객체지향 모델링(Object-Oriented Modeling)\n",
    "    - 객체지향 개념\n",
    "    - 객체 모형\n",
    "    - 객체 모형 데이터\n",
    "    - 객체 모형의 메소드\n",
    "    - 불명료한 객체 접근 방식\n",
    "    - 객체지향 모델링과 논리 데이터 모델링간의 관계\n",
    "    - 객체지향 모델링 장점"
   ]
  },
  {
   "cell_type": "markdown",
   "id": "a0318d1b",
   "metadata": {},
   "source": [
    "## 데이터 모델링 표기법 이해 \n",
    "- 바커 표기법(Baker Notation)\n",
    "    - 엔터티(Entity)\n",
    "    - 속성(Attribute)\n",
    "    - 관계(Relationship)\n",
    "    - 식별자(Unique Identifier)\n",
    "    - 서브타입(Sub-type)\n",
    "    - 관계의 표현 비교\n",
    "- I/E 표기법(Information Engineering Notation)\n",
    "    - 엔터티(Entity)\n",
    "    - 속성(Attribute)\n",
    "    - 관계(Relationship)\n",
    "    - 식별자(Unique Identifier)\n",
    "    - 서브타입(Sub-type)"
   ]
  },
  {
   "cell_type": "markdown",
   "id": "6d75217d",
   "metadata": {},
   "source": [
    "# 개념 데이터 모델링 "
   ]
  },
  {
   "cell_type": "markdown",
   "id": "2b01ae60",
   "metadata": {},
   "source": [
    "## 개념 데이터 모델링 이해\n",
    "- 개념 데이터 모델 정의\n",
    "- 개념 데이터 모델 의의\n",
    "- 데이터아키텍처 프레임워크 상에서 개념 데이터 모델"
   ]
  },
  {
   "cell_type": "markdown",
   "id": "ccd48b1b",
   "metadata": {},
   "source": [
    "## 주제 영역 정의 \n",
    "- 주제 영역 개념\n",
    "- 주제 영역 분류 원칙 및 기준\n",
    "    - 주제 영역 분류 원칙\n",
    "    - 주제 영역 분류 기준\n",
    "    - 주제 영역 명명\n",
    "    - 주제 영역 분류 방법\n",
    "- 주제 영역 활용\n",
    "    - 목적\n",
    "    - 장점  \n",
    "- 주제 영역 도출\n",
    "    - 업무에서 사용하는 데이터의 명사형 도출\n",
    "    - 업무 기능의 이름으로부터 도출 \n",
    "    - 하향식(Top-down) 접근 방법\n",
    "    - 상향식(Bottom-up) 접근 방법\n",
    "    - 분석 단계에서의 도출\n",
    "- 주제 영역 정의 내용 \n",
    "    - 주제 영역 목록\n",
    "    - 주제 영역 정의서 샘플 양식"
   ]
  },
  {
   "cell_type": "markdown",
   "id": "a254adea",
   "metadata": {},
   "source": [
    "## 후보 엔티티 선정 \n",
    "- 개념 \n",
    "- 엔터티 후보 수집\n",
    "- 엔터티 후보 식별\n",
    "    - 엔터티 후보의 개념 정립\n",
    "    - 관리 대상 판정\n",
    "    - 집합 여부 확인\n",
    "- 엔터티 후보 선정시 유의사항\n",
    "- 수집된 엔터티 분류 \n",
    "    - 우선적용 대상 분류\n",
    "    - 우선적용 대상 분류 사례\n",
    "    - 데이터 영역별 분류"
   ]
  },
  {
   "cell_type": "markdown",
   "id": "771e5a70",
   "metadata": {},
   "source": [
    "## 핵심 엔티티 정의 "
   ]
  },
  {
   "cell_type": "markdown",
   "id": "1e33b6c2",
   "metadata": {},
   "source": [
    "## 관계 정의 "
   ]
  },
  {
   "cell_type": "markdown",
   "id": "85864fd6",
   "metadata": {},
   "source": [
    "## 개념 데이터 모델 작성 "
   ]
  },
  {
   "cell_type": "markdown",
   "id": "b850b07e",
   "metadata": {},
   "source": [
    "# 논리 데이터 모델링 "
   ]
  },
  {
   "cell_type": "markdown",
   "id": "2a37cad6",
   "metadata": {},
   "source": [
    "## 논리 데이터 모델링 이해 "
   ]
  },
  {
   "cell_type": "markdown",
   "id": "64ecc7e0",
   "metadata": {},
   "source": [
    "## 속성 정의 "
   ]
  },
  {
   "cell_type": "markdown",
   "id": "35308e27",
   "metadata": {},
   "source": [
    "## 엔티티 상세화 "
   ]
  },
  {
   "cell_type": "markdown",
   "id": "25656523",
   "metadata": {},
   "source": [
    "## 이력관리 정의 "
   ]
  },
  {
   "cell_type": "markdown",
   "id": "f4c42611",
   "metadata": {},
   "source": [
    "## 논리 데이터 모델 품질 검토 "
   ]
  },
  {
   "cell_type": "markdown",
   "id": "2bfc3419",
   "metadata": {},
   "source": [
    "# 물리 데이터 모델링 "
   ]
  },
  {
   "cell_type": "markdown",
   "id": "b90524ce",
   "metadata": {},
   "source": [
    "## 물리 데이터 모델링 이해 "
   ]
  },
  {
   "cell_type": "markdown",
   "id": "65afd9f8",
   "metadata": {},
   "source": [
    "## 물리 요소 조사 및 분석 "
   ]
  },
  {
   "cell_type": "markdown",
   "id": "f70b51e8",
   "metadata": {},
   "source": [
    "## 논리-물리 모델 변환 "
   ]
  },
  {
   "cell_type": "markdown",
   "id": "0fb5395e",
   "metadata": {},
   "source": [
    "## 반정규화 "
   ]
  },
  {
   "cell_type": "markdown",
   "id": "633a29a1",
   "metadata": {},
   "source": [
    "## 물리 데이터 모델 품질 검토 "
   ]
  }
 ],
 "metadata": {
  "kernelspec": {
   "display_name": "Python 3",
   "language": "python",
   "name": "python3"
  },
  "language_info": {
   "codemirror_mode": {
    "name": "ipython",
    "version": 3
   },
   "file_extension": ".py",
   "mimetype": "text/x-python",
   "name": "python",
   "nbconvert_exporter": "python",
   "pygments_lexer": "ipython3",
   "version": "3.6.9"
  }
 },
 "nbformat": 4,
 "nbformat_minor": 5
}
