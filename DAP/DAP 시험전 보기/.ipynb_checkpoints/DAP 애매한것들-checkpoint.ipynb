{
 "cells": [
  {
   "cell_type": "markdown",
   "id": "1ff9067f-ad72-47b6-ad15-3c67e5219457",
   "metadata": {},
   "source": [
    "- 데이터베이스 관리 시스템 사상 \n",
    "    - 데이터의 독립성과 추상화 확보 필요 \n",
    "    - 개념적 단계 \n",
    "        - 최상위 추상화 단계\n",
    "        - 데이터베이스 부분만 정의\n",
    "    - 논리적 단계 \n",
    "        - 데이터베이스 전체 구조 추상화 \n",
    "        - 데이터 관계, 권한, 무결성 같은 부가적인 정보 정의 \n",
    "    - 물리적 단계 \n",
    "        - 최하위 추상화 단계\n",
    "        - 데이터 실제 저장 원시 수준의 데이터 구조 \n",
    "        - 데이터 유형, 인덱스 종류, 컬럼의 순서 등 "
   ]
  }
 ],
 "metadata": {
  "kernelspec": {
   "display_name": "Python 3 (ipykernel)",
   "language": "python",
   "name": "python3"
  },
  "language_info": {
   "codemirror_mode": {
    "name": "ipython",
    "version": 3
   },
   "file_extension": ".py",
   "mimetype": "text/x-python",
   "name": "python",
   "nbconvert_exporter": "python",
   "pygments_lexer": "ipython3",
   "version": "3.10.6"
  }
 },
 "nbformat": 4,
 "nbformat_minor": 5
}
