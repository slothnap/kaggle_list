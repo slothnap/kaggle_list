{
 "cells": [
  {
   "cell_type": "markdown",
   "metadata": {},
   "source": [
    "# 정보 요구 사항 개요"
   ]
  },
  {
   "cell_type": "markdown",
   "metadata": {},
   "source": [
    "## 정보 요구 사항"
   ]
  },
  {
   "cell_type": "markdown",
   "metadata": {},
   "source": [
    "## 정보 요구 사항 관리"
   ]
  },
  {
   "cell_type": "markdown",
   "metadata": {},
   "source": [
    "# 정보 요구 사항 조사"
   ]
  },
  {
   "cell_type": "markdown",
   "metadata": {},
   "source": [
    "## 정보 요구 사항 수집"
   ]
  },
  {
   "cell_type": "markdown",
   "metadata": {},
   "source": [
    "## 정보 요구 사항 정리"
   ]
  },
  {
   "cell_type": "markdown",
   "metadata": {},
   "source": [
    "## 정보 요구 사항 통합"
   ]
  },
  {
   "cell_type": "markdown",
   "metadata": {},
   "source": [
    "# 정보 요구 사항 분석"
   ]
  },
  {
   "cell_type": "markdown",
   "metadata": {},
   "source": [
    "## 분석 대상 정의"
   ]
  },
  {
   "cell_type": "markdown",
   "metadata": {},
   "source": [
    "## 정보 요구 사항 상세화"
   ]
  },
  {
   "cell_type": "markdown",
   "metadata": {},
   "source": [
    "## 정보 요구 사항 확인"
   ]
  },
  {
   "cell_type": "markdown",
   "metadata": {},
   "source": [
    "# 정보 요구 검증"
   ]
  },
  {
   "cell_type": "markdown",
   "metadata": {},
   "source": [
    "## 정보 요구 사항 상관분석 기법"
   ]
  },
  {
   "cell_type": "markdown",
   "metadata": {},
   "source": [
    "## 추가 및 삭제 정보 요구 사항 도출 "
   ]
  },
  {
   "cell_type": "markdown",
   "metadata": {},
   "source": [
    "## 정보 요구 보완 및 확인"
   ]
  },
  {
   "cell_type": "markdown",
   "metadata": {},
   "source": [
    "과목 2 데이터 요건 분석   \n",
    "\t제 1장 정보 요구 사항 개요   \n",
    "\t\t제 1절 정보 요구 사항    \n",
    "\t\t\t- 정의    \n",
    "\t\t\t- 정보 요구 사항 생명주기 모형(Life Cycle)   \n",
    "\t\t\t\t- 정보 요구 사항 수집    \n",
    "\t\t\t\t- 정보 요구 사항 분석 및 정의   \n",
    "\t\t\t\t- 정보 요구 사항 상세화    \n",
    "\t\t\t\t- 정보 요구 사항 검증    \n",
    "\t\t\t- 정보 요구 사항 유형    \n",
    "\t\t제 2절 정보 요구 사항 관리    \n",
    "\t\t\t- 정의 및 관리 목적    \n",
    "\t\t\t- 정보 요구 사항 관리 프로세스    \n",
    "\t\t\t\t- 업무흐름 프로세스   \n",
    "\t\t\t\t- 수행 조직 및 수행 업무    \n",
    "\n",
    "   \t제 2장 정보 요구 사항 조사    \n",
    "\t\t제 1절 정보 요구 사항 수집   \n",
    "\t\t\t- 정보 요구 사항 수집 형태    \n",
    "\t\t\t- 관련 문서 수집   \n",
    "\t\t\t\t- 문서수집 목적   \n",
    "\t\t\t\t- 문서수집 자료    \n",
    "\t\t\t\t- 문서수집 원칙    \n",
    "\t\t\t- 사용자 면담     \n",
    "\t\t\t\t- 사용자 면담 진행   \n",
    "\t\t\t\t- 면담    \n",
    "\t\t\t\t- 면담 결과 분석    \n",
    "\t\t\t\t- 분석 결과 피드백    \n",
    "\t\t\t\t- 면담 수행시 고려사항    \n",
    "\t\t\t- 워크숍    \n",
    "\t\t\t\t- 워크숍 개요 및 목적   \n",
    "\t\t\t\t- 워크숍 준비   \n",
    "\t\t\t\t- 워크숍의 수행   \n",
    "\t\t\t- 현행 업무조사서   \n",
    "\t\t\t- 현행 프로그램/데이터 관련 문서    \n",
    "\n",
    "   \t\t제 2절 정보 요구 사항 정리   \n",
    "\t\t\t- 정보 요구 사항 정리    \n",
    "\t\t\t\t- 사용자 면담 정리   \n",
    "\t\t\t\t- 업무 조사서 정리    \n",
    "\t\t\t\t- 워크숍 정리    \n",
    "\t\t\t\t- 기타 기법 정리    \n",
    "\t\t\t- 정보 요구 우선순위 분석    \n",
    "\t\t\t\t- 화폐가치 산출 방법    \n",
    "\t\t\t\t- 상대적 중요도 산정 방법   \n",
    "\n",
    "   \t\t제 3절 정보 요구 사항 통합    \n",
    "\t\t\t- 정보 요구 사항 목록 검토    \n",
    "\t\t\t- 정보 요구 사항 목록 통합/분할    \n",
    "\t\t\t\t- 동일 부서 내 중복 요구 사항 검토   \n",
    "\t\t\t\t- 서로 다른 부서간 중복 요구 사항 검토   \n",
    "\n",
    "   \t제 3장 정보 요구 사항 분석   \n",
    "\t\t제 1절 분석 대상 정의    \n",
    "\t\t\t- 현행 업무 분석 대상 정의    \n",
    "\t\t\t\t- 분석 대상 자료    \n",
    "\t\t\t\t- 분석 대상 업무 영역 선정    \n",
    "\t\t\t- 현행 시스템 분석 대상 정의    \n",
    "\t\t\t\t- 분석 대상 현행 시스템 선정    \n",
    "\t\t\t\t- 분석 대상 현행 시스템 관련 자료    \n",
    "\t\t\t\t- 추가적인 분석 대상    \n",
    "\t\t제 2절 정보 요구 사항 상세화    \n",
    "\t\t\t- 프로세스 관점의 정보 요구 사항 상세화   \n",
    "\t\t\t\t- 수행 절차    \n",
    "\t\t\t\t- 수행 작업 내용    \n",
    "\t\t\t\t- 수행 작업 지침    \n",
    "\t\t\t- 객체지향 관점의 정보 요구 사항 상세화    \n",
    "\t\t\t\t- 유즈케이스 다이어그램    \n",
    "\t\t\t\t- 유즈케이스 상세화    \n",
    "\t\t\t\t- 클래스 다이어그램 작성    \n",
    "\t\t제 3절 정보 요구 사항 확인   \n",
    "\t\t\t- 수행 절차   \n",
    "\t\t\t- 수행 작업 내용    \n",
    "\t\t\t- 수행 작업 지침    \n",
    "\t\t\t\t- 재검토 계획 수립    \n",
    "\t\t\t\t- 재검토 실시    \n",
    "\t\t\t\t- 보완 결과 확인    \n",
    "\t\t\t- 수행시 고려사항   \n",
    "\n",
    "   \t제 4장 정보 요구 검증   \n",
    "\t\t제 1절 정보 요구 상관분석 기법    \n",
    "\t\t\t- 주제별 분류    \n",
    "\t\t\t\t- 요구 사항 분석가 수행   \n",
    "\t\t\t\t- 품질보증팀 수행   \n",
    "\t\t\t\t- 외부 감리 수행   \n",
    "\t\t\t- 정보 요구 / 애플리케이션 상관분석   \n",
    "\t\t\t\t- 생성\t\t\t\t== 'C'   \n",
    "\t\t\t\t- 조회\t\t\t\t== 'R'   \n",
    "\t\t\t\t- 수정\t\t\t\t== 'U'   \n",
    "\t\t\t\t- 삭제 \t\t\t\t== 'D'   \n",
    "\t\t\t- 정보 요구 / 업무 기능 상관분석   \n",
    "\t\t\t\t- 생성, 수정 삭제 \t== 'C'   \n",
    "\t\t\t\t- 검색 \t\t\t\t== 'U'   \n",
    "\t\t\t- 정보 요구 / 조직 기능 상관분석   \n",
    "\t\t\t\t- 생성, 수정, 삭제 \t== 'C'   \n",
    "\t\t\t\t- 검색 \t\t\t\t== 'U'   \n",
    "\n",
    "   \t\t제 2절 추가 및 삭제 정보 요구 사항 도출    \n",
    "\t\t\t- 정보 요구 / 애플리케이션 상관 분석    \n",
    "\t\t\t\t- 애플리케이션 충족도 분석 매트릭스    \n",
    "\t\t\t\t- 매트릭스 분석   \n",
    "\t\t\t\t\t- 조회, 수정, 삭제 액션 중 하나가 발생해야 한다.   \n",
    "\t\t\t\t\t- 생성, 삭제하는 합은 7개를 초과하지 않는다.    \n",
    "\t\t\t\t\t- 조회 전용을 제외한 다른 프로세스는 생성, 수정, 삭제 하나를 수행   \n",
    "\t\t\t- 정보 요구 / 업무 기능 상관분석   \n",
    "\t\t\t\t- 매트릭스 분석   \n",
    "\t\t\t\t\t- 적어도 한번 이상의 'C'를 갖는가?   \n",
    "\t\t\t- 정보 요구 / 조직 기능 상관분석    \n",
    "\t\t\t\t- 매트릭스 분석    \n",
    "\t\t\t\t\t- 적어도 한번 이상의 'C'를 갖는가?   \n",
    "\n",
    "   \t\t제 3절 정보 요구 사항 보완 및 확정   \n",
    "\t\t\t- 정보 요구 보완   \n",
    "\t\t\t- 정보 요구 확정   \n",
    "\n",
    "    "
   ]
  }
 ],
 "metadata": {
  "kernelspec": {
   "display_name": "Python 3",
   "language": "python",
   "name": "python3"
  },
  "language_info": {
   "codemirror_mode": {
    "name": "ipython",
    "version": 3
   },
   "file_extension": ".py",
   "mimetype": "text/x-python",
   "name": "python",
   "nbconvert_exporter": "python",
   "pygments_lexer": "ipython3",
   "version": "3.6.9"
  }
 },
 "nbformat": 4,
 "nbformat_minor": 2
}
