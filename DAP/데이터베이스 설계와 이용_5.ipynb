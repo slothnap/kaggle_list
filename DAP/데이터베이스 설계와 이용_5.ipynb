{
 "cells": [
  {
   "cell_type": "markdown",
   "id": "1a89d9c6",
   "metadata": {},
   "source": [
    " # 데이터베이스 설계"
   ]
  },
  {
   "cell_type": "markdown",
   "id": "3964b517",
   "metadata": {},
   "source": [
    "## 저장공간 설계"
   ]
  },
  {
   "cell_type": "markdown",
   "id": "cdfd323b",
   "metadata": {},
   "source": [
    "## 무결성 설계 "
   ]
  },
  {
   "cell_type": "markdown",
   "id": "36b8c39f",
   "metadata": {},
   "source": [
    "## 인덱스 설계 "
   ]
  },
  {
   "cell_type": "markdown",
   "id": "8221b6d3",
   "metadata": {},
   "source": [
    "## 분산 설계 "
   ]
  },
  {
   "cell_type": "markdown",
   "id": "8b91fa92",
   "metadata": {},
   "source": [
    "## 보안 설계 "
   ]
  },
  {
   "cell_type": "markdown",
   "id": "344d2e7f",
   "metadata": {},
   "source": [
    "# 데이터베이스 이용 "
   ]
  },
  {
   "cell_type": "markdown",
   "id": "446738ec",
   "metadata": {},
   "source": [
    "## 데이터베이스 관리 시스템 "
   ]
  },
  {
   "cell_type": "markdown",
   "id": "d4682100",
   "metadata": {},
   "source": [
    "## 트랜잭션 "
   ]
  },
  {
   "cell_type": "markdown",
   "id": "f75c5615",
   "metadata": {},
   "source": [
    "## 백업 및 복구 "
   ]
  },
  {
   "cell_type": "markdown",
   "id": "9e910076",
   "metadata": {},
   "source": [
    "# 데이터베이스 성능 개선 "
   ]
  },
  {
   "cell_type": "markdown",
   "id": "92ef8440",
   "metadata": {},
   "source": [
    "## 성능 개선 방법론 "
   ]
  },
  {
   "cell_type": "markdown",
   "id": "9cec73f2",
   "metadata": {},
   "source": [
    "## 조인"
   ]
  },
  {
   "cell_type": "markdown",
   "id": "4dc760a8",
   "metadata": {},
   "source": [
    "## 애플리케이션 성능 개선 "
   ]
  },
  {
   "cell_type": "markdown",
   "id": "f4875ba7",
   "metadata": {},
   "source": [
    "## 서버 성능 개선 "
   ]
  }
 ],
 "metadata": {
  "kernelspec": {
   "display_name": "Python 3",
   "language": "python",
   "name": "python3"
  },
  "language_info": {
   "codemirror_mode": {
    "name": "ipython",
    "version": 3
   },
   "file_extension": ".py",
   "mimetype": "text/x-python",
   "name": "python",
   "nbconvert_exporter": "python",
   "pygments_lexer": "ipython3",
   "version": "3.6.9"
  }
 },
 "nbformat": 4,
 "nbformat_minor": 5
}
