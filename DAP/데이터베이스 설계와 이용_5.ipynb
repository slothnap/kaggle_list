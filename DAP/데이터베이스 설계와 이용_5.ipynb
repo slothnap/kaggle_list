{
 "cells": [
  {
   "cell_type": "markdown",
   "id": "1a89d9c6",
   "metadata": {},
   "source": [
    " # 데이터베이스 설계"
   ]
  },
  {
   "cell_type": "markdown",
   "id": "3964b517",
   "metadata": {},
   "source": [
    "## 저장공간 설계\n",
    "- 테이블\n",
    "    - 테이블(Table)\n",
    "    - 칼럼(Column)\n",
    "    - 테이블 설계시 고려사항  \n",
    "- 테이블과 테이블스페이스  \n",
    "- 용량 설계   "
   ]
  },
  {
   "cell_type": "markdown",
   "id": "cdfd323b",
   "metadata": {},
   "source": [
    "## 무결성 설계 \n",
    "- 데이터 무결성\n",
    "    - 데이터 무결성 종류\n",
    "    - 데이터 무결성 강화 방법\n",
    "- 실체 무결성\n",
    "- 영역 무결성\n",
    "- 참조 무결성"
   ]
  },
  {
   "cell_type": "markdown",
   "id": "36b8c39f",
   "metadata": {},
   "source": [
    "## 인덱스 설계 \n",
    "- 인덱스 기능\n",
    "- 인덱스 설계 절차\n",
    "    - 접근 경로 수집\n",
    "    - 분포도 조사에 의한 후보 컬럼 선정\n",
    "    - 접근 경로 결정 \n",
    "    - 컬럼 조합 및 순서 결정\n",
    "    - 적용 시험 \n",
    "- 인덱스 구조\n",
    "    - 트리 기반 인덱스 \n",
    "    - 비트맵 인덱스 \n",
    "    - 함수 기반 인덱스  \n",
    "    - 비트맵 조인 인덱스\n",
    "    - 도메인 인덱스 "
   ]
  },
  {
   "cell_type": "markdown",
   "id": "8221b6d3",
   "metadata": {},
   "source": [
    "## 분산 설계 \n",
    "- 분산 데이터베이스 개요 \n",
    "- 분산 데이터베이스 관리 시스템\n",
    "- 분산 설계 전략\n",
    "- 분산 설계 방식 \n",
    "    - 테이블 위치 분산 \n",
    "    - 분할(Fragmentation)\n",
    "    - 할당(Allocation)\n",
    "- 데이터 통합"
   ]
  },
  {
   "cell_type": "markdown",
   "id": "8b91fa92",
   "metadata": {},
   "source": [
    "## 보안 설계 \n",
    "- 접근 통제 기능\n",
    "- 보안 모델\n",
    "    - 접근 통제 행렬(Access control matrix)\n",
    "    - 기밀성 모델\n",
    "    - 무결성 모델\n",
    "- 접근 통제 정책\n",
    "- 접근 통제 매커니즘\n",
    "- 접근 통제 조건\n",
    "- 감사 추적"
   ]
  },
  {
   "cell_type": "markdown",
   "id": "344d2e7f",
   "metadata": {},
   "source": [
    "# 데이터베이스 이용 "
   ]
  },
  {
   "cell_type": "markdown",
   "id": "446738ec",
   "metadata": {},
   "source": [
    "## 데이터베이스 관리 시스템 \n",
    "- 개념적 데이터베이스 관리 시스템 아키텍처\n",
    "- 데이터베이스 서버 시작과 종료 \n",
    "    - 데이터베이스 서버 시작\n",
    "- 데이터베이스 구조\n",
    "    - 데이터 딕셔너리 \n",
    "    - 데이터베이스, 테이블 스페이스 및 데이터 파일 \n",
    "    - 데이터 블록, 확장 영역 및 세그먼트 간의 관계\n",
    "- 메모리 구조 \n",
    "- 프로세스 구조"
   ]
  },
  {
   "cell_type": "markdown",
   "id": "93c30f6e",
   "metadata": {},
   "source": [
    "## 데이터 액세스\n",
    "- 실행 구조\n",
    "    - 옵티마이저\n",
    "    - SQL 실행 단계\n",
    "- 명령어 \n",
    "    - 데이터 정의 언어 (DDL, Data DEfinition Language)\n",
    "    - 데이터 조작 언어 (DML, Data Manipulaion Language)\n",
    "    - 제어 명령어 (Control Statement)\n",
    "- 저장 프로시저 \n",
    "    - 저장 프로시저 설계 지침\n",
    "    - 저장 프로시저의 장점\n",
    "- 트리거(Trigger)\n",
    "    - 트리거 사용\n",
    "    - 트리거 유형\n",
    "    - 트리거링 이벤트와 제한 조건"
   ]
  },
  {
   "cell_type": "markdown",
   "id": "d4682100",
   "metadata": {},
   "source": [
    "## 트랜잭션 \n",
    "- 트랜잭션 관리\n",
    "- 트랜잭션 특성\n",
    "- 트랜잭션의 일관성\n",
    "    - 낮은 단계 트랜잭션 고립화 수준에서 발생할 수 있는 현상들\n",
    "    - 트랜잭션 고립화 수준 (Transaction Isolation Level)\n",
    "- 동시성 제어(Concurrency Control)\n",
    "    - 낙관적 동시성 제어\n",
    "    - 비관적 동시성 제어\n",
    "- 동시성 제어 기능\n",
    "- 동시성 구현 사례\n",
    "- 고장 회복(Recovery)\n",
    "- 로킹 지속 시간(Locking duration)"
   ]
  },
  {
   "cell_type": "markdown",
   "id": "f75c5615",
   "metadata": {},
   "source": [
    "## 백업 및 복구 \n",
    "- 장애 유형\n",
    "- 로그 파일\n",
    "- 데이터베이스 복구 알고리즘\n",
    "    - NO-UNDO/REDO\n",
    "        - 비동기적 갱신\n",
    "    - UNDO/NO-REDO\n",
    "        - 동기적 갱신\n",
    "    - UNDO/REDO\n",
    "        - 동기/비동기적 갱신\n",
    "    - NO-UNDO/NO-REDO\n",
    "        - 동시적으로 기록\n",
    "- 백업 종류\n",
    "- 데이터베이스 백업 가이드 라인"
   ]
  },
  {
   "cell_type": "markdown",
   "id": "9e910076",
   "metadata": {},
   "source": [
    "# 데이터베이스 성능 개선 "
   ]
  },
  {
   "cell_type": "markdown",
   "id": "92ef8440",
   "metadata": {},
   "source": [
    "## 성능 개선 방법론 \n",
    "- 성능 개선 목표 \n",
    "- 성능 개선 절차\n",
    "    - 분석 \n",
    "    - 이행\n",
    "    - 평가 \n",
    "- 성능 개선 접근방법\n",
    "- SQL 성능 분석\n",
    "    - 실행 계획 분석 사례\n",
    "- 성능 개선 도구 \n",
    "    - Oracle\n",
    "    - IBM UDB"
   ]
  },
  {
   "cell_type": "markdown",
   "id": "9cec73f2",
   "metadata": {},
   "source": [
    "## 조인\n",
    "- Nested-Loop 조인\n",
    "- Sort-Merge 조인\n",
    "- Hash 조인\n",
    "- Hybrid 조인"
   ]
  },
  {
   "cell_type": "markdown",
   "id": "4dc760a8",
   "metadata": {},
   "source": [
    "## 애플리케이션 성능 개선 \n",
    "- 온라인 프로그램 성능 개선\n",
    "- 온라인 프로그램의 성능 개선 사례 \n",
    "    - 상수 바인딩에 의해 발생되는 파싱 부하\n",
    "    - 웹 게시글 형태의 인터페이스 시 부분 범위 처리 \n",
    "    - 과다한 함수 사용으로 인한 부하 발생\n",
    "- 배치 프로그램의 성능 개선\n",
    "    - 절차적인 처리 방식의 비효율 \n",
    "    - 절차적인 처리방식의 보완 요소\n",
    "    - 집합적인 처리방식의 고려사항\n",
    "- 배치 프로그램의 성능 개선 방안\n",
    "    - 분석 함수(Analytic Function)를 통한 성능 개선 방안\n",
    "    - 파티션 스토리지 전략을 통한 성능 향상 방안"
   ]
  },
  {
   "cell_type": "markdown",
   "id": "f4875ba7",
   "metadata": {},
   "source": [
    "## 서버 성능 개선 \n",
    "- 객체 튜닝\n",
    "- 인스턴스 튜닝\n",
    "- 환경 튜닝"
   ]
  }
 ],
 "metadata": {
  "kernelspec": {
   "display_name": "Python 3",
   "language": "python",
   "name": "python3"
  },
  "language_info": {
   "codemirror_mode": {
    "name": "ipython",
    "version": 3
   },
   "file_extension": ".py",
   "mimetype": "text/x-python",
   "name": "python",
   "nbconvert_exporter": "python",
   "pygments_lexer": "ipython3",
   "version": "3.6.9"
  }
 },
 "nbformat": 4,
 "nbformat_minor": 5
}
