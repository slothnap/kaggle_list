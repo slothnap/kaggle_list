{
 "cells": [
  {
   "cell_type": "markdown",
   "id": "d99c03bf-7aa5-47fa-9ff6-483d483e0de0",
   "metadata": {},
   "source": [
    "### 데이터 거버넌스 프레임워크\n",
    "- 데이터 구조관리 (Data Architecture Management)\n",
    "- 데이터 모델링과 디자인 (Data Modeling and Design)\n",
    "- 데이터 저장관리 (Data Storage Management)\n",
    "- 데이터 보안관리 (Data Security Management)\n",
    "- 데이터 통합과 상호운영관리 (Data Integration and Interoperability)\n",
    "- 콘텐츠 관리 (Content Management)\n",
    "- 마스터 데이터 관리 (Master Data Management)\n",
    "- 비즈니스 인텔리전스 관리 (Business Intelligence Management)\n",
    "- 메타 데이터 관리 (Meta-data Management)\n",
    "- 데이터 품질 관리 (Data Quality Management)"
   ]
  }
 ],
 "metadata": {
  "kernelspec": {
   "display_name": "Python 3 (ipykernel)",
   "language": "python",
   "name": "python3"
  },
  "language_info": {
   "codemirror_mode": {
    "name": "ipython",
    "version": 3
   },
   "file_extension": ".py",
   "mimetype": "text/x-python",
   "name": "python",
   "nbconvert_exporter": "python",
   "pygments_lexer": "ipython3",
   "version": "3.10.6"
  }
 },
 "nbformat": 4,
 "nbformat_minor": 5
}
