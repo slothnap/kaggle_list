{
 "cells": [
  {
   "cell_type": "markdown",
   "id": "d3716e95",
   "metadata": {},
   "source": [
    " # 데이터 이해"
   ]
  },
  {
   "cell_type": "markdown",
   "id": "86a77996",
   "metadata": {},
   "source": [
    "## 데이터 품질 관리 프레임워크\n",
    "- 데이터 품질 관리 프레임워크 "
   ]
  },
  {
   "cell_type": "markdown",
   "id": "a0df48c2",
   "metadata": {},
   "source": [
    "## 표준 데이터 \n",
    "- 정의 및 관리 목적\n",
    "- 세부 관리 대상\n",
    "    - 표준 단어(Word) 사전 \n",
    "    - 표준 도메인(Domain) 사전\n",
    "    - 표준 용어(Terms) 사전\n",
    "    - 표준 코드\n",
    "    - 데이터 표준 요소 \n",
    "    - 표준 데이터 상관도"
   ]
  },
  {
   "cell_type": "markdown",
   "id": "f666f674",
   "metadata": {},
   "source": [
    "## 모델 데이터\n",
    "- 정의 및 관리 목적 \n",
    "- 세부 관리 대상 "
   ]
  },
  {
   "cell_type": "markdown",
   "id": "bbf925eb",
   "metadata": {},
   "source": [
    "## 관리 데이터 \n",
    "- 정의 및 관리 목적 \n",
    "- 세부 관리 대상 \n",
    "    - 사용 관리 데이터\n",
    "    - 장애 및 보안 관리 데이터\n",
    "    - 성능 관리 데이터 \n",
    "    - 흐름 관리 데이터 \n",
    "    - 품질 관리 데이터 "
   ]
  },
  {
   "cell_type": "markdown",
   "id": "cc93de43",
   "metadata": {},
   "source": [
    "## 업무 데이터 \n",
    "- 정의 및 관리 목적\n",
    "- 세부 관리 대상 \n",
    "    - 원천(Source) 데이터\n",
    "    - 운영(Operation) 데이터 \n",
    "    - 분석(Analysis) 데이터"
   ]
  },
  {
   "cell_type": "markdown",
   "id": "3f171408",
   "metadata": {},
   "source": [
    "# 데이터 구조 이해 "
   ]
  },
  {
   "cell_type": "markdown",
   "id": "78176a4d",
   "metadata": {},
   "source": [
    "## 개념 데이터 모델\n",
    "- 정의 및 관리 목적 \n",
    "- 세부 관리 대상\n",
    "    - 주제 영역(Subject Area)\n",
    "    - 핵심 엔터티(Kernal Entity)\n",
    "    - 핵심 관계"
   ]
  },
  {
   "cell_type": "markdown",
   "id": "7ede7174",
   "metadata": {},
   "source": [
    "## 데이터 참조 모델 \n",
    "- 정의 및 관리 목적 \n",
    "- 세부 관리 대상\n",
    "    - 데이터 참조 모델 "
   ]
  },
  {
   "cell_type": "markdown",
   "id": "d1f78783",
   "metadata": {},
   "source": [
    "## 논리 데이터 모델 \n",
    "- 정의 및 관리 목적 \n",
    "- 세부 관리 대상 \n",
    "    - 주제 영역(Subject Area)\n",
    "    - 엔터티(Entity)\n",
    "    - 관계(Relationship)\n",
    "    - 속성(Attribute)"
   ]
  },
  {
   "cell_type": "markdown",
   "id": "e3ff49bf",
   "metadata": {},
   "source": [
    "## 물리 데이터 모델 \n",
    "- 정의 및 관리 목적\n",
    "- 세부 관리 대상\n",
    "    - 주제 영역(Subject Area)\n",
    "    - 테이블\n",
    "    - 관계(Relationship)\n",
    "    - 컬럼 "
   ]
  },
  {
   "cell_type": "markdown",
   "id": "06876a7e",
   "metadata": {},
   "source": [
    "## 데이터베이스 \n",
    "- 정의 및 관리 목적 \n",
    "- 세부 관리 대상 \n",
    "    - 저장 공간 \n",
    "    - 테이블\n",
    "    - 제약 조건\n",
    "    - 인덱스\n",
    "    - 트리거\n",
    "    - DB 링크\n",
    "    - 프로시저 \n",
    "    - 뷰 \n",
    "    - 동의어 \n",
    "    - 롤"
   ]
  },
  {
   "cell_type": "markdown",
   "id": "8f9e1bab",
   "metadata": {},
   "source": [
    "## 사용자 뷰 \n",
    "- 정의 및 관리 목적\n",
    "- 세부 관리 대상\n",
    "    - 화면 \n",
    "    - 출력물"
   ]
  },
  {
   "cell_type": "markdown",
   "id": "50c2739f",
   "metadata": {},
   "source": [
    "# 데이터 관리 프로세스 이해 "
   ]
  },
  {
   "cell_type": "markdown",
   "id": "0f37f84d",
   "metadata": {},
   "source": [
    "## 데이터 관리 정책 \n",
    "- 정의 및 관리 목적 \n",
    "- 세부 관리 대상\n",
    "    - 데이터 관리 원칙 \n",
    "    - 데이터 관리 프로세스 \n",
    "    - 데이터 관리 조직\n",
    "- 데이터 관리 프로세스 \n",
    "    - 데이터 관리 프로세스 \n",
    "    - 데이터 관리 정책 수립 프로세스 "
   ]
  },
  {
   "cell_type": "markdown",
   "id": "c572c54d",
   "metadata": {},
   "source": [
    "## 데이터 표준 관리 \n",
    "- 정의 및 관리 목적\n",
    "- 세부 관리 대상\n",
    "- 데이터 표준 관리 프로세스\n",
    "    - 데이터 표준 관리 프로세스 \n",
    "    - 데이터 표준 개선 프로세스 "
   ]
  },
  {
   "cell_type": "markdown",
   "id": "9041426c",
   "metadata": {},
   "source": [
    "## 요구 사항 관리 \n",
    "- 정의 및 관리 목적\n",
    "- 세부 관리 대상 \n",
    "    - 외부 인터페이스 요건 \n",
    "    - 기능 개선 요건 \n",
    "    - 성능 개선 요건\n",
    "    - 보안 개선 요건\n",
    "- 요구 사항 관리 프로세스 "
   ]
  },
  {
   "cell_type": "markdown",
   "id": "e2f45076",
   "metadata": {},
   "source": [
    "## 데이터 모델 관리 \n",
    "- 정의 및 관리 목적\n",
    "- 세부 관리 대상\n",
    "- 데이터 모델 관리 프로세스\n",
    "    - 데이터 모델 관리 프로세스 \n",
    "    - 데이터 모델 개선 프로세스 "
   ]
  },
  {
   "cell_type": "markdown",
   "id": "79b8f72a",
   "metadata": {},
   "source": [
    "## 데이터 흐름 관리 \n",
    "- 정의 및 관리 목적 \n",
    "- 세부 관리 대상\n",
    "- 데이터 흐름 관리 프로세스\n",
    "    - 데이터 흐름 관리 프로세스"
   ]
  },
  {
   "cell_type": "markdown",
   "id": "f637d425",
   "metadata": {},
   "source": [
    "## 데이터베이스 관리 \n",
    "- 정의 및 관리 목적 \n",
    "- 세부 관리 대상\n",
    "- 데이터베이스 관리 프로세스\n",
    "    - 데이터베이스 관리 프로세스 "
   ]
  },
  {
   "cell_type": "markdown",
   "id": "53a14c8c",
   "metadata": {},
   "source": [
    "## 데이터 활용 관리 \n",
    "- 정의 및 관리 목적 \n",
    "- 세부 관리 대상\n",
    "    - 핵심 데이터 \n",
    "    - 측정 방법 \n",
    "- 데이터 활용 관리 프로세스 \n",
    "    - 데이터 활용 관리 프로세스 "
   ]
  }
 ],
 "metadata": {
  "kernelspec": {
   "display_name": "Python 3",
   "language": "python",
   "name": "python3"
  },
  "language_info": {
   "codemirror_mode": {
    "name": "ipython",
    "version": 3
   },
   "file_extension": ".py",
   "mimetype": "text/x-python",
   "name": "python",
   "nbconvert_exporter": "python",
   "pygments_lexer": "ipython3",
   "version": "3.6.9"
  }
 },
 "nbformat": 4,
 "nbformat_minor": 5
}
