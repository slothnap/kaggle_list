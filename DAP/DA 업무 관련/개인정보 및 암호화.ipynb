{
 "cells": [
  {
   "cell_type": "markdown",
   "id": "d1fba463-29dd-43f5-bea2-c6154f20c9f4",
   "metadata": {},
   "source": [
    "* 검토 배경\n",
    "    - 현재 프로젝트 단위로 개인정보 대상을 정의하였고, 프로젝트 마다 일부 개인정보 기준이 상이하였음.\n",
    "    - 보안관리팀과 협의하여 개인정보 정책 및 기준을 수립하 하고자 함.\n",
    "\n",
    "\n",
    "* 개인정보 및 암호화 대상 현황\n",
    "\t- 개인정보\n",
    "\t\t- 인증정보(필수)\n",
    "\t\t\t- 비밀번호\n",
    "\t\t- 고유식별정보(필수)\n",
    "\t\t\t- 주민등록번호\n",
    "\t\t\t- 외국인등록번호\n",
    "\t\t\t- 운전면허번호\n",
    "\t\t\t- 여권번호\n",
    "\t\t- 금융정보(필수)\n",
    "\t\t\t- 신용카드번호\n",
    "\t\t\t- 계좌번호(가상계좌번호 포함)\n",
    "\t\t- 개인정보(권장)\n",
    "\t\t\t- 성명\n",
    "\t\t\t- 전화번호\n",
    "\t\t\t- 휴대전화번호\n",
    "\t\t\t- 이메일\n",
    "\t\t\t- 주소(거주지)\n",
    "\t\t\t- IP 주소\n",
    "\t\t\t- UID\n",
    "\t\t\t- 사업자등록번호\n",
    "\t\t\t- 지갑주소\n",
    "\t\t- 생체정보(필수)\n",
    "\t\t\t- 지문\n",
    "\t\t\t- 홍채\n",
    "\t\t\t- 정맥\n",
    "\t\t\t- 음성\n",
    "\t\t\t- 필적 \n",
    "\t- 암호화\n",
    "\t\t- 정보통신망법 기준 개인정보 암호화 대상\n",
    "\t\t\t- 비밀번호\n",
    "\t\t\t- 주민등록번호\n",
    "\t\t\t- 외국인등록번호\n",
    "\t\t\t- 여권번호\n",
    "\t\t\t- 운전면허번호\n",
    "\t\t\t- 신용카드번호\n",
    "\t\t\t- 계좌번호\n",
    "\t\t\t- 바이오정보\n",
    "\n",
    "* 관리방법\n",
    "\t- META# ERD 컬럼별 개인정보 및 암호화 대상 관리 "
   ]
  }
 ],
 "metadata": {
  "kernelspec": {
   "display_name": "Python 3 (ipykernel)",
   "language": "python",
   "name": "python3"
  },
  "language_info": {
   "codemirror_mode": {
    "name": "ipython",
    "version": 3
   },
   "file_extension": ".py",
   "mimetype": "text/x-python",
   "name": "python",
   "nbconvert_exporter": "python",
   "pygments_lexer": "ipython3",
   "version": "3.10.6"
  }
 },
 "nbformat": 4,
 "nbformat_minor": 5
}
