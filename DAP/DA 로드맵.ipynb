{
 "cells": [
  {
   "cell_type": "markdown",
   "id": "d4371ebe",
   "metadata": {},
   "source": [
    "### 데이터 모델 관리\n",
    "- 데이터 모델링 표기법을 이해 및 사용할 수 있다.\n",
    "\t- 바커 표기법, 엔터티, 속성, 관계, 식별자, 서브타입 등\n",
    "- 정규화 단계 및 의미를 알고 활용할 수 있다. \n",
    "- 데이터 모델링 단계별 이해 및 활용할 수 있다. \n",
    "- 좋은 데이터 모델의 요소를 이해 및 활용할 수 있다. \n",
    "\n",
    "\n",
    "### 데이터 표준 관리\n",
    "- 데이터 표준화 정의 및 구성요소를 이해 하고 있다. \n",
    "- 데이터 표준 사전을 관리할 수 있다. \n",
    "\t- 표준 단어, 용어, 코드, 도메인 등\n",
    "- 데이터 표준 관리 프로세스를 정의 및 관리할 수 있다. \n",
    "\n",
    "\n",
    "### 데이터 품질 관리 \n",
    "- 규칙기반 데이터 품질 조사를 진행할 수 있다.\n",
    "\t- 관계, 필수, 코드, 패턴 등\n",
    "- 비즈니스 룰기반 데이터 품질 조사를 진행할 수 있다. \n",
    "- 데이터 품질 관리 프로세스를 정의 및 관리할 수 있다. \n",
    "\n",
    "\n",
    "### 데이터 흐름 관리 \n",
    "- 비즈니스의 흐름도 정의를 이해하고 있다. \n",
    "- 비즈니스의 흐름 파악 및 정의할 수 있다. \n",
    "- 비즈니스 흐름도 작성할 수 있다.  "
   ]
  }
 ],
 "metadata": {
  "kernelspec": {
   "display_name": "Python 3 (ipykernel)",
   "language": "python",
   "name": "python3"
  },
  "language_info": {
   "codemirror_mode": {
    "name": "ipython",
    "version": 3
   },
   "file_extension": ".py",
   "mimetype": "text/x-python",
   "name": "python",
   "nbconvert_exporter": "python",
   "pygments_lexer": "ipython3",
   "version": "3.10.6"
  }
 },
 "nbformat": 4,
 "nbformat_minor": 5
}
