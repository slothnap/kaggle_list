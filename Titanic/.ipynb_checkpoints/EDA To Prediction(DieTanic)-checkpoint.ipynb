{
 "cells": [
  {
   "cell_type": "markdown",
   "id": "further-plymouth",
   "metadata": {},
   "source": [
    "## **Data Dictionary**\n",
    "\n",
    "* Survived: 0 = No, 1 = Yes\n",
    "* pclass  : Ticket class 1 = 1st, 2 = 2nd, 3 = 3rd\n",
    "* sibsp   : # of sibilings / spouses aboard the Titanic\n",
    "* parch   : # of parents   / children aboard the Titanic\n",
    "* ticket  : Ticket number\n",
    "* cabin   : Cabin number\n",
    "* embarked: Port of Embarkation C = Cherbourg, Q = Queenstown, S = Southampton"
   ]
  },
  {
   "cell_type": "markdown",
   "id": "injured-mount",
   "metadata": {},
   "source": [
    "# *Contents of the Notebook* #  \n",
    "\n",
    "### Part1: Exploratory Data Analysis(EDA):  ###\n",
    "1) Analysis of the features\n",
    "\n",
    "2) Finding any releations or trends considering multiple features\n",
    "\n",
    "  \n",
    "### Part2: Feature Enginearing and Data Cleaning ###\n",
    "1) Adding any few features \n",
    "\n",
    "2) Removing redundant feautres\n",
    "\n",
    "3) Converting features into suitable form for modeling  \n",
    "\n",
    "\n",
    "### Part3: Predictive Modeling ###\n",
    "1) Running Basic Algorithms.\n",
    "\n",
    "2) Cross Validation\n",
    "\n",
    "3) Ensembling \n",
    "\n",
    "4) Important Features Extraction "
   ]
  },
  {
   "cell_type": "markdown",
   "id": "designing-majority",
   "metadata": {},
   "source": [
    "### Part1: Exploratory Data Analysis(EDA): ###"
   ]
  },
  {
   "cell_type": "code",
   "execution_count": 291,
   "id": "built-composition",
   "metadata": {},
   "outputs": [],
   "source": [
    "import numpy as np \n",
    "import pandas as pd\n",
    "import matplotlib.pyplot as plt\n",
    "import seaborn as sns\n",
    "plt.style.use('fivethirtyeight')\n",
    "import warnings\n",
    "warnings.filterwarnings('ignore')\n",
    "%matplotlib inline"
   ]
  },
  {
   "cell_type": "code",
   "execution_count": 292,
   "id": "loving-relative",
   "metadata": {},
   "outputs": [],
   "source": [
    "data = pd.read_csv('../Titanic/train.csv')"
   ]
  },
  {
   "cell_type": "code",
   "execution_count": 293,
   "id": "latest-heating",
   "metadata": {},
   "outputs": [
    {
     "data": {
      "text/plain": [
       "PassengerId      0\n",
       "Survived         0\n",
       "Pclass           0\n",
       "Name             0\n",
       "Sex              0\n",
       "Age            177\n",
       "SibSp            0\n",
       "Parch            0\n",
       "Ticket           0\n",
       "Fare             0\n",
       "Cabin          687\n",
       "Embarked         2\n",
       "dtype: int64"
      ]
     },
     "execution_count": 293,
     "metadata": {},
     "output_type": "execute_result"
    }
   ],
   "source": [
    "data.isnull().sum() #checking for total null values"
   ]
  },
  {
   "cell_type": "markdown",
   "id": "experienced-scanner",
   "metadata": {},
   "source": [
    "### How many Survived?? ###"
   ]
  },
  {
   "cell_type": "code",
   "execution_count": null,
   "id": "fitting-jimmy",
   "metadata": {},
   "outputs": [],
   "source": [
    "f,ax=plt.subplots(1,2,figsize=(18,8))\n",
    "data['Survived'].value_counts().plot.pie(explode=[0,0.1],autopct='%1.1f%%',ax=ax[0],shadow=True)\n",
    "ax[0].set_title('Survived')\n",
    "ax[0].set_ylabel('')\n",
    "sns.countplot('Survived',data=data,ax=ax[1])\n",
    "ax[1].set_title('Survived')\n",
    "plt.show()"
   ]
  },
  {
   "cell_type": "markdown",
   "id": "organizational-genius",
   "metadata": {},
   "source": [
    "### Types Of Features ###\n",
    "#### Categorical Features: ####  \n",
    "A categorical variable is one that has two or more categories and each value in that feature can be categorised by them.For example, gender is a categorical variable having two categories (male and female). Now we cannot sort or give any ordering to such variables. They are also known as Nominal Variables.\n",
    "\n",
    "**Categorical Features in the dataset: Sex,Embarked.**  \n",
    "\n",
    "\n",
    "\n",
    "#### Ordinal Features: ####  \n",
    "An ordinal variable is similar to categorical values, but the difference between them is that we can have relative ordering or sorting between the values. For eg: If we have a feature like Height with values Tall, Medium, Short, then Height is a ordinal variable. Here we can have a relative sort in the variable.\n",
    "\n",
    "**Ordinal Features in the dataset: PClass**  \n",
    "\n",
    "\n",
    "\n",
    "#### Continous Feature: ####  \n",
    "A feature is said to be continous if it can take values between any two points or between the minimum or maximum values in the features column.\n",
    "\n",
    "**Continous Features in the dataset: Age**"
   ]
  },
  {
   "cell_type": "markdown",
   "id": "acting-failing",
   "metadata": {},
   "source": [
    "### Sex -> Categorical Feature ###"
   ]
  },
  {
   "cell_type": "code",
   "execution_count": null,
   "id": "competitive-income",
   "metadata": {
    "scrolled": true
   },
   "outputs": [],
   "source": [
    "data.groupby(['Sex','Survived'])['Survived'].count()\n",
    "# 1 = live, 0 = dead"
   ]
  },
  {
   "cell_type": "code",
   "execution_count": null,
   "id": "amended-charge",
   "metadata": {},
   "outputs": [],
   "source": [
    "# 그래프 갯수 및 사이즈 설정\n",
    "# figure == 한개 액자, ax == 액자 목록\n",
    "figure, ax = plt.subplots(1,2, figsize=(18,8))\n",
    "\n",
    "# 첫번째 그래프 표현\n",
    "data[['Sex', 'Survived']].groupby(['Sex']).mean().plot.bar(ax = ax[0])\n",
    "#ax[0].set(ylim=(0,1))\n",
    "\n",
    "# 두번째 그래프 표현\n",
    "# hue == 갯수로 나타낼 항목\n",
    "sns.countplot('Sex', hue='Survived', data=data, ax = ax[1])\n",
    "\n",
    "# 그래프 이름 정하기\n",
    "ax[0].set_title('Survived vs Sex')\n",
    "ax[1].set_title('Sex:Survived vs Dead')\n",
    "plt.legend(['Dead', 'Live'])\n",
    "\n",
    "plt.show()"
   ]
  },
  {
   "cell_type": "markdown",
   "id": "postal-arkansas",
   "metadata": {},
   "source": [
    "### Pclass -> Ordinal Feature ###   \n",
    "\n",
    "            == 라벨(1,2,3) 인코딩 해도된다."
   ]
  },
  {
   "cell_type": "code",
   "execution_count": null,
   "id": "motivated-methodology",
   "metadata": {},
   "outputs": [],
   "source": [
    "pd.crosstab(data.Pclass, data.Survived, margins = True).style.background_gradient(cmap = 'summer_r')"
   ]
  },
  {
   "cell_type": "code",
   "execution_count": null,
   "id": "fifty-roberts",
   "metadata": {
    "scrolled": false
   },
   "outputs": [],
   "source": [
    "f,ax=plt.subplots(1,2,figsize=(18,8))\n",
    "\n",
    "data['Pclass'].value_counts().plot.bar(color=['#CD7F32','#FFDF00','#D3D3D3'],ax=ax[0])\n",
    "\n",
    "ax[0].set_title('Number Of Passengers By Pclass')\n",
    "ax[0].set_ylabel('Count')\n",
    "ax[0].set_xlabel('Pclass')\n",
    "\n",
    "sns.countplot('Pclass',hue='Survived',data=data,ax=ax[1])\n",
    "ax[1].set_title('Pclass:Survived vs Dead')\n",
    "\n",
    "plt.legend(['Dead', 'Live'])\n",
    "plt.show()"
   ]
  },
  {
   "cell_type": "code",
   "execution_count": null,
   "id": "absolute-afghanistan",
   "metadata": {
    "scrolled": true
   },
   "outputs": [],
   "source": [
    "pd.crosstab([data.Sex,data.Survived],data.Pclass,margins=True).style.background_gradient(cmap='summer_r')"
   ]
  },
  {
   "cell_type": "code",
   "execution_count": null,
   "id": "demographic-canada",
   "metadata": {},
   "outputs": [],
   "source": [
    "sns.factorplot('Pclass', 'Survived', hue='Sex', data=data)\n",
    "plt.show()"
   ]
  },
  {
   "cell_type": "markdown",
   "id": "hearing-thomas",
   "metadata": {},
   "source": [
    "### Age -> Continous Feature ###"
   ]
  },
  {
   "cell_type": "code",
   "execution_count": null,
   "id": "ongoing-bibliography",
   "metadata": {},
   "outputs": [],
   "source": [
    "print('Oldest Passenger was of:',data['Age'].max(),'Years')\n",
    "print('Youngest Passenger was of:',data['Age'].min(),'Years')\n",
    "print('Average Age on the ship:',data['Age'].mean(),'Years')"
   ]
  },
  {
   "cell_type": "code",
   "execution_count": null,
   "id": "respiratory-following",
   "metadata": {},
   "outputs": [],
   "source": [
    "f, ax = plt.subplots(1,2,figsize = (18,8))\n",
    "\n",
    "sns.violinplot(\"Pclass\",\"Age\", hue=\"Survived\", data = data, split = True, ax = ax[0])\n",
    "\n",
    "ax[0].set_title('Pclass and Age vs Survived')\n",
    "ax[0].set_yticks(range(0,110,10))\n",
    "\n",
    "sns.violinplot(\"Sex\",\"Age\", hue=\"Survived\", data = data, split = True, ax = ax[1])\n",
    "ax[1].set_title('Sex and Age vs Survived')\n",
    "ax[1].set_yticks(range(0,110,10))\n",
    "plt.show()"
   ]
  },
  {
   "cell_type": "code",
   "execution_count": 295,
   "id": "fundamental-duration",
   "metadata": {},
   "outputs": [],
   "source": [
    "data['Initial']=0\n",
    "\n",
    "for i in data:\n",
    "    data['Initial']=data.Name.str.extract('([A-Za-z]+)\\.') #lets extract the Salutations"
   ]
  },
  {
   "cell_type": "code",
   "execution_count": null,
   "id": "welcome-colleague",
   "metadata": {},
   "outputs": [],
   "source": [
    "pd.crosstab(data.Initial,data.Sex).T.style.background_gradient(cmap='summer_r') #Checking the Initials with the Sex"
   ]
  },
  {
   "cell_type": "code",
   "execution_count": 297,
   "id": "linear-antibody",
   "metadata": {},
   "outputs": [],
   "source": [
    "data['Initial'].replace(['Mlle','Mme','Ms','Dr','Major','Lady','Countess','Jonkheer','Col','Rev','Capt','Sir','Don']\n",
    "                        ,['Miss','Miss','Miss','Mr','Mr','Mrs','Mrs','Other','Other','Other','Mr','Mr','Mr']\n",
    "                        ,inplace=True)"
   ]
  },
  {
   "cell_type": "code",
   "execution_count": null,
   "id": "nearby-browse",
   "metadata": {},
   "outputs": [],
   "source": [
    "data.groupby('Initial')['Age'].mean() #lets check the average age by Initials"
   ]
  },
  {
   "cell_type": "markdown",
   "id": "digital-fluid",
   "metadata": {},
   "source": [
    "### Filling NaN Ages ###"
   ]
  },
  {
   "cell_type": "code",
   "execution_count": 298,
   "id": "fresh-uniform",
   "metadata": {},
   "outputs": [],
   "source": [
    "## Assigning the NaN Values with the Ceil values of the mean ages\n",
    "data.loc[(data.Age.isnull())&(data.Initial=='Mr'),'Age']=33\n",
    "data.loc[(data.Age.isnull())&(data.Initial=='Mrs'),'Age']=36\n",
    "data.loc[(data.Age.isnull())&(data.Initial=='Master'),'Age']=5\n",
    "data.loc[(data.Age.isnull())&(data.Initial=='Miss'),'Age']=22\n",
    "data.loc[(data.Age.isnull())&(data.Initial=='Other'),'Age']=46"
   ]
  },
  {
   "cell_type": "code",
   "execution_count": null,
   "id": "adult-viking",
   "metadata": {},
   "outputs": [],
   "source": [
    "data.Age.isnull().any()"
   ]
  },
  {
   "cell_type": "code",
   "execution_count": null,
   "id": "prospective-monaco",
   "metadata": {},
   "outputs": [],
   "source": [
    "f,ax=plt.subplots(1,2,figsize=(20,10))\n",
    "\n",
    "data[data['Survived'] == 0].Age.plot.hist(ax = ax[0], bins = 20,edgecolor = 'black',color = 'red')\n",
    "\n",
    "ax[0].set_title('Survived= 0')\n",
    "x1=list(range(0,85,5))\n",
    "ax[0].set_xticks(x1)\n",
    "\n",
    "data[data['Survived'] == 1].Age.plot.hist(ax = ax[1], color = 'green',bins = 20,edgecolor = 'black')\n",
    "\n",
    "ax[1].set_title('Survived= 1')\n",
    "x2=list(range(0,85,5))\n",
    "ax[1].set_xticks(x2)\n",
    "plt.show()"
   ]
  },
  {
   "cell_type": "code",
   "execution_count": null,
   "id": "interested-arcade",
   "metadata": {},
   "outputs": [],
   "source": [
    "sns.factorplot('Pclass','Survived',col='Initial',data=data)\n",
    "plt.show()"
   ]
  },
  {
   "cell_type": "markdown",
   "id": "protective-mason",
   "metadata": {},
   "source": [
    "### Embarked -> Categorical Value ###"
   ]
  },
  {
   "cell_type": "code",
   "execution_count": null,
   "id": "expanded-surprise",
   "metadata": {},
   "outputs": [],
   "source": [
    "pd.crosstab([data.Embarked, data.Pclass],[data.Sex,data.Survived]\n",
    "            , margins = True).style.background_gradient(cmap='summer_r')"
   ]
  },
  {
   "cell_type": "code",
   "execution_count": null,
   "id": "funded-renewal",
   "metadata": {},
   "outputs": [],
   "source": [
    "sns.factorplot('Embarked', 'Survived', data = data)\n",
    "fig = plt.gcf()\n",
    "fig.set_size_inches(5,3)\n",
    "plt.show()"
   ]
  },
  {
   "cell_type": "code",
   "execution_count": null,
   "id": "binding-morning",
   "metadata": {},
   "outputs": [],
   "source": [
    "f,ax=plt.subplots(2,2,figsize=(20,15))\n",
    "\n",
    "sns.countplot('Embarked',data=data,ax=ax[0,0])\n",
    "ax[0,0].set_title('No. Of Passengers Boarded')\n",
    "\n",
    "sns.countplot('Embarked',hue='Sex',data=data,ax=ax[0,1])\n",
    "ax[0,1].set_title('Male-Female Split for Embarked')\n",
    "\n",
    "sns.countplot('Embarked',hue='Survived',data=data,ax=ax[1,0])\n",
    "ax[1,0].set_title('Embarked vs Survived')\n",
    "ax[1,0].legend(['Dead','Live'])\n",
    "\n",
    "sns.countplot('Embarked',hue='Pclass',data=data,ax=ax[1,1])\n",
    "ax[1,1].set_title('Embarked vs Pclass')\n",
    "\n",
    "plt.subplots_adjust(wspace=0.2,hspace=0.5)\n",
    "plt.show()"
   ]
  },
  {
   "cell_type": "code",
   "execution_count": null,
   "id": "honest-fifth",
   "metadata": {},
   "outputs": [],
   "source": [
    "sns.factorplot('Pclass','Survived',hue='Sex',col='Embarked',data=data)\n",
    "plt.show()"
   ]
  },
  {
   "cell_type": "markdown",
   "id": "recorded-labor",
   "metadata": {},
   "source": [
    "#### Filling Embarked NaN ####  \n",
    "As we saw that maximum passengers boarded from Port S, we replace NaN with S."
   ]
  },
  {
   "cell_type": "code",
   "execution_count": 301,
   "id": "continuous-storm",
   "metadata": {},
   "outputs": [],
   "source": [
    "data['Embarked'].fillna('S', inplace = True)"
   ]
  },
  {
   "cell_type": "markdown",
   "id": "violent-trademark",
   "metadata": {},
   "source": [
    "### SibSip -> Discrete Feature ###   \n",
    "This feature represents whether a person is alone or with his family members.   \n",
    "\n",
    "Sibling = brother, sister, stepbrother, stepsister   \n",
    "\n",
    "Spouse = husband, wife   "
   ]
  },
  {
   "cell_type": "code",
   "execution_count": null,
   "id": "handy-flashing",
   "metadata": {},
   "outputs": [],
   "source": [
    "pd.crosstab([data.SibSp], data.Survived).style.background_gradient(cmap= 'summer_r')"
   ]
  },
  {
   "cell_type": "code",
   "execution_count": null,
   "id": "tropical-grave",
   "metadata": {},
   "outputs": [],
   "source": [
    "f,ax=plt.subplots(1,2,figsize=(20,8))\n",
    "\n",
    "sns.barplot('SibSp','Survived',data=data,ax=ax[0])\n",
    "ax[0].set_title('SibSp vs Survived')\n",
    "\n",
    "sns.factorplot('SibSp','Survived',data=data,ax=ax[1])\n",
    "ax[1].set_title('SibSp vs Survived')\n",
    "\n",
    "plt.close(3)\n",
    "plt.show()"
   ]
  },
  {
   "cell_type": "code",
   "execution_count": null,
   "id": "fancy-defense",
   "metadata": {},
   "outputs": [],
   "source": [
    "pd.crosstab(data.SibSp,data.Pclass).style.background_gradient(cmap='summer_r')"
   ]
  },
  {
   "cell_type": "markdown",
   "id": "vietnamese-conversation",
   "metadata": {},
   "source": [
    "### Parch ###"
   ]
  },
  {
   "cell_type": "code",
   "execution_count": null,
   "id": "rental-throw",
   "metadata": {},
   "outputs": [],
   "source": [
    "pd.crosstab(data.Parch,data.Pclass).style.background_gradient(cmap='summer_r')"
   ]
  },
  {
   "cell_type": "code",
   "execution_count": null,
   "id": "enhanced-genome",
   "metadata": {},
   "outputs": [],
   "source": [
    "f,ax=plt.subplots(1,2,figsize=(20,8))\n",
    "sns.barplot('Parch','Survived',data=data,ax=ax[0])\n",
    "ax[0].set_title('Parch vs Survived')\n",
    "sns.factorplot('Parch','Survived',data=data,ax=ax[1])\n",
    "ax[1].set_title('Parch vs Survived')\n",
    "#plt.close(2)\n",
    "plt.show()"
   ]
  },
  {
   "cell_type": "markdown",
   "id": "alpha-malta",
   "metadata": {},
   "source": [
    "### Fare -> Continous Feature ###"
   ]
  },
  {
   "cell_type": "code",
   "execution_count": null,
   "id": "musical-savings",
   "metadata": {},
   "outputs": [],
   "source": [
    "print('Highest Fare was:',data['Fare'].max())\n",
    "print('Lowest Fare was:',data['Fare'].min())\n",
    "print('Average Fare was:',data['Fare'].mean())"
   ]
  },
  {
   "cell_type": "code",
   "execution_count": null,
   "id": "dress-communication",
   "metadata": {},
   "outputs": [],
   "source": [
    "f,ax=plt.subplots(1,3,figsize=(20,8))\n",
    "\n",
    "sns.distplot(data[data['Pclass']==1].Fare,ax=ax[0])\n",
    "ax[0].set_title('Fares in Pclass 1')\n",
    "\n",
    "sns.distplot(data[data['Pclass']==2].Fare,ax=ax[1])\n",
    "ax[1].set_title('Fares in Pclass 2')\n",
    "\n",
    "sns.distplot(data[data['Pclass']==3].Fare,ax=ax[2])\n",
    "ax[2].set_title('Fares in Pclass 3')\n",
    "\n",
    "plt.show()"
   ]
  },
  {
   "cell_type": "markdown",
   "id": "creative-beads",
   "metadata": {},
   "source": [
    "### Observations in a Nutshell for all features: ###   \n",
    "**Sex**: The chance of survival for women is high as compared to men.\n",
    "\n",
    "**Pclass**:There is a visible trend that being a **1st class passenger** gives you better chances of survival. The survival rate for **Pclass3 is very low**. For women, the chance of survival from Pclass1 is almost 1 and is high too for those from **Pclass2. Money Wins!!!.**\n",
    "\n",
    "**Age**: Children less than 5-10 years do have a high chance of survival. Passengers between age group 15 to 35 died a lot.\n",
    "\n",
    "**Embarked**: This is a very interesting feature. **The chances of survival at C looks to be better than even though the majority of Pclass1 passengers got up at S.** Passengers at Q were all from **Pclass3.**\n",
    "\n",
    "**Parch+SibSp**: Having 1-2 siblings,spouse on board or 1-3 Parents shows a greater chance of probablity rather than being alone or having a large family travelling with you."
   ]
  },
  {
   "cell_type": "markdown",
   "id": "urban-looking",
   "metadata": {},
   "source": [
    "### Correlation Between The Features ###"
   ]
  },
  {
   "cell_type": "code",
   "execution_count": null,
   "id": "laughing-scene",
   "metadata": {},
   "outputs": [],
   "source": [
    "sns.heatmap(data.corr(), annot = True, cmap = 'RdYlGn', linewidths = 0.2) #data.corr()-->correlation matrix\n",
    "\n",
    "fig=plt.gcf()\n",
    "fig.set_size_inches(10,8)\n",
    "\n",
    "plt.show()"
   ]
  },
  {
   "cell_type": "markdown",
   "id": "modular-lyric",
   "metadata": {},
   "source": [
    "### Part2: Feature Engineering and Data Cleaning ###\n",
    "Now what is Feature Engineering?\n",
    "\n",
    "Whenever we are given a dataset with features, it is not necessary that all the features will be important. There maybe be many redundant features which should be eliminated. Also we can get or add new features by observing or extracting information from other features.\n",
    "\n",
    "An example would be getting the Initals feature using the Name Feature. Lets see if we can get any new features and eliminate a few. Also we will tranform the existing relevant features to suitable form for Predictive Modeling."
   ]
  },
  {
   "cell_type": "markdown",
   "id": "apparent-automation",
   "metadata": {},
   "source": [
    "### Age_band ###"
   ]
  },
  {
   "cell_type": "code",
   "execution_count": null,
   "id": "swiss-isolation",
   "metadata": {},
   "outputs": [],
   "source": [
    "data['Age_band']=0\n",
    "data.loc[data['Age']<=16,'Age_band']=0\n",
    "data.loc[(data['Age']>16)&(data['Age']<=32),'Age_band']=1\n",
    "data.loc[(data['Age']>32)&(data['Age']<=48),'Age_band']=2\n",
    "data.loc[(data['Age']>48)&(data['Age']<=64),'Age_band']=3\n",
    "data.loc[data['Age']>64,'Age_band']=4"
   ]
  },
  {
   "cell_type": "code",
   "execution_count": null,
   "id": "identical-auction",
   "metadata": {},
   "outputs": [],
   "source": [
    "data.head(2)"
   ]
  },
  {
   "cell_type": "code",
   "execution_count": null,
   "id": "premium-strengthening",
   "metadata": {},
   "outputs": [],
   "source": [
    "data['Age_band'].value_counts().to_frame().style.background_gradient(cmap='summer')#checking the number of passenegers in each band"
   ]
  },
  {
   "cell_type": "code",
   "execution_count": null,
   "id": "wired-height",
   "metadata": {},
   "outputs": [],
   "source": [
    "sns.factorplot('Age_band','Survived',data=data,col='Pclass')\n",
    "plt.show()"
   ]
  },
  {
   "cell_type": "markdown",
   "id": "streaming-franklin",
   "metadata": {},
   "source": [
    "### Family_Size and Alone ###"
   ]
  },
  {
   "cell_type": "code",
   "execution_count": 308,
   "id": "higher-gnome",
   "metadata": {},
   "outputs": [],
   "source": [
    "data['Family_Size']=0\n",
    "data['Family_Size']=data['Parch']+data['SibSp']#family size\n",
    "data['Alone']=0\n",
    "data.loc[data.Family_Size==0,'Alone']=1#Alone"
   ]
  },
  {
   "cell_type": "code",
   "execution_count": 316,
   "id": "minimal-heavy",
   "metadata": {},
   "outputs": [
    {
     "data": {
      "image/png": "[encoded data removed]",
      "text/plain": [
       "<Figure size 1296x432 with 2 Axes>"
      ]
     },
     "metadata": {
      "needs_background": "light"
     },
     "output_type": "display_data"
    },
    {
     "data": {
      "image/png": "[encoded data removed]",
      "text/plain": [
       "<Figure size 360x360 with 1 Axes>"
      ]
     },
     "metadata": {
      "needs_background": "light"
     },
     "output_type": "display_data"
    },
    {
     "data": {
      "image/png": "[encoded data removed]",
      "text/plain": [
       "<Figure size 360x360 with 1 Axes>"
      ]
     },
     "metadata": {
      "needs_background": "light"
     },
     "output_type": "display_data"
    }
   ],
   "source": [
    "f,ax=plt.subplots(1,2,figsize=(18,6))\n",
    "\n",
    "sns.factorplot('Family_Size','Survived',data=data,ax=ax[0])\n",
    "ax[0].set_title('Family_Size vs Survived')\n",
    "\n",
    "sns.factorplot('Alone','Survived',data=data,ax=ax[1])\n",
    "ax[1].set_title('Alone vs Survived')\n",
    "\n",
    "#plt.close(1)\n",
    "plt.show()"
   ]
  },
  {
   "cell_type": "code",
   "execution_count": null,
   "id": "invalid-population",
   "metadata": {},
   "outputs": [],
   "source": []
  }
 ],
 "metadata": {
  "kernelspec": {
   "display_name": "Python 3",
   "language": "python",
   "name": "python3"
  },
  "language_info": {
   "codemirror_mode": {
    "name": "ipython",
    "version": 3
   },
   "file_extension": ".py",
   "mimetype": "text/x-python",
   "name": "python",
   "nbconvert_exporter": "python",
   "pygments_lexer": "ipython3",
   "version": "3.8.5"
  }
 },
 "nbformat": 4,
 "nbformat_minor": 5
}
