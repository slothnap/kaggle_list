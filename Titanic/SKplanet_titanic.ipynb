{
 "cells": [
  {
   "cell_type": "code",
   "execution_count": 35,
   "id": "charitable-tunisia",
   "metadata": {},
   "outputs": [],
   "source": [
    "import numpy as np \n",
    "import pandas as pd\n",
    "import matplotlib.pyplot as plt\n",
    "import seaborn as sns\n",
    "plt.style.use('fivethirtyeight')\n",
    "import warnings\n",
    "warnings.filterwarnings('ignore')\n",
    "%matplotlib inline"
   ]
  },
  {
   "cell_type": "code",
   "execution_count": 24,
   "id": "fourth-latino",
   "metadata": {},
   "outputs": [],
   "source": [
    "data = pd.read_csv('../Titanic/train.csv')"
   ]
  },
  {
   "cell_type": "markdown",
   "id": "injured-mount",
   "metadata": {},
   "source": [
    "# *Contents of the Notebook* #  \n",
    "\n",
    "### Part1: Exploratory Data Analysis(EDA):  ###\n",
    "1) Analysis of the features\n",
    "\n",
    "2) Finding any releations or trends considering multiple features\n",
    "\n",
    "  \n",
    "### Part2: Feature Enginearing and Data Cleaning ###\n",
    "1) Adding any few features \n",
    "\n",
    "2) Removing redundant feautres\n",
    "\n",
    "3) Converting features into suitable form for modeling  \n",
    "\n",
    "\n",
    "### Part3: Predictive Modeling ###\n",
    "1) Running Basic Algorithms.\n",
    "\n",
    "2) Cross Validation\n",
    "\n",
    "3) Ensembling \n",
    "\n",
    "4) Important Features Extraction "
   ]
  },
  {
   "cell_type": "markdown",
   "id": "experienced-scanner",
   "metadata": {},
   "source": [
    "### How many Survived?? ###"
   ]
  },
  {
   "cell_type": "code",
   "execution_count": null,
   "id": "fitting-jimmy",
   "metadata": {},
   "outputs": [],
   "source": [
    "f,ax=plt.subplots(1,2,figsize=(18,8))\n",
    "data['Survived'].value_counts().plot.pie(explode=[0,0.1],autopct='%1.1f%%',ax=ax[0],shadow=True)\n",
    "ax[0].set_title('Survived')\n",
    "ax[0].set_ylabel('')\n",
    "sns.countplot('Survived',data=data,ax=ax[1])\n",
    "ax[1].set_title('Survived')\n",
    "plt.show()"
   ]
  },
  {
   "cell_type": "markdown",
   "id": "organizational-genius",
   "metadata": {},
   "source": [
    "### Types Of Features ###\n",
    "#### Categorical Features: ####  \n",
    "A categorical variable is one that has two or more categories and each value in that feature can be categorised by them.For example, gender is a categorical variable having two categories (male and female). Now we cannot sort or give any ordering to such variables. They are also known as Nominal Variables.\n",
    "\n",
    "**Categorical Features in the dataset: Sex,Embarked.**  \n",
    "\n",
    "\n",
    "\n",
    "#### Ordinal Features: ####  \n",
    "An ordinal variable is similar to categorical values, but the difference between them is that we can have relative ordering or sorting between the values. For eg: If we have a feature like Height with values Tall, Medium, Short, then Height is a ordinal variable. Here we can have a relative sort in the variable.\n",
    "\n",
    "**Ordinal Features in the dataset: PClass**  \n",
    "\n",
    "\n",
    "\n",
    "#### Continous Feature: ####  \n",
    "A feature is said to be continous if it can take values between any two points or between the minimum or maximum values in the features column.\n",
    "\n",
    "**Continous Features in the dataset: Age**"
   ]
  },
  {
   "cell_type": "markdown",
   "id": "acting-failing",
   "metadata": {},
   "source": [
    "### Sex -> Categorical Feature ###"
   ]
  },
  {
   "cell_type": "code",
   "execution_count": null,
   "id": "competitive-income",
   "metadata": {
    "scrolled": true
   },
   "outputs": [],
   "source": [
    "data.groupby(['Sex','Survived'])['Survived'].count()\n",
    "# 1 = live, 0 = dead"
   ]
  },
  {
   "cell_type": "code",
   "execution_count": 92,
   "id": "amended-charge",
   "metadata": {},
   "outputs": [
    {
     "data": {
      "image/png": "[encoded data removed]",
      "text/plain": [
       "<Figure size 1296x576 with 2 Axes>"
      ]
     },
     "metadata": {
      "needs_background": "light"
     },
     "output_type": "display_data"
    }
   ],
   "source": [
    "# 그래프 갯수 및 사이즈 설정\n",
    "# figure == 한개 액자, ax == 액자 목록\n",
    "figure, ax = plt.subplots(1,2, figsize=(18,8))\n",
    "\n",
    "# 첫번째 그래프 표현\n",
    "data[['Sex', 'Survived']].groupby(['Sex']).mean().plot.bar(ax=ax[0])\n",
    "\n",
    "# 두번째 그래프 표현\n",
    "sns.countplot('Sex', hue='Survived', data=data, ax=ax[1])\n",
    "\n",
    "# 그래프 이름 정하기\n",
    "ax[0].set_title('Survived vs Sex')\n",
    "ax[1].set_title('Sex:Survived vs Dead')\n",
    "plt.legend(['Dead', 'Live'])\n",
    "\n",
    "plt.show()"
   ]
  },
  {
   "cell_type": "markdown",
   "id": "postal-arkansas",
   "metadata": {},
   "source": [
    "### Pclass -> Ordinal Feature ###   \n",
    "\n",
    "            == 라벨(1,2,3) 인코딩 해도된다."
   ]
  },
  {
   "cell_type": "code",
   "execution_count": 80,
   "id": "motivated-methodology",
   "metadata": {},
   "outputs": [
    {
     "data": {
      "text/html": [
       "<style  type=\"text/css\" >\n",
       "#T_583e5_row0_col0,#T_583e5_row1_col1,#T_583e5_row1_col2{\n",
       "            background-color:  #ffff66;\n",
       "            color:  #000000;\n",
       "        }#T_583e5_row0_col1{\n",
       "            background-color:  #cee666;\n",
       "            color:  #000000;\n",
       "        }#T_583e5_row0_col2{\n",
       "            background-color:  #f4fa66;\n",
       "            color:  #000000;\n",
       "        }#T_583e5_row1_col0{\n",
       "            background-color:  #f6fa66;\n",
       "            color:  #000000;\n",
       "        }#T_583e5_row2_col0{\n",
       "            background-color:  #60b066;\n",
       "            color:  #000000;\n",
       "        }#T_583e5_row2_col1{\n",
       "            background-color:  #dfef66;\n",
       "            color:  #000000;\n",
       "        }#T_583e5_row2_col2{\n",
       "            background-color:  #90c866;\n",
       "            color:  #000000;\n",
       "        }#T_583e5_row3_col0,#T_583e5_row3_col1,#T_583e5_row3_col2{\n",
       "            background-color:  #008066;\n",
       "            color:  #f1f1f1;\n",
       "        }</style><table id=\"T_583e5_\" ><thead>    <tr>        <th class=\"index_name level0\" >Survived</th>        <th class=\"col_heading level0 col0\" >0</th>        <th class=\"col_heading level0 col1\" >1</th>        <th class=\"col_heading level0 col2\" >All</th>    </tr>    <tr>        <th class=\"index_name level0\" >Pclass</th>        <th class=\"blank\" ></th>        <th class=\"blank\" ></th>        <th class=\"blank\" ></th>    </tr></thead><tbody>\n",
       "                <tr>\n",
       "                        <th id=\"T_583e5_level0_row0\" class=\"row_heading level0 row0\" >1</th>\n",
       "                        <td id=\"T_583e5_row0_col0\" class=\"data row0 col0\" >80</td>\n",
       "                        <td id=\"T_583e5_row0_col1\" class=\"data row0 col1\" >136</td>\n",
       "                        <td id=\"T_583e5_row0_col2\" class=\"data row0 col2\" >216</td>\n",
       "            </tr>\n",
       "            <tr>\n",
       "                        <th id=\"T_583e5_level0_row1\" class=\"row_heading level0 row1\" >2</th>\n",
       "                        <td id=\"T_583e5_row1_col0\" class=\"data row1 col0\" >97</td>\n",
       "                        <td id=\"T_583e5_row1_col1\" class=\"data row1 col1\" >87</td>\n",
       "                        <td id=\"T_583e5_row1_col2\" class=\"data row1 col2\" >184</td>\n",
       "            </tr>\n",
       "            <tr>\n",
       "                        <th id=\"T_583e5_level0_row2\" class=\"row_heading level0 row2\" >3</th>\n",
       "                        <td id=\"T_583e5_row2_col0\" class=\"data row2 col0\" >372</td>\n",
       "                        <td id=\"T_583e5_row2_col1\" class=\"data row2 col1\" >119</td>\n",
       "                        <td id=\"T_583e5_row2_col2\" class=\"data row2 col2\" >491</td>\n",
       "            </tr>\n",
       "            <tr>\n",
       "                        <th id=\"T_583e5_level0_row3\" class=\"row_heading level0 row3\" >All</th>\n",
       "                        <td id=\"T_583e5_row3_col0\" class=\"data row3 col0\" >549</td>\n",
       "                        <td id=\"T_583e5_row3_col1\" class=\"data row3 col1\" >342</td>\n",
       "                        <td id=\"T_583e5_row3_col2\" class=\"data row3 col2\" >891</td>\n",
       "            </tr>\n",
       "    </tbody></table>"
      ],
      "text/plain": [
       "<pandas.io.formats.style.Styler at 0x7fcf862ea4f0>"
      ]
     },
     "execution_count": 80,
     "metadata": {},
     "output_type": "execute_result"
    }
   ],
   "source": [
    "pd.crosstab(data.Pclass, data.Survived, margins = True).style.background_gradient(cmap = 'summer_r')"
   ]
  },
  {
   "cell_type": "code",
   "execution_count": 81,
   "id": "fifty-roberts",
   "metadata": {},
   "outputs": [
    {
     "data": {
      "image/png": "[encoded data removed]",
      "text/plain": [
       "<Figure size 1296x576 with 2 Axes>"
      ]
     },
     "metadata": {
      "needs_background": "light"
     },
     "output_type": "display_data"
    }
   ],
   "source": [
    "f,ax=plt.subplots(1,2,figsize=(18,8))\n",
    "data['Pclass'].value_counts().plot.bar(color=['#CD7F32','#FFDF00','#D3D3D3'],ax=ax[0])\n",
    "ax[0].set_title('Number Of Passengers By Pclass')\n",
    "ax[0].set_ylabel('Count')\n",
    "sns.countplot('Pclass',hue='Survived',data=data,ax=ax[1])\n",
    "ax[1].set_title('Pclass:Survived vs Dead')\n",
    "plt.show()"
   ]
  },
  {
   "cell_type": "code",
   "execution_count": null,
   "id": "absolute-afghanistan",
   "metadata": {},
   "outputs": [],
   "source": []
  }
 ],
 "metadata": {
  "kernelspec": {
   "display_name": "Python 3",
   "language": "python",
   "name": "python3"
  },
  "language_info": {
   "codemirror_mode": {
    "name": "ipython",
    "version": 3
   },
   "file_extension": ".py",
   "mimetype": "text/x-python",
   "name": "python",
   "nbconvert_exporter": "python",
   "pygments_lexer": "ipython3",
   "version": "3.8.5"
  }
 },
 "nbformat": 4,
 "nbformat_minor": 5
}
