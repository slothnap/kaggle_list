{
 "cells": [
  {
   "cell_type": "code",
   "execution_count": 35,
   "id": "charitable-tunisia",
   "metadata": {},
   "outputs": [],
   "source": [
    "import numpy as np \n",
    "import pandas as pd\n",
    "import matplotlib.pyplot as plt\n",
    "import seaborn as sns\n",
    "plt.style.use('fivethirtyeight')\n",
    "import warnings\n",
    "warnings.filterwarnings('ignore')\n",
    "%matplotlib inline"
   ]
  },
  {
   "cell_type": "code",
   "execution_count": 24,
   "id": "fourth-latino",
   "metadata": {},
   "outputs": [],
   "source": [
    "data = pd.read_csv('../Titanic/train.csv')"
   ]
  },
  {
   "cell_type": "markdown",
   "id": "injured-mount",
   "metadata": {},
   "source": [
    "# *Contents of the Notebook* #  \n",
    "\n",
    "### Part1: Exploratory Data Analysis(EDA):  ###\n",
    "1) Analysis of the features\n",
    "\n",
    "2) Finding any releations or trends considering multiple features\n",
    "\n",
    "  \n",
    "### Part2: Feature Enginearing and Data Cleaning ###\n",
    "1) Adding any few features \n",
    "\n",
    "2) Removing redundant feautres\n",
    "\n",
    "3) Converting features into suitable form for modeling  \n",
    "\n",
    "\n",
    "### Part3: Predictive Modeling ###\n",
    "1) Running Basic Algorithms.\n",
    "\n",
    "2) Cross Validation\n",
    "\n",
    "3) Ensembling \n",
    "\n",
    "4) Important Features Extraction "
   ]
  },
  {
   "cell_type": "markdown",
   "id": "experienced-scanner",
   "metadata": {},
   "source": [
    "### How many Survived?? ###"
   ]
  },
  {
   "cell_type": "code",
   "execution_count": null,
   "id": "fitting-jimmy",
   "metadata": {},
   "outputs": [],
   "source": [
    "f,ax=plt.subplots(1,2,figsize=(18,8))\n",
    "data['Survived'].value_counts().plot.pie(explode=[0,0.1],autopct='%1.1f%%',ax=ax[0],shadow=True)\n",
    "ax[0].set_title('Survived')\n",
    "ax[0].set_ylabel('')\n",
    "sns.countplot('Survived',data=data,ax=ax[1])\n",
    "ax[1].set_title('Survived')\n",
    "plt.show()"
   ]
  },
  {
   "cell_type": "markdown",
   "id": "organizational-genius",
   "metadata": {},
   "source": [
    "### Types Of Features ###\n",
    "#### Categorical Features: ####  \n",
    "A categorical variable is one that has two or more categories and each value in that feature can be categorised by them.For example, gender is a categorical variable having two categories (male and female). Now we cannot sort or give any ordering to such variables. They are also known as Nominal Variables.\n",
    "\n",
    "**Categorical Features in the dataset: Sex,Embarked.**  \n",
    "\n",
    "\n",
    "\n",
    "#### Ordinal Features: ####  \n",
    "An ordinal variable is similar to categorical values, but the difference between them is that we can have relative ordering or sorting between the values. For eg: If we have a feature like Height with values Tall, Medium, Short, then Height is a ordinal variable. Here we can have a relative sort in the variable.\n",
    "\n",
    "**Ordinal Features in the dataset: PClass**  \n",
    "\n",
    "\n",
    "\n",
    "#### Continous Feature: ####  \n",
    "A feature is said to be continous if it can take values between any two points or between the minimum or maximum values in the features column.\n",
    "\n",
    "**Continous Features in the dataset: Age**"
   ]
  },
  {
   "cell_type": "markdown",
   "id": "acting-failing",
   "metadata": {},
   "source": [
    "### Sex -> Categorical Feature ###"
   ]
  },
  {
   "cell_type": "code",
   "execution_count": null,
   "id": "competitive-income",
   "metadata": {
    "scrolled": true
   },
   "outputs": [],
   "source": [
    "data.groupby(['Sex','Survived'])['Survived'].count()\n",
    "# 1 = live, 0 = dead"
   ]
  },
  {
   "cell_type": "code",
   "execution_count": null,
   "id": "amended-charge",
   "metadata": {},
   "outputs": [],
   "source": [
    "# 그래프 갯수 및 사이즈 설정\n",
    "# figure == 한개 액자, ax == 액자 목록\n",
    "figure, ax = plt.subplots(1,2, figsize=(18,8))\n",
    "\n",
    "# 첫번째 그래프 표현\n",
    "data[['Sex', 'Survived']].groupby(['Sex']).mean().plot.bar(ax = ax[0])\n",
    "#ax[0].set(ylim=(0,1))\n",
    "\n",
    "# 두번째 그래프 표현\n",
    "# hue == 갯수로 나타낼 항목\n",
    "sns.countplot('Sex', hue='Survived', data=data, ax = ax[1])\n",
    "\n",
    "# 그래프 이름 정하기\n",
    "ax[0].set_title('Survived vs Sex')\n",
    "ax[1].set_title('Sex:Survived vs Dead')\n",
    "plt.legend(['Dead', 'Live'])\n",
    "\n",
    "plt.show()"
   ]
  },
  {
   "cell_type": "markdown",
   "id": "postal-arkansas",
   "metadata": {},
   "source": [
    "### Pclass -> Ordinal Feature ###   \n",
    "\n",
    "            == 라벨(1,2,3) 인코딩 해도된다."
   ]
  },
  {
   "cell_type": "code",
   "execution_count": null,
   "id": "motivated-methodology",
   "metadata": {},
   "outputs": [],
   "source": [
    "pd.crosstab(data.Pclass, data.Survived, margins = True).style.background_gradient(cmap = 'summer_r')"
   ]
  },
  {
   "cell_type": "code",
   "execution_count": null,
   "id": "fifty-roberts",
   "metadata": {
    "scrolled": false
   },
   "outputs": [],
   "source": [
    "f,ax=plt.subplots(1,2,figsize=(18,8))\n",
    "\n",
    "data['Pclass'].value_counts().plot.bar(color=['#CD7F32','#FFDF00','#D3D3D3'],ax=ax[0])\n",
    "\n",
    "ax[0].set_title('Number Of Passengers By Pclass')\n",
    "ax[0].set_ylabel('Count')\n",
    "ax[0].set_xlabel('Pclass')\n",
    "\n",
    "sns.countplot('Pclass',hue='Survived',data=data,ax=ax[1])\n",
    "ax[1].set_title('Pclass:Survived vs Dead')\n",
    "\n",
    "plt.legend(['Dead', 'Live'])\n",
    "plt.show()"
   ]
  },
  {
   "cell_type": "code",
   "execution_count": 144,
   "id": "absolute-afghanistan",
   "metadata": {},
   "outputs": [
    {
     "data": {
      "text/html": [
       "<style  type=\"text/css\" >\n",
       "#T_791b5_row0_col0,#T_791b5_row0_col1,#T_791b5_row0_col3,#T_791b5_row3_col2{\n",
       "            background-color:  #ffff66;\n",
       "            color:  #000000;\n",
       "        }#T_791b5_row0_col2,#T_791b5_row1_col2{\n",
       "            background-color:  #f1f866;\n",
       "            color:  #000000;\n",
       "        }#T_791b5_row1_col0{\n",
       "            background-color:  #96cb66;\n",
       "            color:  #000000;\n",
       "        }#T_791b5_row1_col1{\n",
       "            background-color:  #a3d166;\n",
       "            color:  #000000;\n",
       "        }#T_791b5_row1_col3{\n",
       "            background-color:  #cfe766;\n",
       "            color:  #000000;\n",
       "        }#T_791b5_row2_col0{\n",
       "            background-color:  #a7d366;\n",
       "            color:  #000000;\n",
       "        }#T_791b5_row2_col1,#T_791b5_row2_col3{\n",
       "            background-color:  #85c266;\n",
       "            color:  #000000;\n",
       "        }#T_791b5_row2_col2{\n",
       "            background-color:  #6eb666;\n",
       "            color:  #000000;\n",
       "        }#T_791b5_row3_col0{\n",
       "            background-color:  #cde666;\n",
       "            color:  #000000;\n",
       "        }#T_791b5_row3_col1{\n",
       "            background-color:  #f0f866;\n",
       "            color:  #000000;\n",
       "        }#T_791b5_row3_col3{\n",
       "            background-color:  #f7fb66;\n",
       "            color:  #000000;\n",
       "        }#T_791b5_row4_col0,#T_791b5_row4_col1,#T_791b5_row4_col2,#T_791b5_row4_col3{\n",
       "            background-color:  #008066;\n",
       "            color:  #f1f1f1;\n",
       "        }</style><table id=\"T_791b5_\" ><thead>    <tr>        <th class=\"blank\" ></th>        <th class=\"index_name level0\" >Pclass</th>        <th class=\"col_heading level0 col0\" >1</th>        <th class=\"col_heading level0 col1\" >2</th>        <th class=\"col_heading level0 col2\" >3</th>        <th class=\"col_heading level0 col3\" >All</th>    </tr>    <tr>        <th class=\"index_name level0\" >Sex</th>        <th class=\"index_name level1\" >Survived</th>        <th class=\"blank\" ></th>        <th class=\"blank\" ></th>        <th class=\"blank\" ></th>        <th class=\"blank\" ></th>    </tr></thead><tbody>\n",
       "                <tr>\n",
       "                        <th id=\"T_791b5_level0_row0\" class=\"row_heading level0 row0\" rowspan=\"2\">female</th>\n",
       "                        <th id=\"T_791b5_level1_row0\" class=\"row_heading level1 row0\" >0</th>\n",
       "                        <td id=\"T_791b5_row0_col0\" class=\"data row0 col0\" >3</td>\n",
       "                        <td id=\"T_791b5_row0_col1\" class=\"data row0 col1\" >6</td>\n",
       "                        <td id=\"T_791b5_row0_col2\" class=\"data row0 col2\" >72</td>\n",
       "                        <td id=\"T_791b5_row0_col3\" class=\"data row0 col3\" >81</td>\n",
       "            </tr>\n",
       "            <tr>\n",
       "                                <th id=\"T_791b5_level1_row1\" class=\"row_heading level1 row1\" >1</th>\n",
       "                        <td id=\"T_791b5_row1_col0\" class=\"data row1 col0\" >91</td>\n",
       "                        <td id=\"T_791b5_row1_col1\" class=\"data row1 col1\" >70</td>\n",
       "                        <td id=\"T_791b5_row1_col2\" class=\"data row1 col2\" >72</td>\n",
       "                        <td id=\"T_791b5_row1_col3\" class=\"data row1 col3\" >233</td>\n",
       "            </tr>\n",
       "            <tr>\n",
       "                        <th id=\"T_791b5_level0_row2\" class=\"row_heading level0 row2\" rowspan=\"2\">male</th>\n",
       "                        <th id=\"T_791b5_level1_row2\" class=\"row_heading level1 row2\" >0</th>\n",
       "                        <td id=\"T_791b5_row2_col0\" class=\"data row2 col0\" >77</td>\n",
       "                        <td id=\"T_791b5_row2_col1\" class=\"data row2 col1\" >91</td>\n",
       "                        <td id=\"T_791b5_row2_col2\" class=\"data row2 col2\" >300</td>\n",
       "                        <td id=\"T_791b5_row2_col3\" class=\"data row2 col3\" >468</td>\n",
       "            </tr>\n",
       "            <tr>\n",
       "                                <th id=\"T_791b5_level1_row3\" class=\"row_heading level1 row3\" >1</th>\n",
       "                        <td id=\"T_791b5_row3_col0\" class=\"data row3 col0\" >45</td>\n",
       "                        <td id=\"T_791b5_row3_col1\" class=\"data row3 col1\" >17</td>\n",
       "                        <td id=\"T_791b5_row3_col2\" class=\"data row3 col2\" >47</td>\n",
       "                        <td id=\"T_791b5_row3_col3\" class=\"data row3 col3\" >109</td>\n",
       "            </tr>\n",
       "            <tr>\n",
       "                        <th id=\"T_791b5_level0_row4\" class=\"row_heading level0 row4\" >All</th>\n",
       "                        <th id=\"T_791b5_level1_row4\" class=\"row_heading level1 row4\" ></th>\n",
       "                        <td id=\"T_791b5_row4_col0\" class=\"data row4 col0\" >216</td>\n",
       "                        <td id=\"T_791b5_row4_col1\" class=\"data row4 col1\" >184</td>\n",
       "                        <td id=\"T_791b5_row4_col2\" class=\"data row4 col2\" >491</td>\n",
       "                        <td id=\"T_791b5_row4_col3\" class=\"data row4 col3\" >891</td>\n",
       "            </tr>\n",
       "    </tbody></table>"
      ],
      "text/plain": [
       "<pandas.io.formats.style.Styler at 0x7fcf865461f0>"
      ]
     },
     "execution_count": 144,
     "metadata": {},
     "output_type": "execute_result"
    }
   ],
   "source": [
    "pd.crosstab([data.Sex,data.Survived],data.Pclass,margins=True).style.background_gradient(cmap='summer_r')"
   ]
  },
  {
   "cell_type": "code",
   "execution_count": null,
   "id": "demographic-canada",
   "metadata": {},
   "outputs": [],
   "source": [
    "sns.factorplot('Pclass', 'Survived', hue='Sex', data=data)\n",
    "plt.show()"
   ]
  },
  {
   "cell_type": "code",
   "execution_count": null,
   "id": "diverse-dayton",
   "metadata": {},
   "outputs": [],
   "source": []
  }
 ],
 "metadata": {
  "kernelspec": {
   "display_name": "Python 3",
   "language": "python",
   "name": "python3"
  },
  "language_info": {
   "codemirror_mode": {
    "name": "ipython",
    "version": 3
   },
   "file_extension": ".py",
   "mimetype": "text/x-python",
   "name": "python",
   "nbconvert_exporter": "python",
   "pygments_lexer": "ipython3",
   "version": "3.8.5"
  }
 },
 "nbformat": 4,
 "nbformat_minor": 5
}
