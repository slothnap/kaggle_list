{
 "cells": [
  {
   "cell_type": "code",
   "execution_count": 2,
   "id": "3cdd4a0c",
   "metadata": {},
   "outputs": [
    {
     "data": {
      "text/html": [
       "        <script type=\"text/javascript\">\n",
       "        window.PlotlyConfig = {MathJaxConfig: 'local'};\n",
       "        if (window.MathJax) {MathJax.Hub.Config({SVG: {font: \"STIX-Web\"}});}\n",
       "        if (typeof require !== 'undefined') {\n",
       "        require.undef(\"plotly\");\n",
       "        requirejs.config({\n",
       "            paths: {\n",
       "                'plotly': ['https://cdn.plot.ly/plotly-2.2.0.min']\n",
       "            }\n",
       "        });\n",
       "        require(['plotly'], function(Plotly) {\n",
       "            window._Plotly = Plotly;\n",
       "        });\n",
       "        }\n",
       "        </script>\n",
       "        "
      ]
     },
     "metadata": {},
     "output_type": "display_data"
    }
   ],
   "source": [
    "# Let us load in the relevant Python modules\n",
    "import pandas as pd\n",
    "import numpy as np\n",
    "import seaborn as sns\n",
    "import matplotlib.pyplot as plt\n",
    "%matplotlib inline\n",
    "import plotly.offline as py\n",
    "py.init_notebook_mode(connected=True)\n",
    "import plotly.graph_objs as go\n",
    "import plotly.tools as tls\n",
    "import warnings\n",
    "from collections import Counter\n",
    "from sklearn.feature_selection import mutual_info_classif\n",
    "warnings.filterwarnings('ignore')"
   ]
  },
  {
   "cell_type": "code",
   "execution_count": 4,
   "id": "03111ca8",
   "metadata": {},
   "outputs": [],
   "source": [
    "train = pd.read_csv('../PortoSeguro/train_reduce2.csv')"
   ]
  },
  {
   "cell_type": "code",
   "execution_count": 6,
   "id": "c2c91542",
   "metadata": {},
   "outputs": [
    {
     "name": "stdout",
     "output_type": "stream",
     "text": [
      "The train dataset contains 49999 rows and 59 columns\n"
     ]
    }
   ],
   "source": [
    "# Taking a look at how many rows and columns the train dataset contains \n",
    "\n",
    "rows    = train.shape[0]\n",
    "columns = train.shape[1]\n",
    "\n",
    "print(\"The train dataset contains {0} rows and {1} columns\".format(rows, columns))"
   ]
  },
  {
   "cell_type": "markdown",
   "id": "70b1be76",
   "metadata": {},
   "source": [
    "### Data Quality checks"
   ]
  },
  {
   "cell_type": "markdown",
   "id": "c30dcad2",
   "metadata": {},
   "source": [
    "**Null or missing values check**  \n",
    "As part of out qulity checks, let us quick look at whether there are any null values in the train dataset as follows:"
   ]
  },
  {
   "cell_type": "code",
   "execution_count": 10,
   "id": "116edc1c",
   "metadata": {},
   "outputs": [
    {
     "data": {
      "text/plain": [
       "False"
      ]
     },
     "execution_count": 10,
     "metadata": {},
     "output_type": "execute_result"
    }
   ],
   "source": [
    "# any() applied twice to check run the isnull check across all columns.\n",
    "train.isnull().any().any()"
   ]
  },
  {
   "cell_type": "markdown",
   "id": "4aa92cb6",
   "metadata": {},
   "source": [
    "Here we can see that which columns contained -1 in their values so we could easily for example make a blanket replacement of all -1 with nulls first as follows:"
   ]
  },
  {
   "cell_type": "code",
   "execution_count": 11,
   "id": "b268ca37",
   "metadata": {},
   "outputs": [],
   "source": [
    "train_copy = train\n",
    "train_copy = train_copy.replace(-1, np.NaN)"
   ]
  },
  {
   "cell_type": "markdown",
   "id": "8ba5c77d",
   "metadata": {},
   "source": [
    "Next, we can use resident Kaggler's Aleksey Bilogur - creator of the \"Missingno\"   \n",
    "package which is a most useful and convenient tool in visualising missing values in the   \n",
    "dataset, so check it out."
   ]
  },
  {
   "cell_type": "code",
   "execution_count": 14,
   "id": "2f7621b6",
   "metadata": {},
   "outputs": [],
   "source": [
    "import missingno as msno"
   ]
  },
  {
   "cell_type": "code",
   "execution_count": null,
   "id": "41da2fe3",
   "metadata": {},
   "outputs": [],
   "source": [
    "msno.matrix(df=train_copy.iloc[:,2:39], figsize=(20,14), color=(0.42, 0.1, 0.05))"
   ]
  },
  {
   "cell_type": "markdown",
   "id": "90602b87",
   "metadata": {},
   "source": [
    "**For the 7 null columns that we are able to observe, they are hence listed here as follows:**\n",
    "\n",
    "ps_ind_05_cat | ps_reg_03 | ps_car_03_cat | ps_car_05_cat | ps_car_07_cat | ps_car_09_cat | ps_car_14"
   ]
  },
  {
   "cell_type": "markdown",
   "id": "03888c13",
   "metadata": {},
   "source": [
    "**Target variable inspection**"
   ]
  },
  {
   "cell_type": "code",
   "execution_count": null,
   "id": "36b2b912",
   "metadata": {},
   "outputs": [],
   "source": [
    "data = [go.Bar(\n",
    "            x = train[\"target\"].value_counts().index.values,\n",
    "            y = train[\"target\"].value_counts9).values,\n",
    "            test='Distribution of target variable'\n",
    "        )]\n",
    "\n",
    "layout = go.Layout(\n",
    "    title = 'Target variable distribution'\n",
    ")\n",
    "\n",
    "fig = go.Figure(data = data, layout = layout)\n",
    "\n",
    "py.iplot(fig, filename = 'basic-bar')"
   ]
  }
 ],
 "metadata": {
  "kernelspec": {
   "display_name": "Python 3",
   "language": "python",
   "name": "python3"
  },
  "language_info": {
   "codemirror_mode": {
    "name": "ipython",
    "version": 3
   },
   "file_extension": ".py",
   "mimetype": "text/x-python",
   "name": "python",
   "nbconvert_exporter": "python",
   "pygments_lexer": "ipython3",
   "version": "3.8.5"
  }
 },
 "nbformat": 4,
 "nbformat_minor": 5
}
