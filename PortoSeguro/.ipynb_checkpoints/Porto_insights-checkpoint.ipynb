{
 "cells": [
  {
   "cell_type": "code",
   "execution_count": 2,
   "id": "3cdd4a0c",
   "metadata": {},
   "outputs": [
    {
     "data": {
      "text/html": [
       "        <script type=\"text/javascript\">\n",
       "        window.PlotlyConfig = {MathJaxConfig: 'local'};\n",
       "        if (window.MathJax) {MathJax.Hub.Config({SVG: {font: \"STIX-Web\"}});}\n",
       "        if (typeof require !== 'undefined') {\n",
       "        require.undef(\"plotly\");\n",
       "        requirejs.config({\n",
       "            paths: {\n",
       "                'plotly': ['https://cdn.plot.ly/plotly-2.2.0.min']\n",
       "            }\n",
       "        });\n",
       "        require(['plotly'], function(Plotly) {\n",
       "            window._Plotly = Plotly;\n",
       "        });\n",
       "        }\n",
       "        </script>\n",
       "        "
      ]
     },
     "metadata": {},
     "output_type": "display_data"
    }
   ],
   "source": [
    "# Let us load in the relevant Python modules\n",
    "import pandas as pd\n",
    "import numpy as np\n",
    "import seaborn as sns\n",
    "import matplotlib.pyplot as plt\n",
    "%matplotlib inline\n",
    "import plotly.offline as py\n",
    "py.init_notebook_mode(connected=True)\n",
    "import plotly.graph_objs as go\n",
    "import plotly.tools as tls\n",
    "import warnings\n",
    "from collections import Counter\n",
    "from sklearn.feature_selection import mutual_info_classif\n",
    "warnings.filterwarnings('ignore')"
   ]
  },
  {
   "cell_type": "code",
   "execution_count": 4,
   "id": "03111ca8",
   "metadata": {},
   "outputs": [],
   "source": [
    "train = pd.read_csv('../PortoSeguro/train_reduce2.csv')"
   ]
  },
  {
   "cell_type": "code",
   "execution_count": 6,
   "id": "c2c91542",
   "metadata": {},
   "outputs": [
    {
     "name": "stdout",
     "output_type": "stream",
     "text": [
      "The train dataset contains 49999 rows and 59 columns\n"
     ]
    }
   ],
   "source": [
    "# Taking a look at how many rows and columns the train dataset contains \n",
    "\n",
    "rows    = train.shape[0]\n",
    "columns = train.shape[1]\n",
    "\n",
    "print(\"The train dataset contains {0} rows and {1} columns\".format(rows, columns))"
   ]
  },
  {
   "cell_type": "markdown",
   "id": "70b1be76",
   "metadata": {},
   "source": [
    "### Data Quality checks"
   ]
  },
  {
   "cell_type": "markdown",
   "id": "c30dcad2",
   "metadata": {},
   "source": [
    "**Null or missing values check**  \n",
    "As part of out qulity checks, let us quick look at whether there are any null values in the train dataset as follows:"
   ]
  },
  {
   "cell_type": "code",
   "execution_count": 10,
   "id": "116edc1c",
   "metadata": {},
   "outputs": [
    {
     "data": {
      "text/plain": [
       "False"
      ]
     },
     "execution_count": 10,
     "metadata": {},
     "output_type": "execute_result"
    }
   ],
   "source": [
    "# any() applied twice to check run the isnull check across all columns.\n",
    "train.isnull().any().any()"
   ]
  },
  {
   "cell_type": "markdown",
   "id": "4aa92cb6",
   "metadata": {},
   "source": [
    "Here we can see that which columns contained -1 in their values so we could easily for example make a blanket replacement of all -1 with nulls first as follows:"
   ]
  },
  {
   "cell_type": "code",
   "execution_count": 11,
   "id": "b268ca37",
   "metadata": {},
   "outputs": [],
   "source": [
    "train_copy = train\n",
    "train_copy = train_copy.replace(-1, np.NaN)"
   ]
  },
  {
   "cell_type": "markdown",
   "id": "8ba5c77d",
   "metadata": {},
   "source": [
    "Next, we can use resident Kaggler's Aleksey Bilogur - creator of the \"Missingno\"   \n",
    "package which is a most useful and convenient tool in visualising missing values in the   \n",
    "dataset, so check it out."
   ]
  },
  {
   "cell_type": "code",
   "execution_count": 14,
   "id": "2f7621b6",
   "metadata": {},
   "outputs": [],
   "source": [
    "import missingno as msno"
   ]
  },
  {
   "cell_type": "code",
   "execution_count": null,
   "id": "41da2fe3",
   "metadata": {},
   "outputs": [],
   "source": [
    "msno.matrix(df=train_copy.iloc[:,2:39], figsize=(20,14), color=(0.42, 0.1, 0.05))"
   ]
  },
  {
   "cell_type": "markdown",
   "id": "90602b87",
   "metadata": {},
   "source": [
    "**For the 7 null columns that we are able to observe, they are hence listed here as follows:**\n",
    "\n",
    "ps_ind_05_cat | ps_reg_03 | ps_car_03_cat | ps_car_05_cat | ps_car_07_cat | ps_car_09_cat | ps_car_14"
   ]
  },
  {
   "cell_type": "markdown",
   "id": "03888c13",
   "metadata": {},
   "source": [
    "**Target variable inspection**"
   ]
  },
  {
   "cell_type": "code",
   "execution_count": null,
   "id": "36b2b912",
   "metadata": {},
   "outputs": [],
   "source": [
    "data = [go.Bar(\n",
    "            x = train[\"target\"].value_counts().index.values,\n",
    "            y = train[\"target\"].value_counts().values,\n",
    "            text='Distribution of target variable'\n",
    "    )]\n",
    "\n",
    "layout = go.Layout(\n",
    "    title='Target variable distribution'\n",
    ")\n",
    "\n",
    "fig = go.Figure(data=data, layout=layout)\n",
    "\n",
    "py.iplot(fig, filename='basic-bar')"
   ]
  },
  {
   "cell_type": "markdown",
   "id": "84fe27e3",
   "metadata": {},
   "source": [
    "#### Datatype check"
   ]
  },
  {
   "cell_type": "code",
   "execution_count": 23,
   "id": "f8b6f59a",
   "metadata": {},
   "outputs": [
    {
     "data": {
      "text/plain": [
       "Counter({dtype('int64'): 49, dtype('float64'): 10})"
      ]
     },
     "execution_count": 23,
     "metadata": {},
     "output_type": "execute_result"
    }
   ],
   "source": [
    "Counter(train.dtypes.values)"
   ]
  },
  {
   "cell_type": "code",
   "execution_count": 24,
   "id": "df36bc99",
   "metadata": {},
   "outputs": [],
   "source": [
    "train_float = train.select_dtypes(include=['float64'])\n",
    "train_int   = train.select_dtypes(include=['int64'])"
   ]
  },
  {
   "cell_type": "markdown",
   "id": "c18f6260",
   "metadata": {},
   "source": [
    "## Correlation plots"
   ]
  },
  {
   "cell_type": "markdown",
   "id": "48cc7718",
   "metadata": {},
   "source": [
    "**Correlation of float features**"
   ]
  },
  {
   "cell_type": "code",
   "execution_count": null,
   "id": "a3737d05",
   "metadata": {},
   "outputs": [],
   "source": [
    "colormap = plt.cm.magma\n",
    "plt.figure(figsize=(16,12))\n",
    "plt.title('Pearson correlation of continuous features', y=1.05, size=15)\n",
    "sns.heatmap(train_float.corr(), linewidths=0.1, vmax=1.0, square=True, cmap=colormap, linecolor='white', annot=True)"
   ]
  },
  {
   "cell_type": "markdown",
   "id": "a4e49cb5",
   "metadata": {},
   "source": [
    "**(ps_reg_01, ps_reg_03)  \n",
    "(ps_reg_02, ps_reg_03)  \n",
    "(ps_car_12, ps_car_13)  \n",
    "(ps_car_13, ps_car_15)**  "
   ]
  },
  {
   "cell_type": "markdown",
   "id": "6230b941",
   "metadata": {},
   "source": [
    "#### Correlation of integer features"
   ]
  },
  {
   "cell_type": "code",
   "execution_count": null,
   "id": "6cbc4212",
   "metadata": {},
   "outputs": [],
   "source": [
    "#train_int = train_int.drop([\"id\", \"target\"], axis=1)\n",
    "# colormap = plt.cm.bone\n",
    "# plt.figure(figsize=(21,16))\n",
    "# plt.title('Pearson correlation of categorical features', y=1.05, size=15)\n",
    "# sns.heatmap(train_cat.corr(),linewidths=0.1,vmax=1.0, square=True, cmap=colormap, linecolor='white', annot=False)\n",
    "data = [\n",
    "    go.Heatmap(\n",
    "        z= train_int.corr().values,\n",
    "        x=train_int.columns.values,\n",
    "        y=train_int.columns.values,\n",
    "        colorscale='Viridis',\n",
    "        reversescale = False,\n",
    "        #text = True ,\n",
    "        opacity = 1.0 )\n",
    "]\n",
    "\n",
    "layout = go.Layout(\n",
    "    title='Pearson Correlation of Integer-type features',\n",
    "    xaxis = dict(ticks='', nticks=36),\n",
    "    yaxis = dict(ticks='' ),\n",
    "    width = 900, height = 700)\n",
    "\n",
    "fig = go.Figure(data=data, layout=layout)\n",
    "py.iplot(fig, filename='labelled-heatmap')"
   ]
  },
  {
   "cell_type": "markdown",
   "id": "b8926614",
   "metadata": {},
   "source": [
    "**Negatively correlated features:**   \n",
    "ps_ind_06_bin, ps_ind_07_bin, ps_ind_08_bin, ps_ind_09_bin"
   ]
  },
  {
   "cell_type": "markdown",
   "id": "6a332a7e",
   "metadata": {},
   "source": [
    "## Mutual Information plots"
   ]
  },
  {
   "cell_type": "code",
   "execution_count": 37,
   "id": "e59cef41",
   "metadata": {},
   "outputs": [
    {
     "name": "stdout",
     "output_type": "stream",
     "text": [
      "[0.001249   0.00143669 0.00071617 0.00157977 0.00145187 0.00252753\n",
      " 0.00258556 0.00013355 0.00017948 0.        ]\n"
     ]
    }
   ],
   "source": [
    "mf = mutual_info_classif(train_float.values, train.target.values, n_neighbors=3, random_state=17)\n",
    "print(mf)"
   ]
  },
  {
   "cell_type": "markdown",
   "id": "6e166da7",
   "metadata": {},
   "source": [
    "### Binary features inspection "
   ]
  },
  {
   "cell_type": "code",
   "execution_count": 38,
   "id": "49ebebc9",
   "metadata": {},
   "outputs": [],
   "source": [
    "bin_col = [col for col in train.columns if '_bin' in col]\n",
    "zero_list = []\n",
    "one_list  = []\n",
    "for col in bin_col:\n",
    "    zero_list.append((train[col]==0).sum())\n",
    "    one_list.append((train[col]==1).sum())"
   ]
  },
  {
   "cell_type": "code",
   "execution_count": null,
   "id": "6c2b690e",
   "metadata": {},
   "outputs": [],
   "source": [
    "trace1 = go.Bar(\n",
    "    x=bin_col,\n",
    "    y=zero_list,\n",
    "    name='Zero count'\n",
    ")\n",
    "trace2 = go.Bar(\n",
    "    x=bin_col,\n",
    "    y=one_list,\n",
    "    name='One count'\n",
    ")\n",
    "\n",
    "data = [trace1, trace2]\n",
    "layout = go.Layout(\n",
    "    barmode='stack',\n",
    "    title='Count of 1 and 0 in binary variables'\n",
    ")\n",
    "\n",
    "fig = go.Figure(data=data, layout=layout)\n",
    "py.iplot(fig, filename='stacked-bar')"
   ]
  },
  {
   "cell_type": "markdown",
   "id": "e8807949",
   "metadata": {},
   "source": [
    "dasdsa"
   ]
  },
  {
   "cell_type": "markdown",
   "id": "e8a833b0",
   "metadata": {},
   "source": []
  }
 ],
 "metadata": {
  "kernelspec": {
   "display_name": "Python 3",
   "language": "python",
   "name": "python3"
  },
  "language_info": {
   "codemirror_mode": {
    "name": "ipython",
    "version": 3
   },
   "file_extension": ".py",
   "mimetype": "text/x-python",
   "name": "python",
   "nbconvert_exporter": "python",
   "pygments_lexer": "ipython3",
   "version": "3.8.5"
  }
 },
 "nbformat": 4,
 "nbformat_minor": 5
}
