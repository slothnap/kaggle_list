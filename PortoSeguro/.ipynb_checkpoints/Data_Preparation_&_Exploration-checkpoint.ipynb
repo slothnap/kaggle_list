{
 "cells": [
  {
   "cell_type": "markdown",
   "id": "cloudy-webcam",
   "metadata": {},
   "source": [
    "### Loading packages"
   ]
  },
  {
   "cell_type": "code",
   "execution_count": 65,
   "id": "optical-investment",
   "metadata": {},
   "outputs": [],
   "source": [
    "import pandas as pd\n",
    "import numpy as np\n",
    "import matplotlib.pyplot as plt\n",
    "import seaborn as sns\n",
    "#from sklearn.preprocessing import Imputer # 사라짐\n",
    "from sklearn.impute import SimpleImputer\n",
    "from sklearn.preprocessing import PolynomialFeatures\n",
    "from sklearn.preprocessing import StandardScaler\n",
    "from sklearn.feature_selection import VarianceThreshold\n",
    "from sklearn.feature_selection import SelectFromModel\n",
    "from sklearn.utils import shuffle\n",
    "from sklearn.ensemble import RandomForestClassifier\n",
    "\n",
    "pd.set_option('display.max_columns', 100)"
   ]
  },
  {
   "cell_type": "markdown",
   "id": "attached-supervision",
   "metadata": {},
   "source": [
    "### Loading data"
   ]
  },
  {
   "cell_type": "code",
   "execution_count": 76,
   "id": "civil-penny",
   "metadata": {},
   "outputs": [],
   "source": [
    "train = pd.read_csv('../PortoSeguro/train_reduce.csv')\n",
    "#test = pd.read_csv('../PortoSeguro/test.csv')"
   ]
  },
  {
   "cell_type": "markdown",
   "id": "b825757f",
   "metadata": {},
   "source": [
    "### Data at first sight"
   ]
  },
  {
   "cell_type": "markdown",
   "id": "b588fbf7",
   "metadata": {},
   "source": [
    "* Features that belong to similar groupings are tagged as such in the feature names (e.g., ind, reg, car, calc).  \n",
    "* Feature names include the postfix bin to indicate binary features and cat to indicate categorical features.  \n",
    "* Features without these designations are either continuous or ordinal.  \n",
    "* Values of -1 indicate that the feature was missing from the observation.  \n",
    "* The target columns signifies whether or not a claim was filed for that policy holder.   "
   ]
  },
  {
   "cell_type": "markdown",
   "id": "3d4944aa",
   "metadata": {},
   "source": [
    "* Binary features == 여부([0,1], [true, false])  \n",
    "* Categorical(범주형) features   \n",
    "  * 명목형 자료(Nominal data) == 성별(남/여), 혈액형(A/B/O/AB)  # 순서의 의미가 없다.\n",
    "  * 순서형 자료(Ordinal data) == 효과(없음/조금있음/매우있음)   # 순서의 의미가 있다.\n",
    "  \n",
    "* Numerical(수치형) features  \n",
    "  * 이산형 자료(Discrete data)   == 일정기간 동안의 발생횟수, 출산횟수  # 이산적인 값을 가짐 \n",
    "  * 연속형 자료(Continuous data) == 신장, 체중, 협압                    # 연속적인 값을 가짐"
   ]
  },
  {
   "cell_type": "markdown",
   "id": "94b301b9",
   "metadata": {},
   "source": [
    "### We indeed see the following ###   \n",
    "* binary variables\n",
    "* categorical variables of which the category values are integers\n",
    "* other variables with integer or float values\n",
    "* variables with -1 representing missing values\n",
    "* the target variable and an ID variable"
   ]
  },
  {
   "cell_type": "code",
   "execution_count": 67,
   "id": "ab70057a",
   "metadata": {},
   "outputs": [
    {
     "data": {
      "text/plain": [
       "(1950, 59)"
      ]
     },
     "execution_count": 67,
     "metadata": {},
     "output_type": "execute_result"
    }
   ],
   "source": [
    "train.shape"
   ]
  },
  {
   "cell_type": "code",
   "execution_count": 75,
   "id": "a1175880",
   "metadata": {},
   "outputs": [
    {
     "data": {
      "text/plain": [
       "(1950, 59)"
      ]
     },
     "execution_count": 75,
     "metadata": {},
     "output_type": "execute_result"
    }
   ],
   "source": [
    "train.drop_duplicates()\n",
    "train.shape"
   ]
  },
  {
   "cell_type": "markdown",
   "id": "290004bc",
   "metadata": {},
   "source": [
    "No duplicate rows, so that's fine"
   ]
  },
  {
   "cell_type": "code",
   "execution_count": null,
   "id": "1e1b9dd3",
   "metadata": {},
   "outputs": [],
   "source": [
    "train.info()"
   ]
  },
  {
   "cell_type": "markdown",
   "id": "665908fe",
   "metadata": {},
   "source": [
    "### Metadata ###  \n",
    "To facilitate the data management, we'll store meta-information about the variables in a DataFrame.   \n",
    "This will be helpful when we want to select specific variables for analysis, visualization, modeling, ...\n",
    "\n",
    "\n",
    "Concretely we will store:\n",
    "\n",
    "* role: input, ID, target\n",
    "* level: nominal, interval, ordinal, binary\n",
    "* keep: True or False\n",
    "* dtype: int, float, str"
   ]
  },
  {
   "cell_type": "code",
   "execution_count": 68,
   "id": "5a0f1515",
   "metadata": {},
   "outputs": [],
   "source": [
    "data = []\n",
    "for f in train.columns:\n",
    "    \n",
    "    # Defining the role \n",
    "    if f == 'target':\n",
    "        role = 'target'\n",
    "    elif f == 'id':\n",
    "        role = 'id'\n",
    "    else:\n",
    "        role = 'input'\n",
    "    \n",
    "    # Defining the level\n",
    "    if 'bin' in f or f == 'target':\n",
    "        level = 'binary'\n",
    "    elif 'cat' in f or f == 'id':\n",
    "        level = 'nominal'\n",
    "    elif train[f].dtype == float:\n",
    "        level = 'interval'\n",
    "    elif train[f].dtype == int:\n",
    "        level = 'ordinal'\n",
    "    \n",
    "    # Initialize keep to True for all variables except for id \n",
    "    keep = True \n",
    "    if f == 'id':\n",
    "        keep = False\n",
    "    \n",
    "    # Defining the data type\n",
    "    dtype = train[f].dtype\n",
    "    \n",
    "    # Creating a Dict that contains all the metadata for the variable \n",
    "    f_dict = {\n",
    "        'varname': f,\n",
    "        'role': role,\n",
    "        'level': level,\n",
    "        'keep': keep,\n",
    "        'dtype': dtype\n",
    "    }\n",
    "    data.append(f_dict)\n",
    "\n",
    "meta = pd.DataFrame(data, columns=['varname', 'role', 'level', 'keep', 'dtype'])\n",
    "meta.set_index('varname', inplace=True)"
   ]
  },
  {
   "cell_type": "code",
   "execution_count": null,
   "id": "93880673",
   "metadata": {},
   "outputs": [],
   "source": [
    "meta"
   ]
  },
  {
   "cell_type": "code",
   "execution_count": null,
   "id": "c1cc1811",
   "metadata": {},
   "outputs": [],
   "source": [
    "meta[(meta.level == 'nominal') & (meta.keep)].index"
   ]
  },
  {
   "cell_type": "code",
   "execution_count": 49,
   "id": "2f4ea42c",
   "metadata": {},
   "outputs": [
    {
     "data": {
      "text/html": [
       "<div>\n",
       "<style scoped>\n",
       "    .dataframe tbody tr th:only-of-type {\n",
       "        vertical-align: middle;\n",
       "    }\n",
       "\n",
       "    .dataframe tbody tr th {\n",
       "        vertical-align: top;\n",
       "    }\n",
       "\n",
       "    .dataframe thead th {\n",
       "        text-align: right;\n",
       "    }\n",
       "</style>\n",
       "<table border=\"1\" class=\"dataframe\">\n",
       "  <thead>\n",
       "    <tr style=\"text-align: right;\">\n",
       "      <th></th>\n",
       "      <th>role</th>\n",
       "      <th>level</th>\n",
       "      <th>count</th>\n",
       "    </tr>\n",
       "  </thead>\n",
       "  <tbody>\n",
       "    <tr>\n",
       "      <th>0</th>\n",
       "      <td>id</td>\n",
       "      <td>nominal</td>\n",
       "      <td>1</td>\n",
       "    </tr>\n",
       "    <tr>\n",
       "      <th>1</th>\n",
       "      <td>input</td>\n",
       "      <td>binary</td>\n",
       "      <td>17</td>\n",
       "    </tr>\n",
       "    <tr>\n",
       "      <th>2</th>\n",
       "      <td>input</td>\n",
       "      <td>interval</td>\n",
       "      <td>10</td>\n",
       "    </tr>\n",
       "    <tr>\n",
       "      <th>3</th>\n",
       "      <td>input</td>\n",
       "      <td>nominal</td>\n",
       "      <td>14</td>\n",
       "    </tr>\n",
       "    <tr>\n",
       "      <th>4</th>\n",
       "      <td>input</td>\n",
       "      <td>ordinal</td>\n",
       "      <td>16</td>\n",
       "    </tr>\n",
       "    <tr>\n",
       "      <th>5</th>\n",
       "      <td>target</td>\n",
       "      <td>binary</td>\n",
       "      <td>1</td>\n",
       "    </tr>\n",
       "  </tbody>\n",
       "</table>\n",
       "</div>"
      ],
      "text/plain": [
       "     role     level  count\n",
       "0      id   nominal      1\n",
       "1   input    binary     17\n",
       "2   input  interval     10\n",
       "3   input   nominal     14\n",
       "4   input   ordinal     16\n",
       "5  target    binary      1"
      ]
     },
     "execution_count": 49,
     "metadata": {},
     "output_type": "execute_result"
    }
   ],
   "source": [
    "pd.DataFrame({'count' : meta.groupby(['role', 'level'])['role'].size()}).reset_index()"
   ]
  },
  {
   "cell_type": "markdown",
   "id": "d42724ed",
   "metadata": {},
   "source": [
    "### Descriptive Statistics"
   ]
  },
  {
   "cell_type": "markdown",
   "id": "a31cb066",
   "metadata": {},
   "source": [
    "#### Interval variables"
   ]
  },
  {
   "cell_type": "code",
   "execution_count": 54,
   "id": "573edfe8",
   "metadata": {},
   "outputs": [],
   "source": [
    "v = meta[(meta.level == 'interval') & (meta.keep)].index"
   ]
  },
  {
   "cell_type": "code",
   "execution_count": 55,
   "id": "c3836acf",
   "metadata": {},
   "outputs": [
    {
     "data": {
      "text/html": [
       "<div>\n",
       "<style scoped>\n",
       "    .dataframe tbody tr th:only-of-type {\n",
       "        vertical-align: middle;\n",
       "    }\n",
       "\n",
       "    .dataframe tbody tr th {\n",
       "        vertical-align: top;\n",
       "    }\n",
       "\n",
       "    .dataframe thead th {\n",
       "        text-align: right;\n",
       "    }\n",
       "</style>\n",
       "<table border=\"1\" class=\"dataframe\">\n",
       "  <thead>\n",
       "    <tr style=\"text-align: right;\">\n",
       "      <th></th>\n",
       "      <th>ps_reg_01</th>\n",
       "      <th>ps_reg_02</th>\n",
       "      <th>ps_reg_03</th>\n",
       "      <th>ps_car_12</th>\n",
       "      <th>ps_car_13</th>\n",
       "      <th>ps_car_14</th>\n",
       "      <th>ps_car_15</th>\n",
       "      <th>ps_calc_01</th>\n",
       "      <th>ps_calc_02</th>\n",
       "      <th>ps_calc_03</th>\n",
       "    </tr>\n",
       "  </thead>\n",
       "  <tbody>\n",
       "    <tr>\n",
       "      <th>count</th>\n",
       "      <td>1950.000000</td>\n",
       "      <td>1950.000000</td>\n",
       "      <td>1950.000000</td>\n",
       "      <td>1950.000000</td>\n",
       "      <td>1950.000000</td>\n",
       "      <td>1950.000000</td>\n",
       "      <td>1950.000000</td>\n",
       "      <td>1950.000000</td>\n",
       "      <td>1950.000000</td>\n",
       "      <td>1950.000000</td>\n",
       "    </tr>\n",
       "    <tr>\n",
       "      <th>mean</th>\n",
       "      <td>0.611744</td>\n",
       "      <td>0.428359</td>\n",
       "      <td>0.539683</td>\n",
       "      <td>0.378948</td>\n",
       "      <td>0.811761</td>\n",
       "      <td>0.280150</td>\n",
       "      <td>3.064025</td>\n",
       "      <td>0.458564</td>\n",
       "      <td>0.454154</td>\n",
       "      <td>0.456359</td>\n",
       "    </tr>\n",
       "    <tr>\n",
       "      <th>std</th>\n",
       "      <td>0.285012</td>\n",
       "      <td>0.386391</td>\n",
       "      <td>0.791087</td>\n",
       "      <td>0.061781</td>\n",
       "      <td>0.236304</td>\n",
       "      <td>0.350502</td>\n",
       "      <td>0.739527</td>\n",
       "      <td>0.292116</td>\n",
       "      <td>0.285462</td>\n",
       "      <td>0.288444</td>\n",
       "    </tr>\n",
       "    <tr>\n",
       "      <th>min</th>\n",
       "      <td>0.000000</td>\n",
       "      <td>0.000000</td>\n",
       "      <td>-1.000000</td>\n",
       "      <td>0.315278</td>\n",
       "      <td>0.339968</td>\n",
       "      <td>-1.000000</td>\n",
       "      <td>0.000000</td>\n",
       "      <td>0.000000</td>\n",
       "      <td>0.000000</td>\n",
       "      <td>0.000000</td>\n",
       "    </tr>\n",
       "    <tr>\n",
       "      <th>25%</th>\n",
       "      <td>0.400000</td>\n",
       "      <td>0.200000</td>\n",
       "      <td>0.521416</td>\n",
       "      <td>0.316228</td>\n",
       "      <td>0.670928</td>\n",
       "      <td>0.337639</td>\n",
       "      <td>2.828427</td>\n",
       "      <td>0.200000</td>\n",
       "      <td>0.200000</td>\n",
       "      <td>0.200000</td>\n",
       "    </tr>\n",
       "    <tr>\n",
       "      <th>50%</th>\n",
       "      <td>0.700000</td>\n",
       "      <td>0.300000</td>\n",
       "      <td>0.709753</td>\n",
       "      <td>0.374166</td>\n",
       "      <td>0.759220</td>\n",
       "      <td>0.368782</td>\n",
       "      <td>3.316625</td>\n",
       "      <td>0.500000</td>\n",
       "      <td>0.500000</td>\n",
       "      <td>0.500000</td>\n",
       "    </tr>\n",
       "    <tr>\n",
       "      <th>75%</th>\n",
       "      <td>0.900000</td>\n",
       "      <td>0.600000</td>\n",
       "      <td>0.982662</td>\n",
       "      <td>0.400000</td>\n",
       "      <td>0.897062</td>\n",
       "      <td>0.394335</td>\n",
       "      <td>3.605551</td>\n",
       "      <td>0.700000</td>\n",
       "      <td>0.700000</td>\n",
       "      <td>0.700000</td>\n",
       "    </tr>\n",
       "    <tr>\n",
       "      <th>max</th>\n",
       "      <td>0.900000</td>\n",
       "      <td>1.800000</td>\n",
       "      <td>2.332649</td>\n",
       "      <td>1.264911</td>\n",
       "      <td>2.707275</td>\n",
       "      <td>0.565685</td>\n",
       "      <td>3.741657</td>\n",
       "      <td>0.900000</td>\n",
       "      <td>0.900000</td>\n",
       "      <td>0.900000</td>\n",
       "    </tr>\n",
       "  </tbody>\n",
       "</table>\n",
       "</div>"
      ],
      "text/plain": [
       "         ps_reg_01    ps_reg_02    ps_reg_03    ps_car_12    ps_car_13  \\\n",
       "count  1950.000000  1950.000000  1950.000000  1950.000000  1950.000000   \n",
       "mean      0.611744     0.428359     0.539683     0.378948     0.811761   \n",
       "std       0.285012     0.386391     0.791087     0.061781     0.236304   \n",
       "min       0.000000     0.000000    -1.000000     0.315278     0.339968   \n",
       "25%       0.400000     0.200000     0.521416     0.316228     0.670928   \n",
       "50%       0.700000     0.300000     0.709753     0.374166     0.759220   \n",
       "75%       0.900000     0.600000     0.982662     0.400000     0.897062   \n",
       "max       0.900000     1.800000     2.332649     1.264911     2.707275   \n",
       "\n",
       "         ps_car_14    ps_car_15   ps_calc_01   ps_calc_02   ps_calc_03  \n",
       "count  1950.000000  1950.000000  1950.000000  1950.000000  1950.000000  \n",
       "mean      0.280150     3.064025     0.458564     0.454154     0.456359  \n",
       "std       0.350502     0.739527     0.292116     0.285462     0.288444  \n",
       "min      -1.000000     0.000000     0.000000     0.000000     0.000000  \n",
       "25%       0.337639     2.828427     0.200000     0.200000     0.200000  \n",
       "50%       0.368782     3.316625     0.500000     0.500000     0.500000  \n",
       "75%       0.394335     3.605551     0.700000     0.700000     0.700000  \n",
       "max       0.565685     3.741657     0.900000     0.900000     0.900000  "
      ]
     },
     "execution_count": 55,
     "metadata": {},
     "output_type": "execute_result"
    }
   ],
   "source": [
    "train[v].describe()"
   ]
  },
  {
   "cell_type": "markdown",
   "id": "468d7dff",
   "metadata": {},
   "source": [
    "##### reg variables  \n",
    "\n",
    "* only ps_reg_03 has missing values\n",
    "* the range (min to max) differs between the variables. We could appy scaling   \n",
    "  (e.g. StandardScaler), but it depends on the classifier we will want to use.\n",
    "\n",
    "##### car variables  \n",
    "* ps_car_12 and ps_car_15 have missing values  \n",
    "* again, the range differs and we could apply scaling.  \n",
    "\n",
    "##### calc variables  \n",
    "* no missing values  \n",
    "* this seems to be some kind of ratio as the maximum is 0.9\n",
    "* all three_calc variables have very similar distributions  \n",
    "\n",
    "**Overal**, we can see that the range of the interval variables is rather small.   \n",
    "Perhaps some transformation (e.g. log) is already applied in order to anonymizae the data?"
   ]
  },
  {
   "cell_type": "markdown",
   "id": "42e01611",
   "metadata": {},
   "source": [
    "#### Ordinal variables"
   ]
  },
  {
   "cell_type": "code",
   "execution_count": 59,
   "id": "2bdf32ba",
   "metadata": {},
   "outputs": [
    {
     "data": {
      "text/html": [
       "<div>\n",
       "<style scoped>\n",
       "    .dataframe tbody tr th:only-of-type {\n",
       "        vertical-align: middle;\n",
       "    }\n",
       "\n",
       "    .dataframe tbody tr th {\n",
       "        vertical-align: top;\n",
       "    }\n",
       "\n",
       "    .dataframe thead th {\n",
       "        text-align: right;\n",
       "    }\n",
       "</style>\n",
       "<table border=\"1\" class=\"dataframe\">\n",
       "  <thead>\n",
       "    <tr style=\"text-align: right;\">\n",
       "      <th></th>\n",
       "      <th>ps_ind_01</th>\n",
       "      <th>ps_ind_03</th>\n",
       "      <th>ps_ind_14</th>\n",
       "      <th>ps_ind_15</th>\n",
       "      <th>ps_car_11</th>\n",
       "      <th>ps_calc_04</th>\n",
       "      <th>ps_calc_05</th>\n",
       "      <th>ps_calc_06</th>\n",
       "      <th>ps_calc_07</th>\n",
       "      <th>ps_calc_08</th>\n",
       "      <th>ps_calc_09</th>\n",
       "      <th>ps_calc_10</th>\n",
       "      <th>ps_calc_11</th>\n",
       "      <th>ps_calc_12</th>\n",
       "      <th>ps_calc_13</th>\n",
       "      <th>ps_calc_14</th>\n",
       "    </tr>\n",
       "  </thead>\n",
       "  <tbody>\n",
       "    <tr>\n",
       "      <th>count</th>\n",
       "      <td>1950.000000</td>\n",
       "      <td>1950.000000</td>\n",
       "      <td>1950.000000</td>\n",
       "      <td>1950.000000</td>\n",
       "      <td>1950.000000</td>\n",
       "      <td>1950.000000</td>\n",
       "      <td>1950.000000</td>\n",
       "      <td>1950.000000</td>\n",
       "      <td>1950.000000</td>\n",
       "      <td>1950.000000</td>\n",
       "      <td>1950.000000</td>\n",
       "      <td>1950.000000</td>\n",
       "      <td>1950.000000</td>\n",
       "      <td>1950.000000</td>\n",
       "      <td>1950.000000</td>\n",
       "      <td>1950.000000</td>\n",
       "    </tr>\n",
       "    <tr>\n",
       "      <th>mean</th>\n",
       "      <td>1.822564</td>\n",
       "      <td>4.354359</td>\n",
       "      <td>0.010769</td>\n",
       "      <td>7.256410</td>\n",
       "      <td>2.368205</td>\n",
       "      <td>2.368718</td>\n",
       "      <td>1.895385</td>\n",
       "      <td>7.760513</td>\n",
       "      <td>3.002051</td>\n",
       "      <td>9.233846</td>\n",
       "      <td>2.346154</td>\n",
       "      <td>8.373333</td>\n",
       "      <td>5.393846</td>\n",
       "      <td>1.486154</td>\n",
       "      <td>2.852308</td>\n",
       "      <td>7.680000</td>\n",
       "    </tr>\n",
       "    <tr>\n",
       "      <th>std</th>\n",
       "      <td>1.918371</td>\n",
       "      <td>2.705688</td>\n",
       "      <td>0.112743</td>\n",
       "      <td>3.553577</td>\n",
       "      <td>0.816589</td>\n",
       "      <td>1.132543</td>\n",
       "      <td>1.143536</td>\n",
       "      <td>1.311660</td>\n",
       "      <td>1.429728</td>\n",
       "      <td>1.445675</td>\n",
       "      <td>1.240944</td>\n",
       "      <td>2.871653</td>\n",
       "      <td>2.344773</td>\n",
       "      <td>1.202257</td>\n",
       "      <td>1.648337</td>\n",
       "      <td>2.805689</td>\n",
       "    </tr>\n",
       "    <tr>\n",
       "      <th>min</th>\n",
       "      <td>0.000000</td>\n",
       "      <td>0.000000</td>\n",
       "      <td>0.000000</td>\n",
       "      <td>0.000000</td>\n",
       "      <td>0.000000</td>\n",
       "      <td>0.000000</td>\n",
       "      <td>0.000000</td>\n",
       "      <td>3.000000</td>\n",
       "      <td>0.000000</td>\n",
       "      <td>4.000000</td>\n",
       "      <td>0.000000</td>\n",
       "      <td>0.000000</td>\n",
       "      <td>0.000000</td>\n",
       "      <td>0.000000</td>\n",
       "      <td>0.000000</td>\n",
       "      <td>1.000000</td>\n",
       "    </tr>\n",
       "    <tr>\n",
       "      <th>25%</th>\n",
       "      <td>0.000000</td>\n",
       "      <td>2.000000</td>\n",
       "      <td>0.000000</td>\n",
       "      <td>5.000000</td>\n",
       "      <td>2.000000</td>\n",
       "      <td>2.000000</td>\n",
       "      <td>1.000000</td>\n",
       "      <td>7.000000</td>\n",
       "      <td>2.000000</td>\n",
       "      <td>8.000000</td>\n",
       "      <td>1.000000</td>\n",
       "      <td>6.000000</td>\n",
       "      <td>4.000000</td>\n",
       "      <td>1.000000</td>\n",
       "      <td>2.000000</td>\n",
       "      <td>6.000000</td>\n",
       "    </tr>\n",
       "    <tr>\n",
       "      <th>50%</th>\n",
       "      <td>1.000000</td>\n",
       "      <td>4.000000</td>\n",
       "      <td>0.000000</td>\n",
       "      <td>7.000000</td>\n",
       "      <td>3.000000</td>\n",
       "      <td>2.000000</td>\n",
       "      <td>2.000000</td>\n",
       "      <td>8.000000</td>\n",
       "      <td>3.000000</td>\n",
       "      <td>9.000000</td>\n",
       "      <td>2.000000</td>\n",
       "      <td>8.000000</td>\n",
       "      <td>5.000000</td>\n",
       "      <td>1.000000</td>\n",
       "      <td>3.000000</td>\n",
       "      <td>7.000000</td>\n",
       "    </tr>\n",
       "    <tr>\n",
       "      <th>75%</th>\n",
       "      <td>3.000000</td>\n",
       "      <td>6.000000</td>\n",
       "      <td>0.000000</td>\n",
       "      <td>10.000000</td>\n",
       "      <td>3.000000</td>\n",
       "      <td>3.000000</td>\n",
       "      <td>3.000000</td>\n",
       "      <td>9.000000</td>\n",
       "      <td>4.000000</td>\n",
       "      <td>10.000000</td>\n",
       "      <td>3.000000</td>\n",
       "      <td>10.000000</td>\n",
       "      <td>7.000000</td>\n",
       "      <td>2.000000</td>\n",
       "      <td>4.000000</td>\n",
       "      <td>10.000000</td>\n",
       "    </tr>\n",
       "    <tr>\n",
       "      <th>max</th>\n",
       "      <td>7.000000</td>\n",
       "      <td>11.000000</td>\n",
       "      <td>2.000000</td>\n",
       "      <td>13.000000</td>\n",
       "      <td>3.000000</td>\n",
       "      <td>5.000000</td>\n",
       "      <td>6.000000</td>\n",
       "      <td>10.000000</td>\n",
       "      <td>8.000000</td>\n",
       "      <td>12.000000</td>\n",
       "      <td>6.000000</td>\n",
       "      <td>18.000000</td>\n",
       "      <td>14.000000</td>\n",
       "      <td>7.000000</td>\n",
       "      <td>10.000000</td>\n",
       "      <td>17.000000</td>\n",
       "    </tr>\n",
       "  </tbody>\n",
       "</table>\n",
       "</div>"
      ],
      "text/plain": [
       "         ps_ind_01    ps_ind_03    ps_ind_14    ps_ind_15    ps_car_11  \\\n",
       "count  1950.000000  1950.000000  1950.000000  1950.000000  1950.000000   \n",
       "mean      1.822564     4.354359     0.010769     7.256410     2.368205   \n",
       "std       1.918371     2.705688     0.112743     3.553577     0.816589   \n",
       "min       0.000000     0.000000     0.000000     0.000000     0.000000   \n",
       "25%       0.000000     2.000000     0.000000     5.000000     2.000000   \n",
       "50%       1.000000     4.000000     0.000000     7.000000     3.000000   \n",
       "75%       3.000000     6.000000     0.000000    10.000000     3.000000   \n",
       "max       7.000000    11.000000     2.000000    13.000000     3.000000   \n",
       "\n",
       "        ps_calc_04   ps_calc_05   ps_calc_06   ps_calc_07   ps_calc_08  \\\n",
       "count  1950.000000  1950.000000  1950.000000  1950.000000  1950.000000   \n",
       "mean      2.368718     1.895385     7.760513     3.002051     9.233846   \n",
       "std       1.132543     1.143536     1.311660     1.429728     1.445675   \n",
       "min       0.000000     0.000000     3.000000     0.000000     4.000000   \n",
       "25%       2.000000     1.000000     7.000000     2.000000     8.000000   \n",
       "50%       2.000000     2.000000     8.000000     3.000000     9.000000   \n",
       "75%       3.000000     3.000000     9.000000     4.000000    10.000000   \n",
       "max       5.000000     6.000000    10.000000     8.000000    12.000000   \n",
       "\n",
       "        ps_calc_09   ps_calc_10   ps_calc_11   ps_calc_12   ps_calc_13  \\\n",
       "count  1950.000000  1950.000000  1950.000000  1950.000000  1950.000000   \n",
       "mean      2.346154     8.373333     5.393846     1.486154     2.852308   \n",
       "std       1.240944     2.871653     2.344773     1.202257     1.648337   \n",
       "min       0.000000     0.000000     0.000000     0.000000     0.000000   \n",
       "25%       1.000000     6.000000     4.000000     1.000000     2.000000   \n",
       "50%       2.000000     8.000000     5.000000     1.000000     3.000000   \n",
       "75%       3.000000    10.000000     7.000000     2.000000     4.000000   \n",
       "max       6.000000    18.000000    14.000000     7.000000    10.000000   \n",
       "\n",
       "        ps_calc_14  \n",
       "count  1950.000000  \n",
       "mean      7.680000  \n",
       "std       2.805689  \n",
       "min       1.000000  \n",
       "25%       6.000000  \n",
       "50%       7.000000  \n",
       "75%      10.000000  \n",
       "max      17.000000  "
      ]
     },
     "execution_count": 59,
     "metadata": {},
     "output_type": "execute_result"
    }
   ],
   "source": [
    "v = meta[(meta.level == 'ordinal') & (meta.keep)].index\n",
    "train[v].describe()"
   ]
  },
  {
   "cell_type": "markdown",
   "id": "0bd83e75",
   "metadata": {},
   "source": [
    "#### Binary variables"
   ]
  },
  {
   "cell_type": "code",
   "execution_count": 60,
   "id": "537a02c1",
   "metadata": {},
   "outputs": [
    {
     "data": {
      "text/html": [
       "<div>\n",
       "<style scoped>\n",
       "    .dataframe tbody tr th:only-of-type {\n",
       "        vertical-align: middle;\n",
       "    }\n",
       "\n",
       "    .dataframe tbody tr th {\n",
       "        vertical-align: top;\n",
       "    }\n",
       "\n",
       "    .dataframe thead th {\n",
       "        text-align: right;\n",
       "    }\n",
       "</style>\n",
       "<table border=\"1\" class=\"dataframe\">\n",
       "  <thead>\n",
       "    <tr style=\"text-align: right;\">\n",
       "      <th></th>\n",
       "      <th>target</th>\n",
       "      <th>ps_ind_06_bin</th>\n",
       "      <th>ps_ind_07_bin</th>\n",
       "      <th>ps_ind_08_bin</th>\n",
       "      <th>ps_ind_09_bin</th>\n",
       "      <th>ps_ind_10_bin</th>\n",
       "      <th>ps_ind_11_bin</th>\n",
       "      <th>ps_ind_12_bin</th>\n",
       "      <th>ps_ind_13_bin</th>\n",
       "      <th>ps_ind_16_bin</th>\n",
       "      <th>ps_ind_17_bin</th>\n",
       "      <th>ps_ind_18_bin</th>\n",
       "      <th>ps_calc_15_bin</th>\n",
       "      <th>ps_calc_16_bin</th>\n",
       "      <th>ps_calc_17_bin</th>\n",
       "      <th>ps_calc_18_bin</th>\n",
       "      <th>ps_calc_19_bin</th>\n",
       "      <th>ps_calc_20_bin</th>\n",
       "    </tr>\n",
       "  </thead>\n",
       "  <tbody>\n",
       "    <tr>\n",
       "      <th>count</th>\n",
       "      <td>1950.000000</td>\n",
       "      <td>1950.00000</td>\n",
       "      <td>1950.000000</td>\n",
       "      <td>1950.000000</td>\n",
       "      <td>1950.000000</td>\n",
       "      <td>1950.0</td>\n",
       "      <td>1950.000000</td>\n",
       "      <td>1950.000000</td>\n",
       "      <td>1950.0</td>\n",
       "      <td>1950.000000</td>\n",
       "      <td>1950.000000</td>\n",
       "      <td>1950.000000</td>\n",
       "      <td>1950.000000</td>\n",
       "      <td>1950.000000</td>\n",
       "      <td>1950.000000</td>\n",
       "      <td>1950.000000</td>\n",
       "      <td>1950.000000</td>\n",
       "      <td>1950.000000</td>\n",
       "    </tr>\n",
       "    <tr>\n",
       "      <th>mean</th>\n",
       "      <td>0.037949</td>\n",
       "      <td>0.41641</td>\n",
       "      <td>0.251282</td>\n",
       "      <td>0.146667</td>\n",
       "      <td>0.185641</td>\n",
       "      <td>0.0</td>\n",
       "      <td>0.002051</td>\n",
       "      <td>0.008718</td>\n",
       "      <td>0.0</td>\n",
       "      <td>0.666154</td>\n",
       "      <td>0.114872</td>\n",
       "      <td>0.156410</td>\n",
       "      <td>0.124615</td>\n",
       "      <td>0.614872</td>\n",
       "      <td>0.566667</td>\n",
       "      <td>0.292308</td>\n",
       "      <td>0.357436</td>\n",
       "      <td>0.153846</td>\n",
       "    </tr>\n",
       "    <tr>\n",
       "      <th>std</th>\n",
       "      <td>0.191121</td>\n",
       "      <td>0.49309</td>\n",
       "      <td>0.433862</td>\n",
       "      <td>0.353864</td>\n",
       "      <td>0.388916</td>\n",
       "      <td>0.0</td>\n",
       "      <td>0.045256</td>\n",
       "      <td>0.092986</td>\n",
       "      <td>0.0</td>\n",
       "      <td>0.471706</td>\n",
       "      <td>0.318949</td>\n",
       "      <td>0.363337</td>\n",
       "      <td>0.330367</td>\n",
       "      <td>0.486750</td>\n",
       "      <td>0.495663</td>\n",
       "      <td>0.454940</td>\n",
       "      <td>0.479368</td>\n",
       "      <td>0.360894</td>\n",
       "    </tr>\n",
       "    <tr>\n",
       "      <th>min</th>\n",
       "      <td>0.000000</td>\n",
       "      <td>0.00000</td>\n",
       "      <td>0.000000</td>\n",
       "      <td>0.000000</td>\n",
       "      <td>0.000000</td>\n",
       "      <td>0.0</td>\n",
       "      <td>0.000000</td>\n",
       "      <td>0.000000</td>\n",
       "      <td>0.0</td>\n",
       "      <td>0.000000</td>\n",
       "      <td>0.000000</td>\n",
       "      <td>0.000000</td>\n",
       "      <td>0.000000</td>\n",
       "      <td>0.000000</td>\n",
       "      <td>0.000000</td>\n",
       "      <td>0.000000</td>\n",
       "      <td>0.000000</td>\n",
       "      <td>0.000000</td>\n",
       "    </tr>\n",
       "    <tr>\n",
       "      <th>25%</th>\n",
       "      <td>0.000000</td>\n",
       "      <td>0.00000</td>\n",
       "      <td>0.000000</td>\n",
       "      <td>0.000000</td>\n",
       "      <td>0.000000</td>\n",
       "      <td>0.0</td>\n",
       "      <td>0.000000</td>\n",
       "      <td>0.000000</td>\n",
       "      <td>0.0</td>\n",
       "      <td>0.000000</td>\n",
       "      <td>0.000000</td>\n",
       "      <td>0.000000</td>\n",
       "      <td>0.000000</td>\n",
       "      <td>0.000000</td>\n",
       "      <td>0.000000</td>\n",
       "      <td>0.000000</td>\n",
       "      <td>0.000000</td>\n",
       "      <td>0.000000</td>\n",
       "    </tr>\n",
       "    <tr>\n",
       "      <th>50%</th>\n",
       "      <td>0.000000</td>\n",
       "      <td>0.00000</td>\n",
       "      <td>0.000000</td>\n",
       "      <td>0.000000</td>\n",
       "      <td>0.000000</td>\n",
       "      <td>0.0</td>\n",
       "      <td>0.000000</td>\n",
       "      <td>0.000000</td>\n",
       "      <td>0.0</td>\n",
       "      <td>1.000000</td>\n",
       "      <td>0.000000</td>\n",
       "      <td>0.000000</td>\n",
       "      <td>0.000000</td>\n",
       "      <td>1.000000</td>\n",
       "      <td>1.000000</td>\n",
       "      <td>0.000000</td>\n",
       "      <td>0.000000</td>\n",
       "      <td>0.000000</td>\n",
       "    </tr>\n",
       "    <tr>\n",
       "      <th>75%</th>\n",
       "      <td>0.000000</td>\n",
       "      <td>1.00000</td>\n",
       "      <td>1.000000</td>\n",
       "      <td>0.000000</td>\n",
       "      <td>0.000000</td>\n",
       "      <td>0.0</td>\n",
       "      <td>0.000000</td>\n",
       "      <td>0.000000</td>\n",
       "      <td>0.0</td>\n",
       "      <td>1.000000</td>\n",
       "      <td>0.000000</td>\n",
       "      <td>0.000000</td>\n",
       "      <td>0.000000</td>\n",
       "      <td>1.000000</td>\n",
       "      <td>1.000000</td>\n",
       "      <td>1.000000</td>\n",
       "      <td>1.000000</td>\n",
       "      <td>0.000000</td>\n",
       "    </tr>\n",
       "    <tr>\n",
       "      <th>max</th>\n",
       "      <td>1.000000</td>\n",
       "      <td>1.00000</td>\n",
       "      <td>1.000000</td>\n",
       "      <td>1.000000</td>\n",
       "      <td>1.000000</td>\n",
       "      <td>0.0</td>\n",
       "      <td>1.000000</td>\n",
       "      <td>1.000000</td>\n",
       "      <td>0.0</td>\n",
       "      <td>1.000000</td>\n",
       "      <td>1.000000</td>\n",
       "      <td>1.000000</td>\n",
       "      <td>1.000000</td>\n",
       "      <td>1.000000</td>\n",
       "      <td>1.000000</td>\n",
       "      <td>1.000000</td>\n",
       "      <td>1.000000</td>\n",
       "      <td>1.000000</td>\n",
       "    </tr>\n",
       "  </tbody>\n",
       "</table>\n",
       "</div>"
      ],
      "text/plain": [
       "            target  ps_ind_06_bin  ps_ind_07_bin  ps_ind_08_bin  \\\n",
       "count  1950.000000     1950.00000    1950.000000    1950.000000   \n",
       "mean      0.037949        0.41641       0.251282       0.146667   \n",
       "std       0.191121        0.49309       0.433862       0.353864   \n",
       "min       0.000000        0.00000       0.000000       0.000000   \n",
       "25%       0.000000        0.00000       0.000000       0.000000   \n",
       "50%       0.000000        0.00000       0.000000       0.000000   \n",
       "75%       0.000000        1.00000       1.000000       0.000000   \n",
       "max       1.000000        1.00000       1.000000       1.000000   \n",
       "\n",
       "       ps_ind_09_bin  ps_ind_10_bin  ps_ind_11_bin  ps_ind_12_bin  \\\n",
       "count    1950.000000         1950.0    1950.000000    1950.000000   \n",
       "mean        0.185641            0.0       0.002051       0.008718   \n",
       "std         0.388916            0.0       0.045256       0.092986   \n",
       "min         0.000000            0.0       0.000000       0.000000   \n",
       "25%         0.000000            0.0       0.000000       0.000000   \n",
       "50%         0.000000            0.0       0.000000       0.000000   \n",
       "75%         0.000000            0.0       0.000000       0.000000   \n",
       "max         1.000000            0.0       1.000000       1.000000   \n",
       "\n",
       "       ps_ind_13_bin  ps_ind_16_bin  ps_ind_17_bin  ps_ind_18_bin  \\\n",
       "count         1950.0    1950.000000    1950.000000    1950.000000   \n",
       "mean             0.0       0.666154       0.114872       0.156410   \n",
       "std              0.0       0.471706       0.318949       0.363337   \n",
       "min              0.0       0.000000       0.000000       0.000000   \n",
       "25%              0.0       0.000000       0.000000       0.000000   \n",
       "50%              0.0       1.000000       0.000000       0.000000   \n",
       "75%              0.0       1.000000       0.000000       0.000000   \n",
       "max              0.0       1.000000       1.000000       1.000000   \n",
       "\n",
       "       ps_calc_15_bin  ps_calc_16_bin  ps_calc_17_bin  ps_calc_18_bin  \\\n",
       "count     1950.000000     1950.000000     1950.000000     1950.000000   \n",
       "mean         0.124615        0.614872        0.566667        0.292308   \n",
       "std          0.330367        0.486750        0.495663        0.454940   \n",
       "min          0.000000        0.000000        0.000000        0.000000   \n",
       "25%          0.000000        0.000000        0.000000        0.000000   \n",
       "50%          0.000000        1.000000        1.000000        0.000000   \n",
       "75%          0.000000        1.000000        1.000000        1.000000   \n",
       "max          1.000000        1.000000        1.000000        1.000000   \n",
       "\n",
       "       ps_calc_19_bin  ps_calc_20_bin  \n",
       "count     1950.000000     1950.000000  \n",
       "mean         0.357436        0.153846  \n",
       "std          0.479368        0.360894  \n",
       "min          0.000000        0.000000  \n",
       "25%          0.000000        0.000000  \n",
       "50%          0.000000        0.000000  \n",
       "75%          1.000000        0.000000  \n",
       "max          1.000000        1.000000  "
      ]
     },
     "execution_count": 60,
     "metadata": {},
     "output_type": "execute_result"
    }
   ],
   "source": [
    "v = meta[(meta.level == 'binary') & (meta.keep)].index\n",
    "train[v].describe()"
   ]
  },
  {
   "cell_type": "markdown",
   "id": "2a886b29",
   "metadata": {},
   "source": [
    "* A priori in the train data is 3.645%, which is **strongly imbalanced.**\n",
    "* From the means we can conclude that for most variables the value is zero in most cases."
   ]
  },
  {
   "cell_type": "markdown",
   "id": "417f889a",
   "metadata": {},
   "source": [
    "### Handling imbalanced classes"
   ]
  },
  {
   "cell_type": "markdown",
   "id": "5f979c0d",
   "metadata": {},
   "source": [
    "* oversampling records with target=1  \n",
    "* undersampling records with target=0  \n",
    "  \n",
    "\n",
    "**과소표집(UnderSampling)**  \n",
    "* 다른 클래스에 비해 상대적으로 많이 나타나있는 클래스의 개수를 줄이는 것 \n",
    "* 이를 통해 균형을 유지할 수 있게 되지만, 제거하는 과정에서 유용한 정보가 버려지게 되는 큰 단점  \n",
    "\n",
    "**과대표집(OverSampling)**  \n",
    "* 데이터를 복제하는 것\n",
    "* 정보를 잃지 않고, 훈련용 데이터에서 높은 성능을 보이지만 실험용 데이터에서의 성능은 낮아 질 수 있다. "
   ]
  },
  {
   "cell_type": "code",
   "execution_count": 70,
   "id": "1d0487a1",
   "metadata": {},
   "outputs": [
    {
     "name": "stdout",
     "output_type": "stream",
     "text": [
      "Rate to undersample records with target=0: 0.35501066098081024\n",
      "Number of records with target=0 after undersampling: 666\n"
     ]
    }
   ],
   "source": [
    "desired_apriori=0.10\n",
    "\n",
    "# Get the indices per target value\n",
    "idx_0 = train[train.target == 0].index\n",
    "idx_1 = train[train.target == 1].index\n",
    "\n",
    "# Get original number of records per target value\n",
    "nb_0 = len(train.loc[idx_0])\n",
    "nb_1 = len(train.loc[idx_1])\n",
    "\n",
    "# Calculate the undersampling rate and resulting number of records with target=0\n",
    "undersampling_rate = ((1-desired_apriori)*nb_1)/(nb_0*desired_apriori)\n",
    "undersampled_nb_0 = int(undersampling_rate*nb_0)\n",
    "print('Rate to undersample records with target=0: {}'.format(undersampling_rate))\n",
    "print('Number of records with target=0 after undersampling: {}'.format(undersampled_nb_0))\n",
    "\n",
    "# Randomly select records with target=0 to get at the desired a priori\n",
    "undersampled_idx = shuffle(idx_0, random_state=37, n_samples=undersampled_nb_0)\n",
    "\n",
    "# Construct list with remaining indices\n",
    "idx_list = list(undersampled_idx) + list(idx_1)\n",
    "\n",
    "# Return undersample data frame\n",
    "train = train.loc[idx_list].reset_index(drop=True)"
   ]
  },
  {
   "cell_type": "markdown",
   "id": "1feeae49",
   "metadata": {},
   "source": [
    "### Data Quality Checks\n",
    "\n",
    "**Checking missing values**  \n",
    "Missings are represented as -1"
   ]
  },
  {
   "cell_type": "code",
   "execution_count": 78,
   "id": "e144283a",
   "metadata": {},
   "outputs": [
    {
     "name": "stdout",
     "output_type": "stream",
     "text": [
      "Variable ps_ind_02_cat has 1 records (0.05%) with missing values\n",
      "Variable ps_ind_04_cat has 1 records (0.05%) with missing values\n",
      "Variable ps_ind_05_cat has 22 records (1.13%) with missing values\n",
      "Variable ps_reg_03 has 357 records (18.31%) with missing values\n",
      "Variable ps_car_01_cat has 1 records (0.05%) with missing values\n",
      "Variable ps_car_03_cat has 1371 records (70.31%) with missing values\n",
      "Variable ps_car_05_cat has 882 records (45.23%) with missing values\n",
      "Variable ps_car_07_cat has 44 records (2.26%) with missing values\n",
      "Variable ps_car_09_cat has 5 records (0.26%) with missing values\n",
      "Variable ps_car_14 has 134 records (6.87%) with missing values\n",
      "In total, there are 10 variables with missing values\n"
     ]
    }
   ],
   "source": [
    "vars_with_missing = []\n",
    "\n",
    "for f in train.columns:\n",
    "    missings = train[train[f] == -1][f].count()\n",
    "    if missings > 0:\n",
    "        vars_with_missing.append(f)\n",
    "        missings_perc = missings / train.shape[0]\n",
    "        \n",
    "        print('Variable {} has {} records ({:.2%}) with missing values'.format(f, missings, missings_perc))\n",
    "\n",
    "print('In total, there are {} variables with missing values'.format(len(vars_with_missing)))"
   ]
  },
  {
   "cell_type": "markdown",
   "id": "6f82df09",
   "metadata": {},
   "source": [
    "- **ps_car_03_cat and ps_car_05_cat** have a large proportion of records with missing values. Remove these variables.  \n",
    "- For the other categorical variables with missing values, we can leave the missing value -1 as such.  \n",
    "- **ps_reg_03** (continuous) has missing values for 18% of all records. Replace by the mean.  \n",
    "- **ps_car_11** (ordinal) has only 5 records with misisng values. Replace by the mode.  \n",
    "- **ps_car_12** (continuous) has only 1 records with missing value. Replace by the mean.  \n",
    "- **ps_car_14** (continuous) has missing values for 7% of all records. Replace by the mean.  "
   ]
  },
  {
   "cell_type": "code",
   "execution_count": 79,
   "id": "f9a1dd9c",
   "metadata": {},
   "outputs": [],
   "source": [
    "# Dropping the variables with too many missing values\n",
    "vars_to_drop = ['ps_car_03_cat', 'ps_car_05_cat']\n",
    "train.drop(vars_to_drop, inplace = True, axis = 1)\n",
    "meta.loc[(vars_to_drop), 'keep'] = False  # Updating the meta"
   ]
  },
  {
   "cell_type": "code",
   "execution_count": 80,
   "id": "2055ba01",
   "metadata": {},
   "outputs": [],
   "source": [
    "# Imputing with the mean or mode \n",
    "# 누락값 대체 (mean, median, most_frequent)\n",
    "mean_imp = SimpleImputer(missing_values = -1, strategy = 'mean')           # 평균 (디폴트)\n",
    "mode_imp = SimpleImputer(missing_values = -1, strategy = 'most_frequent')  #  최빈값 \n",
    "\n",
    "train['ps_reg_03'] = mean_imp.fit_transform(train[['ps_reg_03']]).ravel()\n",
    "train['ps_car_12'] = mean_imp.fit_transform(train[['ps_car_12']]).ravel()\n",
    "train['ps_car_14'] = mean_imp.fit_transform(train[['ps_car_14']]).ravel()\n",
    "train['ps_car_11'] = mode_imp.fit_transform(train[['ps_car_11']]).ravel()"
   ]
  },
  {
   "cell_type": "code",
   "execution_count": 81,
   "id": "e2c99c03",
   "metadata": {},
   "outputs": [
    {
     "name": "stdout",
     "output_type": "stream",
     "text": [
      "Variable ps_ind_02_cat has 1 records (0.05%) with missing values\n",
      "Variable ps_ind_04_cat has 1 records (0.05%) with missing values\n",
      "Variable ps_ind_05_cat has 22 records (1.13%) with missing values\n",
      "Variable ps_car_01_cat has 1 records (0.05%) with missing values\n",
      "Variable ps_car_07_cat has 44 records (2.26%) with missing values\n",
      "Variable ps_car_09_cat has 5 records (0.26%) with missing values\n",
      "In total, there are 6 variables with missing values\n"
     ]
    }
   ],
   "source": [
    "vars_with_missing = []\n",
    "\n",
    "for f in train.columns:\n",
    "    missings = train[train[f] == -1][f].count()\n",
    "    if missings > 0:\n",
    "        vars_with_missing.append(f)\n",
    "        missings_perc = missings / train.shape[0]\n",
    "        \n",
    "        print('Variable {} has {} records ({:.2%}) with missing values'.format(f, missings, missings_perc))\n",
    "\n",
    "print('In total, there are {} variables with missing values'.format(len(vars_with_missing)))"
   ]
  },
  {
   "cell_type": "markdown",
   "id": "c39b08c5",
   "metadata": {},
   "source": [
    "#### Checking the cardinality of the categorical variables  \n",
    "Cardinality refers to the number of different values in a variable.   \n",
    "A we will create dummy variables from the categorical variables later on,  \n",
    "we need to check whether there are variables with many distinct values.   \n",
    "We should handle these variables differently as they would result in many dummy variables."
   ]
  },
  {
   "cell_type": "code",
   "execution_count": 83,
   "id": "327a0f7c",
   "metadata": {},
   "outputs": [
    {
     "name": "stdout",
     "output_type": "stream",
     "text": [
      "Variable ps_ind_02_cat has 5 distinct values\n",
      "Variable ps_ind_04_cat has 3 distinct values\n",
      "Variable ps_ind_05_cat has 8 distinct values\n",
      "Variable ps_car_01_cat has 13 distinct values\n",
      "Variable ps_car_02_cat has 2 distinct values\n",
      "Variable ps_car_04_cat has 8 distinct values\n",
      "Variable ps_car_06_cat has 18 distinct values\n",
      "Variable ps_car_07_cat has 3 distinct values\n",
      "Variable ps_car_08_cat has 2 distinct values\n",
      "Variable ps_car_09_cat has 6 distinct values\n",
      "Variable ps_car_10_cat has 3 distinct values\n",
      "Variable ps_car_11_cat has 104 distinct values\n"
     ]
    }
   ],
   "source": [
    "v = meta[(meta.level == 'nominal') & (meta.keep)].index\n",
    "\n",
    "for f in v:\n",
    "    dist_values = train[f].value_counts().shape[0]\n",
    "    print('Variable {} has {} distinct values'.format(f, dist_values))"
   ]
  },
  {
   "cell_type": "markdown",
   "id": "d0aee21e",
   "metadata": {},
   "source": [
    "Only **ps_car_11_cat** has many distinct values, although it is still reasonable."
   ]
  },
  {
   "cell_type": "code",
   "execution_count": 91,
   "id": "030f56fa",
   "metadata": {},
   "outputs": [],
   "source": [
    "# Script by https://www.kaggle.com/ogrellier  \n",
    "# Code: https://www.kaggle.com/ogrellier/python-target-encoding-for-categorical-features  \n",
    "def add_noise(series, noise_level):\n",
    "    return series * (1 + noise_level * np.random.randn(len(series)))\n",
    "\n",
    "def target_encode(trn_series=None, \n",
    "                  tst_series=None, \n",
    "                  target=None, \n",
    "                  min_samples_leaf=1, \n",
    "                  smoothing=1,\n",
    "                  noise_level=0):\n",
    "    \"\"\"\n",
    "    Smoothing is computed like in the following paper by Daniele Micci-Barreca\n",
    "    https://kaggle2.blob.core.windows.net/forum-message-attachments/225952/7441/high%20cardinality%20categoricals.pdf\n",
    "    trn_series : training categorical feature as a pd.Series\n",
    "    tst_series : test categorical feature as a pd.Series\n",
    "    target : target data as a pd.Series\n",
    "    min_samples_leaf (int) : minimum samples to take category average into account\n",
    "    smoothing (int) : smoothing effect to balance categorical average vs prior \n",
    "    \"\"\"\n",
    "    assert len(trn_series) == len(target)\n",
    "    assert trn_series.name == tst_series.name\n",
    "    temp = pd.concat([trn_series, target], axis=1)\n",
    "    \n",
    "    # Compute target mean \n",
    "    averages = temp.groupby(by=trn_series.name)[target.name].agg([\"mean\", \"count\"])\n",
    "    \n",
    "    # Compute smoothing\n",
    "    smoothing = 1 / (1 + np.exp(-(averages[\"count\"] - min_samples_leaf) / smoothing))\n",
    "    \n",
    "    # Apply average function to all target data\n",
    "    prior = target.mean()\n",
    "    \n",
    "    # The bigger the count the less full_avg is taken into account\n",
    "    averages[target.name] = prior * (1 - smoothing) + averages[\"mean\"] * smoothing\n",
    "    averages.drop([\"mean\", \"count\"], axis=1, inplace=True)\n",
    "    \n",
    "    # Apply averages to trn and tst series\n",
    "    ft_trn_series = pd.merge(\n",
    "        trn_series.to_frame(trn_series.name),\n",
    "        averages.reset_index().rename(columns={'index': target.name, target.name: 'average'}),\n",
    "        on=trn_series.name,\n",
    "        how='left')['average'].rename(trn_series.name + '_mean').fillna(prior)\n",
    "    \n",
    "    # pd.merge does not keep the index so restore it\n",
    "    ft_trn_series.index = trn_series.index \n",
    "    ft_tst_series = pd.merge(\n",
    "        tst_series.to_frame(tst_series.name),\n",
    "        averages.reset_index().rename(columns={'index': target.name, target.name: 'average'}),\n",
    "        on=tst_series.name,\n",
    "        how='left')['average'].rename(trn_series.name + '_mean').fillna(prior)\n",
    "    \n",
    "    # pd.merge does not keep the index so restore it\n",
    "    ft_tst_series.index = tst_series.index\n",
    "    return add_noise(ft_trn_series, noise_level), add_noise(ft_tst_series, noise_level)"
   ]
  },
  {
   "cell_type": "code",
   "execution_count": 93,
   "id": "b5a60fb8",
   "metadata": {},
   "outputs": [
    {
     "ename": "NameError",
     "evalue": "name 'test' is not defined",
     "output_type": "error",
     "traceback": [
      "\u001b[0;31m---------------------------------------------------------------------------\u001b[0m",
      "\u001b[0;31mNameError\u001b[0m                                 Traceback (most recent call last)",
      "\u001b[0;32m<ipython-input-93-5c346c08176e>\u001b[0m in \u001b[0;36m<module>\u001b[0;34m\u001b[0m\n\u001b[1;32m      1\u001b[0m train_encoded, test_encoded = target_encode(train[\"ps_car_11_cat\"],\n\u001b[0;32m----> 2\u001b[0;31m                               \u001b[0mtest\u001b[0m\u001b[0;34m[\u001b[0m\u001b[0;34m\"ps_car_11_cat\"\u001b[0m\u001b[0;34m]\u001b[0m\u001b[0;34m,\u001b[0m\u001b[0;34m\u001b[0m\u001b[0;34m\u001b[0m\u001b[0m\n\u001b[0m\u001b[1;32m      3\u001b[0m                               \u001b[0mtarget\u001b[0m \u001b[0;34m=\u001b[0m \u001b[0mtrain\u001b[0m\u001b[0;34m.\u001b[0m\u001b[0mtarget\u001b[0m\u001b[0;34m,\u001b[0m\u001b[0;34m\u001b[0m\u001b[0;34m\u001b[0m\u001b[0m\n\u001b[1;32m      4\u001b[0m                               \u001b[0mmin_samples_leaf\u001b[0m \u001b[0;34m=\u001b[0m \u001b[0;36m100\u001b[0m\u001b[0;34m,\u001b[0m\u001b[0;34m\u001b[0m\u001b[0;34m\u001b[0m\u001b[0m\n\u001b[1;32m      5\u001b[0m                               \u001b[0msmoothing\u001b[0m \u001b[0;34m=\u001b[0m \u001b[0;36m10\u001b[0m\u001b[0;34m,\u001b[0m\u001b[0;34m\u001b[0m\u001b[0;34m\u001b[0m\u001b[0m\n",
      "\u001b[0;31mNameError\u001b[0m: name 'test' is not defined"
     ]
    }
   ],
   "source": [
    "train_encoded, test_encoded = target_encode(train[\"ps_car_11_cat\"],\n",
    "                              test[\"ps_car_11_cat\"],\n",
    "                              target = train.target,\n",
    "                              min_samples_leaf = 100,\n",
    "                              smoothing = 10,\n",
    "                              noise_level = 0.01)\n",
    "train['ps_car_11_cat_te'] = train_encoded\n",
    "train.drop('ps_car_11_cat', axis = 1, inplace = True)\n",
    "meta.loc['ps_car_11_cat', 'keep'] = False # Updating the meta\n",
    "#test['ps_car_11_cat_te'] = test_encoded\n",
    "#test.drop('ps_car_11_cat', axis=1, inplace = True)"
   ]
  },
  {
   "cell_type": "markdown",
   "id": "5b90767e",
   "metadata": {},
   "source": [
    "### Exploratory Data Visualization\n",
    "\n",
    "**Categorical variables**  \n",
    "Let's look into the categorical variables and the proportion of customers with target = 1"
   ]
  },
  {
   "cell_type": "code",
   "execution_count": 97,
   "id": "c450a29e",
   "metadata": {},
   "outputs": [
    {
     "data": {
      "text/plain": [
       "<Figure size 432x288 with 0 Axes>"
      ]
     },
     "metadata": {},
     "output_type": "display_data"
    },
    {
     "data": {
      "image/png": "[encoded data removed]",
      "text/plain": [
       "<Figure size 1440x720 with 1 Axes>"
      ]
     },
     "metadata": {
      "needs_background": "light"
     },
     "output_type": "display_data"
    },
    {
     "data": {
      "text/plain": [
       "<Figure size 432x288 with 0 Axes>"
      ]
     },
     "metadata": {},
     "output_type": "display_data"
    },
    {
     "data": {
      "image/png": "[encoded data removed]",
      "text/plain": [
       "<Figure size 1440x720 with 1 Axes>"
      ]
     },
     "metadata": {
      "needs_background": "light"
     },
     "output_type": "display_data"
    },
    {
     "data": {
      "text/plain": [
       "<Figure size 432x288 with 0 Axes>"
      ]
     },
     "metadata": {},
     "output_type": "display_data"
    },
    {
     "data": {
      "image/png": "[encoded data removed]",
      "text/plain": [
       "<Figure size 1440x720 with 1 Axes>"
      ]
     },
     "metadata": {
      "needs_background": "light"
     },
     "output_type": "display_data"
    },
    {
     "data": {
      "text/plain": [
       "<Figure size 432x288 with 0 Axes>"
      ]
     },
     "metadata": {},
     "output_type": "display_data"
    },
    {
     "data": {
      "image/png": "[encoded data removed]",
      "text/plain": [
       "<Figure size 1440x720 with 1 Axes>"
      ]
     },
     "metadata": {
      "needs_background": "light"
     },
     "output_type": "display_data"
    },
    {
     "data": {
      "text/plain": [
       "<Figure size 432x288 with 0 Axes>"
      ]
     },
     "metadata": {},
     "output_type": "display_data"
    },
    {
     "data": {
      "image/png": "[encoded data removed]",
      "text/plain": [
       "<Figure size 1440x720 with 1 Axes>"
      ]
     },
     "metadata": {
      "needs_background": "light"
     },
     "output_type": "display_data"
    },
    {
     "data": {
      "text/plain": [
       "<Figure size 432x288 with 0 Axes>"
      ]
     },
     "metadata": {},
     "output_type": "display_data"
    },
    {
     "data": {
      "image/png": "[encoded data removed]",
      "text/plain": [
       "<Figure size 1440x720 with 1 Axes>"
      ]
     },
     "metadata": {
      "needs_background": "light"
     },
     "output_type": "display_data"
    },
    {
     "data": {
      "text/plain": [
       "<Figure size 432x288 with 0 Axes>"
      ]
     },
     "metadata": {},
     "output_type": "display_data"
    },
    {
     "data": {
      "image/png": "[encoded data removed]",
      "text/plain": [
       "<Figure size 1440x720 with 1 Axes>"
      ]
     },
     "metadata": {
      "needs_background": "light"
     },
     "output_type": "display_data"
    },
    {
     "data": {
      "text/plain": [
       "<Figure size 432x288 with 0 Axes>"
      ]
     },
     "metadata": {},
     "output_type": "display_data"
    },
    {
     "data": {
      "image/png": "[encoded data removed]",
      "text/plain": [
       "<Figure size 1440x720 with 1 Axes>"
      ]
     },
     "metadata": {
      "needs_background": "light"
     },
     "output_type": "display_data"
    },
    {
     "data": {
      "text/plain": [
       "<Figure size 432x288 with 0 Axes>"
      ]
     },
     "metadata": {},
     "output_type": "display_data"
    },
    {
     "data": {
      "image/png": "[encoded data removed]",
      "text/plain": [
       "<Figure size 1440x720 with 1 Axes>"
      ]
     },
     "metadata": {
      "needs_background": "light"
     },
     "output_type": "display_data"
    },
    {
     "data": {
      "text/plain": [
       "<Figure size 432x288 with 0 Axes>"
      ]
     },
     "metadata": {},
     "output_type": "display_data"
    },
    {
     "data": {
      "image/png": "[encoded data removed]",
      "text/plain": [
       "<Figure size 1440x720 with 1 Axes>"
      ]
     },
     "metadata": {
      "needs_background": "light"
     },
     "output_type": "display_data"
    },
    {
     "data": {
      "text/plain": [
       "<Figure size 432x288 with 0 Axes>"
      ]
     },
     "metadata": {},
     "output_type": "display_data"
    },
    {
     "data": {
      "image/png": "[encoded data removed]",
      "text/plain": [
       "<Figure size 1440x720 with 1 Axes>"
      ]
     },
     "metadata": {
      "needs_background": "light"
     },
     "output_type": "display_data"
    },
    {
     "data": {
      "text/plain": [
       "<Figure size 432x288 with 0 Axes>"
      ]
     },
     "metadata": {},
     "output_type": "display_data"
    },
    {
     "data": {
      "image/png": "[encoded data removed]",
      "text/plain": [
       "<Figure size 1440x720 with 1 Axes>"
      ]
     },
     "metadata": {
      "needs_background": "light"
     },
     "output_type": "display_data"
    }
   ],
   "source": [
    "v = meta[(meta.level == 'nominal') & (meta.keep)].index\n",
    "\n",
    "for f in v:\n",
    "    plt.figure()\n",
    "    fig, ax = plt.subplots(figsize=(20,10))\n",
    "    \n",
    "    # Calculate the percentage of target=1 per category value\n",
    "    cat_perc = train[[f, 'target']].groupby([f], as_index=False).mean()\n",
    "    cat_perc.sort_values(by='target', ascending=False, inplace=True)\n",
    "    \n",
    "    # Bar plot\n",
    "    # Order the bars descending on target mean\n",
    "    sns.barplot(ax=ax, x=f, y='target', data=cat_perc, order=cat_perc[f])\n",
    "    plt.ylabel('% target', fontsize=18)\n",
    "    plt.xlabel(f, fontsize=18)\n",
    "    plt.tick_params(axis='both', which='major', labelsize=18)\n",
    "    plt.show();"
   ]
  },
  {
   "cell_type": "code",
   "execution_count": null,
   "id": "f3f3d603",
   "metadata": {},
   "outputs": [],
   "source": []
  },
  {
   "cell_type": "code",
   "execution_count": null,
   "id": "0b56497c",
   "metadata": {},
   "outputs": [],
   "source": []
  }
 ],
 "metadata": {
  "kernelspec": {
   "display_name": "Python 3",
   "language": "python",
   "name": "python3"
  },
  "language_info": {
   "codemirror_mode": {
    "name": "ipython",
    "version": 3
   },
   "file_extension": ".py",
   "mimetype": "text/x-python",
   "name": "python",
   "nbconvert_exporter": "python",
   "pygments_lexer": "ipython3",
   "version": "3.8.5"
  }
 },
 "nbformat": 4,
 "nbformat_minor": 5
}
