{
 "cells": [
  {
   "cell_type": "markdown",
   "id": "cloudy-webcam",
   "metadata": {},
   "source": [
    "### Loading packages"
   ]
  },
  {
   "cell_type": "code",
   "execution_count": 65,
   "id": "optical-investment",
   "metadata": {},
   "outputs": [],
   "source": [
    "import pandas as pd\n",
    "import numpy as np\n",
    "import matplotlib.pyplot as plt\n",
    "import seaborn as sns\n",
    "#from sklearn.preprocessing import Imputer # 사라짐\n",
    "from sklearn.impute import SimpleImputer\n",
    "from sklearn.preprocessing import PolynomialFeatures\n",
    "from sklearn.preprocessing import StandardScaler\n",
    "from sklearn.feature_selection import VarianceThreshold\n",
    "from sklearn.feature_selection import SelectFromModel\n",
    "from sklearn.utils import shuffle\n",
    "from sklearn.ensemble import RandomForestClassifier\n",
    "\n",
    "pd.set_option('display.max_columns', 100)"
   ]
  },
  {
   "cell_type": "markdown",
   "id": "attached-supervision",
   "metadata": {},
   "source": [
    "### Loading data"
   ]
  },
  {
   "cell_type": "code",
   "execution_count": 119,
   "id": "civil-penny",
   "metadata": {},
   "outputs": [],
   "source": [
    "train = pd.read_csv('../PortoSeguro/train_reduce.csv')\n",
    "#test = pd.read_csv('../PortoSeguro/test.csv')"
   ]
  },
  {
   "cell_type": "markdown",
   "id": "b825757f",
   "metadata": {},
   "source": [
    "### Data at first sight"
   ]
  },
  {
   "cell_type": "markdown",
   "id": "b588fbf7",
   "metadata": {},
   "source": [
    "* Features that belong to similar groupings are tagged as such in the feature names (e.g., ind, reg, car, calc).  \n",
    "* Feature names include the postfix bin to indicate binary features and cat to indicate categorical features.  \n",
    "* Features without these designations are either continuous or ordinal.  \n",
    "* Values of -1 indicate that the feature was missing from the observation.  \n",
    "* The target columns signifies whether or not a claim was filed for that policy holder.   "
   ]
  },
  {
   "cell_type": "markdown",
   "id": "3d4944aa",
   "metadata": {},
   "source": [
    "* Binary features == 여부([0,1], [true, false])  \n",
    "* Categorical(범주형) features   \n",
    "  * 명목형 자료(Nominal data) == 성별(남/여), 혈액형(A/B/O/AB)  # 순서의 의미가 없다.\n",
    "  * 순서형 자료(Ordinal data) == 효과(없음/조금있음/매우있음)   # 순서의 의미가 있다.\n",
    "  \n",
    "* Numerical(수치형) features  \n",
    "  * 이산형 자료(Discrete data)   == 일정기간 동안의 발생횟수, 출산횟수  # 이산적인 값을 가짐 \n",
    "  * 연속형 자료(Continuous data) == 신장, 체중, 협압                    # 연속적인 값을 가짐"
   ]
  },
  {
   "cell_type": "markdown",
   "id": "94b301b9",
   "metadata": {},
   "source": [
    "### We indeed see the following ###   \n",
    "* binary variables\n",
    "* categorical variables of which the category values are integers\n",
    "* other variables with integer or float values\n",
    "* variables with -1 representing missing values\n",
    "* the target variable and an ID variable"
   ]
  },
  {
   "cell_type": "code",
   "execution_count": 67,
   "id": "ab70057a",
   "metadata": {},
   "outputs": [
    {
     "data": {
      "text/plain": [
       "(1950, 59)"
      ]
     },
     "execution_count": 67,
     "metadata": {},
     "output_type": "execute_result"
    }
   ],
   "source": [
    "train.shape"
   ]
  },
  {
   "cell_type": "code",
   "execution_count": 75,
   "id": "a1175880",
   "metadata": {},
   "outputs": [
    {
     "data": {
      "text/plain": [
       "(1950, 59)"
      ]
     },
     "execution_count": 75,
     "metadata": {},
     "output_type": "execute_result"
    }
   ],
   "source": [
    "train.drop_duplicates()\n",
    "train.shape"
   ]
  },
  {
   "cell_type": "markdown",
   "id": "290004bc",
   "metadata": {},
   "source": [
    "No duplicate rows, so that's fine"
   ]
  },
  {
   "cell_type": "code",
   "execution_count": null,
   "id": "1e1b9dd3",
   "metadata": {},
   "outputs": [],
   "source": [
    "train.info()"
   ]
  },
  {
   "cell_type": "markdown",
   "id": "665908fe",
   "metadata": {},
   "source": [
    "### Metadata ###  \n",
    "To facilitate the data management, we'll store meta-information about the variables in a DataFrame.   \n",
    "This will be helpful when we want to select specific variables for analysis, visualization, modeling, ...\n",
    "\n",
    "\n",
    "Concretely we will store:\n",
    "\n",
    "* role: input, ID, target\n",
    "* level: nominal, interval, ordinal, binary\n",
    "* keep: True or False\n",
    "* dtype: int, float, str"
   ]
  },
  {
   "cell_type": "code",
   "execution_count": 68,
   "id": "5a0f1515",
   "metadata": {},
   "outputs": [],
   "source": [
    "data = []\n",
    "for f in train.columns:\n",
    "    \n",
    "    # Defining the role \n",
    "    if f == 'target':\n",
    "        role = 'target'\n",
    "    elif f == 'id':\n",
    "        role = 'id'\n",
    "    else:\n",
    "        role = 'input'\n",
    "    \n",
    "    # Defining the level\n",
    "    if 'bin' in f or f == 'target':\n",
    "        level = 'binary'\n",
    "    elif 'cat' in f or f == 'id':\n",
    "        level = 'nominal'\n",
    "    elif train[f].dtype == float:\n",
    "        level = 'interval'\n",
    "    elif train[f].dtype == int:\n",
    "        level = 'ordinal'\n",
    "    \n",
    "    # Initialize keep to True for all variables except for id \n",
    "    keep = True \n",
    "    if f == 'id':\n",
    "        keep = False\n",
    "    \n",
    "    # Defining the data type\n",
    "    dtype = train[f].dtype\n",
    "    \n",
    "    # Creating a Dict that contains all the metadata for the variable \n",
    "    f_dict = {\n",
    "        'varname': f,\n",
    "        'role': role,\n",
    "        'level': level,\n",
    "        'keep': keep,\n",
    "        'dtype': dtype\n",
    "    }\n",
    "    data.append(f_dict)\n",
    "\n",
    "meta = pd.DataFrame(data, columns=['varname', 'role', 'level', 'keep', 'dtype'])\n",
    "meta.set_index('varname', inplace=True)"
   ]
  },
  {
   "cell_type": "code",
   "execution_count": null,
   "id": "93880673",
   "metadata": {},
   "outputs": [],
   "source": [
    "meta"
   ]
  },
  {
   "cell_type": "code",
   "execution_count": null,
   "id": "c1cc1811",
   "metadata": {},
   "outputs": [],
   "source": [
    "meta[(meta.level == 'nominal') & (meta.keep)].index"
   ]
  },
  {
   "cell_type": "code",
   "execution_count": 49,
   "id": "2f4ea42c",
   "metadata": {},
   "outputs": [
    {
     "data": {
      "text/html": [
       "<div>\n",
       "<style scoped>\n",
       "    .dataframe tbody tr th:only-of-type {\n",
       "        vertical-align: middle;\n",
       "    }\n",
       "\n",
       "    .dataframe tbody tr th {\n",
       "        vertical-align: top;\n",
       "    }\n",
       "\n",
       "    .dataframe thead th {\n",
       "        text-align: right;\n",
       "    }\n",
       "</style>\n",
       "<table border=\"1\" class=\"dataframe\">\n",
       "  <thead>\n",
       "    <tr style=\"text-align: right;\">\n",
       "      <th></th>\n",
       "      <th>role</th>\n",
       "      <th>level</th>\n",
       "      <th>count</th>\n",
       "    </tr>\n",
       "  </thead>\n",
       "  <tbody>\n",
       "    <tr>\n",
       "      <th>0</th>\n",
       "      <td>id</td>\n",
       "      <td>nominal</td>\n",
       "      <td>1</td>\n",
       "    </tr>\n",
       "    <tr>\n",
       "      <th>1</th>\n",
       "      <td>input</td>\n",
       "      <td>binary</td>\n",
       "      <td>17</td>\n",
       "    </tr>\n",
       "    <tr>\n",
       "      <th>2</th>\n",
       "      <td>input</td>\n",
       "      <td>interval</td>\n",
       "      <td>10</td>\n",
       "    </tr>\n",
       "    <tr>\n",
       "      <th>3</th>\n",
       "      <td>input</td>\n",
       "      <td>nominal</td>\n",
       "      <td>14</td>\n",
       "    </tr>\n",
       "    <tr>\n",
       "      <th>4</th>\n",
       "      <td>input</td>\n",
       "      <td>ordinal</td>\n",
       "      <td>16</td>\n",
       "    </tr>\n",
       "    <tr>\n",
       "      <th>5</th>\n",
       "      <td>target</td>\n",
       "      <td>binary</td>\n",
       "      <td>1</td>\n",
       "    </tr>\n",
       "  </tbody>\n",
       "</table>\n",
       "</div>"
      ],
      "text/plain": [
       "     role     level  count\n",
       "0      id   nominal      1\n",
       "1   input    binary     17\n",
       "2   input  interval     10\n",
       "3   input   nominal     14\n",
       "4   input   ordinal     16\n",
       "5  target    binary      1"
      ]
     },
     "execution_count": 49,
     "metadata": {},
     "output_type": "execute_result"
    }
   ],
   "source": [
    "pd.DataFrame({'count' : meta.groupby(['role', 'level'])['role'].size()}).reset_index()"
   ]
  },
  {
   "cell_type": "markdown",
   "id": "d42724ed",
   "metadata": {},
   "source": [
    "### Descriptive Statistics"
   ]
  },
  {
   "cell_type": "markdown",
   "id": "a31cb066",
   "metadata": {},
   "source": [
    "#### Interval variables"
   ]
  },
  {
   "cell_type": "code",
   "execution_count": 54,
   "id": "573edfe8",
   "metadata": {},
   "outputs": [],
   "source": [
    "v = meta[(meta.level == 'interval') & (meta.keep)].index"
   ]
  },
  {
   "cell_type": "code",
   "execution_count": 55,
   "id": "c3836acf",
   "metadata": {},
   "outputs": [
    {
     "data": {
      "text/html": [
       "<div>\n",
       "<style scoped>\n",
       "    .dataframe tbody tr th:only-of-type {\n",
       "        vertical-align: middle;\n",
       "    }\n",
       "\n",
       "    .dataframe tbody tr th {\n",
       "        vertical-align: top;\n",
       "    }\n",
       "\n",
       "    .dataframe thead th {\n",
       "        text-align: right;\n",
       "    }\n",
       "</style>\n",
       "<table border=\"1\" class=\"dataframe\">\n",
       "  <thead>\n",
       "    <tr style=\"text-align: right;\">\n",
       "      <th></th>\n",
       "      <th>ps_reg_01</th>\n",
       "      <th>ps_reg_02</th>\n",
       "      <th>ps_reg_03</th>\n",
       "      <th>ps_car_12</th>\n",
       "      <th>ps_car_13</th>\n",
       "      <th>ps_car_14</th>\n",
       "      <th>ps_car_15</th>\n",
       "      <th>ps_calc_01</th>\n",
       "      <th>ps_calc_02</th>\n",
       "      <th>ps_calc_03</th>\n",
       "    </tr>\n",
       "  </thead>\n",
       "  <tbody>\n",
       "    <tr>\n",
       "      <th>count</th>\n",
       "      <td>1950.000000</td>\n",
       "      <td>1950.000000</td>\n",
       "      <td>1950.000000</td>\n",
       "      <td>1950.000000</td>\n",
       "      <td>1950.000000</td>\n",
       "      <td>1950.000000</td>\n",
       "      <td>1950.000000</td>\n",
       "      <td>1950.000000</td>\n",
       "      <td>1950.000000</td>\n",
       "      <td>1950.000000</td>\n",
       "    </tr>\n",
       "    <tr>\n",
       "      <th>mean</th>\n",
       "      <td>0.611744</td>\n",
       "      <td>0.428359</td>\n",
       "      <td>0.539683</td>\n",
       "      <td>0.378948</td>\n",
       "      <td>0.811761</td>\n",
       "      <td>0.280150</td>\n",
       "      <td>3.064025</td>\n",
       "      <td>0.458564</td>\n",
       "      <td>0.454154</td>\n",
       "      <td>0.456359</td>\n",
       "    </tr>\n",
       "    <tr>\n",
       "      <th>std</th>\n",
       "      <td>0.285012</td>\n",
       "      <td>0.386391</td>\n",
       "      <td>0.791087</td>\n",
       "      <td>0.061781</td>\n",
       "      <td>0.236304</td>\n",
       "      <td>0.350502</td>\n",
       "      <td>0.739527</td>\n",
       "      <td>0.292116</td>\n",
       "      <td>0.285462</td>\n",
       "      <td>0.288444</td>\n",
       "    </tr>\n",
       "    <tr>\n",
       "      <th>min</th>\n",
       "      <td>0.000000</td>\n",
       "      <td>0.000000</td>\n",
       "      <td>-1.000000</td>\n",
       "      <td>0.315278</td>\n",
       "      <td>0.339968</td>\n",
       "      <td>-1.000000</td>\n",
       "      <td>0.000000</td>\n",
       "      <td>0.000000</td>\n",
       "      <td>0.000000</td>\n",
       "      <td>0.000000</td>\n",
       "    </tr>\n",
       "    <tr>\n",
       "      <th>25%</th>\n",
       "      <td>0.400000</td>\n",
       "      <td>0.200000</td>\n",
       "      <td>0.521416</td>\n",
       "      <td>0.316228</td>\n",
       "      <td>0.670928</td>\n",
       "      <td>0.337639</td>\n",
       "      <td>2.828427</td>\n",
       "      <td>0.200000</td>\n",
       "      <td>0.200000</td>\n",
       "      <td>0.200000</td>\n",
       "    </tr>\n",
       "    <tr>\n",
       "      <th>50%</th>\n",
       "      <td>0.700000</td>\n",
       "      <td>0.300000</td>\n",
       "      <td>0.709753</td>\n",
       "      <td>0.374166</td>\n",
       "      <td>0.759220</td>\n",
       "      <td>0.368782</td>\n",
       "      <td>3.316625</td>\n",
       "      <td>0.500000</td>\n",
       "      <td>0.500000</td>\n",
       "      <td>0.500000</td>\n",
       "    </tr>\n",
       "    <tr>\n",
       "      <th>75%</th>\n",
       "      <td>0.900000</td>\n",
       "      <td>0.600000</td>\n",
       "      <td>0.982662</td>\n",
       "      <td>0.400000</td>\n",
       "      <td>0.897062</td>\n",
       "      <td>0.394335</td>\n",
       "      <td>3.605551</td>\n",
       "      <td>0.700000</td>\n",
       "      <td>0.700000</td>\n",
       "      <td>0.700000</td>\n",
       "    </tr>\n",
       "    <tr>\n",
       "      <th>max</th>\n",
       "      <td>0.900000</td>\n",
       "      <td>1.800000</td>\n",
       "      <td>2.332649</td>\n",
       "      <td>1.264911</td>\n",
       "      <td>2.707275</td>\n",
       "      <td>0.565685</td>\n",
       "      <td>3.741657</td>\n",
       "      <td>0.900000</td>\n",
       "      <td>0.900000</td>\n",
       "      <td>0.900000</td>\n",
       "    </tr>\n",
       "  </tbody>\n",
       "</table>\n",
       "</div>"
      ],
      "text/plain": [
       "         ps_reg_01    ps_reg_02    ps_reg_03    ps_car_12    ps_car_13  \\\n",
       "count  1950.000000  1950.000000  1950.000000  1950.000000  1950.000000   \n",
       "mean      0.611744     0.428359     0.539683     0.378948     0.811761   \n",
       "std       0.285012     0.386391     0.791087     0.061781     0.236304   \n",
       "min       0.000000     0.000000    -1.000000     0.315278     0.339968   \n",
       "25%       0.400000     0.200000     0.521416     0.316228     0.670928   \n",
       "50%       0.700000     0.300000     0.709753     0.374166     0.759220   \n",
       "75%       0.900000     0.600000     0.982662     0.400000     0.897062   \n",
       "max       0.900000     1.800000     2.332649     1.264911     2.707275   \n",
       "\n",
       "         ps_car_14    ps_car_15   ps_calc_01   ps_calc_02   ps_calc_03  \n",
       "count  1950.000000  1950.000000  1950.000000  1950.000000  1950.000000  \n",
       "mean      0.280150     3.064025     0.458564     0.454154     0.456359  \n",
       "std       0.350502     0.739527     0.292116     0.285462     0.288444  \n",
       "min      -1.000000     0.000000     0.000000     0.000000     0.000000  \n",
       "25%       0.337639     2.828427     0.200000     0.200000     0.200000  \n",
       "50%       0.368782     3.316625     0.500000     0.500000     0.500000  \n",
       "75%       0.394335     3.605551     0.700000     0.700000     0.700000  \n",
       "max       0.565685     3.741657     0.900000     0.900000     0.900000  "
      ]
     },
     "execution_count": 55,
     "metadata": {},
     "output_type": "execute_result"
    }
   ],
   "source": [
    "train[v].describe()"
   ]
  },
  {
   "cell_type": "markdown",
   "id": "468d7dff",
   "metadata": {},
   "source": [
    "##### reg variables  \n",
    "\n",
    "* only ps_reg_03 has missing values\n",
    "* the range (min to max) differs between the variables. We could appy scaling   \n",
    "  (e.g. StandardScaler), but it depends on the classifier we will want to use.\n",
    "\n",
    "##### car variables  \n",
    "* ps_car_12 and ps_car_15 have missing values  \n",
    "* again, the range differs and we could apply scaling.  \n",
    "\n",
    "##### calc variables  \n",
    "* no missing values  \n",
    "* this seems to be some kind of ratio as the maximum is 0.9\n",
    "* all three_calc variables have very similar distributions  \n",
    "\n",
    "**Overal**, we can see that the range of the interval variables is rather small.   \n",
    "Perhaps some transformation (e.g. log) is already applied in order to anonymizae the data?"
   ]
  },
  {
   "cell_type": "markdown",
   "id": "42e01611",
   "metadata": {},
   "source": [
    "#### Ordinal variables"
   ]
  },
  {
   "cell_type": "code",
   "execution_count": 59,
   "id": "2bdf32ba",
   "metadata": {},
   "outputs": [
    {
     "data": {
      "text/html": [
       "<div>\n",
       "<style scoped>\n",
       "    .dataframe tbody tr th:only-of-type {\n",
       "        vertical-align: middle;\n",
       "    }\n",
       "\n",
       "    .dataframe tbody tr th {\n",
       "        vertical-align: top;\n",
       "    }\n",
       "\n",
       "    .dataframe thead th {\n",
       "        text-align: right;\n",
       "    }\n",
       "</style>\n",
       "<table border=\"1\" class=\"dataframe\">\n",
       "  <thead>\n",
       "    <tr style=\"text-align: right;\">\n",
       "      <th></th>\n",
       "      <th>ps_ind_01</th>\n",
       "      <th>ps_ind_03</th>\n",
       "      <th>ps_ind_14</th>\n",
       "      <th>ps_ind_15</th>\n",
       "      <th>ps_car_11</th>\n",
       "      <th>ps_calc_04</th>\n",
       "      <th>ps_calc_05</th>\n",
       "      <th>ps_calc_06</th>\n",
       "      <th>ps_calc_07</th>\n",
       "      <th>ps_calc_08</th>\n",
       "      <th>ps_calc_09</th>\n",
       "      <th>ps_calc_10</th>\n",
       "      <th>ps_calc_11</th>\n",
       "      <th>ps_calc_12</th>\n",
       "      <th>ps_calc_13</th>\n",
       "      <th>ps_calc_14</th>\n",
       "    </tr>\n",
       "  </thead>\n",
       "  <tbody>\n",
       "    <tr>\n",
       "      <th>count</th>\n",
       "      <td>1950.000000</td>\n",
       "      <td>1950.000000</td>\n",
       "      <td>1950.000000</td>\n",
       "      <td>1950.000000</td>\n",
       "      <td>1950.000000</td>\n",
       "      <td>1950.000000</td>\n",
       "      <td>1950.000000</td>\n",
       "      <td>1950.000000</td>\n",
       "      <td>1950.000000</td>\n",
       "      <td>1950.000000</td>\n",
       "      <td>1950.000000</td>\n",
       "      <td>1950.000000</td>\n",
       "      <td>1950.000000</td>\n",
       "      <td>1950.000000</td>\n",
       "      <td>1950.000000</td>\n",
       "      <td>1950.000000</td>\n",
       "    </tr>\n",
       "    <tr>\n",
       "      <th>mean</th>\n",
       "      <td>1.822564</td>\n",
       "      <td>4.354359</td>\n",
       "      <td>0.010769</td>\n",
       "      <td>7.256410</td>\n",
       "      <td>2.368205</td>\n",
       "      <td>2.368718</td>\n",
       "      <td>1.895385</td>\n",
       "      <td>7.760513</td>\n",
       "      <td>3.002051</td>\n",
       "      <td>9.233846</td>\n",
       "      <td>2.346154</td>\n",
       "      <td>8.373333</td>\n",
       "      <td>5.393846</td>\n",
       "      <td>1.486154</td>\n",
       "      <td>2.852308</td>\n",
       "      <td>7.680000</td>\n",
       "    </tr>\n",
       "    <tr>\n",
       "      <th>std</th>\n",
       "      <td>1.918371</td>\n",
       "      <td>2.705688</td>\n",
       "      <td>0.112743</td>\n",
       "      <td>3.553577</td>\n",
       "      <td>0.816589</td>\n",
       "      <td>1.132543</td>\n",
       "      <td>1.143536</td>\n",
       "      <td>1.311660</td>\n",
       "      <td>1.429728</td>\n",
       "      <td>1.445675</td>\n",
       "      <td>1.240944</td>\n",
       "      <td>2.871653</td>\n",
       "      <td>2.344773</td>\n",
       "      <td>1.202257</td>\n",
       "      <td>1.648337</td>\n",
       "      <td>2.805689</td>\n",
       "    </tr>\n",
       "    <tr>\n",
       "      <th>min</th>\n",
       "      <td>0.000000</td>\n",
       "      <td>0.000000</td>\n",
       "      <td>0.000000</td>\n",
       "      <td>0.000000</td>\n",
       "      <td>0.000000</td>\n",
       "      <td>0.000000</td>\n",
       "      <td>0.000000</td>\n",
       "      <td>3.000000</td>\n",
       "      <td>0.000000</td>\n",
       "      <td>4.000000</td>\n",
       "      <td>0.000000</td>\n",
       "      <td>0.000000</td>\n",
       "      <td>0.000000</td>\n",
       "      <td>0.000000</td>\n",
       "      <td>0.000000</td>\n",
       "      <td>1.000000</td>\n",
       "    </tr>\n",
       "    <tr>\n",
       "      <th>25%</th>\n",
       "      <td>0.000000</td>\n",
       "      <td>2.000000</td>\n",
       "      <td>0.000000</td>\n",
       "      <td>5.000000</td>\n",
       "      <td>2.000000</td>\n",
       "      <td>2.000000</td>\n",
       "      <td>1.000000</td>\n",
       "      <td>7.000000</td>\n",
       "      <td>2.000000</td>\n",
       "      <td>8.000000</td>\n",
       "      <td>1.000000</td>\n",
       "      <td>6.000000</td>\n",
       "      <td>4.000000</td>\n",
       "      <td>1.000000</td>\n",
       "      <td>2.000000</td>\n",
       "      <td>6.000000</td>\n",
       "    </tr>\n",
       "    <tr>\n",
       "      <th>50%</th>\n",
       "      <td>1.000000</td>\n",
       "      <td>4.000000</td>\n",
       "      <td>0.000000</td>\n",
       "      <td>7.000000</td>\n",
       "      <td>3.000000</td>\n",
       "      <td>2.000000</td>\n",
       "      <td>2.000000</td>\n",
       "      <td>8.000000</td>\n",
       "      <td>3.000000</td>\n",
       "      <td>9.000000</td>\n",
       "      <td>2.000000</td>\n",
       "      <td>8.000000</td>\n",
       "      <td>5.000000</td>\n",
       "      <td>1.000000</td>\n",
       "      <td>3.000000</td>\n",
       "      <td>7.000000</td>\n",
       "    </tr>\n",
       "    <tr>\n",
       "      <th>75%</th>\n",
       "      <td>3.000000</td>\n",
       "      <td>6.000000</td>\n",
       "      <td>0.000000</td>\n",
       "      <td>10.000000</td>\n",
       "      <td>3.000000</td>\n",
       "      <td>3.000000</td>\n",
       "      <td>3.000000</td>\n",
       "      <td>9.000000</td>\n",
       "      <td>4.000000</td>\n",
       "      <td>10.000000</td>\n",
       "      <td>3.000000</td>\n",
       "      <td>10.000000</td>\n",
       "      <td>7.000000</td>\n",
       "      <td>2.000000</td>\n",
       "      <td>4.000000</td>\n",
       "      <td>10.000000</td>\n",
       "    </tr>\n",
       "    <tr>\n",
       "      <th>max</th>\n",
       "      <td>7.000000</td>\n",
       "      <td>11.000000</td>\n",
       "      <td>2.000000</td>\n",
       "      <td>13.000000</td>\n",
       "      <td>3.000000</td>\n",
       "      <td>5.000000</td>\n",
       "      <td>6.000000</td>\n",
       "      <td>10.000000</td>\n",
       "      <td>8.000000</td>\n",
       "      <td>12.000000</td>\n",
       "      <td>6.000000</td>\n",
       "      <td>18.000000</td>\n",
       "      <td>14.000000</td>\n",
       "      <td>7.000000</td>\n",
       "      <td>10.000000</td>\n",
       "      <td>17.000000</td>\n",
       "    </tr>\n",
       "  </tbody>\n",
       "</table>\n",
       "</div>"
      ],
      "text/plain": [
       "         ps_ind_01    ps_ind_03    ps_ind_14    ps_ind_15    ps_car_11  \\\n",
       "count  1950.000000  1950.000000  1950.000000  1950.000000  1950.000000   \n",
       "mean      1.822564     4.354359     0.010769     7.256410     2.368205   \n",
       "std       1.918371     2.705688     0.112743     3.553577     0.816589   \n",
       "min       0.000000     0.000000     0.000000     0.000000     0.000000   \n",
       "25%       0.000000     2.000000     0.000000     5.000000     2.000000   \n",
       "50%       1.000000     4.000000     0.000000     7.000000     3.000000   \n",
       "75%       3.000000     6.000000     0.000000    10.000000     3.000000   \n",
       "max       7.000000    11.000000     2.000000    13.000000     3.000000   \n",
       "\n",
       "        ps_calc_04   ps_calc_05   ps_calc_06   ps_calc_07   ps_calc_08  \\\n",
       "count  1950.000000  1950.000000  1950.000000  1950.000000  1950.000000   \n",
       "mean      2.368718     1.895385     7.760513     3.002051     9.233846   \n",
       "std       1.132543     1.143536     1.311660     1.429728     1.445675   \n",
       "min       0.000000     0.000000     3.000000     0.000000     4.000000   \n",
       "25%       2.000000     1.000000     7.000000     2.000000     8.000000   \n",
       "50%       2.000000     2.000000     8.000000     3.000000     9.000000   \n",
       "75%       3.000000     3.000000     9.000000     4.000000    10.000000   \n",
       "max       5.000000     6.000000    10.000000     8.000000    12.000000   \n",
       "\n",
       "        ps_calc_09   ps_calc_10   ps_calc_11   ps_calc_12   ps_calc_13  \\\n",
       "count  1950.000000  1950.000000  1950.000000  1950.000000  1950.000000   \n",
       "mean      2.346154     8.373333     5.393846     1.486154     2.852308   \n",
       "std       1.240944     2.871653     2.344773     1.202257     1.648337   \n",
       "min       0.000000     0.000000     0.000000     0.000000     0.000000   \n",
       "25%       1.000000     6.000000     4.000000     1.000000     2.000000   \n",
       "50%       2.000000     8.000000     5.000000     1.000000     3.000000   \n",
       "75%       3.000000    10.000000     7.000000     2.000000     4.000000   \n",
       "max       6.000000    18.000000    14.000000     7.000000    10.000000   \n",
       "\n",
       "        ps_calc_14  \n",
       "count  1950.000000  \n",
       "mean      7.680000  \n",
       "std       2.805689  \n",
       "min       1.000000  \n",
       "25%       6.000000  \n",
       "50%       7.000000  \n",
       "75%      10.000000  \n",
       "max      17.000000  "
      ]
     },
     "execution_count": 59,
     "metadata": {},
     "output_type": "execute_result"
    }
   ],
   "source": [
    "v = meta[(meta.level == 'ordinal') & (meta.keep)].index\n",
    "train[v].describe()"
   ]
  },
  {
   "cell_type": "markdown",
   "id": "0bd83e75",
   "metadata": {},
   "source": [
    "#### Binary variables"
   ]
  },
  {
   "cell_type": "code",
   "execution_count": 60,
   "id": "537a02c1",
   "metadata": {},
   "outputs": [
    {
     "data": {
      "text/html": [
       "<div>\n",
       "<style scoped>\n",
       "    .dataframe tbody tr th:only-of-type {\n",
       "        vertical-align: middle;\n",
       "    }\n",
       "\n",
       "    .dataframe tbody tr th {\n",
       "        vertical-align: top;\n",
       "    }\n",
       "\n",
       "    .dataframe thead th {\n",
       "        text-align: right;\n",
       "    }\n",
       "</style>\n",
       "<table border=\"1\" class=\"dataframe\">\n",
       "  <thead>\n",
       "    <tr style=\"text-align: right;\">\n",
       "      <th></th>\n",
       "      <th>target</th>\n",
       "      <th>ps_ind_06_bin</th>\n",
       "      <th>ps_ind_07_bin</th>\n",
       "      <th>ps_ind_08_bin</th>\n",
       "      <th>ps_ind_09_bin</th>\n",
       "      <th>ps_ind_10_bin</th>\n",
       "      <th>ps_ind_11_bin</th>\n",
       "      <th>ps_ind_12_bin</th>\n",
       "      <th>ps_ind_13_bin</th>\n",
       "      <th>ps_ind_16_bin</th>\n",
       "      <th>ps_ind_17_bin</th>\n",
       "      <th>ps_ind_18_bin</th>\n",
       "      <th>ps_calc_15_bin</th>\n",
       "      <th>ps_calc_16_bin</th>\n",
       "      <th>ps_calc_17_bin</th>\n",
       "      <th>ps_calc_18_bin</th>\n",
       "      <th>ps_calc_19_bin</th>\n",
       "      <th>ps_calc_20_bin</th>\n",
       "    </tr>\n",
       "  </thead>\n",
       "  <tbody>\n",
       "    <tr>\n",
       "      <th>count</th>\n",
       "      <td>1950.000000</td>\n",
       "      <td>1950.00000</td>\n",
       "      <td>1950.000000</td>\n",
       "      <td>1950.000000</td>\n",
       "      <td>1950.000000</td>\n",
       "      <td>1950.0</td>\n",
       "      <td>1950.000000</td>\n",
       "      <td>1950.000000</td>\n",
       "      <td>1950.0</td>\n",
       "      <td>1950.000000</td>\n",
       "      <td>1950.000000</td>\n",
       "      <td>1950.000000</td>\n",
       "      <td>1950.000000</td>\n",
       "      <td>1950.000000</td>\n",
       "      <td>1950.000000</td>\n",
       "      <td>1950.000000</td>\n",
       "      <td>1950.000000</td>\n",
       "      <td>1950.000000</td>\n",
       "    </tr>\n",
       "    <tr>\n",
       "      <th>mean</th>\n",
       "      <td>0.037949</td>\n",
       "      <td>0.41641</td>\n",
       "      <td>0.251282</td>\n",
       "      <td>0.146667</td>\n",
       "      <td>0.185641</td>\n",
       "      <td>0.0</td>\n",
       "      <td>0.002051</td>\n",
       "      <td>0.008718</td>\n",
       "      <td>0.0</td>\n",
       "      <td>0.666154</td>\n",
       "      <td>0.114872</td>\n",
       "      <td>0.156410</td>\n",
       "      <td>0.124615</td>\n",
       "      <td>0.614872</td>\n",
       "      <td>0.566667</td>\n",
       "      <td>0.292308</td>\n",
       "      <td>0.357436</td>\n",
       "      <td>0.153846</td>\n",
       "    </tr>\n",
       "    <tr>\n",
       "      <th>std</th>\n",
       "      <td>0.191121</td>\n",
       "      <td>0.49309</td>\n",
       "      <td>0.433862</td>\n",
       "      <td>0.353864</td>\n",
       "      <td>0.388916</td>\n",
       "      <td>0.0</td>\n",
       "      <td>0.045256</td>\n",
       "      <td>0.092986</td>\n",
       "      <td>0.0</td>\n",
       "      <td>0.471706</td>\n",
       "      <td>0.318949</td>\n",
       "      <td>0.363337</td>\n",
       "      <td>0.330367</td>\n",
       "      <td>0.486750</td>\n",
       "      <td>0.495663</td>\n",
       "      <td>0.454940</td>\n",
       "      <td>0.479368</td>\n",
       "      <td>0.360894</td>\n",
       "    </tr>\n",
       "    <tr>\n",
       "      <th>min</th>\n",
       "      <td>0.000000</td>\n",
       "      <td>0.00000</td>\n",
       "      <td>0.000000</td>\n",
       "      <td>0.000000</td>\n",
       "      <td>0.000000</td>\n",
       "      <td>0.0</td>\n",
       "      <td>0.000000</td>\n",
       "      <td>0.000000</td>\n",
       "      <td>0.0</td>\n",
       "      <td>0.000000</td>\n",
       "      <td>0.000000</td>\n",
       "      <td>0.000000</td>\n",
       "      <td>0.000000</td>\n",
       "      <td>0.000000</td>\n",
       "      <td>0.000000</td>\n",
       "      <td>0.000000</td>\n",
       "      <td>0.000000</td>\n",
       "      <td>0.000000</td>\n",
       "    </tr>\n",
       "    <tr>\n",
       "      <th>25%</th>\n",
       "      <td>0.000000</td>\n",
       "      <td>0.00000</td>\n",
       "      <td>0.000000</td>\n",
       "      <td>0.000000</td>\n",
       "      <td>0.000000</td>\n",
       "      <td>0.0</td>\n",
       "      <td>0.000000</td>\n",
       "      <td>0.000000</td>\n",
       "      <td>0.0</td>\n",
       "      <td>0.000000</td>\n",
       "      <td>0.000000</td>\n",
       "      <td>0.000000</td>\n",
       "      <td>0.000000</td>\n",
       "      <td>0.000000</td>\n",
       "      <td>0.000000</td>\n",
       "      <td>0.000000</td>\n",
       "      <td>0.000000</td>\n",
       "      <td>0.000000</td>\n",
       "    </tr>\n",
       "    <tr>\n",
       "      <th>50%</th>\n",
       "      <td>0.000000</td>\n",
       "      <td>0.00000</td>\n",
       "      <td>0.000000</td>\n",
       "      <td>0.000000</td>\n",
       "      <td>0.000000</td>\n",
       "      <td>0.0</td>\n",
       "      <td>0.000000</td>\n",
       "      <td>0.000000</td>\n",
       "      <td>0.0</td>\n",
       "      <td>1.000000</td>\n",
       "      <td>0.000000</td>\n",
       "      <td>0.000000</td>\n",
       "      <td>0.000000</td>\n",
       "      <td>1.000000</td>\n",
       "      <td>1.000000</td>\n",
       "      <td>0.000000</td>\n",
       "      <td>0.000000</td>\n",
       "      <td>0.000000</td>\n",
       "    </tr>\n",
       "    <tr>\n",
       "      <th>75%</th>\n",
       "      <td>0.000000</td>\n",
       "      <td>1.00000</td>\n",
       "      <td>1.000000</td>\n",
       "      <td>0.000000</td>\n",
       "      <td>0.000000</td>\n",
       "      <td>0.0</td>\n",
       "      <td>0.000000</td>\n",
       "      <td>0.000000</td>\n",
       "      <td>0.0</td>\n",
       "      <td>1.000000</td>\n",
       "      <td>0.000000</td>\n",
       "      <td>0.000000</td>\n",
       "      <td>0.000000</td>\n",
       "      <td>1.000000</td>\n",
       "      <td>1.000000</td>\n",
       "      <td>1.000000</td>\n",
       "      <td>1.000000</td>\n",
       "      <td>0.000000</td>\n",
       "    </tr>\n",
       "    <tr>\n",
       "      <th>max</th>\n",
       "      <td>1.000000</td>\n",
       "      <td>1.00000</td>\n",
       "      <td>1.000000</td>\n",
       "      <td>1.000000</td>\n",
       "      <td>1.000000</td>\n",
       "      <td>0.0</td>\n",
       "      <td>1.000000</td>\n",
       "      <td>1.000000</td>\n",
       "      <td>0.0</td>\n",
       "      <td>1.000000</td>\n",
       "      <td>1.000000</td>\n",
       "      <td>1.000000</td>\n",
       "      <td>1.000000</td>\n",
       "      <td>1.000000</td>\n",
       "      <td>1.000000</td>\n",
       "      <td>1.000000</td>\n",
       "      <td>1.000000</td>\n",
       "      <td>1.000000</td>\n",
       "    </tr>\n",
       "  </tbody>\n",
       "</table>\n",
       "</div>"
      ],
      "text/plain": [
       "            target  ps_ind_06_bin  ps_ind_07_bin  ps_ind_08_bin  \\\n",
       "count  1950.000000     1950.00000    1950.000000    1950.000000   \n",
       "mean      0.037949        0.41641       0.251282       0.146667   \n",
       "std       0.191121        0.49309       0.433862       0.353864   \n",
       "min       0.000000        0.00000       0.000000       0.000000   \n",
       "25%       0.000000        0.00000       0.000000       0.000000   \n",
       "50%       0.000000        0.00000       0.000000       0.000000   \n",
       "75%       0.000000        1.00000       1.000000       0.000000   \n",
       "max       1.000000        1.00000       1.000000       1.000000   \n",
       "\n",
       "       ps_ind_09_bin  ps_ind_10_bin  ps_ind_11_bin  ps_ind_12_bin  \\\n",
       "count    1950.000000         1950.0    1950.000000    1950.000000   \n",
       "mean        0.185641            0.0       0.002051       0.008718   \n",
       "std         0.388916            0.0       0.045256       0.092986   \n",
       "min         0.000000            0.0       0.000000       0.000000   \n",
       "25%         0.000000            0.0       0.000000       0.000000   \n",
       "50%         0.000000            0.0       0.000000       0.000000   \n",
       "75%         0.000000            0.0       0.000000       0.000000   \n",
       "max         1.000000            0.0       1.000000       1.000000   \n",
       "\n",
       "       ps_ind_13_bin  ps_ind_16_bin  ps_ind_17_bin  ps_ind_18_bin  \\\n",
       "count         1950.0    1950.000000    1950.000000    1950.000000   \n",
       "mean             0.0       0.666154       0.114872       0.156410   \n",
       "std              0.0       0.471706       0.318949       0.363337   \n",
       "min              0.0       0.000000       0.000000       0.000000   \n",
       "25%              0.0       0.000000       0.000000       0.000000   \n",
       "50%              0.0       1.000000       0.000000       0.000000   \n",
       "75%              0.0       1.000000       0.000000       0.000000   \n",
       "max              0.0       1.000000       1.000000       1.000000   \n",
       "\n",
       "       ps_calc_15_bin  ps_calc_16_bin  ps_calc_17_bin  ps_calc_18_bin  \\\n",
       "count     1950.000000     1950.000000     1950.000000     1950.000000   \n",
       "mean         0.124615        0.614872        0.566667        0.292308   \n",
       "std          0.330367        0.486750        0.495663        0.454940   \n",
       "min          0.000000        0.000000        0.000000        0.000000   \n",
       "25%          0.000000        0.000000        0.000000        0.000000   \n",
       "50%          0.000000        1.000000        1.000000        0.000000   \n",
       "75%          0.000000        1.000000        1.000000        1.000000   \n",
       "max          1.000000        1.000000        1.000000        1.000000   \n",
       "\n",
       "       ps_calc_19_bin  ps_calc_20_bin  \n",
       "count     1950.000000     1950.000000  \n",
       "mean         0.357436        0.153846  \n",
       "std          0.479368        0.360894  \n",
       "min          0.000000        0.000000  \n",
       "25%          0.000000        0.000000  \n",
       "50%          0.000000        0.000000  \n",
       "75%          1.000000        0.000000  \n",
       "max          1.000000        1.000000  "
      ]
     },
     "execution_count": 60,
     "metadata": {},
     "output_type": "execute_result"
    }
   ],
   "source": [
    "v = meta[(meta.level == 'binary') & (meta.keep)].index\n",
    "train[v].describe()"
   ]
  },
  {
   "cell_type": "markdown",
   "id": "2a886b29",
   "metadata": {},
   "source": [
    "* A priori in the train data is 3.645%, which is **strongly imbalanced.**\n",
    "* From the means we can conclude that for most variables the value is zero in most cases."
   ]
  },
  {
   "cell_type": "markdown",
   "id": "417f889a",
   "metadata": {},
   "source": [
    "### Handling imbalanced classes"
   ]
  },
  {
   "cell_type": "markdown",
   "id": "5f979c0d",
   "metadata": {},
   "source": [
    "* oversampling records with target=1  \n",
    "* undersampling records with target=0  \n",
    "  \n",
    "\n",
    "**과소표집(UnderSampling)**  \n",
    "* 다른 클래스에 비해 상대적으로 많이 나타나있는 클래스의 개수를 줄이는 것 \n",
    "* 이를 통해 균형을 유지할 수 있게 되지만, 제거하는 과정에서 유용한 정보가 버려지게 되는 큰 단점  \n",
    "\n",
    "**과대표집(OverSampling)**  \n",
    "* 데이터를 복제하는 것\n",
    "* 정보를 잃지 않고, 훈련용 데이터에서 높은 성능을 보이지만 실험용 데이터에서의 성능은 낮아 질 수 있다. "
   ]
  },
  {
   "cell_type": "code",
   "execution_count": 70,
   "id": "1d0487a1",
   "metadata": {},
   "outputs": [
    {
     "name": "stdout",
     "output_type": "stream",
     "text": [
      "Rate to undersample records with target=0: 0.35501066098081024\n",
      "Number of records with target=0 after undersampling: 666\n"
     ]
    }
   ],
   "source": [
    "desired_apriori=0.10\n",
    "\n",
    "# Get the indices per target value\n",
    "idx_0 = train[train.target == 0].index\n",
    "idx_1 = train[train.target == 1].index\n",
    "\n",
    "# Get original number of records per target value\n",
    "nb_0 = len(train.loc[idx_0])\n",
    "nb_1 = len(train.loc[idx_1])\n",
    "\n",
    "# Calculate the undersampling rate and resulting number of records with target=0\n",
    "undersampling_rate = ((1-desired_apriori)*nb_1)/(nb_0*desired_apriori)\n",
    "undersampled_nb_0 = int(undersampling_rate*nb_0)\n",
    "print('Rate to undersample records with target=0: {}'.format(undersampling_rate))\n",
    "print('Number of records with target=0 after undersampling: {}'.format(undersampled_nb_0))\n",
    "\n",
    "# Randomly select records with target=0 to get at the desired a priori\n",
    "undersampled_idx = shuffle(idx_0, random_state=37, n_samples=undersampled_nb_0)\n",
    "\n",
    "# Construct list with remaining indices\n",
    "idx_list = list(undersampled_idx) + list(idx_1)\n",
    "\n",
    "# Return undersample data frame\n",
    "train = train.loc[idx_list].reset_index(drop=True)"
   ]
  },
  {
   "cell_type": "markdown",
   "id": "1feeae49",
   "metadata": {},
   "source": [
    "### Data Quality Checks\n",
    "\n",
    "**Checking missing values**  \n",
    "Missings are represented as -1"
   ]
  },
  {
   "cell_type": "code",
   "execution_count": 78,
   "id": "e144283a",
   "metadata": {},
   "outputs": [
    {
     "name": "stdout",
     "output_type": "stream",
     "text": [
      "Variable ps_ind_02_cat has 1 records (0.05%) with missing values\n",
      "Variable ps_ind_04_cat has 1 records (0.05%) with missing values\n",
      "Variable ps_ind_05_cat has 22 records (1.13%) with missing values\n",
      "Variable ps_reg_03 has 357 records (18.31%) with missing values\n",
      "Variable ps_car_01_cat has 1 records (0.05%) with missing values\n",
      "Variable ps_car_03_cat has 1371 records (70.31%) with missing values\n",
      "Variable ps_car_05_cat has 882 records (45.23%) with missing values\n",
      "Variable ps_car_07_cat has 44 records (2.26%) with missing values\n",
      "Variable ps_car_09_cat has 5 records (0.26%) with missing values\n",
      "Variable ps_car_14 has 134 records (6.87%) with missing values\n",
      "In total, there are 10 variables with missing values\n"
     ]
    }
   ],
   "source": [
    "vars_with_missing = []\n",
    "\n",
    "for f in train.columns:\n",
    "    missings = train[train[f] == -1][f].count()\n",
    "    if missings > 0:\n",
    "        vars_with_missing.append(f)\n",
    "        missings_perc = missings / train.shape[0]\n",
    "        \n",
    "        print('Variable {} has {} records ({:.2%}) with missing values'.format(f, missings, missings_perc))\n",
    "\n",
    "print('In total, there are {} variables with missing values'.format(len(vars_with_missing)))"
   ]
  },
  {
   "cell_type": "markdown",
   "id": "6f82df09",
   "metadata": {},
   "source": [
    "- **ps_car_03_cat and ps_car_05_cat** have a large proportion of records with missing values. Remove these variables.  \n",
    "- For the other categorical variables with missing values, we can leave the missing value -1 as such.  \n",
    "- **ps_reg_03** (continuous) has missing values for 18% of all records. Replace by the mean.  \n",
    "- **ps_car_11** (ordinal) has only 5 records with misisng values. Replace by the mode.  \n",
    "- **ps_car_12** (continuous) has only 1 records with missing value. Replace by the mean.  \n",
    "- **ps_car_14** (continuous) has missing values for 7% of all records. Replace by the mean.  "
   ]
  },
  {
   "cell_type": "code",
   "execution_count": 120,
   "id": "f9a1dd9c",
   "metadata": {},
   "outputs": [],
   "source": [
    "# Dropping the variables with too many missing values\n",
    "vars_to_drop = ['ps_car_03_cat', 'ps_car_05_cat']\n",
    "train.drop(vars_to_drop, inplace = True, axis = 1)\n",
    "meta.loc[(vars_to_drop), 'keep'] = False  # Updating the meta"
   ]
  },
  {
   "cell_type": "code",
   "execution_count": 121,
   "id": "2055ba01",
   "metadata": {},
   "outputs": [],
   "source": [
    "# Imputing with the mean or mode \n",
    "# 누락값 대체 (mean, median, most_frequent)\n",
    "mean_imp = SimpleImputer(missing_values = -1, strategy = 'mean')           # 평균 (디폴트)\n",
    "mode_imp = SimpleImputer(missing_values = -1, strategy = 'most_frequent')  #  최빈값 \n",
    "\n",
    "train['ps_reg_03'] = mean_imp.fit_transform(train[['ps_reg_03']]).ravel()\n",
    "train['ps_car_12'] = mean_imp.fit_transform(train[['ps_car_12']]).ravel()\n",
    "train['ps_car_14'] = mean_imp.fit_transform(train[['ps_car_14']]).ravel()\n",
    "train['ps_car_11'] = mode_imp.fit_transform(train[['ps_car_11']]).ravel()"
   ]
  },
  {
   "cell_type": "code",
   "execution_count": 122,
   "id": "e2c99c03",
   "metadata": {},
   "outputs": [
    {
     "name": "stdout",
     "output_type": "stream",
     "text": [
      "Variable ps_ind_02_cat has 1 records (0.05%) with missing values\n",
      "Variable ps_ind_04_cat has 1 records (0.05%) with missing values\n",
      "Variable ps_ind_05_cat has 22 records (1.13%) with missing values\n",
      "Variable ps_car_01_cat has 1 records (0.05%) with missing values\n",
      "Variable ps_car_07_cat has 44 records (2.26%) with missing values\n",
      "Variable ps_car_09_cat has 5 records (0.26%) with missing values\n",
      "In total, there are 6 variables with missing values\n"
     ]
    }
   ],
   "source": [
    "vars_with_missing = []\n",
    "\n",
    "for f in train.columns:\n",
    "    missings = train[train[f] == -1][f].count()\n",
    "    if missings > 0:\n",
    "        vars_with_missing.append(f)\n",
    "        missings_perc = missings / train.shape[0]\n",
    "        \n",
    "        print('Variable {} has {} records ({:.2%}) with missing values'.format(f, missings, missings_perc))\n",
    "\n",
    "print('In total, there are {} variables with missing values'.format(len(vars_with_missing)))"
   ]
  },
  {
   "cell_type": "markdown",
   "id": "c39b08c5",
   "metadata": {},
   "source": [
    "#### Checking the cardinality of the categorical variables  \n",
    "Cardinality refers to the number of different values in a variable.   \n",
    "A we will create dummy variables from the categorical variables later on,  \n",
    "we need to check whether there are variables with many distinct values.   \n",
    "We should handle these variables differently as they would result in many dummy variables."
   ]
  },
  {
   "cell_type": "code",
   "execution_count": 83,
   "id": "327a0f7c",
   "metadata": {},
   "outputs": [
    {
     "name": "stdout",
     "output_type": "stream",
     "text": [
      "Variable ps_ind_02_cat has 5 distinct values\n",
      "Variable ps_ind_04_cat has 3 distinct values\n",
      "Variable ps_ind_05_cat has 8 distinct values\n",
      "Variable ps_car_01_cat has 13 distinct values\n",
      "Variable ps_car_02_cat has 2 distinct values\n",
      "Variable ps_car_04_cat has 8 distinct values\n",
      "Variable ps_car_06_cat has 18 distinct values\n",
      "Variable ps_car_07_cat has 3 distinct values\n",
      "Variable ps_car_08_cat has 2 distinct values\n",
      "Variable ps_car_09_cat has 6 distinct values\n",
      "Variable ps_car_10_cat has 3 distinct values\n",
      "Variable ps_car_11_cat has 104 distinct values\n"
     ]
    }
   ],
   "source": [
    "v = meta[(meta.level == 'nominal') & (meta.keep)].index\n",
    "\n",
    "for f in v:\n",
    "    dist_values = train[f].value_counts().shape[0]\n",
    "    print('Variable {} has {} distinct values'.format(f, dist_values))"
   ]
  },
  {
   "cell_type": "markdown",
   "id": "d0aee21e",
   "metadata": {},
   "source": [
    "Only **ps_car_11_cat** has many distinct values, although it is still reasonable."
   ]
  },
  {
   "cell_type": "code",
   "execution_count": 123,
   "id": "030f56fa",
   "metadata": {},
   "outputs": [],
   "source": [
    "# Script by https://www.kaggle.com/ogrellier  \n",
    "# Code: https://www.kaggle.com/ogrellier/python-target-encoding-for-categorical-features  \n",
    "def add_noise(series, noise_level):\n",
    "    return series * (1 + noise_level * np.random.randn(len(series)))\n",
    "\n",
    "def target_encode(trn_series=None, \n",
    "                  tst_series=None, \n",
    "                  target=None, \n",
    "                  min_samples_leaf=1, \n",
    "                  smoothing=1,\n",
    "                  noise_level=0):\n",
    "    \"\"\"\n",
    "    Smoothing is computed like in the following paper by Daniele Micci-Barreca\n",
    "    https://kaggle2.blob.core.windows.net/forum-message-attachments/225952/7441/high%20cardinality%20categoricals.pdf\n",
    "    trn_series : training categorical feature as a pd.Series\n",
    "    tst_series : test categorical feature as a pd.Series\n",
    "    target : target data as a pd.Series\n",
    "    min_samples_leaf (int) : minimum samples to take category average into account\n",
    "    smoothing (int) : smoothing effect to balance categorical average vs prior \n",
    "    \"\"\"\n",
    "    assert len(trn_series) == len(target)\n",
    "    assert trn_series.name == tst_series.name\n",
    "    temp = pd.concat([trn_series, target], axis=1)\n",
    "    \n",
    "    # Compute target mean \n",
    "    averages = temp.groupby(by=trn_series.name)[target.name].agg([\"mean\", \"count\"])\n",
    "    \n",
    "    # Compute smoothing\n",
    "    smoothing = 1 / (1 + np.exp(-(averages[\"count\"] - min_samples_leaf) / smoothing))\n",
    "    \n",
    "    # Apply average function to all target data\n",
    "    prior = target.mean()\n",
    "    \n",
    "    # The bigger the count the less full_avg is taken into account\n",
    "    averages[target.name] = prior * (1 - smoothing) + averages[\"mean\"] * smoothing\n",
    "    averages.drop([\"mean\", \"count\"], axis=1, inplace=True)\n",
    "    \n",
    "    # Apply averages to trn and tst series\n",
    "    ft_trn_series = pd.merge(\n",
    "        trn_series.to_frame(trn_series.name),\n",
    "        averages.reset_index().rename(columns={'index': target.name, target.name: 'average'}),\n",
    "        on=trn_series.name,\n",
    "        how='left')['average'].rename(trn_series.name + '_mean').fillna(prior)\n",
    "    \n",
    "    # pd.merge does not keep the index so restore it\n",
    "    ft_trn_series.index = trn_series.index \n",
    "    ft_tst_series = pd.merge(\n",
    "        tst_series.to_frame(tst_series.name),\n",
    "        averages.reset_index().rename(columns={'index': target.name, target.name: 'average'}),\n",
    "        on=tst_series.name,\n",
    "        how='left')['average'].rename(trn_series.name + '_mean').fillna(prior)\n",
    "    \n",
    "    # pd.merge does not keep the index so restore it\n",
    "    ft_tst_series.index = tst_series.index\n",
    "    return add_noise(ft_trn_series, noise_level), add_noise(ft_tst_series, noise_level)"
   ]
  },
  {
   "cell_type": "code",
   "execution_count": 93,
   "id": "b5a60fb8",
   "metadata": {},
   "outputs": [
    {
     "ename": "NameError",
     "evalue": "name 'test' is not defined",
     "output_type": "error",
     "traceback": [
      "\u001b[0;31m---------------------------------------------------------------------------\u001b[0m",
      "\u001b[0;31mNameError\u001b[0m                                 Traceback (most recent call last)",
      "\u001b[0;32m<ipython-input-93-5c346c08176e>\u001b[0m in \u001b[0;36m<module>\u001b[0;34m\u001b[0m\n\u001b[1;32m      1\u001b[0m train_encoded, test_encoded = target_encode(train[\"ps_car_11_cat\"],\n\u001b[0;32m----> 2\u001b[0;31m                               \u001b[0mtest\u001b[0m\u001b[0;34m[\u001b[0m\u001b[0;34m\"ps_car_11_cat\"\u001b[0m\u001b[0;34m]\u001b[0m\u001b[0;34m,\u001b[0m\u001b[0;34m\u001b[0m\u001b[0;34m\u001b[0m\u001b[0m\n\u001b[0m\u001b[1;32m      3\u001b[0m                               \u001b[0mtarget\u001b[0m \u001b[0;34m=\u001b[0m \u001b[0mtrain\u001b[0m\u001b[0;34m.\u001b[0m\u001b[0mtarget\u001b[0m\u001b[0;34m,\u001b[0m\u001b[0;34m\u001b[0m\u001b[0;34m\u001b[0m\u001b[0m\n\u001b[1;32m      4\u001b[0m                               \u001b[0mmin_samples_leaf\u001b[0m \u001b[0;34m=\u001b[0m \u001b[0;36m100\u001b[0m\u001b[0;34m,\u001b[0m\u001b[0;34m\u001b[0m\u001b[0;34m\u001b[0m\u001b[0m\n\u001b[1;32m      5\u001b[0m                               \u001b[0msmoothing\u001b[0m \u001b[0;34m=\u001b[0m \u001b[0;36m10\u001b[0m\u001b[0;34m,\u001b[0m\u001b[0;34m\u001b[0m\u001b[0;34m\u001b[0m\u001b[0m\n",
      "\u001b[0;31mNameError\u001b[0m: name 'test' is not defined"
     ]
    }
   ],
   "source": [
    "train_encoded, test_encoded = target_encode(train[\"ps_car_11_cat\"],\n",
    "                              test[\"ps_car_11_cat\"],\n",
    "                              target = train.target,\n",
    "                              min_samples_leaf = 100,\n",
    "                              smoothing = 10,\n",
    "                              noise_level = 0.01)\n",
    "train['ps_car_11_cat_te'] = train_encoded\n",
    "train.drop('ps_car_11_cat', axis = 1, inplace = True)\n",
    "meta.loc['ps_car_11_cat', 'keep'] = False # Updating the meta\n",
    "#test['ps_car_11_cat_te'] = test_encoded\n",
    "#test.drop('ps_car_11_cat', axis=1, inplace = True)"
   ]
  },
  {
   "cell_type": "markdown",
   "id": "5952ec22",
   "metadata": {},
   "source": [
    "### Exploratory Data Visualization\n",
    "\n",
    "**Categorical variables**  \n",
    "Let's look into the categorical variables and the proportion of customers with target = 1"
   ]
  },
  {
   "cell_type": "code",
   "execution_count": 124,
   "id": "a506a31b",
   "metadata": {},
   "outputs": [
    {
     "data": {
      "image/png": "[encoded data removed]",
      "text/plain": [
       "<Figure size 1440x720 with 1 Axes>"
      ]
     },
     "metadata": {
      "needs_background": "light"
     },
     "output_type": "display_data"
    }
   ],
   "source": [
    "v = meta[(meta.level == 'nominal') & (meta.keep)].index\n",
    "\n",
    "for f in v:\n",
    "    plt.figure()\n",
    "    fig, ax = plt.subplots(figsize=(20,10))\n",
    "    \n",
    "    # Calculate the percentage of target=1 per category value\n",
    "    cat_perc = train[[f, 'target']].groupby([f], as_index=False).mean()\n",
    "    cat_perc.sort_values(by='target', ascending=False, inplace=True)\n",
    "    \n",
    "    # Bar plot\n",
    "    # Order the bars descending on target mean\n",
    "    sns.barplot(ax=ax, x=f, y='target', data=cat_perc, order=cat_perc[f])\n",
    "    plt.ylabel('% target', fontsize=18)\n",
    "    plt.xlabel(f, fontsize=18)\n",
    "    plt.tick_params(axis='both', which='major', labelsize=18)\n",
    "    plt.show();"
   ]
  },
  {
   "cell_type": "markdown",
   "id": "740daad6",
   "metadata": {},
   "source": [
    "As we can see from the variables **with missing values**, it is a good idea to keep  \n",
    "the missing values as a separate category value, instead of replacing them by the mode  \n",
    "for instance. The customers with a missing value appear to have a much higher (in  \n",
    "some cases much lower) probability to ask for an insurance claim."
   ]
  },
  {
   "cell_type": "markdown",
   "id": "2569a4eb",
   "metadata": {},
   "source": [
    "**Interval variables**  \n",
    "Checking the correlations between interval variables. A heatmap is a good way to  \n",
    "visualize the correlation between variables. The code below is based on an example  \n",
    "by Michael Waskom"
   ]
  },
  {
   "cell_type": "code",
   "execution_count": 104,
   "id": "b8ddeeb2",
   "metadata": {},
   "outputs": [
    {
     "data": {
      "image/png": "[encoded data removed]",
      "text/plain": [
       "<Figure size 720x720 with 2 Axes>"
      ]
     },
     "metadata": {
      "needs_background": "light"
     },
     "output_type": "display_data"
    }
   ],
   "source": [
    "def corr_heatmap(v):\n",
    "    correlations = train[v].corr()\n",
    "    \n",
    "    # Create color map ranging between two colors \n",
    "    cmap = sns.diverging_palette(220, 10, as_cmap = True)\n",
    "    \n",
    "    fig, ax = plt.subplots(figsize = (10, 10))\n",
    "    sns.heatmap(correlations, cmap=cmap, vmax=1.0, center=0, fmt='.2f', square=True, linewidths=.5, \n",
    "                annot=True, cbar_kws={\"shrink\": .75})\n",
    "    plt.show();\n",
    "\n",
    "v = meta[(meta.level == 'interval') & (meta.keep)].index\n",
    "corr_heatmap(v)"
   ]
  },
  {
   "cell_type": "markdown",
   "id": "be52cff8",
   "metadata": {},
   "source": [
    "there are a strong correlations between the variables:  \n",
    "* ps_reg_02 and ps_reg_03 (0.7)\n",
    "* ps_car_12 and ps_car_13 (0.67)\n",
    "* ps_car_12 and ps_car_14 (0.58)\n",
    "* ps_car_13 and ps_car_15 (0.67)  \n",
    "  \n",
    "Seaborn has some handy plots to visualize the (linear) relationship between   \n",
    "variables. We could use a pairplot to visualize the relationship between the variables.  \n",
    "But because the heatmap already showed the limited number of correlated variables,  \n",
    "we'll look at each of the highly correlated variables separately.  \n",
    "**NOTE**: I take a sample of the train data to speed up the process. "
   ]
  },
  {
   "cell_type": "code",
   "execution_count": 105,
   "id": "cde31d8d",
   "metadata": {},
   "outputs": [],
   "source": [
    "s = train.sample(frac=0.1)"
   ]
  },
  {
   "cell_type": "markdown",
   "id": "157a3bc6",
   "metadata": {},
   "source": [
    "**ps_reg_02 and ps_reg_03**  \n",
    "As the regression line shows, there is a linear relationship between these variables.  \n",
    "Thanks to the hue parameter we can see that the regression lines for target=0 and   \n",
    "target=1 are the same."
   ]
  },
  {
   "cell_type": "code",
   "execution_count": 106,
   "id": "80a18e5b",
   "metadata": {},
   "outputs": [
    {
     "data": {
      "image/png": "[encoded data removed]",
      "text/plain": [
       "<Figure size 402.375x360 with 1 Axes>"
      ]
     },
     "metadata": {
      "needs_background": "light"
     },
     "output_type": "display_data"
    }
   ],
   "source": [
    "sns.lmplot(x='ps_reg_02', y='ps_reg_03', data=s, hue='target', palette='Set1', scatter_kws={'alpha':0.3})\n",
    "plt.show()"
   ]
  },
  {
   "cell_type": "markdown",
   "id": "e01d9de1",
   "metadata": {},
   "source": [
    "**ps_car_12 and ps_car_13**"
   ]
  },
  {
   "cell_type": "code",
   "execution_count": 107,
   "id": "73e8fad0",
   "metadata": {},
   "outputs": [
    {
     "data": {
      "image/png": "[encoded data removed]",
      "text/plain": [
       "<Figure size 402.375x360 with 1 Axes>"
      ]
     },
     "metadata": {
      "needs_background": "light"
     },
     "output_type": "display_data"
    }
   ],
   "source": [
    "sns.lmplot(x='ps_car_12', y='ps_car_13', data=s, hue='target', palette='Set1', scatter_kws={'alpha':0.3})\n",
    "plt.show()"
   ]
  },
  {
   "cell_type": "markdown",
   "id": "7766df42",
   "metadata": {},
   "source": [
    "**ps_car_12 and ps_car_14**"
   ]
  },
  {
   "cell_type": "code",
   "execution_count": 108,
   "id": "6c8df3d1",
   "metadata": {},
   "outputs": [
    {
     "data": {
      "image/png": "[encoded data removed]",
      "text/plain": [
       "<Figure size 402.375x360 with 1 Axes>"
      ]
     },
     "metadata": {
      "needs_background": "light"
     },
     "output_type": "display_data"
    }
   ],
   "source": [
    "sns.lmplot(x='ps_car_12', y='ps_car_14', data=s, hue='target', palette='Set1', scatter_kws={'alpha':0.3})\n",
    "plt.show()"
   ]
  },
  {
   "cell_type": "markdown",
   "id": "d06e04fb",
   "metadata": {},
   "source": [
    "**ps_car_13 and ps_car_15**"
   ]
  },
  {
   "cell_type": "code",
   "execution_count": 109,
   "id": "eeafbf05",
   "metadata": {},
   "outputs": [
    {
     "data": {
      "image/png": "[encoded data removed]",
      "text/plain": [
       "<Figure size 402.375x360 with 1 Axes>"
      ]
     },
     "metadata": {
      "needs_background": "light"
     },
     "output_type": "display_data"
    }
   ],
   "source": [
    "sns.lmplot(x='ps_car_13', y='ps_car_15', data=s, hue='target', palette='Set1', scatter_kws={'alpha':0.3})\n",
    "plt.show()"
   ]
  },
  {
   "cell_type": "markdown",
   "id": "adf20f8c",
   "metadata": {},
   "source": [
    "Allright, so now what? How can we decide which of the correlated variables to keep?  \n",
    "We could perform Principal Component Analysis (PCA) on the variables to reduce the   \n",
    "dimensions. In the AllState Claims Severity Competition I made this kernel to do that.  \n",
    "But as the number of correlated variables is rather low, we will let the model do the heavy-lifting."
   ]
  },
  {
   "cell_type": "markdown",
   "id": "7e8c2270",
   "metadata": {},
   "source": [
    "### Checking the correlations between ordinal variables"
   ]
  },
  {
   "cell_type": "code",
   "execution_count": 110,
   "id": "14f5afdf",
   "metadata": {},
   "outputs": [
    {
     "data": {
      "image/png": "[encoded data removed]",
      "text/plain": [
       "<Figure size 720x720 with 2 Axes>"
      ]
     },
     "metadata": {
      "needs_background": "light"
     },
     "output_type": "display_data"
    }
   ],
   "source": [
    "v = meta[(meta.level == 'ordinal') & (meta.keep)].index\n",
    "corr_heatmap(v)"
   ]
  },
  {
   "cell_type": "markdown",
   "id": "701312dc",
   "metadata": {},
   "source": [
    "For the ordinal variables we do not see many correlations.   \n",
    "We could, on the other hand, look at how the distributions are when grouping by the target value."
   ]
  },
  {
   "cell_type": "markdown",
   "id": "9b04b01f",
   "metadata": {},
   "source": [
    "### Feature engineering"
   ]
  },
  {
   "cell_type": "markdown",
   "id": "3ff5d56c",
   "metadata": {},
   "source": [
    "**Creating dummy variables**  \n",
    "The values of the categorical variables do not represent any order or magnitude.  \n",
    "For instance, category 2 is not twice the value of category 1. Therefore we can create  \n",
    "dummy variables to deal with that. We drop the first dummy variable as this   \n",
    "information can be derived from the other dummy variables generated for the   \n",
    "cartegories of the original variable."
   ]
  },
  {
   "cell_type": "code",
   "execution_count": 125,
   "id": "4906947a",
   "metadata": {},
   "outputs": [
    {
     "name": "stdout",
     "output_type": "stream",
     "text": [
      "Before dummification we have 57 variables in train\n",
      "After dummification we have 208 variables in train\n"
     ]
    }
   ],
   "source": [
    "v = meta[(meta.level == 'nominal') & (meta.keep)].index\n",
    "print('Before dummification we have {} variables in train'.format(train.shape[1]))\n",
    "\n",
    "train = pd.get_dummies(train, columns=v, drop_first=True)\n",
    "print('After dummification we have {} variables in train'.format(train.shape[1]))"
   ]
  },
  {
   "cell_type": "markdown",
   "id": "04754245",
   "metadata": {},
   "source": [
    "So, creating dummy variables adds 52 variables to the training set."
   ]
  },
  {
   "cell_type": "markdown",
   "id": "8c102f60",
   "metadata": {},
   "source": [
    "### Creating interaction variables"
   ]
  },
  {
   "cell_type": "code",
   "execution_count": 116,
   "id": "a125b4da",
   "metadata": {},
   "outputs": [
    {
     "name": "stdout",
     "output_type": "stream",
     "text": [
      "Before creating interactions we have 263 variables in train\n",
      "After creating interactions we have 318 variables in train\n"
     ]
    }
   ],
   "source": [
    "v = meta[(meta.level == 'interval') & (meta.keep)].index\n",
    "poly = PolynomialFeatures(degree=2, interaction_only=False, include_bias=False)\n",
    "interactions = pd.DataFrame(data=poly.fit_transform(train[v]), columns=poly.get_feature_names(v))\n",
    "interactions.drop(v, axis=1, inplace=True) # Remove the original columns\n",
    "\n",
    "# Concat the interaction variables to the train data\n",
    "print('Before creating interactions we have {} variables in train'.format(train.shape[1]))\n",
    "train = pd.concat([train, interactions], axis=1)\n",
    "print('After creating interactions we have {} variables in train'.format(train.shape[1]))"
   ]
  },
  {
   "cell_type": "markdown",
   "id": "f81fd6e4",
   "metadata": {},
   "source": [
    "This adds extra interaction variables to the train data. Thanks to the  \n",
    "get_feature_names method we can assign column names to these new variables."
   ]
  },
  {
   "cell_type": "markdown",
   "id": "f4d9ed56",
   "metadata": {},
   "source": [
    "### Feature selection"
   ]
  },
  {
   "cell_type": "markdown",
   "id": "57736a25",
   "metadata": {},
   "source": [
    "**Removing features with low or zero variance**"
   ]
  },
  {
   "cell_type": "markdown",
   "id": "f330f849",
   "metadata": {},
   "source": [
    "Personally, I prefer to let the classifier algorithm chose which features to keep.  \n",
    "But there is one thing that we can do ourselves. That is removing features with no or  \n",
    "a very low variance. Sklearn has a handy method to do that: **VarianceThreshold**."
   ]
  },
  {
   "cell_type": "markdown",
   "id": "a9fd5cfa",
   "metadata": {},
   "source": [
    "By default it removes features with zero variance.This will not be applicable for this  \n",
    "competition as we saw there are no zero-variance variables in the previous steps.  \n",
    "But if we would remove features with less than 1% variance, we would remove 31 variables.  "
   ]
  },
  {
   "cell_type": "code",
   "execution_count": 126,
   "id": "beda27d2",
   "metadata": {},
   "outputs": [
    {
     "name": "stdout",
     "output_type": "stream",
     "text": [
      "93 variables have too low variance.\n",
      "These variables are ['ps_ind_10_bin', 'ps_ind_11_bin', 'ps_ind_12_bin', 'ps_ind_13_bin', 'ps_car_12', 'ps_car_14', 'ps_ind_05_cat_2', 'ps_ind_05_cat_5', 'ps_car_01_cat_0', 'ps_car_01_cat_1', 'ps_car_01_cat_2', 'ps_car_04_cat_3', 'ps_car_04_cat_6', 'ps_car_04_cat_7', 'ps_car_06_cat_2', 'ps_car_06_cat_5', 'ps_car_06_cat_8', 'ps_car_06_cat_12', 'ps_car_06_cat_16', 'ps_car_06_cat_17', 'ps_car_09_cat_4', 'ps_car_10_cat_1', 'ps_car_10_cat_2', 'ps_car_11_cat_2', 'ps_car_11_cat_3', 'ps_car_11_cat_4', 'ps_car_11_cat_6', 'ps_car_11_cat_7', 'ps_car_11_cat_8', 'ps_car_11_cat_9', 'ps_car_11_cat_11', 'ps_car_11_cat_13', 'ps_car_11_cat_14', 'ps_car_11_cat_15', 'ps_car_11_cat_17', 'ps_car_11_cat_18', 'ps_car_11_cat_19', 'ps_car_11_cat_20', 'ps_car_11_cat_21', 'ps_car_11_cat_23', 'ps_car_11_cat_24', 'ps_car_11_cat_25', 'ps_car_11_cat_26', 'ps_car_11_cat_29', 'ps_car_11_cat_30', 'ps_car_11_cat_31', 'ps_car_11_cat_33', 'ps_car_11_cat_35', 'ps_car_11_cat_36', 'ps_car_11_cat_37', 'ps_car_11_cat_40', 'ps_car_11_cat_41', 'ps_car_11_cat_42', 'ps_car_11_cat_43', 'ps_car_11_cat_44', 'ps_car_11_cat_45', 'ps_car_11_cat_46', 'ps_car_11_cat_47', 'ps_car_11_cat_50', 'ps_car_11_cat_52', 'ps_car_11_cat_53', 'ps_car_11_cat_54', 'ps_car_11_cat_55', 'ps_car_11_cat_56', 'ps_car_11_cat_57', 'ps_car_11_cat_58', 'ps_car_11_cat_59', 'ps_car_11_cat_61', 'ps_car_11_cat_62', 'ps_car_11_cat_63', 'ps_car_11_cat_66', 'ps_car_11_cat_69', 'ps_car_11_cat_71', 'ps_car_11_cat_72', 'ps_car_11_cat_73', 'ps_car_11_cat_75', 'ps_car_11_cat_76', 'ps_car_11_cat_77', 'ps_car_11_cat_79', 'ps_car_11_cat_81', 'ps_car_11_cat_84', 'ps_car_11_cat_86', 'ps_car_11_cat_88', 'ps_car_11_cat_90', 'ps_car_11_cat_91', 'ps_car_11_cat_93', 'ps_car_11_cat_94', 'ps_car_11_cat_95', 'ps_car_11_cat_96', 'ps_car_11_cat_97', 'ps_car_11_cat_98', 'ps_car_11_cat_100', 'ps_car_11_cat_102']\n"
     ]
    }
   ],
   "source": [
    "selector = VarianceThreshold(threshold=.01)\n",
    "selector.fit(train.drop(['id', 'target'], axis=1)) # Fit to train without id and target variables\n",
    "\n",
    "f = np.vectorize(lambda x : not x) # Function to toggle boolean array elements\n",
    "\n",
    "v = train.drop(['id', 'target'], axis=1).columns[f(selector.get_support())]\n",
    "print('{} variables have too low variance.'.format(len(v)))\n",
    "print('These variables are {}'.format(list(v)))"
   ]
  },
  {
   "cell_type": "markdown",
   "id": "affc22de",
   "metadata": {},
   "source": [
    "We would lose rather many variables if we would select based on variance.  \n",
    "But because we do not have so many variables, we'll let the classifier chose.  \n",
    "For data sets with many more variables this could reduce the processing time."
   ]
  },
  {
   "cell_type": "markdown",
   "id": "2bccb194",
   "metadata": {},
   "source": [
    "Sklearn also comes with other feature selection methods. One of these methods is  \n",
    "SelectFromModel in which you let another classifier select the best features and   \n",
    "continue with these. Below I'll show you how to do that with a Random Forest."
   ]
  },
  {
   "cell_type": "markdown",
   "id": "0c3ca5e7",
   "metadata": {},
   "source": [
    "### Selectiong features with a Random Forest and SelectFromModel"
   ]
  },
  {
   "cell_type": "markdown",
   "id": "0b94fed3",
   "metadata": {},
   "source": [
    "Here we'll base feature selection on the feature importances of a random forest.  \n",
    "With Sklearn's SelectFromModel you can then specify how many variables you want to keep.  \n",
    "You can set a threshold on the level of reature importance manually.  \n",
    "But we'll simply select the top 50% best variables."
   ]
  },
  {
   "cell_type": "code",
   "execution_count": 130,
   "id": "a14db270",
   "metadata": {},
   "outputs": [
    {
     "name": "stdout",
     "output_type": "stream",
     "text": [
      " 1) ps_reg_03                      0.043913\n",
      " 2) ps_car_13                      0.036956\n",
      " 3) ps_car_14                      0.035946\n",
      " 4) ps_calc_14                     0.030699\n",
      " 5) ps_ind_03                      0.028417\n",
      " 6) ps_calc_11                     0.028409\n",
      " 7) ps_calc_10                     0.027235\n",
      " 8) ps_calc_03                     0.025750\n",
      " 9) ps_reg_02                      0.025714\n",
      "10) ps_ind_15                      0.024147\n",
      "11) ps_calc_07                     0.023829\n",
      "12) ps_calc_01                     0.023631\n",
      "13) ps_calc_02                     0.023501\n",
      "14) ps_car_15                      0.023185\n",
      "15) ps_calc_06                     0.022802\n",
      "16) ps_reg_01                      0.022511\n",
      "17) ps_calc_13                     0.022473\n",
      "18) ps_car_12                      0.022311\n",
      "19) ps_ind_01                      0.021658\n",
      "20) ps_calc_05                     0.021094\n",
      "21) ps_calc_08                     0.020081\n",
      "22) ps_calc_04                     0.019795\n",
      "23) ps_calc_12                     0.019247\n",
      "24) ps_calc_09                     0.019006\n",
      "25) ps_car_11_cat_29               0.013208\n",
      "26) ps_car_11                      0.009977\n",
      "27) ps_car_11_cat_50               0.009210\n",
      "28) ps_car_11_cat_23               0.008774\n",
      "29) ps_car_11_cat_16               0.008298\n",
      "30) ps_calc_16_bin                 0.007969\n",
      "31) ps_calc_19_bin                 0.007836\n",
      "32) ps_car_01_cat_11               0.007758\n",
      "33) ps_ind_16_bin                  0.007633\n",
      "34) ps_ind_04_cat_0                0.007610\n",
      "35) ps_ind_04_cat_1                0.007563\n",
      "36) ps_calc_17_bin                 0.007293\n",
      "37) ps_ind_07_bin                  0.007054\n",
      "38) ps_ind_06_bin                  0.006644\n",
      "39) ps_car_02_cat_1                0.006544\n",
      "40) ps_car_11_cat_104              0.006333\n",
      "41) ps_ind_02_cat_1                0.006287\n",
      "42) ps_car_11_cat_61               0.006208\n",
      "43) ps_car_09_cat_2                0.006017\n",
      "44) ps_ind_17_bin                  0.005995\n",
      "45) ps_ind_02_cat_2                0.005886\n",
      "46) ps_car_09_cat_0                0.005764\n",
      "47) ps_car_06_cat_6                0.005674\n",
      "48) ps_calc_15_bin                 0.005652\n",
      "49) ps_calc_20_bin                 0.005485\n",
      "50) ps_ind_08_bin                  0.005425\n",
      "51) ps_car_11_cat_31               0.005376\n",
      "52) ps_car_06_cat_9                0.005352\n",
      "53) ps_calc_18_bin                 0.005333\n",
      "54) ps_car_06_cat_7                0.005197\n",
      "55) ps_car_01_cat_7                0.005187\n",
      "56) ps_car_07_cat_1                0.005144\n",
      "57) ps_ind_18_bin                  0.005143\n",
      "58) ps_car_07_cat_0                0.004975\n",
      "59) ps_car_08_cat_1                0.004955\n",
      "60) ps_ind_05_cat_0                0.004897\n",
      "61) ps_car_01_cat_10               0.004778\n",
      "62) ps_car_11_cat_92               0.004496\n",
      "63) ps_car_11_cat_65               0.004218\n",
      "64) ps_ind_09_bin                  0.004161\n",
      "65) ps_car_06_cat_11               0.003989\n",
      "66) ps_car_06_cat_1                0.003958\n",
      "67) ps_car_11_cat_66               0.003800\n",
      "68) ps_car_11_cat_63               0.003627\n",
      "69) ps_car_06_cat_14               0.003420\n",
      "70) ps_car_11_cat_79               0.003373\n",
      "71) ps_car_01_cat_1                0.003340\n",
      "72) ps_car_11_cat_36               0.003211\n",
      "73) ps_ind_05_cat_6                0.003141\n",
      "74) ps_car_01_cat_6                0.003139\n",
      "75) ps_car_11_cat_27               0.003118\n",
      "76) ps_car_06_cat_10               0.003110\n",
      "77) ps_car_11_cat_88               0.003023\n",
      "78) ps_car_11_cat_87               0.002976\n",
      "79) ps_car_11_cat_28               0.002973\n",
      "80) ps_car_11_cat_38               0.002964\n",
      "81) ps_car_09_cat_1                0.002738\n",
      "82) ps_ind_02_cat_4                0.002713\n",
      "83) ps_car_06_cat_15               0.002676\n",
      "84) ps_car_01_cat_4                0.002629\n",
      "85) ps_car_04_cat_1                0.002557\n",
      "86) ps_car_11_cat_2                0.002522\n",
      "87) ps_car_11_cat_64               0.002509\n",
      "88) ps_car_11_cat_83               0.002493\n",
      "89) ps_car_09_cat_3                0.002461\n",
      "90) ps_car_11_cat_17               0.002460\n",
      "91) ps_car_06_cat_13               0.002440\n",
      "92) ps_car_04_cat_9                0.002358\n",
      "93) ps_car_11_cat_5                0.002338\n",
      "94) ps_car_06_cat_4                0.002303\n",
      "95) ps_ind_05_cat_2                0.002280\n",
      "96) ps_car_01_cat_0                0.002259\n",
      "97) ps_ind_02_cat_3                0.002239\n",
      "98) ps_car_01_cat_9                0.002206\n",
      "99) ps_ind_05_cat_4                0.002093\n",
      "100) ps_car_11_cat_21               0.001958\n",
      "101) ps_car_01_cat_8                0.001866\n",
      "102) ps_car_06_cat_12               0.001834\n",
      "103) ps_car_11_cat_76               0.001824\n",
      "104) ps_car_11_cat_94               0.001806\n",
      "105) ps_car_11_cat_14               0.001804\n",
      "106) ps_ind_05_cat_3                0.001717\n",
      "107) ps_car_01_cat_5                0.001652\n",
      "108) ps_car_11_cat_103              0.001646\n",
      "109) ps_car_11_cat_60               0.001588\n",
      "110) ps_car_11_cat_55               0.001579\n",
      "111) ps_car_11_cat_89               0.001576\n",
      "112) ps_car_04_cat_2                0.001559\n",
      "113) ps_car_11_cat_70               0.001413\n",
      "114) ps_car_11_cat_13               0.001216\n",
      "115) ps_car_04_cat_8                0.001132\n",
      "116) ps_car_11_cat_39               0.001102\n",
      "117) ps_car_11_cat_82               0.000224\n",
      "118) ps_car_06_cat_17               0.000149\n",
      "119) ps_ind_14                      0.000103\n",
      "120) ps_car_11_cat_99               0.000099\n",
      "121) ps_car_06_cat_3                0.000097\n",
      "122) ps_car_11_cat_22               0.000093\n",
      "123) ps_car_11_cat_71               0.000093\n",
      "124) ps_car_11_cat_85               0.000092\n",
      "125) ps_ind_12_bin                  0.000091\n",
      "126) ps_car_11_cat_32               0.000089\n",
      "127) ps_car_01_cat_3                0.000089\n",
      "128) ps_car_11_cat_12               0.000086\n",
      "129) ps_car_11_cat_101              0.000083\n",
      "130) ps_ind_05_cat_5                0.000082\n",
      "131) ps_car_11_cat_44               0.000082\n",
      "132) ps_car_01_cat_2                0.000076\n",
      "133) ps_car_11_cat_26               0.000075\n",
      "134) ps_car_11_cat_84               0.000072\n",
      "135) ps_car_11_cat_49               0.000069\n",
      "136) ps_car_11_cat_90               0.000069\n",
      "137) ps_ind_05_cat_1                0.000065\n",
      "138) ps_car_10_cat_1                0.000060\n",
      "139) ps_car_11_cat_80               0.000057\n",
      "140) ps_car_11_cat_25               0.000056\n",
      "141) ps_car_11_cat_68               0.000055\n",
      "142) ps_car_11_cat_20               0.000053\n",
      "143) ps_car_11_cat_93               0.000052\n",
      "144) ps_car_11_cat_48               0.000051\n",
      "145) ps_car_11_cat_7                0.000051\n",
      "146) ps_car_11_cat_57               0.000050\n",
      "147) ps_car_11_cat_41               0.000050\n",
      "148) ps_car_06_cat_2                0.000044\n",
      "149) ps_car_11_cat_10               0.000040\n",
      "150) ps_car_11_cat_46               0.000040\n",
      "151) ps_car_11_cat_78               0.000039\n",
      "152) ps_car_11_cat_24               0.000038\n",
      "153) ps_car_11_cat_54               0.000038\n",
      "154) ps_car_06_cat_16               0.000038\n",
      "155) ps_car_11_cat_33               0.000037\n",
      "156) ps_car_11_cat_11               0.000037\n",
      "157) ps_car_11_cat_34               0.000033\n",
      "158) ps_car_11_cat_81               0.000033\n",
      "159) ps_car_06_cat_8                0.000032\n",
      "160) ps_car_11_cat_74               0.000032\n",
      "161) ps_car_11_cat_98               0.000032\n",
      "162) ps_car_11_cat_51               0.000032\n",
      "163) ps_car_11_cat_77               0.000032\n",
      "164) ps_car_11_cat_73               0.000030\n",
      "165) ps_car_11_cat_69               0.000030\n",
      "166) ps_car_11_cat_42               0.000030\n",
      "167) ps_car_11_cat_86               0.000029\n",
      "168) ps_car_11_cat_52               0.000029\n",
      "169) ps_car_11_cat_4                0.000027\n",
      "170) ps_car_11_cat_43               0.000027\n",
      "171) ps_car_09_cat_4                0.000026\n",
      "172) ps_car_11_cat_91               0.000025\n",
      "173) ps_car_06_cat_5                0.000024\n",
      "174) ps_car_11_cat_40               0.000023\n",
      "175) ps_car_11_cat_56               0.000022\n",
      "176) ps_car_11_cat_62               0.000021\n",
      "177) ps_car_11_cat_96               0.000020\n",
      "178) ps_car_11_cat_8                0.000019\n",
      "179) ps_car_04_cat_6                0.000018\n",
      "180) ps_car_11_cat_72               0.000018\n",
      "181) ps_car_11_cat_67               0.000017\n",
      "182) ps_ind_11_bin                  0.000017\n",
      "183) ps_car_11_cat_45               0.000017\n",
      "184) ps_car_11_cat_9                0.000013\n",
      "185) ps_car_11_cat_53               0.000013\n",
      "186) ps_car_11_cat_19               0.000013\n",
      "187) ps_car_11_cat_100              0.000012\n",
      "188) ps_car_11_cat_95               0.000011\n",
      "189) ps_car_11_cat_3                0.000011\n",
      "190) ps_car_11_cat_75               0.000010\n",
      "191) ps_car_11_cat_37               0.000009\n",
      "192) ps_car_11_cat_97               0.000008\n",
      "193) ps_car_11_cat_102              0.000006\n",
      "194) ps_car_11_cat_59               0.000006\n",
      "195) ps_car_11_cat_58               0.000003\n",
      "196) ps_car_04_cat_3                0.000001\n",
      "197) ps_car_11_cat_15               0.000001\n",
      "198) ps_car_11_cat_6                0.000001\n",
      "199) ps_car_11_cat_30               0.000001\n",
      "200) ps_car_04_cat_7                0.000000\n",
      "201) ps_car_11_cat_35               0.000000\n",
      "202) ps_car_11_cat_18               0.000000\n",
      "203) ps_ind_10_bin                  0.000000\n",
      "204) ps_ind_13_bin                  0.000000\n",
      "205) ps_car_11_cat_47               0.000000\n",
      "206) ps_car_10_cat_2                0.000000\n"
     ]
    }
   ],
   "source": [
    "X_train = train.drop(['id', 'target'], axis=1)\n",
    "y_train = train['target']\n",
    "\n",
    "feat_labels = X_train.columns\n",
    "\n",
    "rf = RandomForestClassifier(n_estimators=1000, random_state=0, n_jobs=-1)\n",
    "\n",
    "rf.fit(X_train, y_train)\n",
    "importances = rf.feature_importances_\n",
    "\n",
    "indices = np.argsort(rf.feature_importances_)[::-1]\n",
    "\n",
    "for f in range(X_train.shape[1]):\n",
    "    print(\"%2d) %-*s %f\" % (f + 1, 30, feat_labels[indices[f]], importances[indices[f]]))"
   ]
  },
  {
   "cell_type": "markdown",
   "id": "d8bddfe1",
   "metadata": {},
   "source": [
    "With SelectFromModel we can specify which prefit classifier to use and what  \n",
    "the threshold is for the feature importances. With the get_support method we can then  \n",
    "limit the number of variables in the train data."
   ]
  },
  {
   "cell_type": "code",
   "execution_count": 134,
   "id": "0feddb5b",
   "metadata": {},
   "outputs": [
    {
     "name": "stdout",
     "output_type": "stream",
     "text": [
      "Number of features before selection: 206\n",
      "Number of features after selection: 103\n"
     ]
    }
   ],
   "source": [
    "sfm = SelectFromModel(rf, threshold='median', prefit=True)\n",
    "print('Number of features before selection: {}'.format(X_train.shape[1]))\n",
    "\n",
    "n_features = sfm.transform(X_train).shape[1]\n",
    "print('Number of features after selection: {}'.format(n_features))\n",
    "\n",
    "selected_vars = list(feat_labels[sfm.get_support()])"
   ]
  },
  {
   "cell_type": "code",
   "execution_count": 135,
   "id": "7dd5f251",
   "metadata": {},
   "outputs": [],
   "source": [
    "train = train[selected_vars + ['target']]"
   ]
  },
  {
   "cell_type": "markdown",
   "id": "32473224",
   "metadata": {},
   "source": [
    "## Feature Scaling"
   ]
  },
  {
   "cell_type": "markdown",
   "id": "2279733b",
   "metadata": {},
   "source": [
    "As mentioned before, we can apply standard scaling to the training data.  \n",
    "Some classifiers perform better when this is done"
   ]
  },
  {
   "cell_type": "code",
   "execution_count": 137,
   "id": "a679d1d3",
   "metadata": {},
   "outputs": [
    {
     "data": {
      "text/plain": [
       "array([[ 0.09251673,  0.23868481, -0.84470854, ..., -0.09095608,\n",
       "        -0.10682129, -0.41287793],\n",
       "       [-0.42889258,  0.97805792, -0.84470854, ..., -0.09095608,\n",
       "        -0.10682129, -0.41287793],\n",
       "       [ 1.65674466,  1.71743103, -0.84470854, ..., -0.09095608,\n",
       "        -0.10682129, -0.41287793],\n",
       "       ...,\n",
       "       [ 0.61392604, -0.13100175,  1.18384029, ..., -0.09095608,\n",
       "        -0.10682129,  2.42202337],\n",
       "       [-0.42889258,  1.71743103, -0.84470854, ..., -0.09095608,\n",
       "        -0.10682129, -0.41287793],\n",
       "       [-0.95030189,  0.97805792,  1.18384029, ..., -0.09095608,\n",
       "        -0.10682129, -0.41287793]])"
      ]
     },
     "execution_count": 137,
     "metadata": {},
     "output_type": "execute_result"
    }
   ],
   "source": [
    "scaler = StandardScaler()\n",
    "scaler.fit_transform(train.drop(['target'], axis=1))"
   ]
  },
  {
   "cell_type": "code",
   "execution_count": null,
   "id": "fb94f4ac",
   "metadata": {},
   "outputs": [],
   "source": []
  }
 ],
 "metadata": {
  "kernelspec": {
   "display_name": "Python 3",
   "language": "python",
   "name": "python3"
  },
  "language_info": {
   "codemirror_mode": {
    "name": "ipython",
    "version": 3
   },
   "file_extension": ".py",
   "mimetype": "text/x-python",
   "name": "python",
   "nbconvert_exporter": "python",
   "pygments_lexer": "ipython3",
   "version": "3.8.5"
  }
 },
 "nbformat": 4,
 "nbformat_minor": 5
}
