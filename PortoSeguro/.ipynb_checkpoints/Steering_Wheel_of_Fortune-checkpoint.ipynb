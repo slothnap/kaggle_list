{
 "cells": [
  {
   "cell_type": "markdown",
   "id": "fb8ba965",
   "metadata": {},
   "source": [
    "https://www.kaggle.com/headsortails/steering-wheel-of-fortune-porto-seguro-eda"
   ]
  },
  {
   "cell_type": "code",
   "execution_count": null,
   "id": "015c1917",
   "metadata": {},
   "outputs": [],
   "source": []
  }
 ],
 "metadata": {
  "kernelspec": {
   "display_name": "Python 3",
   "language": "python",
   "name": "python3"
  },
  "language_info": {
   "codemirror_mode": {
    "name": "ipython",
    "version": 3
   },
   "file_extension": ".py",
   "mimetype": "text/x-python",
   "name": "python",
   "nbconvert_exporter": "python",
   "pygments_lexer": "ipython3",
   "version": "3.8.10"
  }
 },
 "nbformat": 4,
 "nbformat_minor": 5
}
