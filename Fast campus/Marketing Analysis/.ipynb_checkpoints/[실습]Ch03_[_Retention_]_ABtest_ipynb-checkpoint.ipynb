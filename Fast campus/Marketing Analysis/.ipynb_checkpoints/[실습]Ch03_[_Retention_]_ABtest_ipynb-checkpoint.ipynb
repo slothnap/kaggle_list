{
 "cells": [
  {
   "cell_type": "markdown",
   "metadata": {
    "colab_type": "text",
    "id": "QTA-jTqxRWmx"
   },
   "source": [
    "# A/B Test로 고객 retention을 높이자\n",
    "모바일 게임의 고객 로그 데이터를 분석해서 고객 유지율을 높여봅니다."
   ]
  },
  {
   "cell_type": "markdown",
   "metadata": {
    "colab_type": "text",
    "id": "LzkO4RXnViQb"
   },
   "source": [
    "## 데이터 설명\n",
    "데이터는 [다음의 링크](https://drive.google.com/file/d/1CDAcyNkWYfLbQokwyLrNR8e1AxlXBGi7/view?usp=sharing)에서 다운받을 수 있습니다. \n",
    "(https://www.kaggle.com/yufengsui/mobile-games-ab-testing)\n",
    "\n",
    "  * **userid** - 개별 유저들을 구분하는 식별 번호입니다. \n",
    "  * **version** - 유저들이 실험군 대조군 중 어디에 속했는지 알 수 있습니다. (gate_30, gate_40) \n",
    "  * **sum_gamerounds** - 첫 설치 후 14일 간 유저가 플레이한 라운드의 수입니다. \n",
    "  * **retention_1** - 유저가 설치 후 1일 이내에 다시 돌아왔는지 여부입니다.\n",
    "  * **retention_7** - 유저가 설치 후 7일 이내에 다시 돌아왔는지 여부입니다. \n",
    "  * 게임 플레이 영상 참고 (https://www.youtube.com/watch?v=xt_5OtfXl7o)"
   ]
  },
  {
   "cell_type": "markdown",
   "metadata": {
    "colab_type": "text",
    "id": "pW9SyRQPRiQU"
   },
   "source": [
    "## 문제 정의 \n",
    "  * Cookie Cats 게임에서는 특정 스테이지가 되면 스테이지가 Lock되게 합니다. \n",
    "  * Area Locked일 경우 Keys를 구하기 위한 특별판 게임을 해서 키 3개를 구하거나, 페이스북 친구에게 요청하거나, 유료아이템을 구매하여 바로 열 수 있습니다. \n",
    "  ![Area Locked](https://s3.amazonaws.com/assets.datacamp.com/production/project_184/img/cc_gates.png)\n",
    "  * Lock을 몇 번째 스테이지에서 할 때 이용자 retention에 가장 좋을지 의사결정을 해야합니다. "
   ]
  },
  {
   "cell_type": "markdown",
   "metadata": {
    "colab_type": "text",
    "id": "aM4wQR9ARqPT"
   },
   "source": [
    "### 데이터 탐색"
   ]
  },
  {
   "cell_type": "code",
   "execution_count": 5,
   "metadata": {
    "colab": {},
    "colab_type": "code",
    "id": "L-Zc0QW9P6am"
   },
   "outputs": [
    {
     "name": "stdout",
     "output_type": "stream",
     "text": [
      "(90189, 5)\n"
     ]
    },
    {
     "data": {
      "text/html": [
       "<div>\n",
       "<style scoped>\n",
       "    .dataframe tbody tr th:only-of-type {\n",
       "        vertical-align: middle;\n",
       "    }\n",
       "\n",
       "    .dataframe tbody tr th {\n",
       "        vertical-align: top;\n",
       "    }\n",
       "\n",
       "    .dataframe thead th {\n",
       "        text-align: right;\n",
       "    }\n",
       "</style>\n",
       "<table border=\"1\" class=\"dataframe\">\n",
       "  <thead>\n",
       "    <tr style=\"text-align: right;\">\n",
       "      <th></th>\n",
       "      <th>userid</th>\n",
       "      <th>version</th>\n",
       "      <th>sum_gamerounds</th>\n",
       "      <th>retention_1</th>\n",
       "      <th>retention_7</th>\n",
       "    </tr>\n",
       "  </thead>\n",
       "  <tbody>\n",
       "    <tr>\n",
       "      <th>90184</th>\n",
       "      <td>9999441</td>\n",
       "      <td>gate_40</td>\n",
       "      <td>97</td>\n",
       "      <td>True</td>\n",
       "      <td>False</td>\n",
       "    </tr>\n",
       "    <tr>\n",
       "      <th>90185</th>\n",
       "      <td>9999479</td>\n",
       "      <td>gate_40</td>\n",
       "      <td>30</td>\n",
       "      <td>False</td>\n",
       "      <td>False</td>\n",
       "    </tr>\n",
       "    <tr>\n",
       "      <th>90186</th>\n",
       "      <td>9999710</td>\n",
       "      <td>gate_30</td>\n",
       "      <td>28</td>\n",
       "      <td>True</td>\n",
       "      <td>False</td>\n",
       "    </tr>\n",
       "    <tr>\n",
       "      <th>90187</th>\n",
       "      <td>9999768</td>\n",
       "      <td>gate_40</td>\n",
       "      <td>51</td>\n",
       "      <td>True</td>\n",
       "      <td>False</td>\n",
       "    </tr>\n",
       "    <tr>\n",
       "      <th>90188</th>\n",
       "      <td>9999861</td>\n",
       "      <td>gate_40</td>\n",
       "      <td>16</td>\n",
       "      <td>False</td>\n",
       "      <td>False</td>\n",
       "    </tr>\n",
       "  </tbody>\n",
       "</table>\n",
       "</div>"
      ],
      "text/plain": [
       "        userid  version  sum_gamerounds  retention_1  retention_7\n",
       "90184  9999441  gate_40              97         True        False\n",
       "90185  9999479  gate_40              30        False        False\n",
       "90186  9999710  gate_30              28         True        False\n",
       "90187  9999768  gate_40              51         True        False\n",
       "90188  9999861  gate_40              16        False        False"
      ]
     },
     "execution_count": 5,
     "metadata": {},
     "output_type": "execute_result"
    }
   ],
   "source": [
    "import pandas as pd\n",
    "import numpy as np \n",
    "import matplotlib.pyplot as plt\n",
    "import seaborn as sns\n",
    "\n",
    "df = pd.read_csv(\"data/cookie_cats.csv\")\n",
    "\n",
    "print(df.shape)\n",
    "df.tail()"
   ]
  },
  {
   "cell_type": "code",
   "execution_count": 6,
   "metadata": {
    "colab": {},
    "colab_type": "code",
    "id": "o-TVH1agP9UG"
   },
   "outputs": [
    {
     "name": "stdout",
     "output_type": "stream",
     "text": [
      "<class 'pandas.core.frame.DataFrame'>\n",
      "RangeIndex: 90189 entries, 0 to 90188\n",
      "Data columns (total 5 columns):\n",
      " #   Column          Non-Null Count  Dtype \n",
      "---  ------          --------------  ----- \n",
      " 0   userid          90189 non-null  int64 \n",
      " 1   version         90189 non-null  object\n",
      " 2   sum_gamerounds  90189 non-null  int64 \n",
      " 3   retention_1     90189 non-null  bool  \n",
      " 4   retention_7     90189 non-null  bool  \n",
      "dtypes: bool(2), int64(2), object(1)\n",
      "memory usage: 2.2+ MB\n"
     ]
    }
   ],
   "source": [
    "# 결측값이 있는지 확인합니다. \n",
    "df.info()"
   ]
  },
  {
   "cell_type": "markdown",
   "metadata": {
    "colab_type": "text",
    "id": "lX9oCuOCQqwe"
   },
   "source": [
    "다행히(?) 결측값은 없는 것으로 보입니다. "
   ]
  },
  {
   "cell_type": "code",
   "execution_count": 7,
   "metadata": {
    "colab": {},
    "colab_type": "code",
    "id": "khzjWcj9QaPX"
   },
   "outputs": [
    {
     "data": {
      "text/html": [
       "<div>\n",
       "<style scoped>\n",
       "    .dataframe tbody tr th:only-of-type {\n",
       "        vertical-align: middle;\n",
       "    }\n",
       "\n",
       "    .dataframe tbody tr th {\n",
       "        vertical-align: top;\n",
       "    }\n",
       "\n",
       "    .dataframe thead th {\n",
       "        text-align: right;\n",
       "    }\n",
       "</style>\n",
       "<table border=\"1\" class=\"dataframe\">\n",
       "  <thead>\n",
       "    <tr style=\"text-align: right;\">\n",
       "      <th></th>\n",
       "      <th>userid</th>\n",
       "      <th>sum_gamerounds</th>\n",
       "      <th>retention_1</th>\n",
       "      <th>retention_7</th>\n",
       "    </tr>\n",
       "    <tr>\n",
       "      <th>version</th>\n",
       "      <th></th>\n",
       "      <th></th>\n",
       "      <th></th>\n",
       "      <th></th>\n",
       "    </tr>\n",
       "  </thead>\n",
       "  <tbody>\n",
       "    <tr>\n",
       "      <th>gate_30</th>\n",
       "      <td>44700</td>\n",
       "      <td>44700</td>\n",
       "      <td>44700</td>\n",
       "      <td>44700</td>\n",
       "    </tr>\n",
       "    <tr>\n",
       "      <th>gate_40</th>\n",
       "      <td>45489</td>\n",
       "      <td>45489</td>\n",
       "      <td>45489</td>\n",
       "      <td>45489</td>\n",
       "    </tr>\n",
       "  </tbody>\n",
       "</table>\n",
       "</div>"
      ],
      "text/plain": [
       "         userid  sum_gamerounds  retention_1  retention_7\n",
       "version                                                  \n",
       "gate_30   44700           44700        44700        44700\n",
       "gate_40   45489           45489        45489        45489"
      ]
     },
     "execution_count": 7,
     "metadata": {},
     "output_type": "execute_result"
    }
   ],
   "source": [
    "# AB 테스트로 사용된 버전별로 유저들은 몇 명씩 있을까요?\n",
    "df.groupby(\"version\").count()"
   ]
  },
  {
   "cell_type": "markdown",
   "metadata": {
    "colab_type": "text",
    "id": "S2UsdRlBRP2o"
   },
   "source": [
    "유저가 게임을 설치하면 gate_30 또는 gate_40 그룹으로 나뉘게 되었는데, 각 그룹별 유저는 거의 유사한 숫자로 배정되었습니다. "
   ]
  },
  {
   "cell_type": "code",
   "execution_count": 8,
   "metadata": {
    "colab": {},
    "colab_type": "code",
    "id": "ONdFO8HvQ-Fx"
   },
   "outputs": [
    {
     "data": {
      "text/plain": [
       "<AxesSubplot:ylabel='sum_gamerounds'>"
      ]
     },
     "execution_count": 8,
     "metadata": {},
     "output_type": "execute_result"
    },
    {
     "data": {
      "image/png": "[encoded data removed]",
      "text/plain": [
       "<Figure size 432x288 with 1 Axes>"
      ]
     },
     "metadata": {},
     "output_type": "display_data"
    }
   ],
   "source": [
    "# box plot을 그려봅니다. \n",
    "sns.boxenplot(data=df, y=\"sum_gamerounds\")"
   ]
  },
  {
   "cell_type": "markdown",
   "metadata": {
    "colab_type": "text",
    "id": "1ipwL1P4WO5z"
   },
   "source": [
    "* 확실히 아웃라이어가 있는 것으로 보입니다. \n",
    "* 첫 14일 동안 50,000회 가까이 게임을 한 사람들이 분명히 있지만 일반적인 사용행태라고 하기는 어렵습니다. \n",
    "* 엄청나게 skewed한 데이터 분포입니다. \n"
   ]
  },
  {
   "cell_type": "code",
   "execution_count": 12,
   "metadata": {
    "colab": {},
    "colab_type": "code",
    "id": "qQTMqxBbhToY"
   },
   "outputs": [
    {
     "data": {
      "text/html": [
       "<div>\n",
       "<style scoped>\n",
       "    .dataframe tbody tr th:only-of-type {\n",
       "        vertical-align: middle;\n",
       "    }\n",
       "\n",
       "    .dataframe tbody tr th {\n",
       "        vertical-align: top;\n",
       "    }\n",
       "\n",
       "    .dataframe thead th {\n",
       "        text-align: right;\n",
       "    }\n",
       "</style>\n",
       "<table border=\"1\" class=\"dataframe\">\n",
       "  <thead>\n",
       "    <tr style=\"text-align: right;\">\n",
       "      <th></th>\n",
       "      <th>userid</th>\n",
       "      <th>version</th>\n",
       "      <th>sum_gamerounds</th>\n",
       "      <th>retention_1</th>\n",
       "      <th>retention_7</th>\n",
       "    </tr>\n",
       "  </thead>\n",
       "  <tbody>\n",
       "    <tr>\n",
       "      <th>57702</th>\n",
       "      <td>6390605</td>\n",
       "      <td>gate_30</td>\n",
       "      <td>49854</td>\n",
       "      <td>False</td>\n",
       "      <td>True</td>\n",
       "    </tr>\n",
       "  </tbody>\n",
       "</table>\n",
       "</div>"
      ],
      "text/plain": [
       "        userid  version  sum_gamerounds  retention_1  retention_7\n",
       "57702  6390605  gate_30           49854        False         True"
      ]
     },
     "execution_count": 12,
     "metadata": {},
     "output_type": "execute_result"
    }
   ],
   "source": [
    "df[df[\"sum_gamerounds\"] > 45000]"
   ]
  },
  {
   "cell_type": "code",
   "execution_count": 17,
   "metadata": {
    "colab": {},
    "colab_type": "code",
    "id": "xrlAVB6thI4x"
   },
   "outputs": [
    {
     "name": "stdout",
     "output_type": "stream",
     "text": [
      "(90188, 5)\n"
     ]
    },
    {
     "data": {
      "text/html": [
       "<div>\n",
       "<style scoped>\n",
       "    .dataframe tbody tr th:only-of-type {\n",
       "        vertical-align: middle;\n",
       "    }\n",
       "\n",
       "    .dataframe tbody tr th {\n",
       "        vertical-align: top;\n",
       "    }\n",
       "\n",
       "    .dataframe thead th {\n",
       "        text-align: right;\n",
       "    }\n",
       "</style>\n",
       "<table border=\"1\" class=\"dataframe\">\n",
       "  <thead>\n",
       "    <tr style=\"text-align: right;\">\n",
       "      <th></th>\n",
       "      <th>userid</th>\n",
       "      <th>version</th>\n",
       "      <th>sum_gamerounds</th>\n",
       "      <th>retention_1</th>\n",
       "      <th>retention_7</th>\n",
       "    </tr>\n",
       "  </thead>\n",
       "  <tbody>\n",
       "    <tr>\n",
       "      <th>90184</th>\n",
       "      <td>9999441</td>\n",
       "      <td>gate_40</td>\n",
       "      <td>97</td>\n",
       "      <td>True</td>\n",
       "      <td>False</td>\n",
       "    </tr>\n",
       "    <tr>\n",
       "      <th>90185</th>\n",
       "      <td>9999479</td>\n",
       "      <td>gate_40</td>\n",
       "      <td>30</td>\n",
       "      <td>False</td>\n",
       "      <td>False</td>\n",
       "    </tr>\n",
       "    <tr>\n",
       "      <th>90186</th>\n",
       "      <td>9999710</td>\n",
       "      <td>gate_30</td>\n",
       "      <td>28</td>\n",
       "      <td>True</td>\n",
       "      <td>False</td>\n",
       "    </tr>\n",
       "    <tr>\n",
       "      <th>90187</th>\n",
       "      <td>9999768</td>\n",
       "      <td>gate_40</td>\n",
       "      <td>51</td>\n",
       "      <td>True</td>\n",
       "      <td>False</td>\n",
       "    </tr>\n",
       "    <tr>\n",
       "      <th>90188</th>\n",
       "      <td>9999861</td>\n",
       "      <td>gate_40</td>\n",
       "      <td>16</td>\n",
       "      <td>False</td>\n",
       "      <td>False</td>\n",
       "    </tr>\n",
       "  </tbody>\n",
       "</table>\n",
       "</div>"
      ],
      "text/plain": [
       "        userid  version  sum_gamerounds  retention_1  retention_7\n",
       "90184  9999441  gate_40              97         True        False\n",
       "90185  9999479  gate_40              30        False        False\n",
       "90186  9999710  gate_30              28         True        False\n",
       "90187  9999768  gate_40              51         True        False\n",
       "90188  9999861  gate_40              16        False        False"
      ]
     },
     "execution_count": 17,
     "metadata": {},
     "output_type": "execute_result"
    }
   ],
   "source": [
    "# 45000 이상 플레이한 유저를 제거합니다. \n",
    "df = df[df[\"sum_gamerounds\"] < 45000 ]\n",
    "\n",
    "print(df.shape)\n",
    "df.tail()"
   ]
  },
  {
   "cell_type": "code",
   "execution_count": 18,
   "metadata": {
    "colab": {},
    "colab_type": "code",
    "id": "hLviW11-Tw09"
   },
   "outputs": [
    {
     "data": {
      "text/plain": [
       "count    90188.000000\n",
       "mean        51.320253\n",
       "std        102.682719\n",
       "min          0.000000\n",
       "25%          5.000000\n",
       "50%         16.000000\n",
       "75%         51.000000\n",
       "max       2961.000000\n",
       "Name: sum_gamerounds, dtype: float64"
      ]
     },
     "execution_count": 18,
     "metadata": {},
     "output_type": "execute_result"
    }
   ],
   "source": [
    "# percentile(백분위수)을 살펴봅니다. \n",
    "# 백분위수: 크기가 있는 값들로 이뤄진 자료를 순서대로 나열했을 때 백분율로 나타낸 특정 위치의 값을 이르는 용어\n",
    "df[\"sum_gamerounds\"].describe()"
   ]
  },
  {
   "cell_type": "markdown",
   "metadata": {
    "colab_type": "text",
    "id": "XjZMzEk_Y2ig"
   },
   "source": [
    "* 상위 50%의 유저들은 첫 14일 동안 게임을 16회 했습니다. \n"
   ]
  },
  {
   "cell_type": "code",
   "execution_count": 19,
   "metadata": {},
   "outputs": [
    {
     "data": {
      "text/plain": [
       "<AxesSubplot:ylabel='sum_gamerounds'>"
      ]
     },
     "execution_count": 19,
     "metadata": {},
     "output_type": "execute_result"
    },
    {
     "data": {
      "image/png": "[encoded data removed]",
      "text/plain": [
       "<Figure size 432x288 with 1 Axes>"
      ]
     },
     "metadata": {},
     "output_type": "display_data"
    }
   ],
   "source": [
    "sns.boxenplot(data=df, y=\"sum_gamerounds\")"
   ]
  },
  {
   "cell_type": "markdown",
   "metadata": {
    "colab_type": "text",
    "id": "2zr3KLqkSJXu"
   },
   "source": [
    "### 데이터 분석"
   ]
  },
  {
   "cell_type": "code",
   "execution_count": 0,
   "metadata": {
    "colab": {},
    "colab_type": "code",
    "id": "UbTmDEMHXCVA"
   },
   "outputs": [],
   "source": [
    "# 각 게임실행횟수 별 유저의 수를 카운트 해봅니다. \n"
   ]
  },
  {
   "cell_type": "code",
   "execution_count": 0,
   "metadata": {
    "colab": {},
    "colab_type": "code",
    "id": "cL7f-THtXfRy"
   },
   "outputs": [],
   "source": [
    "%matplotlib inline\n",
    "\n",
    "ax = plot_df[:100].plot(figsize=(10,6))\n",
    "ax.set_title(\"The number of players that played 0-100 game rounds during the first week\")\n",
    "ax.set_ylabel(\"Number of Players\")\n",
    "ax.set_xlabel('# Game rounds')"
   ]
  },
  {
   "cell_type": "code",
   "execution_count": 0,
   "metadata": {
    "colab": {},
    "colab_type": "code",
    "id": "G4HzQvG3X-bC"
   },
   "outputs": [],
   "source": []
  },
  {
   "cell_type": "markdown",
   "metadata": {
    "colab_type": "text",
    "id": "O1iPuhDEbZ9Q"
   },
   "source": [
    "* 게임을 설치하고 한 번도 실행하지 않은 유저들의 수가 상당하다는 것을 알 수 있습니다. \n",
    "* 몇몇 유저들은 설치 첫주에 충분히 실행을 해보고 게임에 어느정도 중독(?) 되었다는 것을 알 수 있습니다. \n",
    "* 비디오 게임산업에서 **1-day retention**은 게임이 얼마나 재미있고 중독적인지 평가하는 주요 메트릭입니다. \n",
    "* **1-day retention**이 높을 경우 손쉽게 가입자 기반을 늘려갈 수 있습니다. "
   ]
  },
  {
   "cell_type": "code",
   "execution_count": 0,
   "metadata": {
    "colab": {},
    "colab_type": "code",
    "id": "xxvCDKmiZoIL"
   },
   "outputs": [],
   "source": [
    "# 1-day retention의 평균을 살펴봅니다. \n"
   ]
  },
  {
   "cell_type": "markdown",
   "metadata": {
    "colab_type": "text",
    "id": "PQZFWVazdM4t"
   },
   "source": [
    "* 절반에 못미치는 사용자들이 설치 다음날 다시 게임을 했다는 것을 알 수 있습니다. "
   ]
  },
  {
   "cell_type": "code",
   "execution_count": 0,
   "metadata": {
    "colab": {},
    "colab_type": "code",
    "id": "_U4hlykAc7t1"
   },
   "outputs": [],
   "source": [
    "# 그룹별 1-day retention의 평균을 살펴봅니다. \n"
   ]
  },
  {
   "cell_type": "markdown",
   "metadata": {
    "colab_type": "text",
    "id": "hK1FiqBrpmgf"
   },
   "source": [
    "* 단순히 그룹간 평균을 비교해봐서는 게이트가 40(44.2%)인 것보다 30(44.8%)인 경우에 플레이 횟수가 더 많습니다. \n",
    "* 작은 차이이지만 이 작은 차이가 retention, 더 나아가 장기적 수익에도 영향을 미치게 될 것입니다. \n",
    "* 그런데 이것만으로 게이트를 30에 두는 것이 40에 두는 것보다 나은 방법이라고 확신할 수 있을까요 ?"
   ]
  },
  {
   "cell_type": "code",
   "execution_count": 0,
   "metadata": {
    "colab": {},
    "colab_type": "code",
    "id": "mxmR5h0fpaEH"
   },
   "outputs": [],
   "source": [
    "# 7-day retention의 평균을 살펴봅니다. \n"
   ]
  },
  {
   "cell_type": "code",
   "execution_count": 0,
   "metadata": {
    "colab": {},
    "colab_type": "code",
    "id": "wd5Hk_K3paM9"
   },
   "outputs": [],
   "source": [
    "# 그룹별 7-day retention의 평균을 살펴봅니다. \n"
   ]
  },
  {
   "cell_type": "markdown",
   "metadata": {
    "colab_type": "text",
    "id": "p3YVpFCspocM"
   },
   "source": [
    "* 단순히 그룹간 평균을 비교해봐서는 게이트가 40(18.2%)인 것보다 30(19.0%)인 경우에 생존률이 더 높습니다.  \n",
    "* 작은 차이이지만 이 작은 차이가 retention, 더 나아가 장기적 수익에도 영향을 미치게 될 것입니다. \n",
    "* 1일보다 7일일때 차이가 더 큽니다. 그런데 이것만으로 게이트를 30에 두는 것이 40에 두는 것보다 나은 방법이라고 확신할 수 있을까요 ?"
   ]
  },
  {
   "cell_type": "markdown",
   "metadata": {
    "colab_type": "text",
    "id": "FSObxKkLqp_F"
   },
   "source": [
    "#### Bootstrapping \n",
    "두 그룹간의 차이가 유의미한지 알아보는 다른 방법을 사용해보겠습니다. "
   ]
  },
  {
   "cell_type": "code",
   "execution_count": 0,
   "metadata": {
    "colab": {},
    "colab_type": "code",
    "id": "zy1d3BCVjKt6"
   },
   "outputs": [],
   "source": [
    "# 각각의 AB그룹에 대해 bootstrapp된 means 값의 리스트를 만듭니다.\n",
    "\n",
    "boot_1d = []\n",
    "for i in range(1000):\n",
    "    boot_mean = df.sample(frac = 1,replace = True).groupby('version')['retention_1'].mean()\n",
    "    boot_1d.append(boot_mean)\n",
    "    \n",
    "# list를 DataFrame으로 변환합니다. \n",
    "boot_1d = pd.DataFrame(boot_1d)\n",
    "    \n",
    "# A Kernel Density Estimate plot of the bootstrap distributions\n",
    "boot_1d.plot(kind='density')"
   ]
  },
  {
   "cell_type": "markdown",
   "metadata": {
    "colab_type": "text",
    "id": "MX7Y0F97xNXj"
   },
   "source": [
    "* 위의 두 분포는 AB 두 그룹에 대해 1 day retention이 가질 수 있는 부트 스트랩 불확실성을 표현합니다. \n",
    "* 비록 작지만 차이의 증거가있는 것 같아 보입니다. \n",
    "* 자세히 살펴보기 위해 % 차이를 그려 봅시다."
   ]
  },
  {
   "cell_type": "code",
   "execution_count": 0,
   "metadata": {
    "colab": {},
    "colab_type": "code",
    "id": "fpPWf8Ofw0Db"
   },
   "outputs": [],
   "source": [
    "# 두 AB 그룹간의 % 차이 평균 컬럼을 추가합니다.\n",
    "boot_1d['diff'] = (boot_1d.gate_30 - boot_1d.gate_40)/boot_1d.gate_40*100\n",
    "\n",
    "# bootstrap % 차이를 시각화 합니다. \n",
    "ax = boot_1d['diff'].plot(kind='density')\n",
    "ax.set_title('% difference in 1-day retention between the two AB-groups')\n",
    "\n",
    "# 게이트가 레벨30에 있을 때 1-day retention이 클 확률을 계산합니다. \n",
    "print('게이트가 레벨30에 있을 때 1-day retention이 클 확률:',(boot_1d['diff'] > 0).mean())"
   ]
  },
  {
   "cell_type": "markdown",
   "metadata": {
    "colab_type": "text",
    "id": "lHwLy_Mlyw_E"
   },
   "source": [
    "* 위 도표에서 가장 가능성이 높은 % 차이는 약 1%-2%이며 분포의 95%는 0% 이상이며 레벨 30의 게이트를 선호합니다.\n",
    "\n",
    "* 부트 스트랩 분석에 따르면 게이트가 레벨 30에있을 때 1일 유지율이 더 높을 가능성이 높습니다. \n",
    "* 그러나 플레이어는 하루 동안 만 게임을했기 때문에 대부분의 플레이어가 아직 레벨 30에 다다르지 않았을 가능성이 큽니다. \n",
    "* 즉, 대부분의 유저들은 게이트가 30에 있는지 여부에 따라 retention이 영향받지 않았을 것입니다. \n",
    "* 일주일 동안 플레이 한 후에는 더 많은 플레이어가 레벨 30과 40에 도달하기 때문에 7 일 retention도 확인해야합니다."
   ]
  },
  {
   "cell_type": "code",
   "execution_count": 0,
   "metadata": {
    "colab": {},
    "colab_type": "code",
    "id": "urihBwG5x7BO"
   },
   "outputs": [],
   "source": [
    "df.groupby('version')['retention_7'].sum() / df.groupby('version')['retention_7'].count()"
   ]
  },
  {
   "cell_type": "markdown",
   "metadata": {
    "colab_type": "text",
    "id": "-HDJGqXq2ru3"
   },
   "source": [
    "* 1일 retention과 마찬가지로, 게이트가 30 레벨(19.0 %)에 있는 경우보다 게이트 레벨이 40(18.2 %)인 경우 7일 retention이 낮습니다.\n",
    "* 이 차이는 1 일 retention보다 차이가 더 큰데, 아마도 더 많은 플레이어가 첫 번째 게이트를 열어볼 시간이 있었기 때문일 것입니다.\n",
    "* 전체 7일 retention은 전체 1일 retention보다 낮습니다. 설치 후 하루보다 설치 후 일주일에 게임을하는 사람이 더 적기 때문입니다.\n",
    "* 이전과 마찬가지로 부트 스트랩 분석을 사용하여 AB 그룹간에 차이가 있는지 확인해봅시다."
   ]
  },
  {
   "cell_type": "code",
   "execution_count": 0,
   "metadata": {
    "colab": {},
    "colab_type": "code",
    "id": "ti6DDCIh2YF2"
   },
   "outputs": [],
   "source": [
    "# 각각의 AB그룹에 대해 bootstrapp된 means 값의 리스트를 만듭니다.\n",
    "boot_7d = []\n",
    "for i in range(500):\n",
    "    boot_mean = df.sample(frac=1,replace=True).groupby('version')['retention_7'].mean()\n",
    "    boot_7d.append(boot_mean)\n",
    "    \n",
    "# list를 DataFrame으로 변환합니다. \n",
    "boot_7d = pd.DataFrame(boot_7d)\n",
    "\n",
    "# 두 AB 그룹간의 % 차이 평균 컬럼을 추가합니다.\n",
    "boot_7d['diff'] = (boot_7d.gate_30 - boot_7d.gate_40)/boot_7d.gate_40*100\n",
    "\n",
    "# bootstrap % 차이를 시각화 합니다.\n",
    "ax = boot_7d['diff'].plot(kind='density')\n",
    "ax.set_title('% difference in 7-day retention between the two AB-groups')\n",
    "\n",
    "# 게이트가 레벨30에 있을 때 7-day retention이 더 클 확률을 계산합니다. \n",
    "print('게이트가 레벨30에 있을 때 7-day retention이 클 확률:',(boot_7d['diff'] > 0).mean())"
   ]
  },
  {
   "cell_type": "markdown",
   "metadata": {
    "colab_type": "text",
    "id": "TLUnTaQ230js"
   },
   "source": [
    "* 부트 스트랩 결과는 게이트가 레벨 40에있을 때보 다 레벨 30에있을 때 7일 retention이 더 높다는 강력한 증거가 있음을 나타냅니다. \n",
    "* 결론은, retention을 늘리기 위해서 게이트를 레벨 30에서 레벨 40으로 이동해서는 안된다는 것 입니다! "
   ]
  },
  {
   "cell_type": "markdown",
   "metadata": {
    "colab_type": "text",
    "id": "xnbJo5zPqbXz"
   },
   "source": [
    "#### T-test\n",
    "통계적인 기준으로 판단하는 방법을 알아봅니다. "
   ]
  },
  {
   "cell_type": "code",
   "execution_count": 0,
   "metadata": {
    "colab": {},
    "colab_type": "code",
    "id": "AhOdaRUXg2EC"
   },
   "outputs": [],
   "source": []
  },
  {
   "cell_type": "markdown",
   "metadata": {
    "colab_type": "text",
    "id": "OizuucODed6l"
   },
   "source": [
    "* 단순히 그룹간 평균을 비교해봐서는 게이트가 40(44.2%)인 것보다 30(44.8%)인 경우에 플레이 횟수가 더 많습니다. \n",
    "* 작은 차이이지만 이 작은 차이가 retention, 더 나아가 장기적 수익에도 영향을 미치게 될 것입니다. \n",
    "* 그런데 이것만으로 게이트를 30에 두는 것이 40에 두는 것보다 나은 방법이라고 확신할 수 있을까요 ?"
   ]
  },
  {
   "cell_type": "code",
   "execution_count": 0,
   "metadata": {
    "colab": {},
    "colab_type": "code",
    "id": "4DA4RZfFg3NH"
   },
   "outputs": [],
   "source": []
  },
  {
   "cell_type": "code",
   "execution_count": 0,
   "metadata": {
    "colab": {},
    "colab_type": "code",
    "id": "ka4B-lMGdXnn"
   },
   "outputs": [],
   "source": [
    "from scipy import stats\n",
    "#독립표본 T-검정 (2 Sample T-Test)\n",
    "\n",
    "tTestResult = stats.ttest_ind(df_30['retention_1'], df_40['retention_1'])\n",
    "\n",
    "tTestResultDiffVar = stats.ttest_ind(df_30['retention_1'], df_40['retention_1'], equal_var=False)\n",
    "\n",
    "tTestResult"
   ]
  },
  {
   "cell_type": "code",
   "execution_count": 0,
   "metadata": {
    "colab": {},
    "colab_type": "code",
    "id": "OO9dcuO_iNNh"
   },
   "outputs": [],
   "source": [
    "tTestResult = stats.ttest_ind(df_30['retention_7'], df_40['retention_1'])\n",
    "tTestResultDiffVar = stats.ttest_ind(df_30['retention_7'], df_40['retention_1'], equal_var=False)\n",
    "\n",
    "tTestResult"
   ]
  },
  {
   "cell_type": "markdown",
   "metadata": {
    "colab_type": "text",
    "id": "Fc1_e0m2j-WL"
   },
   "source": [
    "##### T Score\n",
    "- t-score가 크면 두 그룹이 다르다는 것을 의미합니다. \n",
    "- t-score가 작으면 두 그룹이 비슷하다는 것을 의미합니다. \n",
    "\n",
    "##### P-values\n",
    "- p-value는 5%수준에서 0.05입니다. \n",
    "- p-values는 작은 것이 좋습니다. 이것은 데이터가 우연히 발생한 것이 아니라는 것을 의미합니다. \n",
    "- 예를 들어 p-value가 0.01 이라는 것은 결과가 우연히 나올 확률이 1%에 불과하다는 것을 의미합니다. \n",
    "- 대부분의 경우 0.05 (5%) 수준의 p-value를 기준으로 삼습니다. 이 경우 통계적으로 유의하다고 합니다. \n",
    "\n",
    "[T-test 참고링크](https://www.statisticshowto.datasciencecentral.com/probability-and-statistics/t-test/)"
   ]
  },
  {
   "cell_type": "markdown",
   "metadata": {
    "colab_type": "text",
    "id": "f_Ni0EJRXJzB"
   },
   "source": [
    "* 위 분석결과를 보면, 두 그룹에서 retention_1에 있어서는 유의하지 않고, retention_7에서는 유의미한 차이가 있다는 것을 알 수 있습니다. \n",
    "* 다시말해, retention_7이 gate30이 gate40 보다 높은 것은 우연히 발생한 일이 아닙니다.\n",
    "* 즉, gate는 30에 있는 것이 40에 있는 것보다 retention 7 차원에서 더 좋은 선택지 입니다.  "
   ]
  },
  {
   "cell_type": "markdown",
   "metadata": {
    "colab_type": "text",
    "id": "foePjPbOXJ_M"
   },
   "source": [
    "#### chi-square\n",
    "* 사실 t-test는 retention 여부를 0,1 로 두고 분석한 것입니다.\n",
    "\n",
    "* 하지만 실제로 retention 여부는 범주형 변수입니다. \n",
    "이 방법보다는 chi-square검정을 하는 것이 더 좋은 방법입니다. \n",
    "\n",
    "* 카이제곱검정은 어떤 범주형 확률변수  𝑋 가 다른 범주형 확률변수  𝑌 와 독립인지 상관관계를 가지는가를 검증하는데도 사용됩니다. \n",
    "* 카이제곱검정을 독립을 확인하는데 사용하면 카이제곱 독립검정이라고 부릅니다. "
   ]
  },
  {
   "cell_type": "markdown",
   "metadata": {
    "colab_type": "text",
    "id": "hdrQoWts3iWL"
   },
   "source": [
    "* 만약 두 확률변수가 독립이라면  𝑋=0 일 때의  𝑌 분포와  𝑋=1 일 때의  𝑌 분포가 같아야 합니다. \n",
    "* 다시말해 버전이 30일때와 40일 때 모두 Y의 분포가 같은 것입니다. \n",
    "* 따라서 표본 집합이 같은 확률분포에서 나왔다는 것을 귀무가설로 하는 카이제곱검정을 하여 채택된다면 두 확률변수는 독립입니다. \n",
    "* 만약 기각된다면 두 확률변수는 상관관계가 있는 것입니다.\n",
    "* 다시말해 카이제곱검정 결과가 기각된다면 게이트가 30인지 40인지 여부에 따라 retention의 값이 변화하게 된다는 것입니다. \n",
    "\n",
    "* 𝑋 의 값에 따른 각각의  𝑌 분포가 2차원 표(contingency table)의 형태로 주어지면 독립인 경우의 분포와 실제 y 표본본포의 차이를 검정통계량으로 계산합니다. \n",
    "* 이 값이 충분히 크다면  𝑋 와  𝑌 는 상관관계가 있다. "
   ]
  },
  {
   "cell_type": "code",
   "execution_count": 0,
   "metadata": {
    "colab": {},
    "colab_type": "code",
    "id": "02c1ICvj0_Om"
   },
   "outputs": [],
   "source": [
    "# 분할표를 만들기 위해 버전별로 생존자의 수 합계를 구합니다. \n",
    "df.groupby('version').sum()"
   ]
  },
  {
   "cell_type": "code",
   "execution_count": 0,
   "metadata": {
    "colab": {},
    "colab_type": "code",
    "id": "u6xOANI5nESJ"
   },
   "outputs": [],
   "source": [
    "#버전별 전체 유저의 수를 구합니다. \n",
    "df.groupby('version').count()"
   ]
  },
  {
   "cell_type": "markdown",
   "metadata": {
    "colab_type": "text",
    "id": "gpawM4SknNxv"
   },
   "source": [
    "### 버전 별 분할표를 만들어봅니다. \n",
    "||retention_1=False|retention_1=True|\n",
    "|------|---|---|\n",
    "|version=gate30|(44699-20034)|20034|\n",
    "| version=gate40|(45489-20119)|20119|\n",
    "\n",
    "\n",
    "\n",
    "||retention_7=False|retention_7=True|\n",
    "|------|---|---|\n",
    "|version=gate30|(44699-8501)|8501|\n",
    "| version=gate40|(45489-8279)|8279|\n",
    "\n"
   ]
  },
  {
   "cell_type": "code",
   "execution_count": 0,
   "metadata": {
    "colab": {},
    "colab_type": "code",
    "id": "06lxTLbI1VXr"
   },
   "outputs": [],
   "source": [
    "import scipy as sp\n",
    "obs1 = np.array([[20119, (45489-20119)], [20034, (44699-20034)]])\n",
    "sp.stats.chi2_contingency(obs1)"
   ]
  },
  {
   "cell_type": "markdown",
   "metadata": {
    "colab_type": "text",
    "id": "vBZm8xBv4R_b"
   },
   "source": [
    "* 카이제곱 독립검정의 유의확률은 7.5%입니다. \n",
    "* 즉  𝑋 와  𝑌 는 상관관계가 있다고 말할 수 없습니다."
   ]
  },
  {
   "cell_type": "code",
   "execution_count": 0,
   "metadata": {
    "colab": {},
    "colab_type": "code",
    "id": "UESQ9ufV2uUw"
   },
   "outputs": [],
   "source": [
    "obs2 = np.array([[8501, (44699-8501)], [8279, (45489-8279)]])\n",
    "sp.stats.chi2_contingency(obs2)"
   ]
  },
  {
   "cell_type": "markdown",
   "metadata": {
    "colab_type": "text",
    "id": "cJB9GtT14Zrq"
   },
   "source": [
    "* 카이제곱 독립검정의 유의확률은 0.1%입니다. \n",
    "* 즉  𝑋 와  𝑌 는 상관관계가 있다고 말할 수 있습니다.\n",
    "* 게이트가 30에 있는지 40에 있는지 여부에 따라 7일 뒤 retention이 상관관계가 있는 것입니다. \n",
    "* 7일 뒤 retention 유지를 위하여 게이트는 30에 유지해야 합니다. "
   ]
  },
  {
   "cell_type": "markdown",
   "metadata": {
    "colab_type": "text",
    "id": "4BTq16J0pLC3"
   },
   "source": [
    "\n",
    "\n",
    "### 결론\n",
    "gate는 30에 유지해야합니다. \n",
    "\n",
    "### 더 생각해 볼 것 \n",
    "* 실제로는 retention 이외에 함께 고려해야 할 다양한 메트릭들이 있습니다. \n",
    "* 앱내 구매, 게임 플레이 횟수, 친구초대로 인한 referrer 등 입니다. \n",
    "* 본 데이터에서는 retention만 주어져 있기에 한 가지를 주안점을 두어 분석 했습니다. \n",
    "* 서비스 운영자, 기획자 차원에서 정말 중요한 메트릭을 정하고 그 것을 기준으로 테스트 결과를 평가하는 것이 중요합니다. \n"
   ]
  }
 ],
 "metadata": {
  "colab": {
   "collapsed_sections": [],
   "name": "03 [ Retention ] ABtest.ipynb(student)_FIN",
   "provenance": []
  },
  "kernelspec": {
   "display_name": "Python 3",
   "language": "python",
   "name": "python3"
  },
  "language_info": {
   "codemirror_mode": {
    "name": "ipython",
    "version": 3
   },
   "file_extension": ".py",
   "mimetype": "text/x-python",
   "name": "python",
   "nbconvert_exporter": "python",
   "pygments_lexer": "ipython3",
   "version": "3.6.9"
  }
 },
 "nbformat": 4,
 "nbformat_minor": 1
}
