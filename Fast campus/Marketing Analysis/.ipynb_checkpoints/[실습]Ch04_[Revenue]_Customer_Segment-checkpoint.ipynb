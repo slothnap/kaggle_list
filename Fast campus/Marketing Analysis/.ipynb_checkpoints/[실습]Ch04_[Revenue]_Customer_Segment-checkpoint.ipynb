{
 "cells": [
  {
   "cell_type": "markdown",
   "metadata": {
    "colab_type": "text",
    "id": "dtLqsmdouTzM"
   },
   "source": [
    "# 고객 데이터 분석을 통한 고객 세그먼트 도출\n",
    "수퍼마켓 몰 고객 데이터 분석을 통해 고객 세그먼트를 도출하고 그 사용법을 고민해봅니다. "
   ]
  },
  {
   "cell_type": "markdown",
   "metadata": {
    "colab_type": "text",
    "id": "7s6oSCyHuU1L"
   },
   "source": [
    "## 데이터 설명\n",
    "데이터는 [다음의 링크](https://drive.google.com/file/d/1H2e6Yl4ME7CL_D3Bs00DmfN5WGnEJJhA/view?usp=sharing)에서 다운받으실 수 있습니다(https://www.kaggle.com/vjchoudhary7/customer-segmentation-tutorial-in-python).\n",
    "\n",
    "\n",
    "---\n",
    "\n",
    "\n",
    "\n",
    "\n",
    "\n",
    "  * **CustomerID** - 고객들에게 배정된 유니크한 고객 번호 입니다. \n",
    "  * **Gender** - 고객의 성별 입니다. \n",
    "  * **Age** - 고객의 나이 입니다. \n",
    "  * **Annual Income (k$)** - 고객의 연소득 입니다. \n",
    "  * **Spending Score (1-100)** - 고객의 구매행위와 구매 특성을 바탕으로 mall에서 할당한 고객의 지불 점수 입니다. \n",
    "\n",
    "---\n",
    "\n",
    "\n",
    "\n",
    "\n",
    "\n"
   ]
  },
  {
   "cell_type": "markdown",
   "metadata": {
    "colab_type": "text",
    "id": "TAbd4Eceux68"
   },
   "source": [
    "## 문제 정의 \n",
    "*  전제\n",
    "  * 주어진 데이터가 적절 정확하게 수집, 계산된 것인지에 대한 검증부터 시작해야하지만, 지금은 주어진 데이터가 정확하다고 가정합니다. (예: Spending Score는 적절하게 산출된 것이라 확신하고 시작합니다)\n",
    "  * 주어진 변수들을 가지고 고객 세그먼트를 도출합니다.  \n",
    "  * 가장 적절한 수의 고객 세그먼트를 도출합니다.   \n",
    "* 분석의 목적 \n",
    "  * 각 세그먼트 별 특성을 도출합니다.  \n",
    "  * 각 세그먼트별 특성에 맞는 활용방안, 전략을 고민해봅니다. "
   ]
  },
  {
   "cell_type": "markdown",
   "metadata": {
    "colab_type": "text",
    "id": "vo4xaRFau0tY"
   },
   "source": [
    "### 데이터 탐색"
   ]
  },
  {
   "cell_type": "code",
   "execution_count": 0,
   "metadata": {
    "colab": {},
    "colab_type": "code",
    "id": "Or6DBFfPuwJT"
   },
   "outputs": [],
   "source": [
    "import pandas as pd\n",
    "import numpy as np \n",
    "import matplotlib.pyplot as plt\n",
    "import seaborn as sns\n",
    "from sklearn.cluster import KMeans\n",
    "\n",
    "# 데이터를 불러옵니다.\n",
    "from google.colab import files\n",
    "uploaded = files.upload()"
   ]
  },
  {
   "cell_type": "code",
   "execution_count": 0,
   "metadata": {
    "colab": {},
    "colab_type": "code",
    "id": "6-iHIgW3u6fP"
   },
   "outputs": [],
   "source": [
    "# 데이터를 확인 합니다. \n"
   ]
  },
  {
   "cell_type": "code",
   "execution_count": 0,
   "metadata": {
    "colab": {},
    "colab_type": "code",
    "id": "b1jvwoZvvFgC"
   },
   "outputs": [],
   "source": [
    "# 결측값이 있는지 확인합니다. \n"
   ]
  },
  {
   "cell_type": "code",
   "execution_count": 0,
   "metadata": {
    "colab": {},
    "colab_type": "code",
    "id": "CKQ7Wv_Xvk_I"
   },
   "outputs": [],
   "source": [
    "# 기술통계를 확인합니다. \n"
   ]
  },
  {
   "cell_type": "code",
   "execution_count": 0,
   "metadata": {
    "colab": {},
    "colab_type": "code",
    "id": "Xd5iPZfSvz6c"
   },
   "outputs": [],
   "source": [
    "# 변수간의 correlation을 확인합니다. \n"
   ]
  },
  {
   "cell_type": "code",
   "execution_count": 0,
   "metadata": {
    "colab": {},
    "colab_type": "code",
    "id": "ukhswkLZrUOo"
   },
   "outputs": [],
   "source": [
    "# 컬럼명을 출력합니다. \n"
   ]
  },
  {
   "cell_type": "code",
   "execution_count": 0,
   "metadata": {
    "colab": {},
    "colab_type": "code",
    "id": "Zb4CZ9dZwF2E"
   },
   "outputs": [],
   "source": [
    "# 변수간의 pairplot을 그려봅니다. \n"
   ]
  },
  {
   "cell_type": "markdown",
   "metadata": {
    "colab_type": "text",
    "id": "iQynfvV-HeqO"
   },
   "source": [
    "* 샘플데이터여서인지, scatter plot을 보는 것만으로도 세그먼트가 눈에 보이는 것 같습니다.\n",
    "* 특히 Spending Score와 Annual Income사이의 관계에 따라 5개의 세그먼트가 나눠지는 것 처럼 보입니다. \n",
    "* 각 세그먼트는 해석이 가능합니다. \n",
    "* 실제 데이터는 이렇게 예쁘게 나눠떨어지기 어렵다는 점을 감안하고 분석을 계속 해봅니다.  "
   ]
  },
  {
   "cell_type": "code",
   "execution_count": 0,
   "metadata": {
    "colab": {},
    "colab_type": "code",
    "id": "SXtCelFLI6FZ"
   },
   "outputs": [],
   "source": [
    "# 각 변수의 분포를 봅니다. \n",
    "# 'Age'"
   ]
  },
  {
   "cell_type": "code",
   "execution_count": 0,
   "metadata": {
    "colab": {},
    "colab_type": "code",
    "id": "T0_wuX3IsrzT"
   },
   "outputs": [],
   "source": [
    "# 'Annual Income (k$)'"
   ]
  },
  {
   "cell_type": "code",
   "execution_count": 0,
   "metadata": {
    "colab": {},
    "colab_type": "code",
    "id": "cIgABy7vs3ci"
   },
   "outputs": [],
   "source": [
    "# 'Spending Score (1-100)'"
   ]
  },
  {
   "cell_type": "code",
   "execution_count": 0,
   "metadata": {
    "colab": {},
    "colab_type": "code",
    "id": "qBvEMGrmtHWt"
   },
   "outputs": [],
   "source": [
    "# \"Gender\""
   ]
  },
  {
   "cell_type": "code",
   "execution_count": 0,
   "metadata": {
    "colab": {},
    "colab_type": "code",
    "id": "Q75QlZe2tTr_"
   },
   "outputs": [],
   "source": [
    "# 성별에 따른 분포도 확인해봅니다. \n",
    "# 'Age', 'Annual Income (k$)'"
   ]
  },
  {
   "cell_type": "code",
   "execution_count": 0,
   "metadata": {
    "colab": {},
    "colab_type": "code",
    "id": "4SZpwF3cvcXQ"
   },
   "outputs": [],
   "source": [
    "# 'Annual Income (k$)','Spending Score (1-100)'\n"
   ]
  },
  {
   "cell_type": "code",
   "execution_count": 0,
   "metadata": {
    "colab": {},
    "colab_type": "code",
    "id": "Uso6NtSizdrt"
   },
   "outputs": [],
   "source": [
    "# 성별에 따른 pairplot\n"
   ]
  },
  {
   "cell_type": "code",
   "execution_count": 0,
   "metadata": {
    "colab": {},
    "colab_type": "code",
    "id": "PnniFExAvwkW"
   },
   "outputs": [],
   "source": [
    "# 성별에 따른 boxplot\n"
   ]
  },
  {
   "cell_type": "markdown",
   "metadata": {
    "colab_type": "text",
    "id": "Sd5ifGZdxO6_"
   },
   "source": [
    "## 데이터 분석"
   ]
  },
  {
   "cell_type": "markdown",
   "metadata": {
    "colab_type": "text",
    "id": "Af_KAt-70rDO"
   },
   "source": [
    "### K-means를 사용한 클러스터링\n",
    "k-means는 가장 빠르고 단순한 클러스터링 방법 중 한 가지 입니다. \n"
   ]
  },
  {
   "cell_type": "markdown",
   "metadata": {
    "colab_type": "text",
    "id": "k6ES55t-1mxc"
   },
   "source": [
    "\n",
    "scikit-learn의 cluster 서브패키지 KMeans 클래스를 사용합니다. \n",
    "https://scikit-learn.org/stable/modules/generated/sklearn.cluster.KMeans.html\n",
    "\n",
    "* **n_clusters**: 군집의 갯수 (default=8)\n",
    "* **init**: 초기화 방법. `\"random\"`이면 무작위, `\"k-means++\"`이면 K-평균++ 방법.(default=k-means++)\n",
    "* **n_init**: centroid seed 시도 횟수. 무작위 중심위치 목록 중 가장 좋은 값을 선택한다.(default=10)\n",
    "* **max_iter**: 최대 반복 횟수.(default=300)\n",
    "* **random_state**: 시드값.(default=None)"
   ]
  },
  {
   "cell_type": "markdown",
   "metadata": {
    "colab_type": "text",
    "id": "BztMjiBNT6B9"
   },
   "source": [
    "### Age & spending Score 두 가지 변수를 사용한 클러스터링 "
   ]
  },
  {
   "cell_type": "code",
   "execution_count": 0,
   "metadata": {
    "colab": {},
    "colab_type": "code",
    "id": "IJZw1zjsxMej"
   },
   "outputs": [],
   "source": [
    "from sklearn.cluster import KMeans\n",
    "\n",
    "# X1에 'Age' , 'Spending Score (1-100)'의 값을 넣어줍니다.  \n",
    "\n",
    "\n",
    "# inertia 라는 빈 리스트를 만들어줍니다. \n",
    "\n",
    "\n",
    "# 군집수 n을 1에서 11까지 돌아가며 X1에 대해 k-means++ 알고리즘을 적용하여 inertia를 리스트에 저장합니다. \n"
   ]
  },
  {
   "cell_type": "code",
   "execution_count": 0,
   "metadata": {
    "colab": {},
    "colab_type": "code",
    "id": "CfyJnst5MW6r"
   },
   "outputs": [],
   "source": [
    "# k-means 파라미터 설정이 복잡하다면 아래와 같이 실행해도 거의 동일한 결과가 나옵니다. \n",
    "\n",
    "'''\n",
    "from sklearn.cluster import KMeans\n",
    "\n",
    "# X1에 'Age' , 'Spending Score (1-100)'의 값을 넣어줍니다.  \n",
    "X1 = df[['Age' , 'Spending Score (1-100)']].values\n",
    "\n",
    "# inertia 라는 빈 리스트를 만들어줍니다. \n",
    "inertia = []\n",
    "\n",
    "# 군집수 n을 1에서 11까지 돌아가며 X1에 대해 k-means++ 알고리즘을 적용하여 inertia를 리스트에 저장합니다. \n",
    "for n in range(1 , 11):\n",
    "    algorithm = (KMeans(n_clusters = n) )\n",
    "    algorithm.fit(X1)\n",
    "    inertia.append(algorithm.inertia_)\n",
    "'''"
   ]
  },
  {
   "cell_type": "code",
   "execution_count": 0,
   "metadata": {
    "colab": {},
    "colab_type": "code",
    "id": "ekFQ6vahQPpO"
   },
   "outputs": [],
   "source": [
    "inertia"
   ]
  },
  {
   "cell_type": "markdown",
   "metadata": {
    "colab_type": "text",
    "id": "wqmjR8QuOZPT"
   },
   "source": [
    "### Inertia value를 이용한 적정 k 선택 \n",
    "* 관성(Inertia)에 기반하여 n 개수를 선택합니다. \n",
    "* 관성(Inertia) : 각 중심점(centroid)에서 군집 내 데이터간의 거리를 합산한 것으로 군집의 응집도를 나타냅니다. 이 값이 작을수록 응집도 높은 군집화 입니다. 즉, 작을 수록 좋은 값 입니다.  \n",
    "\n",
    "https://scikit-learn.org/stable/modules/clustering.html\n",
    "![Inertia](https://drive.google.com/file/d/1x9DAPSM8oM6hkYkR0ZVY1lt-CfknWaPw/view?usp=sharing)"
   ]
  },
  {
   "cell_type": "code",
   "execution_count": 0,
   "metadata": {
    "colab": {},
    "colab_type": "code",
    "id": "ZQ9HpPgERIJu"
   },
   "outputs": [],
   "source": [
    "plt.figure(1 , figsize = (16 ,5))\n",
    "plt.plot(np.arange(1 , 11) , inertia , 'o')\n",
    "plt.plot(np.arange(1 , 11) , inertia , '-' , alpha = 0.8)\n",
    "plt.xlabel('Number of Clusters') , plt.ylabel('Inertia')\n",
    "plt.show()"
   ]
  },
  {
   "cell_type": "markdown",
   "metadata": {
    "colab_type": "text",
    "id": "8qy0O2gCRYtv"
   },
   "source": [
    "* k의 개수는 4개이면 적절해보입니다. "
   ]
  },
  {
   "cell_type": "code",
   "execution_count": 0,
   "metadata": {
    "colab": {},
    "colab_type": "code",
    "id": "Hr6hP_cW3F_Q"
   },
   "outputs": [],
   "source": [
    "# 군집수를 4로 지정하여 시각화 해봅니다. \n",
    "algorithm = (KMeans(n_clusters = 4 ,init='k-means++', n_init = 10 ,max_iter=300, \n",
    "                        tol=0.0001,  random_state= 111  , algorithm='elkan') )\n",
    "algorithm.fit(X1)\n",
    "labels1 = algorithm.labels_\n",
    "centroids1 = algorithm.cluster_centers_"
   ]
  },
  {
   "cell_type": "code",
   "execution_count": 0,
   "metadata": {
    "colab": {},
    "colab_type": "code",
    "id": "fYvNXJbSDJHx"
   },
   "outputs": [],
   "source": [
    "h = 0.02\n",
    "x_min, x_max = X1[:, 0].min() - 1, X1[:, 0].max() + 1\n",
    "y_min, y_max = X1[:, 1].min() - 1, X1[:, 1].max() + 1\n",
    "xx, yy = np.meshgrid(np.arange(x_min, x_max, h), np.arange(y_min, y_max, h))\n",
    "Z = algorithm.predict(np.c_[xx.ravel(), yy.ravel()]) \n",
    "\n",
    "plt.figure(1 , figsize = (15 , 7) )\n",
    "plt.clf()\n",
    "Z = Z.reshape(xx.shape)\n",
    "plt.imshow(Z , interpolation='nearest', \n",
    "           extent=(xx.min(), xx.max(), yy.min(), yy.max()),\n",
    "           cmap = plt.cm.Pastel2, aspect = 'auto', origin='lower')\n",
    "\n",
    "plt.scatter( x = 'Age' ,y = 'Spending Score (1-100)' , data = df , c = labels1 , \n",
    "            s = 200 )\n",
    "plt.scatter(x = centroids1[: , 0] , y =  centroids1[: , 1] , s = 300 , c = 'red' , alpha = 0.5)\n",
    "plt.ylabel('Spending Score (1-100)') , plt.xlabel('Age')\n",
    "plt.show()"
   ]
  },
  {
   "cell_type": "markdown",
   "metadata": {
    "colab_type": "text",
    "id": "_WghjPFJKAiI"
   },
   "source": [
    "* 연령-소비점수를 활용한 군집 4개는 아래와 같이 명명할 수 있습니다. \n",
    "  * 저연령-고소비 군 \n",
    "  * 저연령-중소비 군\n",
    "  * 고연령-중소비 군\n",
    "  * 저소비 군\n",
    "\n",
    "* 군집별 활용 전략 예시\n",
    "  * 이 수퍼마켓 mall의 경우 소비점수가 높은 고객들은 모두 40세 이하의 젊은 고객입니다.\n",
    "  * 소비점수가 높은 고객들은 연령대가 비슷한 만큼 비슷한 구매패턴과 취향을 가질 가능성이 높습니다. \n",
    "  * 해당 군집의 소비자 특성을 더 분석해본 뒤 해당 군집의 소비자 대상 VIP 전략을 수립해봅니다.\n",
    "  * 소비점수가 중간정도인 고객들에게는 연령에 따라 두 개 집단으로 나눠서 접근해봅니다. \n",
    "  * 소비점수가 낮은 고객군은 연령대별로 중소비점수 군집에 편입될 수 있도록 접근해봅니다.   "
   ]
  },
  {
   "cell_type": "markdown",
   "metadata": {
    "colab_type": "text",
    "id": "2ZCGwdB1UIg0"
   },
   "source": [
    "### 'Annual Income (k$)' , 'Spending Score (1-100)' 두 가지 변수를 사용한 클러스터링 "
   ]
  },
  {
   "cell_type": "code",
   "execution_count": 0,
   "metadata": {
    "colab": {},
    "colab_type": "code",
    "id": "9suxchF9UTjl"
   },
   "outputs": [],
   "source": [
    "# X1에 'Annual Income (k$)' , 'Spending Score (1-100)' 의 값을 넣어줍니다.  \n",
    "X2 = df[['Annual Income (k$)' , 'Spending Score (1-100)' ]].values\n",
    "\n",
    "# inertia 라는 빈 리스트를 만들어줍니다. \n",
    "inertia = []\n",
    "\n",
    "# 군집수 n을 1에서 11까지 돌아가며 X1에 대해 k-means++ 알고리즘을 적용하여 inertia를 리스트에 저장합니다. \n",
    "for n in range(1 , 11):\n",
    "    algorithm = (KMeans(n_clusters = n) )\n",
    "    algorithm.fit(X2)\n",
    "    inertia.append(algorithm.inertia_)"
   ]
  },
  {
   "cell_type": "code",
   "execution_count": 0,
   "metadata": {
    "colab": {},
    "colab_type": "code",
    "id": "CTXi4HAlUTmt"
   },
   "outputs": [],
   "source": [
    "plt.figure(1 , figsize = (16 ,5))\n",
    "plt.plot(np.arange(1 , 11) , inertia , 'o')\n",
    "plt.plot(np.arange(1 , 11) , inertia , '-' , alpha = 0.8)\n",
    "plt.xlabel('Number of Clusters') , plt.ylabel('Inertia')\n",
    "plt.show()"
   ]
  },
  {
   "cell_type": "code",
   "execution_count": 0,
   "metadata": {
    "colab": {},
    "colab_type": "code",
    "id": "bmMHHhFdUTp7"
   },
   "outputs": [],
   "source": [
    "# 군집수를 5로 지정하여 시각화 해봅니다. \n",
    "algorithm = (KMeans(n_clusters = 5 ,init='k-means++', n_init = 10 ,max_iter=300, \n",
    "                        tol=0.0001,  random_state= 111  , algorithm='elkan') )\n",
    "algorithm.fit(X2)\n",
    "labels2 = algorithm.labels_\n",
    "centroids2 = algorithm.cluster_centers_"
   ]
  },
  {
   "cell_type": "code",
   "execution_count": 0,
   "metadata": {
    "colab": {},
    "colab_type": "code",
    "id": "9xASDXEQUTso"
   },
   "outputs": [],
   "source": [
    "h = 0.02\n",
    "x_min, x_max = X2[:, 0].min() - 1, X2[:, 0].max() + 1\n",
    "y_min, y_max = X2[:, 1].min() - 1, X2[:, 1].max() + 1\n",
    "xx, yy = np.meshgrid(np.arange(x_min, x_max, h), np.arange(y_min, y_max, h))\n",
    "Z2 = algorithm.predict(np.c_[xx.ravel(), yy.ravel()]) \n",
    "\n",
    "plt.figure(1 , figsize = (15 , 7) )\n",
    "plt.clf()\n",
    "Z2 = Z2.reshape(xx.shape)\n",
    "plt.imshow(Z2 , interpolation='nearest', \n",
    "           extent=(xx.min(), xx.max(), yy.min(), yy.max()),\n",
    "           cmap = plt.cm.Pastel2, aspect = 'auto', origin='lower')\n",
    "\n",
    "plt.scatter( x = 'Annual Income (k$)' ,y = 'Spending Score (1-100)' , data = df , c = labels2 , \n",
    "            s = 200 )\n",
    "plt.scatter(x = centroids2[: , 0] , y =  centroids2[: , 1] , s = 300 , c = 'red' , alpha = 0.5)\n",
    "plt.ylabel('Spending Score (1-100)') , plt.xlabel('Annual Income (k$)')\n",
    "plt.show()"
   ]
  },
  {
   "cell_type": "markdown",
   "metadata": {
    "colab_type": "text",
    "id": "fd7zmZ5EYIEk"
   },
   "source": [
    ""
   ]
  },
  {
   "cell_type": "markdown",
   "metadata": {
    "colab_type": "text",
    "id": "X3t3wgQK0IeU"
   },
   "source": [
    "### 실루엣 스코어를 사용한 k 선택 \n",
    "\n",
    "* 실루엣 스코어 \n",
    "  * Silhouette Coefficient는 각 샘플의 클러스터 내부 거리의 평균 (a)와 인접 클러스터와의 거리 평균 (b)을 사용하여 계산합니다. \n",
    "  * 한 샘플의 Silhouette Coefficient는 (b - a) / max(a, b)입니다.\n",
    "  * 가장 좋은 값은 1이고 최악의 값은 -1입니다. \n",
    "  * 0 근처의 값은 클러스터가 오버랩되었다는 것을 의미합니다\n",
    "  * 음수 값은 샘플이 잘못된 클러스터에 배정되었다는 것을 의미합니다. 다른 클러스터가 더 유사한 군집이라는 의미입니다. \n",
    "  \n",
    "https://scikit-learn.org/stable/modules/generated/sklearn.metrics.silhouette_score.html?highlight=silhouette_score#sklearn.metrics.silhouette_score\n"
   ]
  },
  {
   "cell_type": "markdown",
   "metadata": {
    "colab_type": "text",
    "id": "2N_wXKaEd-hI"
   },
   "source": [
    ""
   ]
  },
  {
   "cell_type": "code",
   "execution_count": 0,
   "metadata": {
    "colab": {},
    "colab_type": "code",
    "id": "pAVRwbh1xdLy"
   },
   "outputs": [],
   "source": [
    "from sklearn.cluster import KMeans\n",
    "from sklearn.metrics import silhouette_samples, silhouette_score\n",
    "\n",
    "import matplotlib.pyplot as plt\n",
    "import matplotlib.cm as cm\n",
    "import numpy as np"
   ]
  },
  {
   "cell_type": "code",
   "execution_count": 0,
   "metadata": {
    "colab": {},
    "colab_type": "code",
    "id": "EIKV_zgHxwha"
   },
   "outputs": [],
   "source": [
    "# 클러스터의 갯수 리스트를 만들어줍니다. \n",
    "range_n_clusters = [2, 3, 4, 5, 6, 7, 8]\n",
    "\n",
    "# 사용할 컬럼 값을 지정해줍니다. \n",
    "X = df[['Age', 'Annual Income (k$)', 'Spending Score (1-100)']].values\n",
    "\n",
    "\n",
    "for n_clusters in range_n_clusters:\n",
    "    # 1 X 2 의 서브플롯을 만듭니다. \n",
    "    fig, (ax1, ax2) = plt.subplots(1, 2)\n",
    "    fig.set_size_inches(18, 7)\n",
    "\n",
    "    # 첫 번째 서브플롯은 실루엣 플롯입니다. \n",
    "    # silhouette coefficient는 -1에서 1 사이의 값을 가집니다.\n",
    "    # 하지만 시각화에서는 -0.1에서 1사이로 지정해줍니다. \n",
    "    ax1.set_xlim([-0.1, 1])\n",
    "\n",
    "    # clusterer를 n_clusters 값으로 초기화 해줍니다.  \n",
    "    # 재현성을 위해 random seed를 10으로 지정 합니다.\n",
    "    clusterer = KMeans(n_clusters=n_clusters, random_state=10)\n",
    "    cluster_labels = clusterer.fit_predict(X)\n",
    "\n",
    "    # silhouette_score는 모든 샘플에 대한 평균값을 제공합니다. \n",
    "    # 실루엣 스코어는 형성된 군집에 대해 밀도(density)와 분리(seperation)에 대해 견해를 제공합니다. \n",
    "    silhouette_avg = silhouette_score(X, cluster_labels)\n",
    "    print(\"For n_clusters =\", n_clusters,\n",
    "          \"The average silhouette_score is :\", silhouette_avg)\n",
    "\n",
    "    # 각 샘플에 대한 실루엣 스코어를 계산합니다. \n",
    "    sample_silhouette_values = silhouette_samples(X, cluster_labels)\n",
    "\n",
    "    y_lower = 10\n",
    "    for i in range(n_clusters):\n",
    "        # 클러스터 i에 속한 샘플들의 실루엣 스코어를 취합하여 정렬합니다. \n",
    "        ith_cluster_silhouette_values = \\\n",
    "            sample_silhouette_values[cluster_labels == i]\n",
    "\n",
    "        ith_cluster_silhouette_values.sort()\n",
    "\n",
    "        size_cluster_i = ith_cluster_silhouette_values.shape[0]\n",
    "        y_upper = y_lower + size_cluster_i\n",
    "\n",
    "        color = cm.nipy_spectral(float(i) / n_clusters)\n",
    "        ax1.fill_betweenx(np.arange(y_lower, y_upper),\n",
    "                          0, ith_cluster_silhouette_values,\n",
    "                          facecolor=color, edgecolor=color, alpha=0.7)\n",
    "\n",
    "        # 각 클러스터의 이름을 달아서 실루엣 플롯의 Label을 지정해줍니다. \n",
    "        ax1.text(-0.05, y_lower + 0.5 * size_cluster_i, str(i))\n",
    "\n",
    "        # 다음 플롯을 위한 새로운 y_lower를 계산합니다.\n",
    "        y_lower = y_upper + 10  # 10 for the 0 samples\n",
    "\n",
    "\n",
    "\n",
    "\n",
    "\n",
    "\n",
    "    ax1.set_title(\"The silhouette plot for the various clusters.\")\n",
    "    ax1.set_xlabel(\"The silhouette coefficient values\")\n",
    "    ax1.set_ylabel(\"Cluster label\")\n",
    "\n",
    "    # 모든 값에 대한 실루엣 스코어의 평균을 수직선으로 그려줍니다. \n",
    "    ax1.axvline(x=silhouette_avg, color=\"red\", linestyle=\"--\")\n",
    "\n",
    "    ax1.set_yticks([])  # yaxis labels / ticks 를 지워줍니다. \n",
    "    ax1.set_xticks([-0.1, 0, 0.2, 0.4, 0.6, 0.8, 1])\n",
    "\n",
    "    # 두 번째 플롯이 실제 클러스터가 어떻게 형성되었는지 시각화 합니다. \n",
    "    colors = cm.nipy_spectral(cluster_labels.astype(float) / n_clusters)\n",
    "    ax2.scatter(X[:, 0], X[:, 1], marker='.', s=30, lw=0, alpha=0.7,\n",
    "                c=colors, edgecolor='k')\n",
    "\n",
    "    # 클러스터의 이름을 지어줍니다. \n",
    "    centers = clusterer.cluster_centers_\n",
    "    # 클러스터의 중앙에 하얀 동그라미를 그려줍니다. \n",
    "    ax2.scatter(centers[:, 0], centers[:, 1], marker='o',\n",
    "                c=\"white\", alpha=1, s=200, edgecolor='k')\n",
    "\n",
    "    for i, c in enumerate(centers):\n",
    "        ax2.scatter(c[0], c[1], marker='$%d$' % i, alpha=1,\n",
    "                    s=50, edgecolor='k')\n",
    "\n",
    "    ax2.set_title(\"The visualization of the clustered data.\")\n",
    "    ax2.set_xlabel(\"Feature space for the 1st feature\")\n",
    "    ax2.set_ylabel(\"Feature space for the 2nd feature\")\n",
    "\n",
    "    plt.suptitle((\"Silhouette analysis for KMeans clustering on sample data \"\n",
    "                  \"with n_clusters = %d\" % n_clusters),\n",
    "                 fontsize=14, fontweight='bold')\n",
    "\n",
    "plt.show()"
   ]
  },
  {
   "cell_type": "markdown",
   "metadata": {
    "colab_type": "text",
    "id": "d6jvvMwadGLj"
   },
   "source": [
    "* 클러스터의 개수는 6개가 가장 적절합니다. "
   ]
  },
  {
   "cell_type": "code",
   "execution_count": 0,
   "metadata": {
    "colab": {},
    "colab_type": "code",
    "id": "LuvO293IdWIb"
   },
   "outputs": [],
   "source": [
    "# 클러스터의 갯수 리스트를 만들어줍니다. \n",
    "range_n_clusters = [6]\n",
    "\n",
    "# 사용할 컬럼 값을 지정해줍니다. \n",
    "X = df[['Age', 'Annual Income (k$)', 'Spending Score (1-100)']].values\n",
    "\n",
    "\n",
    "for n_clusters in range_n_clusters:\n",
    "    # 1 X 2 의 서브플롯을 만듭니다. \n",
    "    fig, (ax1, ax2) = plt.subplots(1, 2)\n",
    "    fig.set_size_inches(18, 7)\n",
    "\n",
    "    # 첫 번째 서브플롯은 실루엣 플롯입니다. \n",
    "    # silhouette coefficient는 -1에서 1 사이의 값을 가집니다.\n",
    "    # 하지만 시각화에서는 -0.1에서 1사이로 지정해줍니다. \n",
    "    ax1.set_xlim([-0.1, 1])\n",
    "\n",
    "    # clusterer를 n_clusters 값으로 초기화 해줍니다.  \n",
    "    # 재현성을 위해 random seed를 10으로 지정 합니다.\n",
    "    clusterer = KMeans(n_clusters=n_clusters, random_state=10)\n",
    "    cluster_labels = clusterer.fit_predict(X)\n",
    "\n",
    "    # silhouette_score는 모든 샘플에 대한 평균값을 제공합니다. \n",
    "    # 실루엣 스코어는 형성된 군집에 대해 밀도(density)와 분리(seperation)에 대해 견해를 제공합니다. \n",
    "    silhouette_avg = silhouette_score(X, cluster_labels)\n",
    "    print(\"For n_clusters =\", n_clusters,\n",
    "          \"The average silhouette_score is :\", silhouette_avg)\n",
    "\n",
    "    # 각 샘플에 대한 실루엣 스코어를 계산합니다. \n",
    "    sample_silhouette_values = silhouette_samples(X, cluster_labels)\n",
    "\n",
    "    y_lower = 10\n",
    "    for i in range(n_clusters):\n",
    "        # 클러스터 i에 속한 샘플들의 실루엣 스코어를 취합하여 정렬합니다. \n",
    "        ith_cluster_silhouette_values = \\\n",
    "            sample_silhouette_values[cluster_labels == i]\n",
    "\n",
    "        ith_cluster_silhouette_values.sort()\n",
    "\n",
    "        size_cluster_i = ith_cluster_silhouette_values.shape[0]\n",
    "        y_upper = y_lower + size_cluster_i\n",
    "\n",
    "        color = cm.nipy_spectral(float(i) / n_clusters)\n",
    "        ax1.fill_betweenx(np.arange(y_lower, y_upper),\n",
    "                          0, ith_cluster_silhouette_values,\n",
    "                          facecolor=color, edgecolor=color, alpha=0.7)\n",
    "\n",
    "        # 각 클러스터의 이름을 달아서 실루엣 플롯의 Label을 지정해줍니다. \n",
    "        ax1.text(-0.05, y_lower + 0.5 * size_cluster_i, str(i))\n",
    "\n",
    "        # 다음 플롯을 위한 새로운 y_lower를 계산합니다.\n",
    "        y_lower = y_upper + 10  # 10 for the 0 samples\n",
    "\n",
    "\n",
    "\n",
    "\n",
    "\n",
    "\n",
    "    ax1.set_title(\"The silhouette plot for the various clusters.\")\n",
    "    ax1.set_xlabel(\"The silhouette coefficient values\")\n",
    "    ax1.set_ylabel(\"Cluster label\")\n",
    "\n",
    "    # 모든 값에 대한 실루엣 스코어의 평균을 수직선으로 그려줍니다. \n",
    "    ax1.axvline(x=silhouette_avg, color=\"red\", linestyle=\"--\")\n",
    "\n",
    "    ax1.set_yticks([])  # yaxis labels / ticks 를 지워줍니다. \n",
    "    ax1.set_xticks([-0.1, 0, 0.2, 0.4, 0.6, 0.8, 1])\n",
    "\n",
    "    # 두 번째 플롯이 실제 클러스터가 어떻게 형성되었는지 시각화 합니다. \n",
    "    colors = cm.nipy_spectral(cluster_labels.astype(float) / n_clusters)\n",
    "    ax2.scatter(X[:, 0], X[:, 1], marker='.', s=30, lw=0, alpha=0.7,\n",
    "                c=colors, edgecolor='k')\n",
    "\n",
    "    # 클러스터의 이름을 지어줍니다. \n",
    "    centers = clusterer.cluster_centers_\n",
    "    # 클러스터의 중앙에 하얀 동그라미를 그려줍니다. \n",
    "    ax2.scatter(centers[:, 0], centers[:, 1], marker='o',\n",
    "                c=\"white\", alpha=1, s=200, edgecolor='k')\n",
    "\n",
    "    for i, c in enumerate(centers):\n",
    "        ax2.scatter(c[0], c[1], marker='$%d$' % i, alpha=1,\n",
    "                    s=50, edgecolor='k')\n",
    "\n",
    "    ax2.set_title(\"The visualization of the clustered data.\")\n",
    "    ax2.set_xlabel(\"Feature space for the 1st feature\")\n",
    "    ax2.set_ylabel(\"Feature space for the 2nd feature\")\n",
    "\n",
    "    plt.suptitle((\"Silhouette analysis for KMeans clustering on sample data \"\n",
    "                  \"with n_clusters = %d\" % n_clusters),\n",
    "                 fontsize=14, fontweight='bold')\n",
    "\n",
    "plt.show()"
   ]
  },
  {
   "cell_type": "code",
   "execution_count": 0,
   "metadata": {
    "colab": {},
    "colab_type": "code",
    "id": "o78QusNuKG0k"
   },
   "outputs": [],
   "source": [
    "print(cluster_labels.shape)\n",
    "print(X.shape)"
   ]
  },
  {
   "cell_type": "code",
   "execution_count": 0,
   "metadata": {
    "colab": {},
    "colab_type": "code",
    "id": "VkI0TORpLJu2"
   },
   "outputs": [],
   "source": [
    "cluster_labels"
   ]
  },
  {
   "cell_type": "code",
   "execution_count": 0,
   "metadata": {
    "colab": {},
    "colab_type": "code",
    "id": "d9lnX7LyKeQT"
   },
   "outputs": [],
   "source": [
    "# 기존 데이터셋에 각 고객이 속한 클러스터 값을 넣어줍니다. \n"
   ]
  },
  {
   "cell_type": "code",
   "execution_count": 0,
   "metadata": {
    "colab": {
     "base_uri": "https://localhost:8080/",
     "height": 153
    },
    "colab_type": "code",
    "id": "ZMNp5ncKLdkb",
    "outputId": "ffc883d3-8391-4650-ab64-5808bf1f40a6"
   },
   "outputs": [
    {
     "data": {
      "text/plain": [
       "cluster\n",
       "0    27.000000\n",
       "1    32.692308\n",
       "2    41.685714\n",
       "3    44.142857\n",
       "4    25.272727\n",
       "5    56.155556\n",
       "Name: Age, dtype: float64"
      ]
     },
     "execution_count": 98,
     "metadata": {
      "tags": []
     },
     "output_type": "execute_result"
    }
   ],
   "source": [
    "# 각 그룹의 특성을 확인합니다. \n"
   ]
  },
  {
   "cell_type": "code",
   "execution_count": 0,
   "metadata": {
    "colab": {},
    "colab_type": "code",
    "id": "npWQ9tOeEbJB"
   },
   "outputs": [],
   "source": [
    "sns.boxplot(x='cluster', y=\"Age\", hue=\"Gender\", palette=[\"c\", \"m\"], data=df)"
   ]
  },
  {
   "cell_type": "markdown",
   "metadata": {
    "colab_type": "text",
    "id": "TWXsjgXpz0NB"
   },
   "source": [
    "* boxplot은 중앙값, 표준 편차 등, 분포의 간략한 특성을 보여줍니다. \n",
    "* 각 카테고리 값에 따른 분포의 실제 데이터와 형상을 보고 싶다면  violinplot, stripplot, swarmplot 등으로 시각화 해봅니다.\n",
    "\n",
    "* violinplot은 세로 방향으로 커널 밀도 히스토그램을 그려줍니다. 양쪽이 왼쪽, 오른쪽 대칭이 되도록 하여 바이올린처럼 보입니다.\n",
    "\n",
    "* violinplot: http://seaborn.pydata.org/generated/seaborn.violinplot.html\n",
    "\n",
    "* swarmplot은 stripplot과 유사하며 데이터를 나타내는 점이 겹치지 않도록 옆으로 이동해서 그려줍니다.\n",
    "\n",
    "* swarmplot: http://seaborn.pydata.org/generated/seaborn.swarmplot.html"
   ]
  },
  {
   "cell_type": "code",
   "execution_count": 0,
   "metadata": {
    "colab": {},
    "colab_type": "code",
    "id": "97wrVPEQEvfU"
   },
   "outputs": [],
   "source": [
    "# swarmplot으로 cluster별 'Annual Income (k$)'을 시각화 합니다. \n"
   ]
  },
  {
   "cell_type": "code",
   "execution_count": 0,
   "metadata": {
    "colab": {},
    "colab_type": "code",
    "id": "FdT8CY6tFQqB"
   },
   "outputs": [],
   "source": [
    "# swarmplot으로 cluster별 'Spending Score (1-100)'을 시각화 합니다. \n"
   ]
  },
  {
   "cell_type": "code",
   "execution_count": 0,
   "metadata": {
    "colab": {},
    "colab_type": "code",
    "id": "kZA4OKuCFFen"
   },
   "outputs": [],
   "source": [
    "# swarmplot으로 cluster별 'Age'를 시각화 합니다. "
   ]
  },
  {
   "cell_type": "code",
   "execution_count": 0,
   "metadata": {
    "colab": {},
    "colab_type": "code",
    "id": "wITywgBskk67"
   },
   "outputs": [],
   "source": [
    "# 3차원으로 시각화 해봅니다. \n",
    "import plotly.graph_objs as go\n",
    "import plotly as py\n",
    "\n",
    "df['label3'] =  cluster_labels\n",
    "trace1 = go.Scatter3d(\n",
    "    x= df['Age'],\n",
    "    y= df['Spending Score (1-100)'],\n",
    "    z= df['Annual Income (k$)'],\n",
    "    mode='markers',\n",
    "     marker=dict(\n",
    "        color = df['label3'], \n",
    "        size= 20,\n",
    "        line=dict(\n",
    "            color= df['label3'],\n",
    "            width= 20\n",
    "        ),\n",
    "        opacity=0.8\n",
    "     )\n",
    ")\n",
    "data = [trace1]\n",
    "layout = go.Layout(\n",
    "#     margin=dict(\n",
    "#         l=0,\n",
    "#         r=0,\n",
    "#         b=0,\n",
    "#         t=0\n",
    "#     )\n",
    "    title= 'Clusters',\n",
    "    scene = dict(\n",
    "            xaxis = dict(title  = 'Age'),\n",
    "            yaxis = dict(title  = 'Spending Score'),\n",
    "            zaxis = dict(title  = 'Annual Income')\n",
    "        )\n",
    ")\n",
    "fig = go.Figure(data=data, layout=layout)\n",
    "py.offline.iplot(fig)"
   ]
  },
  {
   "cell_type": "code",
   "execution_count": 0,
   "metadata": {
    "colab": {},
    "colab_type": "code",
    "id": "Zk97UW8On8K1"
   },
   "outputs": [],
   "source": [
    "# 3개의 시각화를 한 화면에 배치합니다. \n",
    "figure, ((ax1, ax2, ax3)) = plt.subplots(nrows=1, ncols=3)\n",
    "\n",
    "# 시각화의 사이즈를 설정해줍니다. \n",
    "figure.set_size_inches(20, 6)\n",
    "\n",
    "# 클러스터별로 swarmplot을 시각화해봅니다. \n",
    "ax1 = sns.violinplot(x=\"cluster\", y='Annual Income (k$)', data=df, inner=None, ax=ax1)\n",
    "ax1 = sns.swarmplot(x=\"cluster\", y='Annual Income (k$)', data=df,\n",
    "                   color=\"white\", edgecolor=\"gray\", ax=ax1)\n",
    "\n",
    "ax2 = sns.violinplot(x=\"cluster\", y='Spending Score (1-100)', data=df, inner=None, ax=ax2)\n",
    "ax2 = sns.swarmplot(x=\"cluster\", y='Spending Score (1-100)', data=df,\n",
    "                   color=\"white\", edgecolor=\"gray\", ax=ax2)\n",
    "\n",
    "ax3 = sns.violinplot(x=\"cluster\", y='Age', data=df, inner=None, ax=ax3)\n",
    "ax3 = sns.swarmplot(x=\"cluster\", y='Age', data=df,\n",
    "                   color=\"white\", edgecolor=\"gray\", ax=ax3, hue=\"Gender\")\n"
   ]
  },
  {
   "cell_type": "markdown",
   "metadata": {
    "colab_type": "text",
    "id": "PABNfxGZ0xAH"
   },
   "source": [
    "### 적용 방안 \n",
    "  * 각 클러스터 별 특성을 정리해서 각 클러스터별 접근방안을 고민해봅니다. \n",
    "\n",
    "||0|1|2|3|4|5|\n",
    "|------|---|---|---|---|---|---|\n",
    "|연간 소득|中|上|上|下|下|中|\n",
    "|소비 점수|中|上|下|下|上|中|\n",
    "|연령|下|中|ㅇ|ㅇ|下|上|\n"
   ]
  },
  {
   "cell_type": "markdown",
   "metadata": {
    "colab_type": "text",
    "id": "HRAtWz7rsA1v"
   },
   "source": [
    "* VIP 고객 : 군집 1, 군집 4 \n",
    "  - 소비 점수가 높은 군집은 1, 4입니다. \n",
    "  - 군집1 \n",
    "    * 그 중에서도 1의 연간소득은 높은편입니다. \n",
    "    * 잘 유도할 경우 더 많은 지출을 하게 될지도 모르겠습니다. \n",
    "    * 1의 연령대는 20대후반에서 40대 초반으로 젊은편입니다. \n",
    "    * 1의 세부 고객 정보를 더 분석해서 타겟 마케팅을 기획해 봅니다. \n",
    "    * 고소득 젊은층이 선호할 이벤트를 기획하거나 사은품을 기획해 볼 수 있을것입니다. \n",
    "  - 군집4 \n",
    "    * 연간 소득은 낮은편이지만 우리 mall에서의 소비점수는 높은편입니다.\n",
    "    * 특히 우리 mall에 대한 충성도가 높고 구매비율이 높은 고객군으로 추정됩니다. \n",
    "    * 가격적인 혜택을 추가 제공하는 것을 고려해봅니다. (할인쿠폰, 멤버십 등)  \n",
    "\n",
    "* 잠재 VIP 고객 : 군집 2\n",
    "  - 연간소득은 높지만 소비 점수는 낮은 편입니다. \n",
    "  - 우리 mall에서 구매를 더 할 수 있는 여력이 있는 고객군입니다. \n",
    "  - 연령은 전 연령대에 걸쳐 있습니다. \n",
    "  - 다른 변수를 더 확보하여 잠재 VIP 고객이 될 수 있는 cluster 2 고객의 방문과 구매를 유도해봅니다. \n",
    "  - 재방문시 사은품 증정, 특정 금액 이상 구매시 혜택 제공 등 재방문과 구매를 유도해봅니다. \n"
   ]
  },
  {
   "cell_type": "markdown",
   "metadata": {
    "colab_type": "text",
    "id": "89opxG3trRti"
   },
   "source": [
    "<style>\n",
    "td {\n",
    "  font-size: 50px\n",
    "}\n",
    "|&#60;font size=4&#62;Project&#60;/font&#62;|&#60;font size=4&#62;Project Type&#60;/font&#62;|&#60;font size=4&#62;Status&#60;/font&#62;|<br>\n",
    "|---|---|---|<br>\n",
    "|&#60;font size=4&#62;Hello phase 1&#60;/font&#62;|&#60;font size=4&#62;ABC&#60;/font&#62;|&#60;font size=4&#62;Ongoing&#60;/font&#62;|<br>\n",
    "|&#60;font size=4&#62;Goodbye analytics&#60;/font&#62;|&#60;font size=4&#62;EFG&#60;/font&#62;|&#60;font size=4&#62;Completed&#60;/font&#62;|\n",
    "</style>"
   ]
  },
  {
   "cell_type": "markdown",
   "metadata": {
    "colab_type": "text",
    "id": "8vPwOPbo5lfc"
   },
   "source": [
    "### 추가 분석을 해본다면 \n",
    "* \"Gender\" 변수 활용 \n",
    "  - K-means는 기본적으로 numerical variable을 사용하는 알고리즘입니다. 유클리디안 거리를 계산해야하기 때문입니다. \n",
    "  - Gender 변수를 one-hot-encoding하여 숫자로 바꿔준 뒤 변수로 추가하여 활용해봅니다. \n",
    "  \n",
    "### 카테고리 변수가 대부분인 경우의 군집화  \n",
    "* k-modes 알고리즘을 사용합니다. \n",
    "* https://pypi.org/project/kmodes/"
   ]
  },
  {
   "cell_type": "markdown",
   "metadata": {
    "colab_type": "text",
    "id": "HUwnSLw2yBDi"
   },
   "source": [
    "### Next Step\n",
    "* 각 세그먼트별 활용전략 도출\n",
    "* 전략에 따른 가설과 실험 설계\n",
    "* AB Test \n",
    "* Loop"
   ]
  },
  {
   "cell_type": "code",
   "execution_count": 0,
   "metadata": {
    "colab": {},
    "colab_type": "code",
    "id": "j-IABjnoyYJR"
   },
   "outputs": [],
   "source": [
    ""
   ]
  }
 ],
 "metadata": {
  "colab": {
   "collapsed_sections": [],
   "name": "04 [Revenue] Customer Segment(blank)",
   "provenance": [],
   "toc_visible": true
  },
  "kernelspec": {
   "display_name": "Python 3",
   "name": "python3"
  }
 },
 "nbformat": 4,
 "nbformat_minor": 0
}
