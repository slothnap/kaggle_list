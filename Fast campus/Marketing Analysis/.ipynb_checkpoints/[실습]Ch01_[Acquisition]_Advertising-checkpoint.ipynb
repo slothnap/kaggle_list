{
 "cells": [
  {
   "cell_type": "markdown",
   "metadata": {
    "colab_type": "text",
    "id": "dtLqsmdouTzM"
   },
   "source": [
    "# 세일즈 데이터 분석을 통한 마케팅 믹스 모델링\n",
    "미디어별 광고비와 세일즈 데이터를 가지고 최적의 마케팅 믹스를 구해봅니다."
   ]
  },
  {
   "cell_type": "markdown",
   "metadata": {
    "colab_type": "text",
    "id": "7s6oSCyHuU1L"
   },
   "source": [
    "## 데이터 설명\n",
    "데이터는 [다음의 링크](https://drive.google.com/file/d/14ybcUiuv3tjlciixMkLh2LoEM5AE3UnG/view?usp=sharing)에서 다운받으실 수 있습니다(https://www.kaggle.com/sazid28/advertising.csv/).\n",
    "\n",
    "\n",
    "---\n",
    "\n",
    "\n",
    "\n",
    "\n",
    "\n",
    "  * **TV** - TV 매체비 입니다. \n",
    "  * **radio** - 라디오 매체비 입니다. \n",
    "  * **newspaper** - 신문 매체비 입니다. \n",
    "  * **sales** - 매출액 입니다. \n",
    "\n",
    "\n",
    "---\n",
    "\n",
    "\n",
    "\n",
    "\n",
    "\n"
   ]
  },
  {
   "cell_type": "markdown",
   "metadata": {
    "colab_type": "text",
    "id": "TAbd4Eceux68"
   },
   "source": [
    "## 문제 정의 \n",
    "*  전제\n",
    "  * 실제로는 광고 매체비 이와의 많은 요인이 매출에 영향을 미칩니다. (e.g. 영업인력 수, 입소문, 경기, 유행 등) \n",
    "  * 본 분석에서는 다른 요인이 모두 동일한 상황에서 매체비만 변경했을 때 매출액의 변화가 발생한 것이라고 간주해봅니다. \n",
    "  * 실제로 Acquisition 단계에서는 종속변수가 매출액보다는 방문자수, 가입자수, DAU, MAU 등의 지표가 될 것입니다. \n",
    "  * 여러분은 지금 2011년에 있다고 상상합니다. \n",
    "* 분석의 목적 \n",
    "  * 각 미디어별로 매체비를 어떻게 쓰느냐에 따라서 매출액이 어떻게 달라질지 예측합니다. \n",
    "  * 궁극적으로는 매출액을 최대화할 수 있는 미디어 믹스의 구성을 도출합니다. \n",
    "  * 이 미디어믹스는 향후 미디어 플랜을 수립할 때 사용될 수 있습니다. \n"
   ]
  },
  {
   "cell_type": "markdown",
   "metadata": {
    "colab_type": "text",
    "id": "vo4xaRFau0tY"
   },
   "source": [
    "### 데이터 탐색"
   ]
  },
  {
   "cell_type": "code",
   "execution_count": 0,
   "metadata": {
    "colab": {},
    "colab_type": "code",
    "id": "Or6DBFfPuwJT"
   },
   "outputs": [],
   "source": [
    "import pandas as pd\n",
    "import numpy as np \n",
    "import matplotlib.pyplot as plt\n",
    "import seaborn as sns\n",
    "\n",
    "# 데이터를 불러옵니다.\n",
    "from google.colab import files\n",
    "uploaded = files.upload()"
   ]
  },
  {
   "cell_type": "code",
   "execution_count": 0,
   "metadata": {
    "colab": {},
    "colab_type": "code",
    "id": "6-iHIgW3u6fP"
   },
   "outputs": [],
   "source": [
    "# 데이터를 확인 합니다. \n"
   ]
  },
  {
   "cell_type": "code",
   "execution_count": 0,
   "metadata": {
    "colab": {},
    "colab_type": "code",
    "id": "b1jvwoZvvFgC"
   },
   "outputs": [],
   "source": [
    "# 결측값이 있는지 확인합니다. \n"
   ]
  },
  {
   "cell_type": "code",
   "execution_count": 0,
   "metadata": {
    "colab": {},
    "colab_type": "code",
    "id": "goLYlXh6vYxH"
   },
   "outputs": [],
   "source": [
    "# 분석에 필요한 컬럼만 선택합니다. \n"
   ]
  },
  {
   "cell_type": "code",
   "execution_count": 0,
   "metadata": {
    "colab": {},
    "colab_type": "code",
    "id": "CKQ7Wv_Xvk_I"
   },
   "outputs": [],
   "source": [
    "# 기술통계를 확인합니다. \n"
   ]
  },
  {
   "cell_type": "code",
   "execution_count": 0,
   "metadata": {
    "colab": {},
    "colab_type": "code",
    "id": "Xd5iPZfSvz6c"
   },
   "outputs": [],
   "source": [
    "# 변수간의 correlation을 확인합니다. \n"
   ]
  },
  {
   "cell_type": "code",
   "execution_count": 0,
   "metadata": {
    "colab": {},
    "colab_type": "code",
    "id": "Zb4CZ9dZwF2E"
   },
   "outputs": [],
   "source": [
    "# 변수간의 pairplot을 그려봅니다. \n"
   ]
  },
  {
   "cell_type": "code",
   "execution_count": 0,
   "metadata": {
    "colab": {},
    "colab_type": "code",
    "id": "OHhQ2eQXwi-c"
   },
   "outputs": [],
   "source": [
    "# Labels와 features를 지정해줍니다. \n"
   ]
  },
  {
   "cell_type": "code",
   "execution_count": 0,
   "metadata": {
    "colab": {},
    "colab_type": "code",
    "id": "u3up6MhLw-zh"
   },
   "outputs": [],
   "source": [
    "print(Labels.shape)\n",
    "Labels"
   ]
  },
  {
   "cell_type": "code",
   "execution_count": 0,
   "metadata": {
    "colab": {},
    "colab_type": "code",
    "id": "dUILpPROxCM9"
   },
   "outputs": [],
   "source": [
    "print(features.shape)\n",
    "features"
   ]
  },
  {
   "cell_type": "markdown",
   "metadata": {
    "colab_type": "text",
    "id": "Sd5ifGZdxO6_"
   },
   "source": [
    "## 데이터 분석"
   ]
  },
  {
   "cell_type": "code",
   "execution_count": 0,
   "metadata": {
    "colab": {},
    "colab_type": "code",
    "id": "IJZw1zjsxMej"
   },
   "outputs": [],
   "source": [
    "# 3개의 시각화를 한 화면에 배치합니다. \n",
    "\n",
    "\n",
    "# 시각화의 사이즈를 설정해줍니다. \n",
    "\n",
    "\n",
    "# 미디어별 매체비 분포를 scatterplot으로 시각화해봅니다. \n"
   ]
  },
  {
   "cell_type": "markdown",
   "metadata": {
    "colab_type": "text",
    "id": "OVDNWD96yjnr"
   },
   "source": [
    "매출액과의 scatter plot을 보면, TV가 매출액과 가장 관련이 높은 것 같아 보입니다. \n",
    "라디오도 관련이 있지만 신문의 상관관계는 애매해 보입니다. "
   ]
  },
  {
   "cell_type": "markdown",
   "metadata": {
    "colab_type": "text",
    "id": "UBzjUQsoymdo"
   },
   "source": [
    "### 선형회귀 분석 (stats model)"
   ]
  },
  {
   "cell_type": "code",
   "execution_count": 0,
   "metadata": {
    "colab": {},
    "colab_type": "code",
    "id": "pAVRwbh1xdLy"
   },
   "outputs": [],
   "source": [
    "# stats model의 ols를 사용하여 선형회귀분석을 합니다. \n",
    "\n"
   ]
  },
  {
   "cell_type": "markdown",
   "metadata": {
    "colab_type": "text",
    "id": "UBq66tx2z4iI"
   },
   "source": [
    "### stats model 선형회귀 결과 해석 \n",
    "  * R-Square 0.897로 매우 높은 편\n",
    "  * P-value 0.05수준에서 유의한 변수는 TV, radio 입니다. \n",
    "  * newspaper는 유의하지 않는 것으로 나타났습니다. 즉, 신문광고가 매출액에 미치는 영향은 유의하지 않다고 할 수 있습니다. \n",
    "  * 회귀식은 다음과 같습니다. \n",
    "    sales = 2.9389 + 0.0458*TV + 0.1885*radio - 0.001*newspapaer "
   ]
  },
  {
   "cell_type": "markdown",
   "metadata": {
    "colab_type": "text",
    "id": "X3t3wgQK0IeU"
   },
   "source": [
    "### 선형회귀 분석 (sklearn)"
   ]
  },
  {
   "cell_type": "code",
   "execution_count": 0,
   "metadata": {
    "colab": {},
    "colab_type": "code",
    "id": "EIKV_zgHxwha"
   },
   "outputs": [],
   "source": [
    "# sklearn의 선형회귀분석 결과와도 같습니다. \n",
    "from sklearn.datasets import make_regression\n",
    "from sklearn.linear_model import LinearRegression\n",
    "\n",
    "model = LinearRegression().fit(features, Labels)\n",
    "print(model.intercept_, model.coef_)"
   ]
  },
  {
   "cell_type": "code",
   "execution_count": 0,
   "metadata": {
    "colab": {},
    "colab_type": "code",
    "id": "BzCbfBQj0MNf"
   },
   "outputs": [],
   "source": [
    "# 변수의 포함여부에 따른 ols 결과를 봅니다. \n"
   ]
  },
  {
   "cell_type": "markdown",
   "metadata": {
    "colab_type": "text",
    "id": "PABNfxGZ0xAH"
   },
   "source": [
    "### 결과 해석 \n",
    "  * 유의하지 않은 변수 newspaper를 제거한 model2의 AIC, BIC가 가장 낮습니다. \n",
    "  * 여러개의 모델 중 선택을 할 때 AIC, BIC가 가장 낮은지 여부로 정하기도 합니다. \n",
    "  * 물론 AIC, BIC가 유일한 판단기준은 아니고 RMSE, CFI 등 다른 기준들과 함께 고려되어야 합니다. \n",
    "  * 결과에 따르면 p-vlaue가 0.05 이상으로, 신문광고는 매출액 예측에 있어서 변수의 유무가 통계적으로 유의한 차이를 보이지 않습니다.  \n",
    "  * 즉, 신문광고 마케팅과 매출액은 관련이 없다고 할 수 있습니다. "
   ]
  },
  {
   "cell_type": "code",
   "execution_count": 0,
   "metadata": {
    "colab": {},
    "colab_type": "code",
    "id": "Hspkdx1h0m85"
   },
   "outputs": [],
   "source": [
    "# 각 미디어별 매체비에 따른 sales를 예측해봅니다. \n"
   ]
  },
  {
   "cell_type": "code",
   "execution_count": 0,
   "metadata": {
    "colab": {},
    "colab_type": "code",
    "id": "V_OO-umY1Vja"
   },
   "outputs": [],
   "source": []
  },
  {
   "cell_type": "code",
   "execution_count": 0,
   "metadata": {
    "colab": {},
    "colab_type": "code",
    "id": "9YiCccR41fT6"
   },
   "outputs": [],
   "source": []
  },
  {
   "cell_type": "markdown",
   "metadata": {
    "colab_type": "text",
    "id": "Y_u1Li3-2LDb"
   },
   "source": [
    "## 데이터 변환 후 재분석\n",
    "  * 신문광고가 유의미하지 않다고 나왔지만 데이터의 문제일 수도 있다는 생각이 들었습니다. \n",
    "  * 여러분이 2011년에 살고 있다고 가정하고, 여러분의 상사는 여전히 신문광고가 유의미하다고 생각하고 있습니다. \n",
    "  * 분석결과에 대해 상사로부터 데이터 샘플수가 적거나 데이터 처리가 잘못되어서 이런 결과가 나온 것이 아니냐는 지적을 받았습니다. "
   ]
  },
  {
   "cell_type": "code",
   "execution_count": 0,
   "metadata": {
    "colab": {},
    "colab_type": "code",
    "id": "CuI1F-vk2Grp"
   },
   "outputs": [],
   "source": [
    "# 데이터의 분포를 다시 시각화 해봅니다. \n",
    "# 3개의 시각화를 한 화면에 배치합니다. \n",
    "\n",
    "\n",
    "# 시각화의 사이즈를 설정해줍니다. \n",
    "\n",
    "\n",
    "# 미디어별 매체비 분포를 seaborn의 distplot으로 시각화해봅니다. \n"
   ]
  },
  {
   "cell_type": "code",
   "execution_count": 0,
   "metadata": {
    "colab": {},
    "colab_type": "code",
    "id": "m46n-oQ12qos"
   },
   "outputs": [],
   "source": [
    "# 데이터 분포를 보니 newspaper 값이 치우쳐져 있습니다. \n",
    "# 정규화를 위해 로그 변환을 해줍니다. \n",
    "\n",
    "import numpy as np\n",
    "\n"
   ]
  },
  {
   "cell_type": "code",
   "execution_count": 0,
   "metadata": {
    "colab": {},
    "colab_type": "code",
    "id": "RTs1aDU53AU4"
   },
   "outputs": [],
   "source": [
    "# 변환 결과를 시각화 해봅니다. \n",
    "\n",
    "# 데이터의 분포를 다시 시각화 해봅니다. \n",
    "# 4개의 시각화를 한 화면에 배치합니다. \n",
    "\n",
    "# 시각화의 사이즈를 설정해줍니다. \n",
    "\n",
    "# 미디어별 매체비 분포를 seaborn의 distplot으로 시각화해봅니다. \n"
   ]
  },
  {
   "cell_type": "code",
   "execution_count": 0,
   "metadata": {
    "colab": {},
    "colab_type": "code",
    "id": "v45xGsht4JkF"
   },
   "outputs": [],
   "source": [
    "# 변환한 newspaper 변수 결과도 포함하여 ols 분석 결과를 봅니다. \n"
   ]
  },
  {
   "cell_type": "markdown",
   "metadata": {
    "colab_type": "text",
    "id": "YnuEqr2L5hoV"
   },
   "source": [
    "### 결과 해석 \n",
    "  * 신문에 대한 상관계수는 음에서 양으로 변했지만 여전히 P-value 0.05수준에서 유의하지 않습니다.  \n",
    "  * newspaper는 유의하지 않는 것으로 나타났습니다. 즉, 신문광고가 매출액에 미치는 영향은 유의하지 않다고 할 수 있습니다. "
   ]
  },
  {
   "cell_type": "markdown",
   "metadata": {
    "colab_type": "text",
    "id": "8vPwOPbo5lfc"
   },
   "source": [
    "### 추가 검증을 해본다면 \n",
    "* 선형 회귀식 결과 진단 :\n",
    "Residual의 분포를 통해 등분산성 검증, QQ plot을 통해 정규성 검증\n",
    "\n",
    "### 선형회귀분석의 모델 평가 \n",
    "* RMSE, MAE, MSE 가 주로 사용됨"
   ]
  },
  {
   "cell_type": "markdown",
   "metadata": {
    "colab_type": "text",
    "id": "eCXNkIgQ5r_D"
   },
   "source": [
    "# 적용 방안\n",
    "  * 지금은 2011년이고 여러분의 상사는 여전히 신문광고가 유효하다고 생각하지만 데이터 분석결과는 그렇지 않습니다. \n",
    "  * 신문광고를 중단하고 TV, 라디오 광고 위주로 집행해야 합니다 .\n",
    "  * 그런데 TV광고는 비용대비 효율은 조금 떨어지는 것 같습니다. \n",
    "  * 라디오 광고의 상관계수가 더 큽니다. 우리 제품은 라디오 광고를 할 수록 잘 팔리는 제품입니다. "
   ]
  },
  {
   "cell_type": "code",
   "execution_count": 0,
   "metadata": {
    "colab": {},
    "colab_type": "code",
    "id": "G-ajy5xm5q3-"
   },
   "outputs": [],
   "source": []
  }
 ],
 "metadata": {
  "colab": {
   "collapsed_sections": [],
   "name": "01 [Acquisition] Advertising(student)",
   "provenance": []
  },
  "kernelspec": {
   "display_name": "Python 3",
   "language": "python",
   "name": "python3"
  },
  "language_info": {
   "codemirror_mode": {
    "name": "ipython",
    "version": 3
   },
   "file_extension": ".py",
   "mimetype": "text/x-python",
   "name": "python",
   "nbconvert_exporter": "python",
   "pygments_lexer": "ipython3",
   "version": "3.6.9"
  }
 },
 "nbformat": 4,
 "nbformat_minor": 1
}
