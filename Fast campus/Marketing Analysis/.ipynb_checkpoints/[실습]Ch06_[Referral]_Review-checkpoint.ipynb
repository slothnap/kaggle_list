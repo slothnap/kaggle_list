{
 "cells": [
  {
   "cell_type": "markdown",
   "metadata": {
    "colab_type": "text",
    "id": "JCHaO68Jp_LI"
   },
   "source": [
    "# 경쟁사 고객 리뷰 분석으로 소비자 인식 조사 \n",
    "영양제 브랜드 자사와 경쟁사의 구매 후기를 분석해서 소비자들의 인식을 조사해봅니다. "
   ]
  },
  {
   "cell_type": "markdown",
   "metadata": {
    "colab_type": "text",
    "id": "7-o1z1mHqPxm"
   },
   "source": [
    "## 데이터 설명\n",
    "데이터는 다음의 링크에서 다운받으실 수 있습니다.\n",
    "\n",
    "\n",
    "---\n",
    "\n",
    "* [센트룸 구매후기](https://drive.google.com/file/d/1eeTHELYDR0UW9CK7yODGhcUGylTfpLv4/view?usp=sharing)\n",
    "*  [세노비스 카페 데이터](https://drive.google.com/file/d/1798xQJmU2rIlqiLyoUcIhelGV9szjLUu/view?usp=sharing)\n",
    "* [센트룸 카페 데이터](https://drive.google.com/file/d/1RFYWzhrMGongGVMIEvs1gaMOi-PmAfuz/view?usp=sharing)\n",
    "\n",
    "---\n"
   ]
  },
  {
   "cell_type": "markdown",
   "metadata": {
    "colab_type": "text",
    "id": "AfCYPYXCW9XI"
   },
   "source": [
    "# 텍스트 마이닝을 위한 전처리 \n",
    "## KoNLP를 이용한 형태소 분석 \n",
    "- KoNLPy가 제공하는 형태소분석기 중 하나인 Kkma를 사용합니다.\n",
    "- 자세한 내용은 http://konlpy.org/ko/v0.4.3/morph/ 참조"
   ]
  },
  {
   "cell_type": "code",
   "execution_count": 0,
   "metadata": {
    "colab": {},
    "colab_type": "code",
    "id": "gYITnGfZXLKJ"
   },
   "outputs": [],
   "source": [
    "# KoNLPy 라이브러리 설치. 최초 1회만 실행\n",
    "!pip install konlpy"
   ]
  },
  {
   "cell_type": "markdown",
   "metadata": {
    "colab_type": "text",
    "id": "ls7Y8qr0W-AJ"
   },
   "source": [
    "# 형태소 분석기\n",
    "- 한나눔 http://semanticweb.kaist.ac.kr/hannanum/index.html\n",
    "- 트위터 https://github.com/twitter/twitter-korean-text\n",
    "- 꼬꼬마 http://kkma.snu.ac.kr/documents/\n",
    "\n",
    "## 형태소분석기의 성능차이\n",
    "![대체 텍스트](http://konlpy.org/ko/v0.4.2/_images/time.png)\n",
    "* 출처: http://konlpy.org/ko/v0.4.2/morph/"
   ]
  },
  {
   "cell_type": "code",
   "execution_count": 3,
   "metadata": {
    "colab": {},
    "colab_type": "code",
    "id": "-fGI6lSeXTki"
   },
   "outputs": [
    {
     "name": "stderr",
     "output_type": "stream",
     "text": [
      "/home/ubuntu/.local/lib/python3.6/site-packages/konlpy/tag/_okt.py:17: UserWarning: \"Twitter\" has changed to \"Okt\" since KoNLPy v0.4.5.\n",
      "  warn('\"Twitter\" has changed to \"Okt\" since KoNLPy v0.4.5.')\n"
     ]
    }
   ],
   "source": [
    "from konlpy.tag import Hannanum\n",
    "from konlpy.tag import Twitter\n",
    "from konlpy.tag import Kkma\n",
    "hannanum=Hannanum()\n",
    "twitter=Twitter()\n",
    "kkma = Kkma()"
   ]
  },
  {
   "cell_type": "markdown",
   "metadata": {
    "colab_type": "text",
    "id": "JiFGyskyXWkD"
   },
   "source": [
    "### 꼬꼬마 형태소 분석기 \n",
    "- 문장을 형태소 단위로 분리하고 품사를 태깅합니다\n",
    "- 품사태그는 일반명사(NNG), 고유명사(NNP), 동사(VV), 형용사(VA) 등이 있습니다\n",
    "- http://kkma.snu.ac.kr/documents/index.jsp?doc=postag 형태소 리스트를 확인"
   ]
  },
  {
   "cell_type": "code",
   "execution_count": 4,
   "metadata": {
    "colab": {},
    "colab_type": "code",
    "id": "9OSYMbjzXZNU"
   },
   "outputs": [
    {
     "name": "stdout",
     "output_type": "stream",
     "text": [
      "['아버지가 방에 들어가셨다.', '아버지 가방에 들어가셨다.', '아버지가 방 안에 있는 가방에 들어가셨다.']\n"
     ]
    }
   ],
   "source": [
    "print(kkma.sentences(u'아버지가 방에 들어가셨다. 아버지 가방에 들어가셨다. 아버지가 방 안에 있는 가방에 들어가셨다.'))"
   ]
  },
  {
   "cell_type": "code",
   "execution_count": 5,
   "metadata": {
    "colab": {},
    "colab_type": "code",
    "id": "IAaBTaLmXZTw"
   },
   "outputs": [
    {
     "name": "stdout",
     "output_type": "stream",
     "text": [
      "[('아버지', 'NNG'), ('가', 'JKS'), ('방', 'NNG'), ('에', 'JKM'), ('들어가', 'VV'), ('시', 'EPH'), ('었', 'EPT'), ('다', 'EFN'), ('.', 'SF'), ('아버지', 'NNG'), ('가방', 'NNG'), ('에', 'JKM'), ('들어가', 'VV'), ('시', 'EPH'), ('었', 'EPT'), ('다', 'EFN'), ('.', 'SF'), ('아버지', 'NNG'), ('가', 'JKS'), ('방', 'NNG'), ('안', 'NNG'), ('에', 'JKM'), ('있', 'VV'), ('는', 'ETD'), ('가방', 'NNG'), ('에', 'JKM'), ('들어가', 'VV'), ('시', 'EPH'), ('었', 'EPT'), ('다', 'EFN'), ('.', 'SF')]\n"
     ]
    }
   ],
   "source": [
    "print(kkma.pos(u'아버지가 방에 들어가셨다. 아버지 가방에 들어가셨다. 아버지가 방 안에 있는 가방에 들어가셨다.'))"
   ]
  },
  {
   "cell_type": "markdown",
   "metadata": {
    "colab_type": "text",
    "id": "V3mB5kzXXebE"
   },
   "source": [
    "### 한나눔 형태소 분석기"
   ]
  },
  {
   "cell_type": "code",
   "execution_count": 6,
   "metadata": {
    "colab": {},
    "colab_type": "code",
    "id": "EsBw5b7RXerX"
   },
   "outputs": [
    {
     "name": "stdout",
     "output_type": "stream",
     "text": [
      "[('아버지', 'N'), ('가', 'J'), ('방', 'N'), ('에', 'J'), ('들', 'P'), ('어', 'E'), ('가', 'P'), ('셨다', 'E'), ('.', 'S'), ('아버지', 'N'), ('가방', 'N'), ('에', 'J'), ('들', 'P'), ('어', 'E'), ('가', 'P'), ('셨다', 'E'), ('.', 'S'), ('아버지', 'N'), ('가', 'J'), ('방', 'N'), ('안', 'N'), ('에', 'J'), ('있', 'P'), ('는', 'E'), ('가방', 'N'), ('에', 'J'), ('들', 'P'), ('어', 'E'), ('가', 'P'), ('셨다', 'E'), ('.', 'S')]\n"
     ]
    }
   ],
   "source": [
    "print(hannanum.pos(u'아버지가 방에 들어가셨다. 아버지 가방에 들어가셨다. 아버지가 방 안에 있는 가방에 들어가셨다.'))"
   ]
  },
  {
   "cell_type": "markdown",
   "metadata": {
    "colab_type": "text",
    "id": "uQcfztGmXe62"
   },
   "source": [
    "### 트위터 형태소 분석기"
   ]
  },
  {
   "cell_type": "code",
   "execution_count": 7,
   "metadata": {
    "colab": {},
    "colab_type": "code",
    "id": "aROrDZdSXfLb"
   },
   "outputs": [
    {
     "name": "stdout",
     "output_type": "stream",
     "text": [
      "[('아버지', 'Noun'), ('가', 'Josa'), ('방', 'Noun'), ('에', 'Josa'), ('들어가셨다', 'Verb'), ('.', 'Punctuation'), ('아버지', 'Noun'), ('가방', 'Noun'), ('에', 'Josa'), ('들어가셨다', 'Verb'), ('.', 'Punctuation'), ('아버지', 'Noun'), ('가', 'Josa'), ('방', 'Noun'), ('안', 'Noun'), ('에', 'Josa'), ('있는', 'Adjective'), ('가방', 'Noun'), ('에', 'Josa'), ('들어가셨다', 'Verb'), ('.', 'Punctuation')]\n"
     ]
    }
   ],
   "source": [
    "print(twitter.pos('아버지가 방에 들어가셨다. 아버지 가방에 들어가셨다. 아버지가 방 안에 있는 가방에 들어가셨다.'))"
   ]
  },
  {
   "cell_type": "markdown",
   "metadata": {
    "colab_type": "text",
    "id": "Xu0h0ORIXqDO"
   },
   "source": [
    "# 텍스트 마이닝 분석 및 시각화\n",
    "* 센트룸 데이터를 먼저 분석해봅니다. "
   ]
  },
  {
   "cell_type": "markdown",
   "metadata": {
    "colab_type": "text",
    "id": "vo4xaRFau0tY"
   },
   "source": [
    "### 데이터 탐색 및 전처리"
   ]
  },
  {
   "cell_type": "code",
   "execution_count": 0,
   "metadata": {
    "colab": {},
    "colab_type": "code",
    "id": "Or6DBFfPuwJT"
   },
   "outputs": [],
   "source": [
    "# 데이터를 불러옵니다.\n",
    "from google.colab import files\n",
    "uploaded = files.upload()"
   ]
  },
  {
   "cell_type": "code",
   "execution_count": 0,
   "metadata": {
    "colab": {},
    "colab_type": "code",
    "id": "TjDGNdTtaKSU"
   },
   "outputs": [],
   "source": [
    "# 형태소분석 - kkma 명사 \n",
    "line_list = []\n",
    "f = open(\"centrum_review.txt\", encoding=\"utf-8\")\n",
    "for line in f:\n",
    "    line = kkma.nouns(line)\n",
    "    line_list.append(line)\n",
    "f.close()\n",
    "\n",
    "print(\"- 불러온 문서 :\", len(line_list), \"문장\")"
   ]
  },
  {
   "cell_type": "code",
   "execution_count": 0,
   "metadata": {
    "colab": {},
    "colab_type": "code",
    "id": "Kg6y69-QaRVj"
   },
   "outputs": [],
   "source": [
    "line_list[10]"
   ]
  },
  {
   "cell_type": "code",
   "execution_count": 0,
   "metadata": {
    "colab": {},
    "colab_type": "code",
    "id": "6-iHIgW3u6fP"
   },
   "outputs": [],
   "source": [
    "word_frequency = {}\n",
    "noun_list = []\n",
    "#불용어 리스트를 여기에 추가합니다.\n",
    "stop_list = [\"배송\", \"만족\"]\n",
    "line_number = 0\n",
    "for line in line_list[:]:\n",
    "    line_number += 1\n",
    "    print(str(line_number) + \"/\" + str(len(line_list)), end=\"\\r\")\n",
    "    noun = []\n",
    "    for word in line:\n",
    "        if word.split(\"/\")[0] not in stop_list and len(word.split(\"/\")[0]) > 1:  \n",
    "            noun.append(word.split(\"/\")[0])\n",
    "            if word not in word_frequency.keys():\n",
    "                word_frequency[word] = 1\n",
    "            else:\n",
    "                word_frequency[word] += 1\n",
    "    noun_list.extend(noun)"
   ]
  },
  {
   "cell_type": "code",
   "execution_count": 0,
   "metadata": {
    "colab": {},
    "colab_type": "code",
    "id": "vt0gKJYtaTSx"
   },
   "outputs": [],
   "source": [
    "#단어별 출현빈도를 출력합니다.\n",
    "word_count = []\n",
    "for n, freq in word_frequency.items():\n",
    "    word_count.append([n, freq])\n",
    "word_count.sort(key=lambda elem: elem[1], reverse=True)\n",
    "for n, freq in word_count[:10]:\n",
    "    print(n + \"\\t\" + str(freq))"
   ]
  },
  {
   "cell_type": "code",
   "execution_count": 0,
   "metadata": {
    "colab": {},
    "colab_type": "code",
    "id": "f74FOMX1aYq1"
   },
   "outputs": [],
   "source": [
    "#추출한 명사 리스트를 활용해 명사만으로 이루어진 문서를 생성합니다.\n",
    "noun_doc = ' '.join(noun_list)\n",
    "noun_doc = noun_doc.strip()"
   ]
  },
  {
   "cell_type": "markdown",
   "metadata": {
    "colab_type": "text",
    "id": "vfhDkl5uti5t"
   },
   "source": [
    "* 서체 다운로드 \n",
    "- 시각화에서 서체 변경만으로도 완성도를 높일 수 있습니다. \n",
    "- [다음의 링크](https://drive.google.com/file/d/1ULZI7vTml7mVVrM3fbo4AW8xhyETDETx/view?usp=sharing)에서 나눔스퀘어 서체를 다운로드 받아주세요. \n",
    "- 참고: https://hangeul.naver.com/2017/nanum"
   ]
  },
  {
   "cell_type": "code",
   "execution_count": 0,
   "metadata": {
    "colab": {},
    "colab_type": "code",
    "id": "-Shauz34nzH4"
   },
   "outputs": [],
   "source": [
    "# 워드클라우드 시각화\n",
    "from wordcloud import WordCloud, ImageColorGenerator\n",
    "import matplotlib.pyplot as plt\n",
    "\n",
    "#폰트업로드\n",
    "from google.colab import files\n",
    "uploaded = files.upload()\n",
    "for fn in uploaded.keys():\n",
    "  print('User uploaded file \"{name}\" with length {length} bytes'.format(\n",
    "      name=fn, length=len(uploaded[fn])))"
   ]
  },
  {
   "cell_type": "code",
   "execution_count": 0,
   "metadata": {
    "colab": {},
    "colab_type": "code",
    "id": "i_Yo-S7KaYwu"
   },
   "outputs": [],
   "source": [
    "#워드클라우드 파라미터 설정\n",
    "font_path=\"NanumSquareB.otf\"  #폰트\n",
    "background_color=\"white\"      #배경색\n",
    "margin=3                     #모서리 여백 넓이\n",
    "min_font_size=7              #최소 글자 크기\n",
    "max_font_size=150             #최대 글자 크기\n",
    "width=500                     #이미지 가로 크기\n",
    "height=500                    #이미지 세로 크기\n",
    "wc = WordCloud(font_path=font_path, background_color=background_color, margin=margin, \\\n",
    "               min_font_size=min_font_size, max_font_size=max_font_size, width=width, height=height)\n",
    "wc.generate(noun_doc)\n",
    "\n",
    "plt.figure(figsize=(10, 10))\n",
    "plt.imshow(wc, interpolation=\"bilinear\")\n",
    "plt.axis(\"off\")\n",
    "plt.show()"
   ]
  },
  {
   "cell_type": "code",
   "execution_count": 0,
   "metadata": {
    "colab": {},
    "colab_type": "code",
    "id": "uDlO9vaZt4mc"
   },
   "outputs": [],
   "source": [
    "# 데이터를 불러옵니다.\n",
    "from google.colab import files\n",
    "uploaded = files.upload()"
   ]
  },
  {
   "cell_type": "code",
   "execution_count": 0,
   "metadata": {
    "colab": {},
    "colab_type": "code",
    "id": "bmv7rs0eaY0X"
   },
   "outputs": [],
   "source": [
    "\n",
    "# 형태소분석 - kkma 명사 \n",
    "line_list = []\n",
    "f = open(\"centrum2.txt\", encoding=\"utf-8\")\n",
    "for line in f:\n",
    "    line = kkma.nouns(line)\n",
    "    line_list.append(line)\n",
    "f.close()\n",
    "\n",
    "print(\"- 불러온 문서 :\", len(line_list), \"문장\")"
   ]
  },
  {
   "cell_type": "code",
   "execution_count": 0,
   "metadata": {
    "colab": {},
    "colab_type": "code",
    "id": "dpXtWOBvO2gN"
   },
   "outputs": [],
   "source": [
    "word_frequency = {}\n",
    "noun_list = []\n",
    "#불용어 리스트를 여기에 추가합니다.\n",
    "stop_list = [\"배송\", \"만족\", \"카페\", \"카페규정\", \"확인\", \"주수\", \"센트\"]\n",
    "line_number = 0\n",
    "for line in line_list[:]:\n",
    "    line_number += 1\n",
    "    print(str(line_number) + \"/\" + str(len(line_list)), end=\"\\r\")\n",
    "    noun = []\n",
    "    for word in line:\n",
    "        if word.split(\"/\")[0] not in stop_list and len(word.split(\"/\")[0]) > 1:  \n",
    "            noun.append(word.split(\"/\")[0])\n",
    "            if word not in word_frequency.keys():\n",
    "                word_frequency[word] = 1\n",
    "            else:\n",
    "                word_frequency[word] += 1\n",
    "    noun_list.extend(noun)"
   ]
  },
  {
   "cell_type": "code",
   "execution_count": 0,
   "metadata": {
    "colab": {},
    "colab_type": "code",
    "id": "AdmOkzY_BI40"
   },
   "outputs": [],
   "source": [
    "#단어별 출현빈도를 출력합니다.\n",
    "word_count = []\n",
    "for n, freq in word_frequency.items():\n",
    "    word_count.append([n, freq])\n",
    "word_count.sort(key=lambda elem: elem[1], reverse=True)\n",
    "for n, freq in word_count[:10]:\n",
    "    print(n + \"\\t\" + str(freq))"
   ]
  },
  {
   "cell_type": "code",
   "execution_count": 0,
   "metadata": {
    "colab": {},
    "colab_type": "code",
    "id": "a8p8NxGqGvc3"
   },
   "outputs": [],
   "source": [
    "#추출한 명사 리스트를 활용해 명사만으로 이루어진 문서를 생성합니다.\n",
    "noun_doc = ' '.join(noun_list)\n",
    "noun_doc = noun_doc.strip()"
   ]
  },
  {
   "cell_type": "code",
   "execution_count": 0,
   "metadata": {
    "colab": {},
    "colab_type": "code",
    "id": "jDjsAg7yGeU8"
   },
   "outputs": [],
   "source": [
    "#워드클라우드 파라미터 설정\n",
    "font_path=\"NanumSquareB.otf\"  #폰트\n",
    "background_color=\"white\"      #배경색\n",
    "margin=3                     #모서리 여백 넓이\n",
    "min_font_size=7              #최소 글자 크기\n",
    "max_font_size=150             #최대 글자 크기\n",
    "width=500                     #이미지 가로 크기\n",
    "height=500                    #이미지 세로 크기\n",
    "wc = WordCloud(font_path=font_path, background_color=background_color, margin=margin, \\\n",
    "               min_font_size=min_font_size, max_font_size=max_font_size, width=width, height=height)\n",
    "wc.generate(noun_doc)\n",
    "\n",
    "plt.figure(figsize=(10, 10))\n",
    "plt.imshow(wc, interpolation=\"bilinear\")\n",
    "plt.axis(\"off\")\n",
    "plt.show()"
   ]
  },
  {
   "cell_type": "markdown",
   "metadata": {
    "colab_type": "text",
    "id": "yFqSwLIG0ilx"
   },
   "source": [
    "### LDA 토픽 모델링"
   ]
  },
  {
   "cell_type": "code",
   "execution_count": 0,
   "metadata": {
    "colab": {},
    "colab_type": "code",
    "id": "MapPPv5OL8Ol"
   },
   "outputs": [],
   "source": [
    "import gensim\n",
    "from gensim import corpora\n",
    "import logging\n",
    "logging.basicConfig(level=logging.DEBUG)\n",
    "topic = 5\n",
    "keyword = 10\n",
    "texts = []\n",
    "resultList = []\n",
    "stop_list = [\"배송\", \"만족\", \"카페\", \"카페규정\", \"확인\", \"주수\", \"센트\"]\n",
    "for line in line_list:\n",
    "    words = line\n",
    "    if words != [\"\"]:\n",
    "        tokens = [word for word in words if (len(word.split(\"/\")[0]) > 1 and word.split(\"/\")[0] not in stop_list)]\n",
    "        texts.append(tokens)\n",
    "dictionary = corpora.Dictionary(texts)    \n",
    "corpus = [dictionary.doc2bow(text) for text in texts]\n",
    "\n",
    "ldamodel = gensim.models.ldamodel.LdaModel(corpus, num_topics=topic, id2word = dictionary, passes=10)\n",
    "for num in range(topic):\n",
    "    resultList.append(ldamodel.show_topic(num, keyword))"
   ]
  },
  {
   "cell_type": "code",
   "execution_count": 0,
   "metadata": {
    "colab": {},
    "colab_type": "code",
    "id": "qBvEMGrmtHWt"
   },
   "outputs": [],
   "source": [
    "resultList"
   ]
  }
 ],
 "metadata": {
  "colab": {
   "collapsed_sections": [],
   "name": "06 [Referral] Review(Blank)",
   "provenance": []
  },
  "kernelspec": {
   "display_name": "Python 3",
   "language": "python",
   "name": "python3"
  },
  "language_info": {
   "codemirror_mode": {
    "name": "ipython",
    "version": 3
   },
   "file_extension": ".py",
   "mimetype": "text/x-python",
   "name": "python",
   "nbconvert_exporter": "python",
   "pygments_lexer": "ipython3",
   "version": "3.6.9"
  }
 },
 "nbformat": 4,
 "nbformat_minor": 1
}
